{
 "cells": [
  {
   "cell_type": "markdown",
   "metadata": {
    "solution": "hidden"
   },
   "source": [
    "## 朴素贝叶斯（Naive Bayes）"
   ]
  },
  {
   "cell_type": "markdown",
   "metadata": {},
   "source": [
    "朴素贝叶斯是一种基于条件概率的算法，它有很多优势，如易于实现、训练速度快等。"
   ]
  },
  {
   "cell_type": "markdown",
   "metadata": {},
   "source": [
    "### 贝叶斯理论（Bayes Theory）"
   ]
  },
  {
   "cell_type": "markdown",
   "metadata": {},
   "source": [
    "我们通过一个生活中的小🌰来了解下什么是贝叶斯理论：\n",
    "\n",
    "假设，在办公室里有两个同事，一个叫Alex，一个叫Brenda，有一天，你在办公室里面突然看到一个人影闪过去，那么问题来了，刚闪过去的这个人是谁呢？\n",
    "\n",
    "- 已知，Alex与Brenda两人在办公室的时间一样长，那么闪过去的这个人是Alex的概率为50%；\n",
    "\n",
    "接下来，我们通过更多的信息，来猜得更准：\n",
    "- 我们看到闪过去的这个人穿的是**红色毛衣**，并且经过以往的观察，Alex每周有2次穿红衣服，Brenda每周有3次穿红衣服。\n",
    "\n",
    "从直观上讲，在一周内Brenda穿红衣服的概率比Alex高，那么刚闪过去的这个人是Brenda的可能性就会更大一些，那么这个可能性是具体多少呢？\n",
    "\n",
    "假设，我们看到有人从面前经过了5次，那么在这5次中，有2次可能是Alex，有3次可能是Brenda，所以刚过去的这个人是Alex的可能性就是40%，Brenda的可能性是60%。\n",
    "\n",
    "如上的过程就是就是贝叶斯定理的应用，最开始我们猜测的二者都是50%概率被称作**先验概率Prior**，而后得到的40%与60%被称为**后验概率posterior**"
   ]
  },
  {
   "cell_type": "markdown",
   "metadata": {},
   "source": [
    "  \n",
    "  "
   ]
  },
  {
   "cell_type": "markdown",
   "metadata": {},
   "source": [
    "贝叶斯理论的“正经”版本：\n",
    "\n",
    "我们假设某一事件有A和B两种可能，A发生的概率为$P(A)$与B发生的概率为$P(B)$，现在有第三个事件R，对于A和B两种情况来说，都有发生$R$与不发生$R^c$的可能，其关系如下图所示：\n",
    "![NYWREt.png](https://s1.ax1x.com/2020/06/22/NYWREt.png)"
   ]
  },
  {
   "cell_type": "markdown",
   "metadata": {},
   "source": [
    "那么，在已知事件R发生的情况下，最后出现的事件只有可能是$P(R \\cap A)$或$P(R \\cap B)$，所以，已知R事件发生时A事件发生的概率为：\n",
    "$$P(A|R) = \\frac{P(R \\cap A)}{P(R \\cap A)+P(R \\cap B)} = \\frac{P(A)P(R|A)}{P(A)P(R|A)+P(B)P(R|B)}$$\n",
    "\n",
    "事件B同理，如上便是贝叶斯理论，其中$P(A)$与$P(B)$为先验概率，即事件R发生前我们就已经知道的概率；$P(A|R)$与$P(B|R)$为后验概率，即事件R发生后，反推事件A与B的发生概率。"
   ]
  },
  {
   "cell_type": "markdown",
   "metadata": {
    "solution": "hidden",
    "solution_first": true
   },
   "source": [
    "<p style=background-color:#00bcd4>练习：有天你生病了去做流行病检查，医生告诉你检查有99%的准确率，也就是说，对于生病的人检测出阳性的概率能达到99%，对于没生病的人检测出阴性的概率也是99%，（专业术语叫做敏感性与特异性）。然后你自己从网上查到了大约每10000个人会有1个人患该流行病，最终检查结果出来了，是阳性，请问，患流行病的概率是？</p>\n",
    "\n",
    "A: 0%-20%  \n",
    "B: 20%-40%  \n",
    "C: 40%-60%  \n",
    "D: 60%-80%  \n",
    "E: 80%-100%  "
   ]
  },
  {
   "cell_type": "markdown",
   "metadata": {
    "solution2": "hidden",
    "solution2_first": true
   },
   "source": [
    "解析："
   ]
  },
  {
   "cell_type": "markdown",
   "metadata": {
    "solution2": "hidden"
   },
   "source": [
    "我们用S表示生病，H表示健康；+表示检测结果阳性。那么，如上的事件可以抽象为：\n",
    "\n",
    "生病的概率：$P(S) = \\frac{1}{10000}$  \n",
    "健康的概率：$P(H) = \\frac{9999}{10000}$  \n",
    "已知该患者生病，检测出阳性的概率：$P(+|S) = 0.99$  \n",
    "已知检查者健康，检测出阳性的概率：$P(+|H) = 0.01$\n",
    "\n",
    "那么，我们所求的概率即已知检测结果为阳性，生病的概率为：\n",
    "\n",
    "$$P(S|+) = \\frac{P(S)P(+|S)}{P(S)P(+|S)+P(H)P(+|H)} = \\frac{0.99}{0.99+99.99} \\approx 0.0098 $$\n"
   ]
  },
  {
   "cell_type": "markdown",
   "metadata": {
    "solution": "hidden",
    "solution2": "hidden"
   },
   "source": [
    "也就是说患该流行病的概率不到1%，所以答案为A。"
   ]
  },
  {
   "cell_type": "markdown",
   "metadata": {},
   "source": [
    "### 在机器学习中使用Bayes"
   ]
  },
  {
   "cell_type": "markdown",
   "metadata": {},
   "source": [
    "如何在机器学习中使用强大的Bayes理论呢？答案就是 重复！"
   ]
  },
  {
   "cell_type": "markdown",
   "metadata": {},
   "source": [
    "#### 垃圾邮件？(Spam or Ham)"
   ]
  },
  {
   "cell_type": "markdown",
   "metadata": {},
   "source": [
    "我们还是通过一个示例来了解下机器学习中的Bayes应用，如下是两类邮件中经常包含的信息示例，一类是垃圾邮件(Spam)，另外一类是正常邮件(Ham).\n",
    "\n",
    "<img src=\"https://s1.ax1x.com/2020/06/25/NDKgMT.png\" alt=\"NDKgMT.png\" border=\"0\" width=\"200px\"/>"
   ]
  },
  {
   "cell_type": "markdown",
   "metadata": {},
   "source": [
    "那现在新收到了一封邮件，包含的内容是“Easy Money”，那这封邮件是垃圾邮件吗？\n",
    "\n",
    "我们先把该邮件的内容拆分成单个字符（虽然没有考虑顺序，但这已经足够了）`Easy`与`Money`，  \n",
    "那么，基于上图中的信息，垃圾邮件中包含`Easy`和`Money`的概率分别为：\n",
    "$$P(Easy|Spam) = \\frac{1}{3}$$\n",
    "$$P(Money|Spam) = \\frac{2}{3}$$\n",
    "\n",
    "正常邮件中包含这两个单词的概率分别为：\n",
    "$$P(Easy|Ham) = \\frac{1}{5}$$\n",
    "$$P(Money|Ham) = \\frac{1}{5}$$"
   ]
  },
  {
   "cell_type": "markdown",
   "metadata": {},
   "source": [
    "也可以很明显看出：\n",
    "$$P(Spam|Easy) = \\frac{1}{2}$$\n",
    "$$P(Spam|Money) = \\frac{2}{3}$$\n",
    "\n",
    "<img src=\"https://s1.ax1x.com/2020/06/25/NDGiyq.png\" alt=\"NDGiyq.png\" border=\"0\" width=\"400px\"/>"
   ]
  },
  {
   "cell_type": "markdown",
   "metadata": {},
   "source": [
    "当然，这也可以通过Bayes理论计算，我们以`Easy`为例，就已掌握的数据而言，垃圾邮件(Spam)的概率为$\\frac{3}{8}$，所以：\n",
    "$$P(Spam|Easy) = \\frac{P(Spam)P(Spam|Easy)}{P(Spam)P(Spam|Easy)+P(Ham)P(Ham|Easy)} = \\frac{3/8 \\cdot 1/3}{3/8 \\cdot 1/3 + 5/8 \\cdot 1/5} = \\frac{1}{2}$$\n",
    "如下图所示：\n",
    "<img src=\"https://s1.ax1x.com/2020/06/25/NDJjPg.png\" alt=\"NDJjPg.png\" border=\"0\" width=\"300px\"/>"
   ]
  },
  {
   "cell_type": "markdown",
   "metadata": {},
   "source": [
    "其他计算同理。"
   ]
  },
  {
   "cell_type": "markdown",
   "metadata": {},
   "source": [
    "#### 朴素贝叶斯算法"
   ]
  },
  {
   "cell_type": "markdown",
   "metadata": {},
   "source": [
    "首先，我们来了解下，为什么要称之为“朴素（Naive）”。\n",
    "\n",
    "我们再计算两个事件A与B同时发生的概率时，可以记为$P(A\\cap B)$，当A与B相互独立时，可以有$P(A\\cap B) = P(A)P(B)$。\n",
    "\n",
    "> 什么是相互独立事件呢？就是事件A的发生与否跟事件B没有任何关系，比如我吃早饭与是否晴天这两件事就是独立事件，而明天气温高与明天气温低就不是独立事件。\n",
    "\n",
    "那这个“朴素（Naive）”就是假设我们在付储贝叶斯算法的所有事件均为彼此相互独立事件。这样做的目的是可以**简化计算，提升速度**。"
   ]
  },
  {
   "cell_type": "markdown",
   "metadata": {},
   "source": [
    "根据条件概率，我们可以推出：\n",
    "$$P(A|B)P(B) = P(AB) = P(B|A)P(A) $$\n",
    "\n",
    "以此可以推出\n",
    "$$P(A|B) \\propto  P(B|A)P(A) $$\n",
    "\n",
    "所以，上述垃圾邮件的判定，可以写成：\n",
    "\n",
    "$$P(spam|'easy','money') \\propto P('easy','money'|spam)P(spam) $$\n",
    "\n",
    "由于事件之间彼此相互独立，所以可以拆分为：\n",
    "\n",
    "$$P(spam|'easy','money') \\propto P('easy','money'|spam)P(spam)  = P('easy'|spam)P('money'|spam)P(spam)$$\n",
    "\n",
    "同理，对于正常邮件来说：\n",
    "\n",
    "$$P(ham|'easy','money') \\propto P('easy','money'|ham)P(ham)  = P('easy'|ham)P('money'|ham)P(ham)$$\n",
    "\n",
    "那么，根据已掌握的数据，可以轻松计算得到：\n",
    "\n",
    "$$P(spam|'easy','money') \\propto \\frac{1}{3} \\cdot \\frac{2}{3} \\cdot \\frac{3}{8} = \\frac{1}{12}$$\n",
    "\n",
    "$$P(ham|'easy','money') \\propto \\frac{1}{5} \\cdot \\frac{1}{5} \\cdot \\frac{5}{8} = \\frac{1}{40}$$\n",
    "\n",
    "对两者标准化，便可以得到：\n",
    "\n",
    "$$P(spam|'easy','money') = \\frac{10}{13}$$\n",
    "\n",
    "$$P(ham|'easy','money') = \\frac{3}{13}$$\n",
    "\n",
    "也就是说，当一封邮件中同时包含easy与money时，这封邮件更有可能是垃圾邮件。"
   ]
  },
  {
   "cell_type": "markdown",
   "metadata": {},
   "source": [
    "如上的过程，可以推广到更多的特征单词中，去进行朴素贝叶斯算法。"
   ]
  },
  {
   "cell_type": "markdown",
   "metadata": {},
   "source": [
    "### 实践！"
   ]
  }
 ],
 "metadata": {
  "kernelspec": {
   "display_name": "Python 3",
   "language": "python",
   "name": "python3"
  },
  "language_info": {
   "codemirror_mode": {
    "name": "ipython",
    "version": 3
   },
   "file_extension": ".py",
   "mimetype": "text/x-python",
   "name": "python",
   "nbconvert_exporter": "python",
   "pygments_lexer": "ipython3",
   "version": "3.7.3"
  },
  "toc": {
   "base_numbering": 1,
   "nav_menu": {},
   "number_sections": true,
   "sideBar": true,
   "skip_h1_title": false,
   "title_cell": "Table of Contents",
   "title_sidebar": "Contents",
   "toc_cell": false,
   "toc_position": {
    "height": "calc(100% - 180px)",
    "left": "10px",
    "top": "150px",
    "width": "217px"
   },
   "toc_section_display": true,
   "toc_window_display": true
  }
 },
 "nbformat": 4,
 "nbformat_minor": 2
}
