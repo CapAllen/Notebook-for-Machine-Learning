{
 "cells": [
  {
   "cell_type": "markdown",
   "metadata": {},
   "source": [
    "# 非监督学习"
   ]
  },
  {
   "cell_type": "markdown",
   "metadata": {},
   "source": [
    "Hi，欢迎来到非监督学习（Unsupervised Learning）部分，非监督学习主要应用于以下场景：\n",
    "- 数据没有标签列\n",
    "- 相比对数据进行预测，我们更期望对数据进行分组"
   ]
  },
  {
   "cell_type": "markdown",
   "metadata": {},
   "source": [
    "在本章，我们将会涉及到的算法有：\n",
    "- 聚类 Clustering：聚类是非监督学习最常见的一种实践方式。我们先来了解下什么是聚类，然后介绍一下KMeans算法；\n",
    "- 层次与密度聚类 Hierarchical and Density Based Clustering：\n",
    "- 高斯混合模型与聚类验证 Gaussian Mixture Models and Cluster Validation：\n",
    "- 主成分分析 Principal Component Analysis：\n",
    "- 随机映射与独立成分分析 Random Projection and Independent Component Analysis："
   ]
  },
  {
   "cell_type": "markdown",
   "metadata": {},
   "source": [
    "## 两种类型的应用\n",
    "\n",
    "### 聚类"
   ]
  },
  {
   "cell_type": "markdown",
   "metadata": {},
   "source": [
    "如下图所示，就算没有标签（label）存在，我们也可以很轻松的将数据分成三组：\n",
    "\n",
    "<table>\n",
    "    <tr>\n",
    "        <td><img src=\"https://s1.ax1x.com/2020/08/12/axfQBR.md.png\" alt=\"axfQBR.png\" border=\"0\" /></td>\n",
    "        <td><img src=\"https://s1.ax1x.com/2020/08/12/axft3D.md.png\" alt=\"axfQBR.png\" border=\"0\" /></td>\n",
    "    </tr>\n",
    "</table>\n",
    "    \n",
    "当新来一条样本时，我们也可以很轻松的将该样本分到蓝色组：\n",
    "![axf0HI.md.png](https://s1.ax1x.com/2020/08/12/axf0HI.md.png)"
   ]
  },
  {
   "cell_type": "markdown",
   "metadata": {},
   "source": [
    "### 降维"
   ]
  },
  {
   "cell_type": "markdown",
   "metadata": {},
   "source": [
    "如下图所示，我们可以依据散点的分布情况，将二维特征，映射到中间的拟合线上，变成了一维特征。\n",
    "![axf2vQ.th.png](https://s1.ax1x.com/2020/08/12/axf2vQ.th.png)"
   ]
  },
  {
   "cell_type": "markdown",
   "metadata": {},
   "source": [
    "## 聚类Clustering"
   ]
  },
  {
   "cell_type": "markdown",
   "metadata": {},
   "source": []
  },
  {
   "cell_type": "code",
   "execution_count": null,
   "metadata": {},
   "outputs": [],
   "source": []
  }
 ],
 "metadata": {
  "kernelspec": {
   "display_name": "Python 3",
   "language": "python",
   "name": "python3"
  },
  "language_info": {
   "codemirror_mode": {
    "name": "ipython",
    "version": 3
   },
   "file_extension": ".py",
   "mimetype": "text/x-python",
   "name": "python",
   "nbconvert_exporter": "python",
   "pygments_lexer": "ipython3",
   "version": "3.7.3"
  },
  "toc": {
   "base_numbering": 1,
   "nav_menu": {},
   "number_sections": true,
   "sideBar": true,
   "skip_h1_title": false,
   "title_cell": "Table of Contents",
   "title_sidebar": "Contents",
   "toc_cell": false,
   "toc_position": {},
   "toc_section_display": true,
   "toc_window_display": false
  }
 },
 "nbformat": 4,
 "nbformat_minor": 2
}
