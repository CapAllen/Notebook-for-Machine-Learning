{
 "cells": [
  {
   "cell_type": "markdown",
   "metadata": {},
   "source": [
    "## Intro"
   ]
  },
  {
   "cell_type": "markdown",
   "metadata": {},
   "source": [
    "高斯混合模型（GMM）是一种相较温和的聚类方式，它在进行聚类时会把相同的点分到不同的类别中，然后检测该点隶属于不同类别的概率，如下图所示：\n",
    "![dqXPhD.md.png](https://s1.ax1x.com/2020/08/30/dqXPhD.md.png)"
   ]
  },
  {
   "cell_type": "markdown",
   "metadata": {},
   "source": [
    "高斯混合模型，假设每个类别都遵循特定的高斯分布（正态分布）；其算法过程可以简述为：\n",
    "- 初始化K个高斯分布\n",
    "- 将数据软聚类成K个高斯分布（E）\n",
    "- 基于如上的软聚类，重新估计高斯分布（M）\n",
    "- 评估对数似然（log likelihood）来检查是否收敛\n",
    "    - 如果没有收敛，则返回至第二步继续执行\n",
    "    - 如果收敛，返回结果\n",
    "\n",
    "> 其中第2-3步被称作为期望最大化算法（Expectation-Maximization）"
   ]
  },
  {
   "cell_type": "markdown",
   "metadata": {},
   "source": [
    "## 期望最大化算法"
   ]
  },
  {
   "cell_type": "code",
   "execution_count": null,
   "metadata": {},
   "outputs": [],
   "source": [
    "d"
   ]
  }
 ],
 "metadata": {
  "kernelspec": {
   "display_name": "Python 3",
   "language": "python",
   "name": "python3"
  },
  "language_info": {
   "codemirror_mode": {
    "name": "ipython",
    "version": 3
   },
   "file_extension": ".py",
   "mimetype": "text/x-python",
   "name": "python",
   "nbconvert_exporter": "python",
   "pygments_lexer": "ipython3",
   "version": "3.7.3"
  },
  "toc": {
   "base_numbering": 1,
   "nav_menu": {},
   "number_sections": true,
   "sideBar": true,
   "skip_h1_title": false,
   "title_cell": "Table of Contents",
   "title_sidebar": "Contents",
   "toc_cell": false,
   "toc_position": {},
   "toc_section_display": true,
   "toc_window_display": false
  }
 },
 "nbformat": 4,
 "nbformat_minor": 2
}
