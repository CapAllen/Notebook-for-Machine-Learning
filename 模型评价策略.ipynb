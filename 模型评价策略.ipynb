{
 "cells": [
  {
   "cell_type": "markdown",
   "metadata": {},
   "source": [
    "## 模型评价策略"
   ]
  },
  {
   "cell_type": "markdown",
   "metadata": {},
   "source": [
    "通过前面的几节课，我们已经可以依据不同的业务场景去训练不同的机器学习模型了，但是，有这么多算法，我们该如何去评估哪个模型是最佳的呢？"
   ]
  },
  {
   "cell_type": "markdown",
   "metadata": {},
   "source": [
    "### 测试集"
   ]
  },
  {
   "cell_type": "markdown",
   "metadata": {},
   "source": [
    "对于如下的两种模型，我们知道左边的模型要好于右边的，因为显然右边的模型更倾向于“记忆”数据，也就是**泛化能力**差。\n",
    "[![a1w6dH.md.png](https://s1.ax1x.com/2020/07/31/a1w6dH.md.png)](https://imgchr.com/i/a1w6dH)\n",
    "而我们进行建模的目的，就是为了提升模型的泛化能力，也就是对未知数据的预测能力，那我们该如何检验模型的泛化能力呢？\n",
    "\n",
    "答案就是将数据分成两部分，一部分是用于拟合模型的训练集，一部分是检验模型泛化能力的测试集。如下图所示，灰色点表示训练集，白色点表示测试集，这样就可以更直观的看出左边的模型要优于右边的模型。\n",
    "\n",
    "[![a1wOWq.md.png](https://s1.ax1x.com/2020/07/31/a1wOWq.md.png)](https://imgchr.com/i/a1wOWq)\n",
    "\n",
    "> ⚠️绝对不能用测试集去拟合模型！"
   ]
  },
  {
   "cell_type": "markdown",
   "metadata": {},
   "source": [
    "### 混淆矩阵（Confusion Matrix）"
   ]
  },
  {
   "cell_type": "markdown",
   "metadata": {},
   "source": []
  }
 ],
 "metadata": {
  "kernelspec": {
   "display_name": "Python 3",
   "language": "python",
   "name": "python3"
  },
  "language_info": {
   "codemirror_mode": {
    "name": "ipython",
    "version": 3
   },
   "file_extension": ".py",
   "mimetype": "text/x-python",
   "name": "python",
   "nbconvert_exporter": "python",
   "pygments_lexer": "ipython3",
   "version": "3.7.3"
  },
  "toc": {
   "base_numbering": 1,
   "nav_menu": {},
   "number_sections": true,
   "sideBar": true,
   "skip_h1_title": false,
   "title_cell": "Table of Contents",
   "title_sidebar": "Contents",
   "toc_cell": false,
   "toc_position": {},
   "toc_section_display": true,
   "toc_window_display": true
  }
 },
 "nbformat": 4,
 "nbformat_minor": 2
}
