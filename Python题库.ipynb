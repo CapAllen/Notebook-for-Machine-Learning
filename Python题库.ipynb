{
 "cells": [
  {
   "cell_type": "markdown",
   "metadata": {},
   "source": [
    "要求：\n",
    "- 涵盖所有重点知识\n",
    "- 层层递进\n",
    "- 包含解析+讲解+课程知识点链接"
   ]
  },
  {
   "cell_type": "markdown",
   "metadata": {},
   "source": [
    "基础数据结构+控制流+函数+IO+类与对象+异常捕捉"
   ]
  },
  {
   "cell_type": "markdown",
   "metadata": {},
   "source": [
    "Hi，👏欢迎来到Python基础部分，在本关卡中，我们会一起来挑战xx个Boss，每个Boss会有若干小关卡，拿起手中的~~剑~~键盘，跟我一起出发吧！\n",
    "![aD0r8I.gif](https://s1.ax1x.com/2020/08/04/aD0r8I.gif)"
   ]
  },
  {
   "cell_type": "markdown",
   "metadata": {},
   "source": [
    "## 练习1：华氏温度转换为摄氏温度。"
   ]
  },
  {
   "cell_type": "markdown",
   "metadata": {},
   "source": [
    "要求：运行程序后，可以输入华氏温度，输出摄氏温度。\n",
    "> 华氏温度到摄氏温度的转换公式为：$C=(F - 32) \\div 1.8$。"
   ]
  },
  {
   "cell_type": "markdown",
   "metadata": {},
   "source": [
    "难度：2/5  \n",
    "\n",
    "知识点：变量；输入输出；数据类型"
   ]
  },
  {
   "cell_type": "code",
   "execution_count": 3,
   "metadata": {},
   "outputs": [
    {
     "name": "stdout",
     "output_type": "stream",
     "text": [
      "请输入华氏温度: 70\n",
      "您输入的70.0华氏度，等于21.1摄氏度\n"
     ]
    }
   ],
   "source": [
    "# 参考答案\n",
    "# 获取输入，并转换为float类型\n",
    "Fahrenheit = float(input('请输入华氏温度: '))\n",
    "# 将华氏温度转换为摄氏温度\n",
    "Celsius = (Fahrenheit - 32) / 1.8\n",
    "# 格式化输出\n",
    "print(f'您输入的{Fahrenheit}华氏度，等于{round(Celsius,1)}摄氏度')"
   ]
  },
  {
   "cell_type": "markdown",
   "metadata": {},
   "source": [
    "**解析：**\n",
    "\n",
    "本题虽然看似简单，但考察的知识点还是比较全面的：\n",
    "- 输入：使用`input`函数获取键盘输入，但所有通过`input`获取的都是字符串`str`类型，如果涉及到数值计算，需要先转换成数值类型；\n",
    "- 数值类型转换：这里使用`float`转换为浮点型，是考虑到华氏温度有可能包含小数；\n",
    "- 格式化输出：可以使用`f`或者`format`函数进行格式化输出，此外，还需考虑小数精度问题，这里使用`round`函数将小数点后位数限制为1；\n",
    " > 改写成`format`函数就是`'您输入的{}华氏度，等于{}摄氏度'.format(Fahrenheit,round(Celsius,1))`\n",
    "- 变量赋值：变量名虽然可以随意取，但为了代码的可读性，尽量取得有意义一些。"
   ]
  },
  {
   "cell_type": "markdown",
   "metadata": {},
   "source": [
    "**知识点参考：**\n",
    "\n",
    "- [数据类型和变量](https://www.liaoxuefeng.com/wiki/1016959663602400/1017063826246112)\n",
    "- [字符串和编码](https://www.liaoxuefeng.com/wiki/1016959663602400/1017075323632896)\n",
    "- [输入输出](https://www.liaoxuefeng.com/wiki/1016959663602400/1017032074151456)"
   ]
  },
  {
   "cell_type": "markdown",
   "metadata": {},
   "source": [
    "## 练习2：百分制成绩转换为等级成绩。"
   ]
  },
  {
   "cell_type": "markdown",
   "metadata": {},
   "source": [
    "要求：运行程序后，可以输入成绩，输出成绩等级。\n",
    "\n",
    "对应关系如下：  \n",
    "成绩在90分以上（含90分）输出A；  \n",
    "80分-90分（不含90分）输出B；  \n",
    "70分-80分（不含80分）输出C；  \n",
    "60分-70分（不含70分）输出D；\n",
    "60分以下输出E。  "
   ]
  },
  {
   "cell_type": "markdown",
   "metadata": {},
   "source": [
    "难度：1/5\n",
    "\n",
    "知识点：变量；输入输出；控制流"
   ]
  },
  {
   "cell_type": "code",
   "execution_count": 6,
   "metadata": {},
   "outputs": [
    {
     "name": "stdout",
     "output_type": "stream",
     "text": [
      "请输入您的成绩: 77\n",
      "您的成绩等级为: C\n"
     ]
    }
   ],
   "source": [
    "# 参考答案\n",
    "# 获取输入，并转换为float类型\n",
    "score = float(input('请输入您的成绩: '))\n",
    "# 使用条件判断，将成绩转换为等级\n",
    "if score >= 90:\n",
    "    # 注意代码缩进\n",
    "    grade = 'A'    \n",
    "elif score >= 80:\n",
    "    grade = 'B'\n",
    "elif score >= 70:\n",
    "    grade = 'C'\n",
    "elif score >= 60:\n",
    "    grade = 'D'\n",
    "else:\n",
    "    grade = 'E'\n",
    "print('您的成绩等级为:', grade)"
   ]
  },
  {
   "cell_type": "markdown",
   "metadata": {},
   "source": [
    "**解析：**\n",
    "\n",
    "本题主要考察点在于对条件判断的运用，关键点在于：\n",
    "- 在python中使用**缩进**（约定俗成的是缩进4个空格）组织代码。你可以理解为：缩进的代码隶属于最近一个未缩进的代码，如`grade = 'A'`即隶属于`if score >= 90:`这句代码，表示当score大于等于90分时，将grade赋值为A；\n",
    "- if-elif-else的使用，一定要保证所有条件的合集为全集，也就是你的代码中应该包含所有可能发生的事件。"
   ]
  },
  {
   "cell_type": "markdown",
   "metadata": {},
   "source": [
    "**知识点参考：**\n",
    "\n",
    "- [条件判断](https://www.liaoxuefeng.com/wiki/1016959663602400/1017099478626848)"
   ]
  },
  {
   "cell_type": "markdown",
   "metadata": {},
   "source": [
    "## 练习3：素数检测"
   ]
  },
  {
   "cell_type": "markdown",
   "metadata": {},
   "source": [
    "要求：输入一个正整数判断是不是素数。\n",
    "\n",
    "> 素数指的是只能被1和自身整除的大于1的整数。\n",
    "\n",
    "> 提示：如果用到求平方根的话，可以用如下代码：\n",
    "\n",
    "```python\n",
    ">>> import math\n",
    ">>> num = 4\n",
    ">>> num_sqrt = math.sqrt(num)\n",
    ">>> print(num_sqrt)\n",
    "\n",
    "2.0\n",
    "```\n",
    "\n"
   ]
  },
  {
   "cell_type": "markdown",
   "metadata": {},
   "source": [
    "难度：3.5/5\n",
    "\n",
    "知识点：变量；输入输出；控制流；数学逻辑"
   ]
  },
  {
   "cell_type": "code",
   "execution_count": 11,
   "metadata": {},
   "outputs": [
    {
     "name": "stdout",
     "output_type": "stream",
     "text": [
      "请输入一个正整数: 2\n",
      "2是素数\n"
     ]
    }
   ],
   "source": [
    "# 参考答案\n",
    "# 导入所需第三方module\n",
    "import math\n",
    "\n",
    "# 获取用户输入，并转换为整数int型\n",
    "num = int(input('请输入一个正整数: '))\n",
    "# 取输入值的平方根\n",
    "end = int(math.sqrt(num))\n",
    "# 初始化结果为True\n",
    "is_prime = True\n",
    "# 使用for循环判断，从2到平方根之间的整数\n",
    "for x in range(2, end + 1):\n",
    "    # 如果存在某数可以被num整除的话\n",
    "    if num % x == 0:\n",
    "        # 那么就不是素数\n",
    "        is_prime = False\n",
    "        # 终止循环\n",
    "        break\n",
    "# 进行格式化输出\n",
    "if is_prime and num != 1:\n",
    "    print(f'{num}是素数')\n",
    "else:\n",
    "    print(f'{num}不是素数')"
   ]
  },
  {
   "cell_type": "markdown",
   "metadata": {},
   "source": [
    "**解析：**\n",
    "\n",
    "本题主要是为了考察对循环控制流的运用，而其中又添加了数学&算法上的技巧，所以会稍稍有点难。关键点在于：\n",
    "- 对于素数的判断，我们可以使用反证法，即如果找到任意一值可以被该数整除，那么该数就不是素数。我们知道，一个数`N`若可以进行因数分解，那么分解时得到的两个数一定是一个小于等于$\\sqrt N$，一个大于等于$\\sqrt N$，据此，我们可以从$2$遍历到$\\sqrt N$，寻找是否存在被$N$整除的数即可；\n",
    "- 循环： 如上，我们确定了循环的**范围**，当想要在某范围内执行循环操作时，应该使用`for`循环；\n",
    "- 中断： 当满足某条件（找到被整除的数）时，应该终止循环，以节省时间，终止循环应该使用`break`。"
   ]
  },
  {
   "cell_type": "markdown",
   "metadata": {},
   "source": [
    "**知识点参考：**\n",
    "\n",
    "- [循环](https://www.liaoxuefeng.com/wiki/1016959663602400/1017100774566304)\n",
    "- [math库的使用](https://www.cnblogs.com/renpingsheng/p/7171950.html)\n",
    "- [素数](https://baike.baidu.com/item/%E8%B4%A8%E6%95%B0/263515?fromtitle=%E7%B4%A0%E6%95%B0&fromid=115069)\n"
   ]
  },
  {
   "cell_type": "markdown",
   "metadata": {},
   "source": [
    "## 练习4：猴子吃桃"
   ]
  },
  {
   "cell_type": "markdown",
   "metadata": {},
   "source": [
    "哈哈，做了三道题了是不是觉得有点枯燥？那我们来回顾一到经典的数学题，尝试将其用代码实现，试试看！\n",
    "\n",
    "小猴子第一天摘下了若干个桃，立马就吃掉了一半，还不过瘾，忍不住又多吃了一个； 第二天早上，又将剩下的桃子吃掉了一半，并且又多吃了一个；之后的每天早上都吃掉前一天剩下的一半，并且再多吃一个，等到第七天的时候，发现只剩下一个桃子了，请问第一天小猴子一共摘了多少个桃子呢？\n",
    "\n"
   ]
  },
  {
   "cell_type": "markdown",
   "metadata": {},
   "source": [
    "难度：3/5\n",
    "\n",
    "知识点：变量；输入输出；控制流；数学逻辑"
   ]
  },
  {
   "cell_type": "code",
   "execution_count": 14,
   "metadata": {},
   "outputs": [
    {
     "name": "stdout",
     "output_type": "stream",
     "text": [
      "第一天一共摘了190个桃子\n"
     ]
    }
   ],
   "source": [
    "# 参考答案 A\n",
    "\n",
    "# 先推导出数学公式，然后直接计算得到结果\n",
    "# 初始化今天（第七天）的桃子数量\n",
    "today = 1\n",
    "# 往前数6天，得到的结果即为第一天的桃子数量\n",
    "for day in range(6):\n",
    "    # 公式为f(n) = (f(n+1) + 1) * 2; n表示第n天\n",
    "    today = (today + 1) * 2\n",
    "print(f'第一天一共摘了{today}个桃子')"
   ]
  },
  {
   "cell_type": "code",
   "execution_count": 17,
   "metadata": {},
   "outputs": [
    {
     "name": "stdout",
     "output_type": "stream",
     "text": [
      "第一天一共摘了190个桃子\n"
     ]
    }
   ],
   "source": [
    "# 参考答案 B\n",
    "\n",
    "# 与参考答案A类似，这里改成了while语句实现\n",
    "# 初始化今天（第七天）的桃子数量\n",
    "day_num = 1\n",
    "# 今天是第七天\n",
    "day = 7\n",
    "# 逐级递减day，当day为1时，循环终止，即可得到第一天的桃子数量\n",
    "while day > 1:\n",
    "    # day逐级递减\n",
    "    day -= 1\n",
    "    # 公式为f(n) = (f(n+1) + 1) * 2; n表示第n天\n",
    "    day_num = (day_num + 1) * 2  \n",
    "print(f'第一天一共摘了{day_num}个桃子')"
   ]
  },
  {
   "cell_type": "code",
   "execution_count": 20,
   "metadata": {},
   "outputs": [
    {
     "name": "stdout",
     "output_type": "stream",
     "text": [
      "第一天一共摘了190个桃子\n"
     ]
    }
   ],
   "source": [
    "# 参考答案 C\n",
    "\n",
    "# 模拟小猴子的吃桃逆向过程（递归）\n",
    "def today_num(day):\n",
    "    # 如果是第7天，则返回1\n",
    "    if day == 7:\n",
    "        return 1\n",
    "    # 否则的话，则按公式返回昨天的桃子数量\n",
    "    else:\n",
    "        return (today_num(day+1) + 1) * 2\n",
    "    \n",
    "\n",
    "print(f'第一天一共摘了{today_num(1)}个桃子')"
   ]
  },
  {
   "cell_type": "markdown",
   "metadata": {},
   "source": [
    "**解析：**\n",
    "\n",
    "本题算是一道趣味题，给你解解乏，主要是为了考察对循环控制流的运用，以及逻辑推理能力。关键点在于：\n",
    "- 根据猴子吃桃，抽象出数学模型，也就是：\n",
    "   ```\n",
    "   第7天： N7 = 1\n",
    "   第6天： N6 = (N7 + 1) x 2\n",
    "   ... ： ...\n",
    "   第1天： N1 = (N2 + 1) x 2\n",
    "   ```\n",
    "   所以推导出： $f(N) = (f(N+1) + 1) * 2$;\n",
    "   \n",
    "- 循环： 根据循环次数，使用for循环；根据循环条件，使用while循环；\n",
    "- 递归： 递归是一种程序调用自身的编程技巧，可以将一个较大的问题（7天的桃子），逐级分解为较小的问题（每一天的桃子），这是一种非常酷的技巧，希望你可以再多额外了解一下～"
   ]
  },
  {
   "cell_type": "markdown",
   "metadata": {},
   "source": [
    "**知识点参考：**\n",
    "\n",
    "- [循环](https://www.liaoxuefeng.com/wiki/1016959663602400/1017100774566304)\n",
    "- [递归](https://www.khanacademy.org/computing/computer-science/algorithms/recursive-algorithms/a/recursion)\n",
    "- [Python中的递归](https://www.geeksforgeeks.org/recursion-in-python/)\n"
   ]
  },
  {
   "cell_type": "markdown",
   "metadata": {},
   "source": [
    "## 练习3：统计元音字母的数量"
   ]
  },
  {
   "cell_type": "markdown",
   "metadata": {},
   "source": [
    "要求：统计如下字符串中，元音字母的数量。\n",
    "```\n",
    "\"It will happen tonight... The Dark Lord lies alone and friendless, abandoned by his followers. His servant has been chained these twelve years. Tonight, before midnight... the servant will break free and set out to rejoin his master. The Dark Lord will rise again with his servant's aid, greater and more terrible than ever he was. Tonight... before midnight... the servant... will set out... to rejoin... his master...\"\n",
    "```\n",
    "\n",
    "> 元音指的是：a、e、i、o 和 u。（大小写都需要包括）"
   ]
  },
  {
   "cell_type": "markdown",
   "metadata": {},
   "source": [
    "难度：2/5\n",
    "\n",
    "知识点：字符串；字符串函数；"
   ]
  },
  {
   "cell_type": "code",
   "execution_count": 1,
   "metadata": {},
   "outputs": [
    {
     "name": "stdout",
     "output_type": "stream",
     "text": [
      "元音字母总量为： 116\n"
     ]
    }
   ],
   "source": [
    "# 参考答案\n",
    "# 定义字符串\n",
    "string = \"It will happen tonight... The Dark Lord lies alone and friendless, abandoned by his followers. His servant has been chained these twelve years. Tonight, before midnight... the servant will break free and set out to rejoin his master. The Dark Lord will rise again with his servant's aid, greater and more terrible than ever he was. Tonight... before midnight... the servant... will set out... to rejoin... his master...\"\n",
    "\n",
    "# 将字符串转成小写\n",
    "string_lower = string.lower()\n",
    "\n",
    "# 初始化计数器\n",
    "counts = 0\n",
    "\n",
    "# 使用循环统计元音字母的数量\n",
    "for letter in ['a','e','i','o','u']:\n",
    "    # 当前元音字母的数量\n",
    "    letter_count = string.count(letter)\n",
    "    # 累加到总和中\n",
    "    counts += letter_count\n",
    "\n",
    "print('元音字母总量为：',counts)"
   ]
  },
  {
   "cell_type": "markdown",
   "metadata": {},
   "source": [
    "**解析：**\n",
    "\n",
    "本题主要是为了考察字符串特性及其函数的应用。关键点在于：\n",
    "- 统一格式：使用`lower`或者`upper`函数将字符串转换为全小写或全大写，这样可以简化计数代码；\n",
    "- 计数： 使用`count`函数可以统计字符串中某字符的数量；\n",
    "- 循环： 这里不做硬性要求，如果你没有使用for循环简化代码，也是OK的。"
   ]
  },
  {
   "cell_type": "markdown",
   "metadata": {},
   "source": [
    "**知识点参考：**\n",
    "\n",
    "- [字符串](https://www.liaoxuefeng.com/wiki/1016959663602400/1017075323632896)\n",
    "- [Python String Methods](https://www.tutorialspoint.com/python/python_strings.htm)\n"
   ]
  },
  {
   "cell_type": "markdown",
   "metadata": {},
   "source": [
    "## 练习：求中位数"
   ]
  },
  {
   "cell_type": "markdown",
   "metadata": {},
   "source": [
    "要求：补全如下函数，输入一个数字列表，输出该列表的中位数。\n",
    "\n",
    "\n",
    "\n",
    "```python\n",
    "def get_median(number_lst):\n",
    "    median = ...\n",
    "    return median\n",
    "```\n",
    "\n",
    "如：\n",
    "```\n",
    ">>> get_median([0,1,2])\n",
    "1\n",
    "\n",
    ">>> get_median([2,6,3,0])\n",
    "2.5\n",
    "```\n",
    "> 什么是中位数？中位数指的是按顺序排列的一组数据中居于中间位置的数。如果该数组长度为奇数，那么输出中间位置的数；如果长度为偶数，则计算中间两个数值的均值。"
   ]
  },
  {
   "cell_type": "markdown",
   "metadata": {},
   "source": [
    "难度：3/5\n",
    "\n",
    "知识点：函数定义；数值计算；条件判断；列表"
   ]
  },
  {
   "cell_type": "code",
   "execution_count": 2,
   "metadata": {},
   "outputs": [],
   "source": [
    "# 参考答案\n",
    "def get_median(number_lst):\n",
    "    # 先对列表进行排序\n",
    "    number_lst.sort() \n",
    "    # 判断列表长度是奇数还是偶数\n",
    "    if len(number_lst) % 2:\n",
    "        # 列表长度为奇数时，找到中间位置\n",
    "        middle_index = int(len(number_lst)/2)\n",
    "        # 使用索引返回该数值\n",
    "        return number_lst[middle_index]\n",
    "    else:\n",
    "        # 列表长度为偶数时，找到中间的两个位置\n",
    "        right_of_middle = len(number_lst)//2 \n",
    "        left_of_middle = right_of_middle - 1\n",
    "        # 返回两位置的均值\n",
    "        return (number_lst[right_of_middle] + number_lst[left_of_middle])/2\n"
   ]
  },
  {
   "cell_type": "code",
   "execution_count": 6,
   "metadata": {},
   "outputs": [
    {
     "data": {
      "text/plain": [
       "4"
      ]
     },
     "execution_count": 6,
     "metadata": {},
     "output_type": "execute_result"
    }
   ],
   "source": [
    "int(4.9)"
   ]
  },
  {
   "cell_type": "markdown",
   "metadata": {},
   "source": [
    "**解析：**\n",
    "\n",
    "本题考察的内容较多，关键点在于：\n",
    "- 列表的应用： 使用`sort`或`sorted`对列表排序（默认顺序排序）；使用`len`函数求列表的长度（元素个数）；使用`索引`获取某位置的元素；\n",
    "- 自定义函数： 定义函数注意按照范式，注意代码缩进即可。即\n",
    "```python\n",
    "def func_name(args):\n",
    "    xxxx\n",
    "    return xxxx    \n",
    "```\n",
    "；\n",
    "- 条件判断： 注意在条件判断中，`0`以及`[]`,`''`等空集（空列表、空字符串）等都被判断为`False`。所以代码中的`if len(number_lst) % 2`即为 当列表的长度没能整除2时，会返回`1`，判断为True，进入下面的奇数运算中；\n",
    "- 数值计算： \n",
    "    - 一定要分清楚`%`取余和`//`取整；\n",
    "    - `int`会自动去掉小数点后面的数字，只保留整数部分（注意并不是四舍五入）；\n",
    "    - 注意列表的索引是从0开始计数的，所以当列表长度为偶数时，中间的两位应该是`length/2`与`length/2 - 1`这两位。"
   ]
  },
  {
   "cell_type": "markdown",
   "metadata": {},
   "source": [
    "**知识点参考：**\n",
    "\n",
    "- [函数](https://www.liaoxuefeng.com/wiki/1016959663602400/1017106984190464)\n",
    "- [列表](https://www.liaoxuefeng.com/wiki/1016959663602400/1017092876846880)\n",
    "- [数值计算](https://www.tutorialspoint.com/python/python_basic_operators.htm)\n"
   ]
  },
  {
   "cell_type": "markdown",
   "metadata": {},
   "source": [
    "## 练习：Beatles的乐迷"
   ]
  },
  {
   "cell_type": "markdown",
   "metadata": {},
   "source": [
    "如下是Beatles的部分唱片及发布年份，你可以帮忙找出**发布唱片最多的年份**和**该年份的所有唱片**吗？\n",
    "\n",
    "```python\n",
    "Beatles_Discography = {\"Please Please Me\": 1963, \"With the Beatles\": 1963,\n",
    "                       \"A Hard Day's Night\": 1964, \"Beatles for Sale\": 1964,\n",
    "                       \"Twist and Shout\": 1964, \"Help\": 1965, \"Rubber Soul\": 1965,\n",
    "                       \"Revolver\": 1966, \"Sgt. Pepper's Lonely Hearts Club Band\": 1967,\n",
    "                       \"Magical Mystery Tour\": 1967, \"The Beatles\": 1968,\n",
    "                       \"Yellow Submarine\": 1969, 'Abbey Road': 1969,\n",
    "                       \"Let It Be\": 1970}\n",
    "```\n"
   ]
  },
  {
   "cell_type": "markdown",
   "metadata": {},
   "source": [
    "难度：2/5\n",
    "\n",
    "知识点：字典；条件判断；列表"
   ]
  },
  {
   "cell_type": "code",
   "execution_count": 41,
   "metadata": {},
   "outputs": [
    {
     "name": "stdout",
     "output_type": "stream",
     "text": [
      "发片最多的年份是： 1964\n",
      "发布的唱片包括： A Hard Day's Night, Beatles for Sale, Twist and Shout\n"
     ]
    }
   ],
   "source": [
    "# 参考答案\n",
    "# 定义字典\n",
    "Beatles_Discography = {\"Please Please Me\": 1963, \"With the Beatles\": 1963,\n",
    "                       \"A Hard Day's Night\": 1964, \"Beatles for Sale\": 1964,\n",
    "                       \"Twist and Shout\": 1964, \"Help\": 1965, \"Rubber Soul\": 1965,\n",
    "                       \"Revolver\": 1966, \"Sgt. Pepper's Lonely Hearts Club Band\": 1967,\n",
    "                       \"Magical Mystery Tour\": 1967, \"The Beatles\": 1968,\n",
    "                       \"Yellow Submarine\": 1969, 'Abbey Road': 1969,\n",
    "                       \"Let It Be\": 1970}\n",
    "# 先找出数量最多的年份\n",
    "# 定义年份-数量字典\n",
    "year_count = {}\n",
    "# 使用for循环\n",
    "for year in Beatles_Discography.values():\n",
    "    # 如果该年份存在于year_count中，则计数+1\n",
    "    if year in year_count:\n",
    "        year_count[year] += 1\n",
    "    # 否则的话，则将该年份储存在year_count中，并将value设置为1\n",
    "    else:\n",
    "        year_count[year] = 1\n",
    "\n",
    "# 寻找发片最多的年份\n",
    "max_year = max(year_count, key=year_count.get)\n",
    "\n",
    "# 筛选出该年份的所有唱片\n",
    "discographies = []\n",
    "# 循环获取所有的唱片及年份\n",
    "for disco,year in Beatles_Discography.items():\n",
    "    # 如果是发片最多的年份\n",
    "    if year == max_year:\n",
    "        # 添加到唱片列表中\n",
    "        discographies.append(disco)\n",
    "    # 否则，跳过该数据\n",
    "    else:\n",
    "        continue\n",
    "        \n",
    "print('发片最多的年份是：',max_year)\n",
    "print('发布的唱片包括：',', '.join(discographies))"
   ]
  },
  {
   "cell_type": "markdown",
   "metadata": {},
   "source": [
    "**解析：**\n",
    "\n",
    "本题主要考察对字典`dict`的掌握情况，关键点在于：\n",
    "- 字典： 使用`keys`可以获取字典中的所有key；使用`values`可以获取所有的value；使用`items`可以获取所有的key-value对；\n",
    "- 筛选字典中最大的value： 使用`max`函数获取最大值，并指定使用字典中的`get`方法，也就是对比value；\n",
    "- 列表： 使用`append`向列表中添加元素；使用`join`来将列表转换为字符串，用于格式化输出。\n"
   ]
  },
  {
   "cell_type": "markdown",
   "metadata": {},
   "source": [
    "**知识点参考：**\n",
    "\n",
    "\n",
    "- [列表](https://www.liaoxuefeng.com/wiki/1016959663602400/1017092876846880)\n",
    "- [集合与字典](https://www.liaoxuefeng.com/wiki/1016959663602400/1017104324028448)\n",
    "- [max函数](https://medium.com/analytics-vidhya/how-to-use-key-function-in-max-and-min-in-python-1fdbd661c59c)\n"
   ]
  },
  {
   "cell_type": "markdown",
   "metadata": {},
   "source": [
    "## 练习：课程的相似度问题"
   ]
  },
  {
   "cell_type": "markdown",
   "metadata": {},
   "source": [
    "疫情下，网课如雨后春笋，但我们发现，虽然有些课程名称不同，但其包含的内容却是相似的，课程与视频的组织形式如下，其中带course的即为课程，带V的即为课程包含视频：\n",
    "```python\n",
    "{\n",
    "    'course_a':['V_1', 'V_17', 'V_15', 'V_19', 'V_13', 'V_25'],\n",
    "    'course_b':['V_0', 'V_5', 'V_20', 'V_7', 'V_4', 'V_10'],\n",
    "    'course_c':['V_17', 'V_10', 'V_1', 'V_6', 'V_2'],\n",
    "    'course_d':['V_18', 'V_0', 'V_1', 'V_13', 'V_5', 'V_8'],\n",
    "    'course_e':['V_0', 'V_1', 'V_13', 'V_6', 'V_19'],\n",
    "    'course_f':['V_12', 'V_7', 'V_11', 'V_6', 'V_19'],\n",
    "}\n",
    "\n",
    "```\n",
    "\n",
    "要求：我们定义课程之间的相似度为视频的重合程度，即`两课程的共有视频数量`除以`两课程的非重复视频总量`。如`course_b`与`course_e`的相似度为：\n",
    "```\n",
    "共有视频：['V_0']，1个\n",
    "非重复视频总量：['V_0', 'V_1', 'V_10', 'V_13', 'V_19', 'V_20', 'V_4', 'V_5', 'V_6', 'V_7']，10个\n",
    "所以相似度为：1/10\n",
    "```\n",
    "\n",
    "求所有课程两两之间的相似度。"
   ]
  },
  {
   "cell_type": "markdown",
   "metadata": {},
   "source": [
    "难度：4/5\n",
    "\n",
    "知识点：字典；集合；循环；函数定义"
   ]
  },
  {
   "cell_type": "code",
   "execution_count": 33,
   "metadata": {
    "collapsed": true
   },
   "outputs": [
    {
     "data": {
      "text/plain": [
       "{'course_a': {'course_a': 1.0,\n",
       "  'course_b': 0.0,\n",
       "  'course_c': 0.2222222222222222,\n",
       "  'course_d': 0.2,\n",
       "  'course_e': 0.375,\n",
       "  'course_f': 0.1},\n",
       " 'course_b': {'course_a': 0.0,\n",
       "  'course_b': 1.0,\n",
       "  'course_c': 0.1,\n",
       "  'course_d': 0.2,\n",
       "  'course_e': 0.1,\n",
       "  'course_f': 0.1},\n",
       " 'course_c': {'course_a': 0.2222222222222222,\n",
       "  'course_b': 0.1,\n",
       "  'course_c': 1.0,\n",
       "  'course_d': 0.1,\n",
       "  'course_e': 0.25,\n",
       "  'course_f': 0.1111111111111111},\n",
       " 'course_d': {'course_a': 0.2,\n",
       "  'course_b': 0.2,\n",
       "  'course_c': 0.1,\n",
       "  'course_d': 1.0,\n",
       "  'course_e': 0.375,\n",
       "  'course_f': 0.0},\n",
       " 'course_e': {'course_a': 0.375,\n",
       "  'course_b': 0.1,\n",
       "  'course_c': 0.25,\n",
       "  'course_d': 0.375,\n",
       "  'course_e': 1.0,\n",
       "  'course_f': 0.25},\n",
       " 'course_f': {'course_a': 0.1,\n",
       "  'course_b': 0.1,\n",
       "  'course_c': 0.1111111111111111,\n",
       "  'course_d': 0.0,\n",
       "  'course_e': 0.25,\n",
       "  'course_f': 1.0}}"
      ]
     },
     "execution_count": 33,
     "metadata": {},
     "output_type": "execute_result"
    }
   ],
   "source": [
    "# 参考答案\n",
    "# 定义课程字典\n",
    "course_dict = {\n",
    "    'course_a':['V_1', 'V_17', 'V_15', 'V_19', 'V_13', 'V_25'],\n",
    "    'course_b':['V_0', 'V_5', 'V_20', 'V_7', 'V_4', 'V_10'],\n",
    "    'course_c':['V_17', 'V_10', 'V_1', 'V_6', 'V_2'],\n",
    "    'course_d':['V_18', 'V_0', 'V_1', 'V_13', 'V_5', 'V_8'],\n",
    "    'course_e':['V_0', 'V_1', 'V_13', 'V_6', 'V_19'],\n",
    "    'course_f':['V_12', 'V_7', 'V_11', 'V_6', 'V_19'],\n",
    "}\n",
    "\n",
    "# 定义相似度函数\n",
    "def similarity(lst_a,lst_b):\n",
    "    # 将list转换为set（集合），计算交集\n",
    "    same_v = len(set(lst_a) & set(lst_b))\n",
    "    # 计算并集\n",
    "    all_v = len(set(lst_a) | set(lst_b))\n",
    "    return same_v / all_v\n",
    "\n",
    "# 使用for循环，计算两两相似度\n",
    "# 初始化结果，定义字典\n",
    "result = {}\n",
    "for course in course_dict.keys():\n",
    "    # 将course对应的结果也定义为字典\n",
    "    result[course] = {}\n",
    "    # 循环获取所有课程，计算相似度，并将结果储存\n",
    "    for other_course in course_dict.keys():\n",
    "        result[course][other_course] = similarity(course_dict[course],course_dict[other_course])\n",
    "        \n",
    "result"
   ]
  },
  {
   "cell_type": "markdown",
   "metadata": {},
   "source": [
    "**解析：**\n",
    "\n",
    "本题主要考察对集合`set`与字典`dict`的使用，关键点在于：\n",
    "- 集合： 题目要求中，需要计算两个列表的交集与并集，但使用列表计算比较麻烦，所以先使用`set`转换成集合，再使用`&`求交集，使用`|`求并集；\n",
    "- 字典： \n",
    "    - 使用`keys`可以获取字典中的所有key；使用`values`可以获取所有的value；使用`items`可以获取所有的key-value对；\n",
    "    - 创建字典可以直接使用`变量名 = {}`的方式，当然为了方便进行数据展示与调用，也可以在字典中嵌套字典，如`result[course] = {}`。\n"
   ]
  },
  {
   "cell_type": "markdown",
   "metadata": {},
   "source": [
    "**知识点参考：**\n",
    "\n",
    "- [集合与字典](https://www.liaoxuefeng.com/wiki/1016959663602400/1017104324028448)\n"
   ]
  },
  {
   "cell_type": "code",
   "execution_count": null,
   "metadata": {},
   "outputs": [],
   "source": []
  },
  {
   "cell_type": "code",
   "execution_count": null,
   "metadata": {},
   "outputs": [],
   "source": []
  },
  {
   "cell_type": "code",
   "execution_count": null,
   "metadata": {},
   "outputs": [],
   "source": []
  },
  {
   "cell_type": "markdown",
   "metadata": {},
   "source": [
    "## Boss1: 猜拳模拟器"
   ]
  },
  {
   "cell_type": "markdown",
   "metadata": {},
   "source": [
    "基础逻辑：\n",
    "- 设置猜拳正确大小\n",
    "- 猜一次函数\n",
    "- 保存结果到列表\n",
    "- 设置三局两胜，判断\n",
    "- 设置积分，保存历史结果，设置排行榜\n",
    "- 异常捕捉\n",
    "\n",
    "\n",
    "\n",
    "涉及知识点：\n",
    "- 基础数据结构：变量赋值、列表、元组使用\n",
    "- 控制流：判断\n",
    "- 函数\n",
    "- IO：历史文件的保存\n",
    "- 交互：input/print\n",
    "- 异常捕捉"
   ]
  },
  {
   "cell_type": "markdown",
   "metadata": {},
   "source": [
    "### 关卡1：一局定胜负\n",
    "\n",
    "- 伪代码\n",
    "- 判断\n",
    "- 函数\n",
    "- 交互"
   ]
  },
  {
   "cell_type": "code",
   "execution_count": null,
   "metadata": {},
   "outputs": [],
   "source": []
  },
  {
   "cell_type": "markdown",
   "metadata": {},
   "source": [
    "### 关卡2 : 三局两胜\n",
    "- 伪代码\n",
    "- 列表\n",
    "- "
   ]
  },
  {
   "cell_type": "code",
   "execution_count": null,
   "metadata": {},
   "outputs": [],
   "source": []
  },
  {
   "cell_type": "markdown",
   "metadata": {},
   "source": [
    "### 关卡3: 排行榜！"
   ]
  },
  {
   "cell_type": "code",
   "execution_count": null,
   "metadata": {},
   "outputs": [],
   "source": []
  },
  {
   "cell_type": "markdown",
   "metadata": {},
   "source": [
    "##"
   ]
  }
 ],
 "metadata": {
  "kernelspec": {
   "display_name": "Python 3",
   "language": "python",
   "name": "python3"
  },
  "language_info": {
   "codemirror_mode": {
    "name": "ipython",
    "version": 3
   },
   "file_extension": ".py",
   "mimetype": "text/x-python",
   "name": "python",
   "nbconvert_exporter": "python",
   "pygments_lexer": "ipython3",
   "version": "3.7.3"
  },
  "toc": {
   "base_numbering": 1,
   "nav_menu": {},
   "number_sections": true,
   "sideBar": true,
   "skip_h1_title": false,
   "title_cell": "Table of Contents",
   "title_sidebar": "Contents",
   "toc_cell": false,
   "toc_position": {
    "height": "calc(100% - 180px)",
    "left": "10px",
    "top": "150px",
    "width": "195px"
   },
   "toc_section_display": true,
   "toc_window_display": true
  }
 },
 "nbformat": 4,
 "nbformat_minor": 2
}
