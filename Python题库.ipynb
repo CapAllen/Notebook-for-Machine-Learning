{
 "cells": [
  {
   "cell_type": "markdown",
   "metadata": {},
   "source": [
    "Hi，👏欢迎来到Python基础部分，在本关卡中，我们会一起来挑战xx个Boss，每个Boss会有若干小关卡，拿起手中的~~剑~~键盘，跟我一起出发吧！\n",
    "![aD0r8I.gif](https://s1.ax1x.com/2020/08/04/aD0r8I.gif)"
   ]
  },
  {
   "cell_type": "markdown",
   "metadata": {},
   "source": [
    "## 练习1：华氏温度转换为摄氏温度。"
   ]
  },
  {
   "cell_type": "markdown",
   "metadata": {},
   "source": [
    "要求：运行程序后，可以输入华氏温度，输出摄氏温度。\n",
    "> 华氏温度到摄氏温度的转换公式为：$C=(F - 32) \\div 1.8$。"
   ]
  },
  {
   "cell_type": "markdown",
   "metadata": {},
   "source": [
    "难度：2/5  \n",
    "\n",
    "知识点：变量；输入输出；数据类型"
   ]
  },
  {
   "cell_type": "code",
   "execution_count": 3,
   "metadata": {
    "scrolled": true
   },
   "outputs": [
    {
     "name": "stdout",
     "output_type": "stream",
     "text": [
      "请输入华氏温度: 70\n",
      "您输入的70.0华氏度，等于21.1摄氏度\n"
     ]
    }
   ],
   "source": [
    "# 参考答案\n",
    "# 获取输入，并转换为float类型\n",
    "Fahrenheit = float(input('请输入华氏温度: '))\n",
    "# 将华氏温度转换为摄氏温度\n",
    "Celsius = (Fahrenheit - 32) / 1.8\n",
    "# 格式化输出\n",
    "print(f'您输入的{Fahrenheit}华氏度，等于{round(Celsius,1)}摄氏度')"
   ]
  },
  {
   "cell_type": "markdown",
   "metadata": {},
   "source": [
    "**解析：**\n",
    "\n",
    "本题虽然看似简单，但考察的知识点还是比较全面的：\n",
    "- 输入：使用`input`函数获取键盘输入，但所有通过`input`获取的都是字符串`str`类型，如果涉及到数值计算，需要先转换成数值类型；\n",
    "- 数值类型转换：这里使用`float`转换为浮点型，是考虑到华氏温度有可能包含小数；\n",
    "- 格式化输出：可以使用`f`或者`format`函数进行格式化输出，此外，还需考虑小数精度问题，这里使用`round`函数将小数点后位数限制为1；\n",
    " > 改写成`format`函数就是`'您输入的{}华氏度，等于{}摄氏度'.format(Fahrenheit,round(Celsius,1))`\n",
    "- 变量赋值：变量名虽然可以随意取，但为了代码的可读性，尽量取得有意义一些。"
   ]
  },
  {
   "cell_type": "markdown",
   "metadata": {},
   "source": [
    "**知识点参考：**\n",
    "\n",
    "- [数据类型和变量](https://www.liaoxuefeng.com/wiki/1016959663602400/1017063826246112)\n",
    "- [字符串和编码](https://www.liaoxuefeng.com/wiki/1016959663602400/1017075323632896)\n",
    "- [输入输出](https://www.liaoxuefeng.com/wiki/1016959663602400/1017032074151456)"
   ]
  },
  {
   "cell_type": "markdown",
   "metadata": {},
   "source": [
    "## 练习2：百分制成绩转换为等级成绩。"
   ]
  },
  {
   "cell_type": "markdown",
   "metadata": {},
   "source": [
    "要求：运行程序后，可以输入成绩，输出成绩等级。\n",
    "\n",
    "对应关系如下：  \n",
    "成绩在90分以上（含90分）输出A；  \n",
    "80分-90分（不含90分）输出B；  \n",
    "70分-80分（不含80分）输出C；  \n",
    "60分-70分（不含70分）输出D；\n",
    "60分以下输出E。  "
   ]
  },
  {
   "cell_type": "markdown",
   "metadata": {},
   "source": [
    "难度：1/5\n",
    "\n",
    "知识点：变量；输入输出；控制流"
   ]
  },
  {
   "cell_type": "code",
   "execution_count": 6,
   "metadata": {},
   "outputs": [
    {
     "name": "stdout",
     "output_type": "stream",
     "text": [
      "请输入您的成绩: 77\n",
      "您的成绩等级为: C\n"
     ]
    }
   ],
   "source": [
    "# 参考答案\n",
    "# 获取输入，并转换为float类型\n",
    "score = float(input('请输入您的成绩: '))\n",
    "# 使用条件判断，将成绩转换为等级\n",
    "if score >= 90:\n",
    "    # 注意代码缩进\n",
    "    grade = 'A'    \n",
    "elif score >= 80:\n",
    "    grade = 'B'\n",
    "elif score >= 70:\n",
    "    grade = 'C'\n",
    "elif score >= 60:\n",
    "    grade = 'D'\n",
    "else:\n",
    "    grade = 'E'\n",
    "print('您的成绩等级为:', grade)"
   ]
  },
  {
   "cell_type": "markdown",
   "metadata": {},
   "source": [
    "**解析：**\n",
    "\n",
    "本题主要考察点在于对条件判断的运用，关键点在于：\n",
    "- 在python中使用**缩进**（约定俗成的是缩进4个空格）组织代码。你可以理解为：缩进的代码隶属于最近一个未缩进的代码，如`grade = 'A'`即隶属于`if score >= 90:`这句代码，表示当score大于等于90分时，将grade赋值为A；\n",
    "- if-elif-else的使用，一定要保证所有条件的合集为全集，也就是你的代码中应该包含所有可能发生的事件。"
   ]
  },
  {
   "cell_type": "markdown",
   "metadata": {},
   "source": [
    "**知识点参考：**\n",
    "\n",
    "- [条件判断](https://www.liaoxuefeng.com/wiki/1016959663602400/1017099478626848)"
   ]
  },
  {
   "cell_type": "markdown",
   "metadata": {},
   "source": [
    "## 练习3：素数检测"
   ]
  },
  {
   "cell_type": "markdown",
   "metadata": {},
   "source": [
    "要求：输入一个正整数判断是不是素数。\n",
    "\n",
    "> 素数指的是只能被1和自身整除的大于1的整数。\n",
    "\n",
    "> 提示：如果用到求平方根的话，可以用如下代码：\n",
    "\n",
    "```python\n",
    ">>> import math\n",
    ">>> num = 4\n",
    ">>> num_sqrt = math.sqrt(num)\n",
    ">>> print(num_sqrt)\n",
    "\n",
    "2.0\n",
    "```\n",
    "\n"
   ]
  },
  {
   "cell_type": "markdown",
   "metadata": {},
   "source": [
    "难度：3.5/5\n",
    "\n",
    "知识点：变量；输入输出；控制流；数学逻辑"
   ]
  },
  {
   "cell_type": "code",
   "execution_count": 11,
   "metadata": {},
   "outputs": [
    {
     "name": "stdout",
     "output_type": "stream",
     "text": [
      "请输入一个正整数: 2\n",
      "2是素数\n"
     ]
    }
   ],
   "source": [
    "# 参考答案\n",
    "# 导入所需第三方module\n",
    "import math\n",
    "\n",
    "# 获取用户输入，并转换为整数int型\n",
    "num = int(input('请输入一个正整数: '))\n",
    "# 取输入值的平方根\n",
    "end = int(math.sqrt(num))\n",
    "# 初始化结果为True\n",
    "is_prime = True\n",
    "# 使用for循环判断，从2到平方根之间的整数\n",
    "for x in range(2, end + 1):\n",
    "    # 如果存在某数可以被num整除的话\n",
    "    if num % x == 0:\n",
    "        # 那么就不是素数\n",
    "        is_prime = False\n",
    "        # 终止循环\n",
    "        break\n",
    "# 进行格式化输出\n",
    "if is_prime and num != 1:\n",
    "    print(f'{num}是素数')\n",
    "else:\n",
    "    print(f'{num}不是素数')"
   ]
  },
  {
   "cell_type": "markdown",
   "metadata": {},
   "source": [
    "**解析：**\n",
    "\n",
    "本题主要是为了考察对循环控制流的运用，而其中又添加了数学&算法上的技巧，所以会稍稍有点难。关键点在于：\n",
    "- 对于素数的判断，我们可以使用反证法，即如果找到任意一值可以被该数整除，那么该数就不是素数。我们知道，一个数`N`若可以进行因数分解，那么分解时得到的两个数一定是一个小于等于$\\sqrt N$，一个大于等于$\\sqrt N$，据此，我们可以从$2$遍历到$\\sqrt N$，寻找是否存在被$N$整除的数即可；\n",
    "- 循环： 如上，我们确定了循环的**范围**，当想要在某范围内执行循环操作时，应该使用`for`循环；\n",
    "- 中断： 当满足某条件（找到被整除的数）时，应该终止循环，以节省时间，终止循环应该使用`break`。"
   ]
  },
  {
   "cell_type": "markdown",
   "metadata": {},
   "source": [
    "**知识点参考：**\n",
    "\n",
    "- [循环](https://www.liaoxuefeng.com/wiki/1016959663602400/1017100774566304)\n",
    "- [math库的使用](https://www.cnblogs.com/renpingsheng/p/7171950.html)\n",
    "- [素数](https://baike.baidu.com/item/%E8%B4%A8%E6%95%B0/263515?fromtitle=%E7%B4%A0%E6%95%B0&fromid=115069)\n"
   ]
  },
  {
   "cell_type": "markdown",
   "metadata": {},
   "source": [
    "## 练习4：猴子吃桃"
   ]
  },
  {
   "cell_type": "markdown",
   "metadata": {},
   "source": [
    "哈哈，做了三道题了是不是觉得有点枯燥？那我们来回顾一到经典的数学题，尝试将其用代码实现，试试看！\n",
    "\n",
    "小猴子第一天摘下了若干个桃，立马就吃掉了一半，还不过瘾，忍不住又多吃了一个； 第二天早上，又将剩下的桃子吃掉了一半，并且又多吃了一个；之后的每天早上都吃掉前一天剩下的一半，并且再多吃一个，等到第七天的时候，发现只剩下一个桃子了，请问第一天小猴子一共摘了多少个桃子呢？\n",
    "\n"
   ]
  },
  {
   "cell_type": "markdown",
   "metadata": {},
   "source": [
    "难度：3/5\n",
    "\n",
    "知识点：变量；输入输出；控制流；数学逻辑"
   ]
  },
  {
   "cell_type": "code",
   "execution_count": 14,
   "metadata": {},
   "outputs": [
    {
     "name": "stdout",
     "output_type": "stream",
     "text": [
      "第一天一共摘了190个桃子\n"
     ]
    }
   ],
   "source": [
    "# 参考答案 A\n",
    "\n",
    "# 先推导出数学公式，然后直接计算得到结果\n",
    "# 初始化今天（第七天）的桃子数量\n",
    "today = 1\n",
    "# 往前数6天，得到的结果即为第一天的桃子数量\n",
    "for day in range(6):\n",
    "    # 公式为f(n) = (f(n+1) + 1) * 2; n表示第n天\n",
    "    today = (today + 1) * 2\n",
    "print(f'第一天一共摘了{today}个桃子')"
   ]
  },
  {
   "cell_type": "code",
   "execution_count": 17,
   "metadata": {},
   "outputs": [
    {
     "name": "stdout",
     "output_type": "stream",
     "text": [
      "第一天一共摘了190个桃子\n"
     ]
    }
   ],
   "source": [
    "# 参考答案 B\n",
    "\n",
    "# 与参考答案A类似，这里改成了while语句实现\n",
    "# 初始化今天（第七天）的桃子数量\n",
    "day_num = 1\n",
    "# 今天是第七天\n",
    "day = 7\n",
    "# 逐级递减day，当day为1时，循环终止，即可得到第一天的桃子数量\n",
    "while day > 1:\n",
    "    # day逐级递减\n",
    "    day -= 1\n",
    "    # 公式为f(n) = (f(n+1) + 1) * 2; n表示第n天\n",
    "    day_num = (day_num + 1) * 2  \n",
    "print(f'第一天一共摘了{day_num}个桃子')"
   ]
  },
  {
   "cell_type": "code",
   "execution_count": 20,
   "metadata": {},
   "outputs": [
    {
     "name": "stdout",
     "output_type": "stream",
     "text": [
      "第一天一共摘了190个桃子\n"
     ]
    }
   ],
   "source": [
    "# 参考答案 C\n",
    "\n",
    "# 模拟小猴子的吃桃逆向过程（递归）\n",
    "def today_num(day):\n",
    "    # 如果是第7天，则返回1\n",
    "    if day == 7:\n",
    "        return 1\n",
    "    # 否则的话，则按公式返回昨天的桃子数量\n",
    "    else:\n",
    "        return (today_num(day+1) + 1) * 2\n",
    "    \n",
    "\n",
    "print(f'第一天一共摘了{today_num(1)}个桃子')"
   ]
  },
  {
   "cell_type": "markdown",
   "metadata": {},
   "source": [
    "**解析：**\n",
    "\n",
    "本题算是一道趣味题，给你解解乏，主要是为了考察对循环控制流的运用，以及逻辑推理能力。关键点在于：\n",
    "- 根据猴子吃桃，抽象出数学模型，也就是：\n",
    "   ```\n",
    "   第7天： N7 = 1\n",
    "   第6天： N6 = (N7 + 1) x 2\n",
    "   ... ： ...\n",
    "   第1天： N1 = (N2 + 1) x 2\n",
    "   ```\n",
    "   所以推导出： $f(N) = (f(N+1) + 1) * 2$;\n",
    "   \n",
    "- 循环： 根据循环次数，使用for循环；根据循环条件，使用while循环；\n",
    "- 递归： 递归是一种程序调用自身的编程技巧，可以将一个较大的问题（7天的桃子），逐级分解为较小的问题（每一天的桃子），这是一种非常酷的技巧，希望你可以再多额外了解一下～"
   ]
  },
  {
   "cell_type": "markdown",
   "metadata": {},
   "source": [
    "**知识点参考：**\n",
    "\n",
    "- [循环](https://www.liaoxuefeng.com/wiki/1016959663602400/1017100774566304)\n",
    "- [递归](https://www.khanacademy.org/computing/computer-science/algorithms/recursive-algorithms/a/recursion)\n",
    "- [Python中的递归](https://www.geeksforgeeks.org/recursion-in-python/)\n"
   ]
  },
  {
   "cell_type": "markdown",
   "metadata": {},
   "source": [
    "## 练习3：统计元音字母的数量"
   ]
  },
  {
   "cell_type": "markdown",
   "metadata": {},
   "source": [
    "要求：统计如下字符串中，元音字母的数量。\n",
    "```\n",
    "\"It will happen tonight... The Dark Lord lies alone and friendless, abandoned by his followers. His servant has been chained these twelve years. Tonight, before midnight... the servant will break free and set out to rejoin his master. The Dark Lord will rise again with his servant's aid, greater and more terrible than ever he was. Tonight... before midnight... the servant... will set out... to rejoin... his master...\"\n",
    "```\n",
    "\n",
    "> 元音指的是：a、e、i、o 和 u。（大小写都需要包括）"
   ]
  },
  {
   "cell_type": "markdown",
   "metadata": {},
   "source": [
    "难度：2/5\n",
    "\n",
    "知识点：字符串；字符串函数；"
   ]
  },
  {
   "cell_type": "code",
   "execution_count": 1,
   "metadata": {},
   "outputs": [
    {
     "name": "stdout",
     "output_type": "stream",
     "text": [
      "元音字母总量为： 116\n"
     ]
    }
   ],
   "source": [
    "# 参考答案\n",
    "# 定义字符串\n",
    "string = \"It will happen tonight... The Dark Lord lies alone and friendless, abandoned by his followers. His servant has been chained these twelve years. Tonight, before midnight... the servant will break free and set out to rejoin his master. The Dark Lord will rise again with his servant's aid, greater and more terrible than ever he was. Tonight... before midnight... the servant... will set out... to rejoin... his master...\"\n",
    "\n",
    "# 将字符串转成小写\n",
    "string_lower = string.lower()\n",
    "\n",
    "# 初始化计数器\n",
    "counts = 0\n",
    "\n",
    "# 使用循环统计元音字母的数量\n",
    "for letter in ['a','e','i','o','u']:\n",
    "    # 当前元音字母的数量\n",
    "    letter_count = string.count(letter)\n",
    "    # 累加到总和中\n",
    "    counts += letter_count\n",
    "\n",
    "print('元音字母总量为：',counts)"
   ]
  },
  {
   "cell_type": "markdown",
   "metadata": {},
   "source": [
    "**解析：**\n",
    "\n",
    "本题主要是为了考察字符串特性及其函数的应用。关键点在于：\n",
    "- 统一格式：使用`lower`或者`upper`函数将字符串转换为全小写或全大写，这样可以简化计数代码；\n",
    "- 计数： 使用`count`函数可以统计字符串中某字符的数量；\n",
    "- 循环： 这里不做硬性要求，如果你没有使用for循环简化代码，也是OK的。"
   ]
  },
  {
   "cell_type": "markdown",
   "metadata": {},
   "source": [
    "**知识点参考：**\n",
    "\n",
    "- [字符串](https://www.liaoxuefeng.com/wiki/1016959663602400/1017075323632896)\n",
    "- [Python String Methods](https://www.tutorialspoint.com/python/python_strings.htm)\n"
   ]
  },
  {
   "cell_type": "markdown",
   "metadata": {},
   "source": [
    "## 练习：求中位数"
   ]
  },
  {
   "cell_type": "markdown",
   "metadata": {},
   "source": [
    "要求：补全如下函数，输入一个数字列表，输出该列表的中位数。\n",
    "\n",
    "\n",
    "\n",
    "```python\n",
    "def get_median(number_lst):\n",
    "    median = ...\n",
    "    return median\n",
    "```\n",
    "\n",
    "如：\n",
    "```\n",
    ">>> get_median([0,1,2])\n",
    "1\n",
    "\n",
    ">>> get_median([2,6,3,0])\n",
    "2.5\n",
    "```\n",
    "> 什么是中位数？中位数指的是按顺序排列的一组数据中居于中间位置的数。如果该数组长度为奇数，那么输出中间位置的数；如果长度为偶数，则计算中间两个数值的均值。"
   ]
  },
  {
   "cell_type": "markdown",
   "metadata": {},
   "source": [
    "难度：3/5\n",
    "\n",
    "知识点：函数定义；数值计算；条件判断；列表"
   ]
  },
  {
   "cell_type": "code",
   "execution_count": 2,
   "metadata": {},
   "outputs": [],
   "source": [
    "# 参考答案\n",
    "def get_median(number_lst):\n",
    "    # 先对列表进行排序\n",
    "    number_lst.sort() \n",
    "    # 判断列表长度是奇数还是偶数\n",
    "    if len(number_lst) % 2:\n",
    "        # 列表长度为奇数时，找到中间位置\n",
    "        middle_index = int(len(number_lst)/2)\n",
    "        # 使用索引返回该数值\n",
    "        return number_lst[middle_index]\n",
    "    else:\n",
    "        # 列表长度为偶数时，找到中间的两个位置\n",
    "        right_of_middle = len(number_lst)//2 \n",
    "        left_of_middle = right_of_middle - 1\n",
    "        # 返回两位置的均值\n",
    "        return (number_lst[right_of_middle] + number_lst[left_of_middle])/2\n"
   ]
  },
  {
   "cell_type": "code",
   "execution_count": 6,
   "metadata": {},
   "outputs": [
    {
     "data": {
      "text/plain": [
       "4"
      ]
     },
     "execution_count": 6,
     "metadata": {},
     "output_type": "execute_result"
    }
   ],
   "source": [
    "int(4.9)"
   ]
  },
  {
   "cell_type": "markdown",
   "metadata": {},
   "source": [
    "**解析：**\n",
    "\n",
    "本题考察的内容较多，关键点在于：\n",
    "- 列表的应用： 使用`sort`或`sorted`对列表排序（默认顺序排序）；使用`len`函数求列表的长度（元素个数）；使用`索引`获取某位置的元素；\n",
    "- 自定义函数： 定义函数注意按照范式，注意代码缩进即可。即\n",
    "```python\n",
    "def func_name(args):\n",
    "    xxxx\n",
    "    return xxxx    \n",
    "```\n",
    "；\n",
    "- 条件判断： 注意在条件判断中，`0`以及`[]`,`''`等空集（空列表、空字符串）等都被判断为`False`。所以代码中的`if len(number_lst) % 2`即为 当列表的长度没能整除2时，会返回`1`，判断为True，进入下面的奇数运算中；\n",
    "- 数值计算： \n",
    "    - 一定要分清楚`%`取余和`//`取整；\n",
    "    - `int`会自动去掉小数点后面的数字，只保留整数部分（注意并不是四舍五入）；\n",
    "    - 注意列表的索引是从0开始计数的，所以当列表长度为偶数时，中间的两位应该是`length/2`与`length/2 - 1`这两位。"
   ]
  },
  {
   "cell_type": "markdown",
   "metadata": {},
   "source": [
    "**知识点参考：**\n",
    "\n",
    "- [函数](https://www.liaoxuefeng.com/wiki/1016959663602400/1017106984190464)\n",
    "- [列表](https://www.liaoxuefeng.com/wiki/1016959663602400/1017092876846880)\n",
    "- [数值计算](https://www.tutorialspoint.com/python/python_basic_operators.htm)\n"
   ]
  },
  {
   "cell_type": "markdown",
   "metadata": {},
   "source": [
    "## 练习：Beatles的乐迷"
   ]
  },
  {
   "cell_type": "markdown",
   "metadata": {},
   "source": [
    "如下是Beatles的部分唱片及发布年份，你可以帮忙找出**发布唱片最多的年份**和**该年份的所有唱片**吗？\n",
    "\n",
    "```python\n",
    "Beatles_Discography = {\"Please Please Me\": 1963, \"With the Beatles\": 1963,\n",
    "                       \"A Hard Day's Night\": 1964, \"Beatles for Sale\": 1964,\n",
    "                       \"Twist and Shout\": 1964, \"Help\": 1965, \"Rubber Soul\": 1965,\n",
    "                       \"Revolver\": 1966, \"Sgt. Pepper's Lonely Hearts Club Band\": 1967,\n",
    "                       \"Magical Mystery Tour\": 1967, \"The Beatles\": 1968,\n",
    "                       \"Yellow Submarine\": 1969, 'Abbey Road': 1969,\n",
    "                       \"Let It Be\": 1970}\n",
    "```\n"
   ]
  },
  {
   "cell_type": "markdown",
   "metadata": {},
   "source": [
    "难度：2/5\n",
    "\n",
    "知识点：字典；条件判断；列表"
   ]
  },
  {
   "cell_type": "code",
   "execution_count": 41,
   "metadata": {},
   "outputs": [
    {
     "name": "stdout",
     "output_type": "stream",
     "text": [
      "发片最多的年份是： 1964\n",
      "发布的唱片包括： A Hard Day's Night, Beatles for Sale, Twist and Shout\n"
     ]
    }
   ],
   "source": [
    "# 参考答案\n",
    "# 定义字典\n",
    "Beatles_Discography = {\"Please Please Me\": 1963, \"With the Beatles\": 1963,\n",
    "                       \"A Hard Day's Night\": 1964, \"Beatles for Sale\": 1964,\n",
    "                       \"Twist and Shout\": 1964, \"Help\": 1965, \"Rubber Soul\": 1965,\n",
    "                       \"Revolver\": 1966, \"Sgt. Pepper's Lonely Hearts Club Band\": 1967,\n",
    "                       \"Magical Mystery Tour\": 1967, \"The Beatles\": 1968,\n",
    "                       \"Yellow Submarine\": 1969, 'Abbey Road': 1969,\n",
    "                       \"Let It Be\": 1970}\n",
    "# 先找出数量最多的年份\n",
    "# 定义年份-数量字典\n",
    "year_count = {}\n",
    "# 使用for循环\n",
    "for year in Beatles_Discography.values():\n",
    "    # 如果该年份存在于year_count中，则计数+1\n",
    "    if year in year_count:\n",
    "        year_count[year] += 1\n",
    "    # 否则的话，则将该年份储存在year_count中，并将value设置为1\n",
    "    else:\n",
    "        year_count[year] = 1\n",
    "\n",
    "# 寻找发片最多的年份\n",
    "max_year = max(year_count, key=year_count.get)\n",
    "\n",
    "# 筛选出该年份的所有唱片\n",
    "discographies = []\n",
    "# 循环获取所有的唱片及年份\n",
    "for disco,year in Beatles_Discography.items():\n",
    "    # 如果是发片最多的年份\n",
    "    if year == max_year:\n",
    "        # 添加到唱片列表中\n",
    "        discographies.append(disco)\n",
    "    # 否则，跳过该数据\n",
    "    else:\n",
    "        continue\n",
    "        \n",
    "print('发片最多的年份是：',max_year)\n",
    "print('发布的唱片包括：',', '.join(discographies))"
   ]
  },
  {
   "cell_type": "markdown",
   "metadata": {},
   "source": [
    "**解析：**\n",
    "\n",
    "本题主要考察对字典`dict`的掌握情况，关键点在于：\n",
    "- 字典： 使用`keys`可以获取字典中的所有key；使用`values`可以获取所有的value；使用`items`可以获取所有的key-value对；\n",
    "- 筛选字典中最大的value： 使用`max`函数获取最大值，并指定使用字典中的`get`方法，也就是对比value；\n",
    "- 列表： 使用`append`向列表中添加元素；使用`join`来将列表转换为字符串，用于格式化输出。\n"
   ]
  },
  {
   "cell_type": "markdown",
   "metadata": {},
   "source": [
    "**知识点参考：**\n",
    "\n",
    "\n",
    "- [列表](https://www.liaoxuefeng.com/wiki/1016959663602400/1017092876846880)\n",
    "- [集合与字典](https://www.liaoxuefeng.com/wiki/1016959663602400/1017104324028448)\n",
    "- [max函数](https://medium.com/analytics-vidhya/how-to-use-key-function-in-max-and-min-in-python-1fdbd661c59c)\n"
   ]
  },
  {
   "cell_type": "markdown",
   "metadata": {},
   "source": [
    "## 练习：课程的相似度问题"
   ]
  },
  {
   "cell_type": "markdown",
   "metadata": {},
   "source": [
    "疫情下，网课如雨后春笋，但我们发现，虽然有些课程名称不同，但其包含的内容却是相似的，课程与视频的组织形式如下，其中带course的即为课程，带V的即为课程包含视频：\n",
    "```python\n",
    "{\n",
    "    'course_a':['V_1', 'V_17', 'V_15', 'V_19', 'V_13', 'V_25'],\n",
    "    'course_b':['V_0', 'V_5', 'V_20', 'V_7', 'V_4', 'V_10'],\n",
    "    'course_c':['V_17', 'V_10', 'V_1', 'V_6', 'V_2'],\n",
    "    'course_d':['V_18', 'V_0', 'V_1', 'V_13', 'V_5', 'V_8'],\n",
    "    'course_e':['V_0', 'V_1', 'V_13', 'V_6', 'V_19'],\n",
    "    'course_f':['V_12', 'V_7', 'V_11', 'V_6', 'V_19'],\n",
    "}\n",
    "\n",
    "```\n",
    "\n",
    "要求：我们定义课程之间的相似度为视频的重合程度，即`两课程的共有视频数量`除以`两课程的非重复视频总量`。如`course_b`与`course_e`的相似度为：\n",
    "```\n",
    "共有视频：['V_0']，1个\n",
    "非重复视频总量：['V_0', 'V_1', 'V_10', 'V_13', 'V_19', 'V_20', 'V_4', 'V_5', 'V_6', 'V_7']，10个\n",
    "所以相似度为：1/10\n",
    "```\n",
    "\n",
    "求所有课程两两之间的相似度。"
   ]
  },
  {
   "cell_type": "markdown",
   "metadata": {},
   "source": [
    "难度：4/5\n",
    "\n",
    "知识点：字典；集合；循环；函数定义"
   ]
  },
  {
   "cell_type": "code",
   "execution_count": 33,
   "metadata": {
    "collapsed": true
   },
   "outputs": [
    {
     "data": {
      "text/plain": [
       "{'course_a': {'course_a': 1.0,\n",
       "  'course_b': 0.0,\n",
       "  'course_c': 0.2222222222222222,\n",
       "  'course_d': 0.2,\n",
       "  'course_e': 0.375,\n",
       "  'course_f': 0.1},\n",
       " 'course_b': {'course_a': 0.0,\n",
       "  'course_b': 1.0,\n",
       "  'course_c': 0.1,\n",
       "  'course_d': 0.2,\n",
       "  'course_e': 0.1,\n",
       "  'course_f': 0.1},\n",
       " 'course_c': {'course_a': 0.2222222222222222,\n",
       "  'course_b': 0.1,\n",
       "  'course_c': 1.0,\n",
       "  'course_d': 0.1,\n",
       "  'course_e': 0.25,\n",
       "  'course_f': 0.1111111111111111},\n",
       " 'course_d': {'course_a': 0.2,\n",
       "  'course_b': 0.2,\n",
       "  'course_c': 0.1,\n",
       "  'course_d': 1.0,\n",
       "  'course_e': 0.375,\n",
       "  'course_f': 0.0},\n",
       " 'course_e': {'course_a': 0.375,\n",
       "  'course_b': 0.1,\n",
       "  'course_c': 0.25,\n",
       "  'course_d': 0.375,\n",
       "  'course_e': 1.0,\n",
       "  'course_f': 0.25},\n",
       " 'course_f': {'course_a': 0.1,\n",
       "  'course_b': 0.1,\n",
       "  'course_c': 0.1111111111111111,\n",
       "  'course_d': 0.0,\n",
       "  'course_e': 0.25,\n",
       "  'course_f': 1.0}}"
      ]
     },
     "execution_count": 33,
     "metadata": {},
     "output_type": "execute_result"
    }
   ],
   "source": [
    "# 参考答案\n",
    "# 定义课程字典\n",
    "course_dict = {\n",
    "    'course_a':['V_1', 'V_17', 'V_15', 'V_19', 'V_13', 'V_25'],\n",
    "    'course_b':['V_0', 'V_5', 'V_20', 'V_7', 'V_4', 'V_10'],\n",
    "    'course_c':['V_17', 'V_10', 'V_1', 'V_6', 'V_2'],\n",
    "    'course_d':['V_18', 'V_0', 'V_1', 'V_13', 'V_5', 'V_8'],\n",
    "    'course_e':['V_0', 'V_1', 'V_13', 'V_6', 'V_19'],\n",
    "    'course_f':['V_12', 'V_7', 'V_11', 'V_6', 'V_19'],\n",
    "}\n",
    "\n",
    "# 定义相似度函数\n",
    "def similarity(lst_a,lst_b):\n",
    "    # 将list转换为set（集合），计算交集\n",
    "    same_v = len(set(lst_a) & set(lst_b))\n",
    "    # 计算并集\n",
    "    all_v = len(set(lst_a) | set(lst_b))\n",
    "    return same_v / all_v\n",
    "\n",
    "# 使用for循环，计算两两相似度\n",
    "# 初始化结果，定义字典\n",
    "result = {}\n",
    "for course in course_dict.keys():\n",
    "    # 将course对应的结果也定义为字典\n",
    "    result[course] = {}\n",
    "    # 循环获取所有课程，计算相似度，并将结果储存\n",
    "    for other_course in course_dict.keys():\n",
    "        result[course][other_course] = similarity(course_dict[course],course_dict[other_course])\n",
    "        \n",
    "result"
   ]
  },
  {
   "cell_type": "markdown",
   "metadata": {},
   "source": [
    "**解析：**\n",
    "\n",
    "本题主要考察对集合`set`与字典`dict`的使用，关键点在于：\n",
    "- 集合： 题目要求中，需要计算两个列表的交集与并集，但使用列表计算比较麻烦，所以先使用`set`转换成集合，再使用`&`求交集，使用`|`求并集；\n",
    "- 字典： \n",
    "    - 使用`keys`可以获取字典中的所有key；使用`values`可以获取所有的value；使用`items`可以获取所有的key-value对；\n",
    "    - 创建字典可以直接使用`变量名 = {}`的方式，当然为了方便进行数据展示与调用，也可以在字典中嵌套字典，如`result[course] = {}`。\n"
   ]
  },
  {
   "cell_type": "markdown",
   "metadata": {},
   "source": [
    "**知识点参考：**\n",
    "\n",
    "- [集合与字典](https://www.liaoxuefeng.com/wiki/1016959663602400/1017104324028448)\n"
   ]
  },
  {
   "cell_type": "markdown",
   "metadata": {},
   "source": [
    "## 练习：计算两数组的差值"
   ]
  },
  {
   "cell_type": "markdown",
   "metadata": {},
   "source": [
    "定义一个函数，可以计算两个列表一一对应的差值，如果两个列表长度不一致，则按照较短的列表计算结果。  \n",
    "\n",
    "如：\n",
    "\n",
    "```python\n",
    "def lst_sub(lst_a,lst_b):\n",
    "    #....\n",
    "    return sub\n",
    "\n",
    "lst_a = [0,1,2,3]\n",
    "lst_b = [1,2,3,4,5]\n",
    "\n",
    ">>> print(lst_sub(lst_a,lst_b))\n",
    "[1,1,1,1]\n",
    "```\n"
   ]
  },
  {
   "cell_type": "markdown",
   "metadata": {},
   "source": [
    "难度：3/5\n",
    "\n",
    "知识点：元组；函数定义；内置函数；列表；列表推导式"
   ]
  },
  {
   "cell_type": "code",
   "execution_count": 8,
   "metadata": {},
   "outputs": [],
   "source": [
    "# 参考答案 A\n",
    "# 定义函数\n",
    "def lst_sub(lst_a,lst_b):\n",
    "    # 使用for循环，按照较短的列表，依次取出数据，做减法，储存在结果列表中\n",
    "    # 定义结果列表\n",
    "    sub = []\n",
    "    # 使用for循环，遍历较短列表长度\n",
    "    for i in range(min(len(lst_a),len(lst_b))):\n",
    "        # 计算差，并添加到结果列表中\n",
    "        sub.append(lst_b[i]-lst_a[i])\n",
    "    return sub"
   ]
  },
  {
   "cell_type": "code",
   "execution_count": 9,
   "metadata": {},
   "outputs": [
    {
     "data": {
      "text/plain": [
       "[1, 1, 1, 1]"
      ]
     },
     "execution_count": 9,
     "metadata": {},
     "output_type": "execute_result"
    }
   ],
   "source": [
    "lst_a = [0,1,2,3]\n",
    "lst_b = [1,2,3,4,5]\n",
    "\n",
    "lst_sub(lst_a,lst_b)"
   ]
  },
  {
   "cell_type": "code",
   "execution_count": 3,
   "metadata": {},
   "outputs": [],
   "source": [
    "# 参考答案 B\n",
    "# 定义函数\n",
    "def lst_sub(lst_a,lst_b):\n",
    "    # 先使用zip将两列表一一对应，合并为tuple\n",
    "    # 使用列表推导式，依次取出数据并求差\n",
    "    sub = [x[1] - x[0] for x in zip(lst_a,lst_b)]\n",
    "    return sub"
   ]
  },
  {
   "cell_type": "code",
   "execution_count": 9,
   "metadata": {},
   "outputs": [
    {
     "data": {
      "text/plain": [
       "[1, 1, 1, 1]"
      ]
     },
     "execution_count": 9,
     "metadata": {},
     "output_type": "execute_result"
    }
   ],
   "source": [
    "lst_a = [0,1,2,3]\n",
    "lst_b = [1,2,3,4,5]\n",
    "\n",
    "lst_sub(lst_a,lst_b)"
   ]
  },
  {
   "cell_type": "markdown",
   "metadata": {},
   "source": [
    "**解析：**\n",
    "\n",
    "本题主要考察对列表的掌握情况，对于方法A来说关键点在于：\n",
    "- 使用`min`函数，比较出较短的列表；\n",
    "- 使用`for`循环和`列表索引`，依次计算两列表的差值；\n",
    "- 使用`append`将结果添加到结果列表中。\n",
    "\n",
    "但这样代码较长，而且for循环效率较低，所以，我们可以使用`zip`及`列表推导式`来简化代码：\n",
    "- `zip`可以将两列表一一对应合并为元组类型，它会自动截取较长的列表；\n",
    "- 使用列表推导式，依次取出元组中的元素，然后计算该元素中两个值的差，也就是两个列表的差。\n",
    "\n"
   ]
  },
  {
   "cell_type": "markdown",
   "metadata": {},
   "source": [
    "**知识点参考：**\n",
    "\n",
    "\n",
    "- [列表](https://www.liaoxuefeng.com/wiki/1016959663602400/1017092876846880)\n",
    "- [元组](https://www.runoob.com/python3/python3-tuple.html)\n",
    "- [列表推导式](https://www.liaoxuefeng.com/wiki/1016959663602400/1017317609699776)\n",
    "- [zip函数](https://www.runoob.com/python3/python3-func-zip.html)\n"
   ]
  },
  {
   "cell_type": "markdown",
   "metadata": {},
   "source": [
    "## 练习：哎呀！错了！"
   ]
  },
  {
   "cell_type": "markdown",
   "metadata": {},
   "source": [
    "我们除了使用程序跟计算机“沟通”外，还需要经常跟“人”（用户）打交道，然而“人”这种生物相比计算机来说，有很大的不确定性，这时候就需要我们去做一些`异常捕获`。\n",
    "\n",
    "要求：\n",
    "- 编写函数，让用户可以输入周几的英文，返回周几的中文；\n",
    "- 兼容大小写及空格；\n",
    "- 如果用户输入错误，则提示重新输入，直到输入正确为止。\n",
    "\n",
    "如：\n",
    "```python\n",
    "def get_ch():\n",
    "    # ...\n",
    "    return weekday_ch\n",
    "\n",
    ">>> get_ch()\n",
    ">>> 请输入英文：Sunday\n",
    "\"周日\"\n",
    ">>> get_ch()\n",
    ">>> 请输入英文：sunday\n",
    "\"周日\"\n",
    ">>> get_ch()\n",
    ">>> 请输入英文： sund ay  \n",
    "\"周日\"\n",
    ">>> get_ch()\n",
    ">>> 请输入英文：xsunda\n",
    "\"请检查拼写，并重新输入：\"\n",
    "```"
   ]
  },
  {
   "cell_type": "markdown",
   "metadata": {},
   "source": [
    "难度：3/5\n",
    "\n",
    "知识点：异常捕获；字典；字符串；函数定义"
   ]
  },
  {
   "cell_type": "code",
   "execution_count": 8,
   "metadata": {},
   "outputs": [],
   "source": [
    "# 参考答案\n",
    "# 定义函数\n",
    "def get_ch():\n",
    "    # 定义中英对照字典\n",
    "    weekday_dict = {'sunday':'周日','monday':'周一','tuesday':'周二','wednesday':'周三',\n",
    "                   'thursday':'周四','friday':'周五','saturday':'周六'}\n",
    "    # 获取用户输入\n",
    "    user_input = input('请输入英文：')\n",
    "    # 转换成小写，去除空格\n",
    "    user_input = user_input.lower().replace(' ','')\n",
    "    # 使用无限循环，直到可以返回结果\n",
    "    while True:\n",
    "        # 尝试返回结果\n",
    "        try:            \n",
    "            return weekday_dict[user_input]\n",
    "        # 如果出现KeyError，也就是字典中找不到该项时\n",
    "        except KeyError:     \n",
    "            # 提示重新输入\n",
    "            user_input = input('请检查拼写，并重新输入：')\n",
    "            user_input = user_input.lower().replace(' ','')\n",
    "    "
   ]
  },
  {
   "cell_type": "code",
   "execution_count": 11,
   "metadata": {},
   "outputs": [
    {
     "name": "stdout",
     "output_type": "stream",
     "text": [
      "请输入英文：ss\n",
      "请检查拼写，并重新输入：af\n",
      "请检查拼写，并重新输入：sunday\n"
     ]
    },
    {
     "data": {
      "text/plain": [
       "'周日'"
      ]
     },
     "execution_count": 11,
     "metadata": {},
     "output_type": "execute_result"
    }
   ],
   "source": [
    "get_ch()"
   ]
  },
  {
   "cell_type": "markdown",
   "metadata": {},
   "source": [
    "**解析：**\n",
    "\n",
    "本题主要考察对异常捕获的使用，关键点在于：\n",
    "- 将有可能报错的代码，放到`try`子句中；\n",
    "- 先测试错误，如我们可以先测试一下`weekday_dict['xx']`，看下代码报错信息，然后将报错名称复制到`except`后面，执行报错后的代码。\n",
    "\n",
    "```python\n",
    "weekday_dict['xx']\n",
    "\n",
    "---------------------------------------------------------------------------\n",
    "KeyError                                  Traceback (most recent call last)\n",
    "<ipython-input-7-dc3a115f4924> in <module>\n",
    "----> 1 weekday_dict['xx']\n",
    "\n",
    "KeyError: 'xx'\n",
    "\n",
    "```"
   ]
  },
  {
   "cell_type": "markdown",
   "metadata": {},
   "source": [
    "**知识点参考：**\n",
    "\n",
    "- [异常捕获](https://www.liaoxuefeng.com/wiki/1016959663602400/1017598873256736)\n"
   ]
  },
  {
   "cell_type": "markdown",
   "metadata": {},
   "source": [
    "## Boss1: 猜拳模拟器"
   ]
  },
  {
   "cell_type": "markdown",
   "metadata": {},
   "source": [
    "Hi，朋友，你已经挑战到了第一个BOSS关卡，在这一关卡中，我们将会分三个小关卡，完成一个`猜拳模拟器`APP的编写，COME ON!"
   ]
  },
  {
   "cell_type": "markdown",
   "metadata": {},
   "source": [
    "### 关卡1：一局定胜负\n",
    "\n",
    "在本关卡中，你需要编写一个猜拳函数，要求：\n",
    "- 用户输入剪刀、石头或布；\n",
    "- 同时，计算机随机“出”剪刀、石头或布；\n",
    "- 判断胜负，并返回结果。\n",
    "\n",
    "\n",
    "\n",
    "难度：2/5\n",
    "\n",
    "知识点：内置函数；列表；条件判断；函数定义"
   ]
  },
  {
   "cell_type": "code",
   "execution_count": 24,
   "metadata": {},
   "outputs": [],
   "source": [
    "# 参考答案\n",
    "# 导入随机拓展包\n",
    "import random\n",
    "def one_match():\n",
    "    # 定义计算机出招\n",
    "    coms = ['石头','剪刀','布']\n",
    "    # 定义用户胜利的组合\n",
    "    win_matches = [('石头','剪刀'),('剪刀','布'),('布','石头')]\n",
    "    # 获取用户输入\n",
    "    user = input('剪刀～石头，布！：')\n",
    "    # 检查用户输入\n",
    "    while user not in coms:\n",
    "        user = input('你出错了，再来，剪刀～石头，布！：')\n",
    "    \n",
    "    # 计算机随机取结果\n",
    "    com = random.choice(coms)\n",
    "    # 判断胜负\n",
    "    # 如果组合在胜利组合中，则返回胜利，反之亦反\n",
    "    print('我出的是：',com)\n",
    "    # 判断是否为平局\n",
    "    if user != com:\n",
    "        if (user,com) in win_matches:      \n",
    "            print('哇！你赢了！')\n",
    "            return 'win'\n",
    "        else:\n",
    "            print('哈哈，你输了！')\n",
    "            return 'lose'\n",
    "    else:\n",
    "        print('平局！')\n",
    "        return 'tie'"
   ]
  },
  {
   "cell_type": "code",
   "execution_count": 26,
   "metadata": {},
   "outputs": [
    {
     "name": "stdout",
     "output_type": "stream",
     "text": [
      "剪刀～石头，布！：b\n",
      "你出错了，再来，剪刀～石头，布！：布\n",
      "我出的是： 布\n",
      "平局！\n"
     ]
    },
    {
     "data": {
      "text/plain": [
       "'tie'"
      ]
     },
     "execution_count": 26,
     "metadata": {},
     "output_type": "execute_result"
    }
   ],
   "source": [
    "one_match()"
   ]
  },
  {
   "cell_type": "markdown",
   "metadata": {},
   "source": [
    "**解析：**\n",
    "\n",
    "本题主要考察了：\n",
    "- 列表的使用：使用`in`来判断，某一元素是否在某列表中；\n",
    "- 内置函数`random`的使用，可以使用`random.choice(list)`来从列表中随机取出某元素；\n",
    "- 用户输入及异常检验，这里使用`while`判断，用户输入是否在规定的范围内，没在的话，就需要不断重新输入；\n",
    "\n",
    "- 如果在`判断胜负`部分，你使用了`if`+多条件也是可以的哦～\n"
   ]
  },
  {
   "cell_type": "markdown",
   "metadata": {},
   "source": [
    "**知识点参考：**\n",
    "\n",
    "- [random](https://www.runoob.com/python3/python3-func-number-random.html)\n",
    "- [list常用操作](https://www.runoob.com/python3/python3-list-operator.html)"
   ]
  },
  {
   "cell_type": "markdown",
   "metadata": {},
   "source": [
    "基础逻辑：\n",
    "- 设置猜拳正确大小\n",
    "- 猜一次函数\n",
    "- 保存结果到列表\n",
    "- 设置三局两胜，判断\n",
    "- 设置积分，保存历史结果，设置排行榜\n",
    "- 异常捕捉\n",
    "\n",
    "\n",
    "\n",
    "涉及知识点：\n",
    "- 基础数据结构：变量赋值、列表、元组使用\n",
    "- 控制流：判断\n",
    "- 函数\n",
    "- IO：历史文件的保存\n",
    "- 交互：input/print\n",
    "- 异常捕捉"
   ]
  },
  {
   "cell_type": "markdown",
   "metadata": {},
   "source": [
    "### 关卡2 : 三局两胜\n",
    "\n",
    "不知道你赢了还是输了，我总觉得一局定胜负有点有失公允，你可以做一个三局两胜的程序吗？当然，如果可以让我自定义总共玩几把，就更好了。\n",
    "> 你可以用上一步中定义的函数"
   ]
  },
  {
   "cell_type": "markdown",
   "metadata": {},
   "source": [
    "难度：3/5\n",
    "\n",
    "知识点：函数调用；数值计算；循环；条件判断"
   ]
  },
  {
   "cell_type": "code",
   "execution_count": 32,
   "metadata": {},
   "outputs": [],
   "source": [
    "def matches(match_num=3):\n",
    "    # 先判断总局数是否为奇数\n",
    "    if match_num % 2 == 0:\n",
    "        print('总局数应该是一个奇数')\n",
    "        return None\n",
    "    \n",
    "    # 计算赢得比赛需要赢几把\n",
    "    win_num = match_num // 2 + 1\n",
    "    \n",
    "    # 定义结果列表\n",
    "    match_results = []\n",
    "    # 开始比赛\n",
    "    # 如果结果中win和lose的总量都小于win_num时，继续比赛\n",
    "    while (match_results.count('win') < win_num) and (match_results.count('lose') < win_num):\n",
    "        match_result = one_match()\n",
    "        # 将每次的比赛结果都储存到结果中\n",
    "        match_results.append(match_result)\n",
    "    \n",
    "    # 返回最后的结果\n",
    "    print(f\"最终结果为：{match_results.count('win')}胜{match_results.count('lose')}负\")\n",
    "    if match_results[-1] == 'win':\n",
    "        print('你赢得了整个比赛！')\n",
    "        return 'win'\n",
    "    else:\n",
    "        print('很遗憾，你输了。')\n",
    "        return 'lose'    "
   ]
  },
  {
   "cell_type": "code",
   "execution_count": 33,
   "metadata": {
    "scrolled": true
   },
   "outputs": [
    {
     "name": "stdout",
     "output_type": "stream",
     "text": [
      "剪刀～石头，布！：bu\n",
      "你出错了，再来，剪刀～石头，布！：布\n",
      "我出的是： 石头\n",
      "哇！你赢了！\n",
      "剪刀～石头，布！：布\n",
      "我出的是： 剪刀\n",
      "哈哈，你输了！\n",
      "剪刀～石头，布！：布\n",
      "我出的是： 石头\n",
      "哇！你赢了！\n",
      "最终结果为：2胜1负\n",
      "你赢得了整个比赛！\n"
     ]
    },
    {
     "data": {
      "text/plain": [
       "'win'"
      ]
     },
     "execution_count": 33,
     "metadata": {},
     "output_type": "execute_result"
    }
   ],
   "source": [
    "matches(3)"
   ]
  },
  {
   "cell_type": "markdown",
   "metadata": {},
   "source": [
    "**解析：**\n",
    "\n",
    "本题主要考察了：\n",
    "- 数值计算：使用`%`可以取余，所以经常以此来判断数值的奇偶性；\n",
    "- 循环：这里又是依据某条件是否成立（是否已经决出胜负）来进行循环，所以使用`while`是恰当的；\n",
    "- 计数：可以使用`count`对列表中的元素进行计数；\n",
    "- 索引：如果最终跳出`while`循环，那么`match_results`的最后一个元素（最后一次结果）便是决定胜负的关键，所以只需判断最后一个（索引`-1`）即可判断输赢。\n"
   ]
  },
  {
   "cell_type": "markdown",
   "metadata": {},
   "source": [
    "**知识点参考：**\n",
    "\n",
    "- [list常用操作](https://www.runoob.com/python3/python3-list-operator.html)"
   ]
  },
  {
   "cell_type": "markdown",
   "metadata": {},
   "source": [
    "### 关卡3: 排行榜！\n",
    "\n",
    "尝试了几次后，你发现输赢无常，所以你决定将这个app做成一个**“欧气鉴定仪”**，为了和小伙伴们一起分享，你需要使用`txt`文档来记录结果，依据胜利的场次进行排序，并在每次程序运行结束后，返回当前玩家的排行。"
   ]
  },
  {
   "cell_type": "markdown",
   "metadata": {},
   "source": [
    "难度：4/5\n",
    "\n",
    "知识点：函数调用；文件读写；循环；异常捕获"
   ]
  },
  {
   "cell_type": "code",
   "execution_count": 41,
   "metadata": {},
   "outputs": [],
   "source": [
    "# 参考答案\n",
    "def ouqi():\n",
    "    # 获取用户名\n",
    "    user_name = input(\"请输入玩家姓名：\")\n",
    "    # 定义比赛结果列表\n",
    "    user_results = []\n",
    "    # 用户可以无限制重复游戏\n",
    "    while True:\n",
    "        # 储存三局两胜的结果\n",
    "        user_results.append(matches())\n",
    "        # 由用户决定是否继续比赛\n",
    "        con = input('输入Y，继续比赛。').lower()\n",
    "        # 只要不是输入的y或Y，则比赛结束\n",
    "        if con != 'y':\n",
    "            break\n",
    "    # 统计结果中win的个数，作为用户得分\n",
    "    user_score = user_results.count('win')\n",
    "    \n",
    "    # 读取历史数据\n",
    "    try:\n",
    "        with open('game_history.txt') as f:\n",
    "            # 将结果转为原本的数据类型dict，方便调用\n",
    "            game_history = eval(f.read())\n",
    "            # 将用户结果储存至历史数据中\n",
    "            game_history[user_name] = user_score\n",
    "    # 如果没找到历史文件game_history.txt\n",
    "    except FileNotFoundError:\n",
    "        print('您是第一个玩家')\n",
    "        # 新建历史数据\n",
    "        game_history = {user_name:user_score}\n",
    "    \n",
    "    # 按照历史数据的得分（value）进行排序\n",
    "    ranks = sorted(game_history,key=game_history.get,reverse=True)\n",
    "    # 取出玩家的index+1作为排名\n",
    "    user_rank = ranks.index(user_name) + 1\n",
    "    print(f'游戏结束，你的得分为{user_score}，排行为{user_rank}.')\n",
    "    \n",
    "    # 储存历史数据\n",
    "    with open('game_history.txt','w') as f:\n",
    "        f.write(str(game_history))"
   ]
  },
  {
   "cell_type": "code",
   "execution_count": 42,
   "metadata": {
    "collapsed": true
   },
   "outputs": [
    {
     "name": "stdout",
     "output_type": "stream",
     "text": [
      "请输入玩家姓名：Allen\n",
      "剪刀～石头，布！：布\n",
      "我出的是： 剪刀\n",
      "哈哈，你输了！\n",
      "剪刀～石头，布！：布\n",
      "我出的是： 剪刀\n",
      "哈哈，你输了！\n",
      "最终结果为：0胜2负\n",
      "很遗憾，你输了。\n",
      "输入Y，继续比赛。u\n",
      "您是第一个玩家\n",
      "游戏结束，你的得分为0，排行为1.\n"
     ]
    }
   ],
   "source": [
    "ouqi()"
   ]
  },
  {
   "cell_type": "code",
   "execution_count": 43,
   "metadata": {
    "collapsed": true
   },
   "outputs": [
    {
     "name": "stdout",
     "output_type": "stream",
     "text": [
      "请输入玩家姓名：Bob\n",
      "剪刀～石头，布！：石头\n",
      "我出的是： 石头\n",
      "平局！\n",
      "剪刀～石头，布！：石头\n",
      "我出的是： 石头\n",
      "平局！\n",
      "剪刀～石头，布！：剪刀\n",
      "我出的是： 石头\n",
      "哈哈，你输了！\n",
      "剪刀～石头，布！：石头\n",
      "我出的是： 石头\n",
      "平局！\n",
      "剪刀～石头，布！：布\n",
      "我出的是： 石头\n",
      "哇！你赢了！\n",
      "剪刀～石头，布！：布\n",
      "我出的是： 石头\n",
      "哇！你赢了！\n",
      "最终结果为：2胜1负\n",
      "你赢得了整个比赛！\n",
      "输入Y，继续比赛。Y\n",
      "剪刀～石头，布！：布\n",
      "我出的是： 石头\n",
      "哇！你赢了！\n",
      "剪刀～石头，布！：布\n",
      "我出的是： 石头\n",
      "哇！你赢了！\n",
      "最终结果为：2胜0负\n",
      "你赢得了整个比赛！\n",
      "输入Y，继续比赛。n\n",
      "游戏结束，你的得分为2，排行为1.\n"
     ]
    }
   ],
   "source": [
    "ouqi()"
   ]
  },
  {
   "cell_type": "markdown",
   "metadata": {},
   "source": [
    "**解析：**\n",
    "\n",
    "本题主要考察了：\n",
    "- 循环与终止：使用`while`创建一个无限循环，当满足某条件（终止比赛）时，使用`break`跳出循环；\n",
    "- 读取文件：使用`with open`读取文件，可以在文件不使用时自动关闭，以防浪费内存；\n",
    "- 异常捕捉：因为当第一个玩家使用`ouqi`时，并没有历史文件`game_history.txt`，所以这里会报错`FileNotFoundError`（文件未找到），这时就需要使用`try...except`来捕捉异常，并对异常时进行处理，即创建新的历史文件；\n",
    "- 保存文件：为了方便排序、调用排名，我们使用字典来储存`用户-得分`数据，所以在保存文件时，需要使用`str`函数将其转变为字符串；同样，在读取文件时，需要使用`eval`来将字符串恢复为原来的数据类型，即`dict`；\n",
    "- 排序：这里使用`sorted`函数进行排序，同样适用`key`参数来制定排序依据（这里在之前的`max`中遇到过，用法是一致的），并使用`reverse`参数来设置倒序。\n"
   ]
  },
  {
   "cell_type": "markdown",
   "metadata": {},
   "source": [
    "**知识点参考：**\n",
    "\n",
    "- [文件读写](https://www.liaoxuefeng.com/wiki/1016959663602400/1017607179232640)\n",
    "- [排序sorted](https://www.runoob.com/python3/python3-func-sorted.html)"
   ]
  },
  {
   "cell_type": "markdown",
   "metadata": {},
   "source": [
    "至此，BOSS1关卡通过！ Bravo !!!"
   ]
  },
  {
   "cell_type": "code",
   "execution_count": null,
   "metadata": {},
   "outputs": [],
   "source": []
  },
  {
   "cell_type": "markdown",
   "metadata": {},
   "source": [
    "## 练习：定义一个时钟类"
   ]
  },
  {
   "cell_type": "markdown",
   "metadata": {},
   "source": [
    "定义一个时钟类，要求，初始化的时候给定时、分、秒作为起始时间，启动后，可以按照时钟的速度输出起始后的时间，如：\n",
    "\n",
    "```python\n",
    "class Clock(object):\n",
    "    def __init__(self,hour,minute,second):\n",
    "        .....\n",
    "        \n",
    "    \n",
    "# 运行\n",
    "clock = Clock(23, 59, 58)\n",
    "while True:\n",
    "    print(clock.show())\n",
    "    sleep(1)\n",
    "    clock.run()\n",
    "\n",
    "23:59:58\n",
    "23:59:59\n",
    "00:00:00\n",
    "00:00:01\n",
    "00:00:02\n",
    "00:00:03\n",
    "\n",
    "```\n"
   ]
  },
  {
   "cell_type": "markdown",
   "metadata": {},
   "source": [
    "难度：3/5\n",
    "\n",
    "知识点：类与对象；内置模块"
   ]
  },
  {
   "cell_type": "code",
   "execution_count": 116,
   "metadata": {},
   "outputs": [],
   "source": [
    "# 参考答案 \n",
    "# 导入时间模块\n",
    "from time import sleep\n",
    "\n",
    "# 定义时钟类\n",
    "class Clock(object):\n",
    "    \n",
    "    # 初始化\n",
    "    def __init__(self, hour=0, minute=0, second=0):\n",
    "        \"\"\"初始化方法\n",
    "\n",
    "        :param hour: 时\n",
    "        :param minute: 分\n",
    "        :param second: 秒\n",
    "        \"\"\"\n",
    "        self._hour = hour\n",
    "        self._minute = minute\n",
    "        self._second = second\n",
    "\n",
    "    # 走一步，并进行进位判断\n",
    "    def run(self):\n",
    "        \"\"\"走秒\"\"\"\n",
    "        # 秒+1\n",
    "        self._second += 1\n",
    "        # 如果秒数等于60\n",
    "        if self._second == 60:\n",
    "            # 秒归零\n",
    "            self._second = 0\n",
    "            # 分加1\n",
    "            self._minute += 1\n",
    "            # 如果分数等于60\n",
    "            if self._minute == 60:\n",
    "                # 分归零\n",
    "                self._minute = 0\n",
    "                # 小时加1\n",
    "                self._hour += 1\n",
    "                # 如果小时等于24\n",
    "                if self._hour == 24:\n",
    "                    # 小时归零\n",
    "                    self._hour = 0\n",
    "\n",
    "    def show(self):\n",
    "        \"\"\"格式化显示时间\"\"\"\n",
    "        return f'{self._hour}:{self._minute}:{self._second}'"
   ]
  },
  {
   "cell_type": "code",
   "execution_count": 117,
   "metadata": {
    "collapsed": true
   },
   "outputs": [
    {
     "name": "stdout",
     "output_type": "stream",
     "text": [
      "23:59:58\n",
      "23:59:59\n",
      "0:0:0\n",
      "0:0:1\n",
      "0:0:2\n"
     ]
    },
    {
     "ename": "KeyboardInterrupt",
     "evalue": "",
     "output_type": "error",
     "traceback": [
      "\u001b[0;31m---------------------------------------------------------------------------\u001b[0m",
      "\u001b[0;31mKeyboardInterrupt\u001b[0m                         Traceback (most recent call last)",
      "\u001b[0;32m<ipython-input-117-ef79a7415563>\u001b[0m in \u001b[0;36m<module>\u001b[0;34m\u001b[0m\n\u001b[1;32m      2\u001b[0m \u001b[0;32mwhile\u001b[0m \u001b[0;32mTrue\u001b[0m\u001b[0;34m:\u001b[0m\u001b[0;34m\u001b[0m\u001b[0;34m\u001b[0m\u001b[0m\n\u001b[1;32m      3\u001b[0m     \u001b[0mprint\u001b[0m\u001b[0;34m(\u001b[0m\u001b[0mclock\u001b[0m\u001b[0;34m.\u001b[0m\u001b[0mshow\u001b[0m\u001b[0;34m(\u001b[0m\u001b[0;34m)\u001b[0m\u001b[0;34m)\u001b[0m\u001b[0;34m\u001b[0m\u001b[0;34m\u001b[0m\u001b[0m\n\u001b[0;32m----> 4\u001b[0;31m     \u001b[0msleep\u001b[0m\u001b[0;34m(\u001b[0m\u001b[0;36m1\u001b[0m\u001b[0;34m)\u001b[0m\u001b[0;34m\u001b[0m\u001b[0;34m\u001b[0m\u001b[0m\n\u001b[0m\u001b[1;32m      5\u001b[0m     \u001b[0mclock\u001b[0m\u001b[0;34m.\u001b[0m\u001b[0mrun\u001b[0m\u001b[0;34m(\u001b[0m\u001b[0;34m)\u001b[0m\u001b[0;34m\u001b[0m\u001b[0;34m\u001b[0m\u001b[0m\n\u001b[1;32m      6\u001b[0m \u001b[0;34m\u001b[0m\u001b[0m\n",
      "\u001b[0;31mKeyboardInterrupt\u001b[0m: "
     ]
    }
   ],
   "source": [
    "clock = Clock(23, 59, 58)\n",
    "while True:\n",
    "    print(clock.show())\n",
    "    sleep(1)\n",
    "    clock.run()\n",
    "\n"
   ]
  },
  {
   "cell_type": "markdown",
   "metadata": {},
   "source": [
    "**解析：**\n",
    "\n",
    "本题主要考察对面向对象的掌握情况：\n",
    "- 面向对象即是对函数的更高一层抽象，我们可以按照函数的功能，将其划分不同的板块，分别实现时钟的初始化、走秒、输出显示；\n",
    "- 注意判断秒、分、时之间的进位关系。\n",
    "\n"
   ]
  },
  {
   "cell_type": "markdown",
   "metadata": {},
   "source": [
    "**知识点参考：**\n",
    "\n",
    "\n",
    "- [面向对象](https://www.liaoxuefeng.com/wiki/1016959663602400/1017495723838528)\n",
    "\n"
   ]
  },
  {
   "cell_type": "markdown",
   "metadata": {},
   "source": [
    "## 练习：调皮的0"
   ]
  },
  {
   "cell_type": "markdown",
   "metadata": {},
   "source": [
    "要求：将如下列表`nums`中的\n",
    "- 0全部放到列表最后；\n",
    "- 其他元素的前后顺序保持不变。\n",
    "\n",
    "```python\n",
    "nums = [0, 7, 0, 1, 2, 1, 5, 0, 11]\n",
    "```\n",
    "\n",
    "> 此题虽然有多种解法，但是这里要求在你的答案中可以**使用lambda函数**。"
   ]
  },
  {
   "cell_type": "markdown",
   "metadata": {},
   "source": [
    "难度：2/5\n",
    "\n",
    "知识点：lambda函数；列表排序"
   ]
  },
  {
   "cell_type": "code",
   "execution_count": 118,
   "metadata": {},
   "outputs": [
    {
     "data": {
      "text/plain": [
       "[7, 1, 2, 1, 5, 11, 0, 0, 0]"
      ]
     },
     "execution_count": 118,
     "metadata": {},
     "output_type": "execute_result"
    }
   ],
   "source": [
    "# 参考答案 \n",
    "# 定义列表\n",
    "nums = [0, 7, 0, 1, 2, 1, 5, 0, 11]\n",
    "# 排序\n",
    "sorted(nums,key=lambda x: 1 if x==0 else 0)"
   ]
  },
  {
   "cell_type": "markdown",
   "metadata": {},
   "source": [
    "**解析：**\n",
    "\n",
    "本题主要考察对`lambda`函数的掌握情况：\n",
    "- 题意中，只要求把0放到列表最后，所以我们只管`0`，不需要管其他数字的顺序；\n",
    "- 在`sorted`函数中，可以使用`lambda`函数指定排序的`key`；\n",
    "- 编写`lambda`函数，即「如果元素等于`0`的话，那么我们就把它当作`1`，如果不等于`0`的话，就当作`0`」，这样在排序时，所有的`0`都会被作为`1`去排序，就挪到了列表的最后面，而列表的其他元素则顺序不变。\n",
    "\n",
    "\n"
   ]
  },
  {
   "cell_type": "markdown",
   "metadata": {},
   "source": [
    "**知识点参考：**\n",
    "\n",
    "\n",
    "- [lambda 函数](https://www.liaoxuefeng.com/wiki/1016959663602400/1017451447842528)\n",
    "\n"
   ]
  },
  {
   "cell_type": "markdown",
   "metadata": {},
   "source": [
    "## 练习：规整的演员表"
   ]
  },
  {
   "cell_type": "markdown",
   "metadata": {},
   "source": [
    "Hi，你有一个在剧院工作的朋友想请你帮个忙，他们现在接受了一出话剧，想要将演员表提出来，制作海报，但是交接的时候，演员表是按照`演员，台词，出场等`排列的，十分混杂，所以无奈来找你帮忙了。\n",
    "这里需要你编写一个函数，该函数将文件名作为输入，并返回一个演员姓名列表。 该函数将从文件`cast.txt`（信息源自 imdb.com）中提取每一行中的演员名称，试试看。\n",
    "\n",
    "`cast.txt`的内容示例如下：\n",
    "\n",
    "```python\n",
    "Graham Chapman,  Various / ... (46 episodes, 1969-1974)\n",
    "Eric Idle,  Various / ... (46 episodes, 1969-1974)\n",
    "Terry Jones,  Various / ... (46 episodes, 1969-1974)\n",
    "```\n"
   ]
  },
  {
   "cell_type": "markdown",
   "metadata": {},
   "source": [
    "难度：2/5\n",
    "\n",
    "知识点：函数定义；循环；文件读写；字符串"
   ]
  },
  {
   "cell_type": "code",
   "execution_count": 112,
   "metadata": {},
   "outputs": [],
   "source": [
    "# 参考答案\n",
    "# 定义函数\n",
    "def extract_cast_list(filename):\n",
    "    # 创建一个演员列表\n",
    "    cast_list = []\n",
    "    # 使用with打开文件\n",
    "    with open(filename) as f:\n",
    "        # 逐行读取\n",
    "        for line in f:\n",
    "            # 按照,分割\n",
    "            line_data = line.split(',')\n",
    "            # 取出第1个（索引为0）元素，添加到演员列表中\n",
    "            cast_list.append(line_data[0])\n",
    "    return cast_list"
   ]
  },
  {
   "cell_type": "code",
   "execution_count": 113,
   "metadata": {
    "collapsed": true
   },
   "outputs": [
    {
     "data": {
      "text/plain": [
       "['Graham Chapman',\n",
       " 'Eric Idle',\n",
       " 'Terry Jones',\n",
       " 'Michael Palin',\n",
       " 'Terry Gilliam',\n",
       " 'John Cleese',\n",
       " 'Carol Cleveland',\n",
       " 'Ian Davidson',\n",
       " 'John Hughman',\n",
       " 'The Fred Tomlinson Singers',\n",
       " 'Connie Booth',\n",
       " 'Bob Raymond',\n",
       " 'Lyn Ashley',\n",
       " 'Rita Davies',\n",
       " 'Stanley Mason',\n",
       " 'David Ballantyne',\n",
       " 'Donna Reading',\n",
       " 'Peter Brett',\n",
       " 'Maureen Flanagan',\n",
       " 'Katya Wyeth',\n",
       " 'Frank Lester',\n",
       " 'Neil Innes',\n",
       " 'Dick Vosburgh',\n",
       " 'Sandra Richards',\n",
       " 'Julia Breck',\n",
       " 'Nicki Howorth',\n",
       " 'Jimmy Hill',\n",
       " 'Barry Cryer',\n",
       " 'Jeannette Wild',\n",
       " 'Marjorie Wilde',\n",
       " 'Marie Anderson',\n",
       " 'Caron Gardner',\n",
       " 'Nosher Powell',\n",
       " 'Carolae Donoghue',\n",
       " 'Vincent Wong',\n",
       " 'Helena Clayton',\n",
       " 'Nigel Jones',\n",
       " 'Roy Gunson',\n",
       " 'Daphne Davey',\n",
       " 'Stenson Falke',\n",
       " 'Alexander Curry',\n",
       " 'Frank Williams',\n",
       " 'Ralph Wood',\n",
       " 'Rosalind Bailey',\n",
       " 'Marion Mould',\n",
       " 'Sheila Sands',\n",
       " 'Richard Baker',\n",
       " 'Douglas Adams',\n",
       " 'Ewa Aulin',\n",
       " 'Reginald Bosanquet',\n",
       " 'Barbara Lindley',\n",
       " 'Roy Brent',\n",
       " 'Jonas Card',\n",
       " 'Tony Christopher',\n",
       " 'Beulah Hughes',\n",
       " 'Peter Kodak',\n",
       " 'Lulu',\n",
       " 'Jay Neill',\n",
       " 'Graham Skidmore',\n",
       " 'Ringo Starr',\n",
       " 'Fred Tomlinson',\n",
       " 'David Hamilton',\n",
       " 'Suzy Mandel',\n",
       " 'Peter Woods']"
      ]
     },
     "execution_count": 113,
     "metadata": {},
     "output_type": "execute_result"
    }
   ],
   "source": [
    "extract_cast_list('cast.txt')"
   ]
  },
  {
   "cell_type": "markdown",
   "metadata": {},
   "source": [
    "**解析：**\n",
    "\n",
    "本题主要考察：\n",
    "- 函数的使用；\n",
    "- 使用`with open`打开文件，使用`for`循环，逐行读取信息；\n",
    "- 使用`split`拆分字符串；\n",
    "- 使用`append`将结果添加到结果列表中。\n",
    "\n",
    "\n"
   ]
  },
  {
   "cell_type": "markdown",
   "metadata": {},
   "source": [
    "**知识点参考：**\n",
    "\n",
    "\n",
    "- [字符串](https://www.liaoxuefeng.com/wiki/1016959663602400/1017075323632896)\n",
    "- [文件读写](https://www.liaoxuefeng.com/wiki/1016959663602400/1017607179232640)\n"
   ]
  },
  {
   "cell_type": "markdown",
   "metadata": {},
   "source": [
    "## 练习：密码生成器"
   ]
  },
  {
   "cell_type": "markdown",
   "metadata": {},
   "source": [
    "生活中，处处都需要账户和密码，所以就有了最难的两件事情：`如何制定一个很难猜的密码？`和 `如何去记住它`。\n",
    "\n",
    "本练习可以帮你解决第一个难题，你需要编写一个名为`generate_password()` 的函数，该函数可以从你给定的一个字符串中，随机生成一个n位密码。\n",
    "如：\n",
    "\n",
    "```python\n",
    "def generate_password(string,n):\n",
    "    #....\n",
    "    return password\n",
    "\n",
    "string = 'I love python but it doesn\\'t love me.'\n",
    "n = 8\n",
    "\n",
    ">>> print(generate_password(string,n))\n",
    "hseoovno\n",
    "```\n"
   ]
  },
  {
   "cell_type": "markdown",
   "metadata": {},
   "source": [
    "难度：2/5\n",
    "\n",
    "知识点：标准库的使用；列表；字符串"
   ]
  },
  {
   "cell_type": "code",
   "execution_count": 107,
   "metadata": {},
   "outputs": [],
   "source": [
    "# 参考答案\n",
    "# 导入所需库\n",
    "import random\n",
    "import re\n",
    "\n",
    "# 定义函数\n",
    "def generate_password(string,n):\n",
    "    # 首先提取出字符串中的英文及数字\n",
    "    lst = re.findall(r'[a-zA-Z0-9]',string)\n",
    "    # 随机取出n位\n",
    "    lst = random.sample(lst,8)\n",
    "    # 将其组合成密码\n",
    "    password = ''.join(lst)\n",
    "    return password"
   ]
  },
  {
   "cell_type": "code",
   "execution_count": 108,
   "metadata": {},
   "outputs": [
    {
     "name": "stdout",
     "output_type": "stream",
     "text": [
      "hseoovno\n"
     ]
    }
   ],
   "source": [
    "string = 'I love python but it doesn\\'t love me.'\n",
    "n = 8\n",
    "\n",
    "print(generate_password(string,n))"
   ]
  },
  {
   "cell_type": "markdown",
   "metadata": {},
   "source": [
    "**解析：**\n",
    "\n",
    "本题主要考察对标准库的掌握情况：\n",
    "- 使用`re`库，进行正则匹配，筛选出所有的英文及数字；\n",
    "- 使用`random`库，从列表中随机取出`n`位；\n",
    "- 使用`join`函数，将list转变为string。\n"
   ]
  },
  {
   "cell_type": "markdown",
   "metadata": {},
   "source": [
    "**知识点参考：**\n",
    "\n",
    "\n",
    "- [re及正则表达式](https://www.runoob.com/python3/python3-reg-expressions.html)\n",
    "- [random](https://www.runoob.com/python3/python3-func-number-random.html)\n",
    "- [列表](https://www.liaoxuefeng.com/wiki/1016959663602400/1017092876846880)\n"
   ]
  },
  {
   "cell_type": "markdown",
   "metadata": {},
   "source": [
    "## Boss2：天气助理"
   ]
  },
  {
   "cell_type": "markdown",
   "metadata": {},
   "source": [
    "恭喜哇！你已经来到了最后一个BOSS关卡🎉\n",
    "\n",
    "在最后这个关卡中，我们依然通过多个问题，来组合实现一个可用的工具 ———— 天气助理，你可以拿来自己用，当然也十分鼓励你给朋友或“心仪的朋友”分享～"
   ]
  },
  {
   "cell_type": "markdown",
   "metadata": {},
   "source": [
    "### 爬虫获取天气"
   ]
  },
  {
   "cell_type": "markdown",
   "metadata": {},
   "source": [
    "首先，我们需要使用爬虫来获取当前城市的天气，链接在这里：[获取当前天气](http://tianqi.hao123.com/shanghai.html)。\n",
    "\n",
    "要求：\n",
    "\n",
    "获取当前的\n",
    "- 温度\n",
    "- 天气\n",
    "- 空气质量\n",
    "- PM2.5指数\n",
    "- 气压\n",
    "- 湿度\n",
    "\n",
    "并最终组合一句话进行输出，如`“尊敬的挑战者你好，今天是2020年09月17日，天气小雨，当前气温为18摄氏度,PM2.5指数27,空气质量优，气压1012,湿度95，愿你今天有个好心情哦～”`"
   ]
  },
  {
   "cell_type": "markdown",
   "metadata": {},
   "source": [
    "难度：3/5\n",
    "\n",
    "知识点：爬虫；拓展包的使用；requests；BeautifulSoup"
   ]
  },
  {
   "cell_type": "code",
   "execution_count": 54,
   "metadata": {},
   "outputs": [],
   "source": [
    "# 参考答案\n",
    "# 导入爬虫所需包\n",
    "import requests\n",
    "from bs4 import BeautifulSoup\n",
    "\n",
    "# 定义链接\n",
    "url = 'http://tianqi.hao123.com/shanghai.html'\n",
    "# 发送请求\n",
    "res = requests.get(url)\n",
    "# 分析网页结构\n",
    "soup = BeautifulSoup(res.content,'html.parser')\n",
    "# 获取当前温度\n",
    "temp = soup.find('div',class_='temperature').get_text()[:-1]\n",
    "# 获取其他内容\n",
    "others = soup.find('div',class_='others').find_all('span')\n",
    "# 获取天气\n",
    "weather = others[0].get_text()\n",
    "# 空气质量\n",
    "air_quality = others[1].get_text()\n",
    "# PM2.5指数\n",
    "pm = others[2].get_text()[5:]\n",
    "# 气压\n",
    "ap = others[3].get_text()[2:]\n",
    "# 湿度\n",
    "hum = others[4].get_text()[2:]"
   ]
  },
  {
   "cell_type": "code",
   "execution_count": 58,
   "metadata": {},
   "outputs": [
    {
     "name": "stdout",
     "output_type": "stream",
     "text": [
      "尊敬的挑战者你好，今天是2020年09月17日，天气小雨，当前气温为18摄氏度,PM2.5指数27,空气质量优，气压1012,湿度95，愿你今天有个好心情哦～\n"
     ]
    }
   ],
   "source": [
    "# 导入日期包\n",
    "import datetime\n",
    "# 获取今日日期\n",
    "today = str(datetime.date.today()).split('-')\n",
    "# 进行格式化输出\n",
    "print(f'尊敬的挑战者你好，今天是{today[0]}年{today[1]}月{today[2]}日，天气{weather}，当前气温为{temp}摄氏度,PM2.5指数{pm},{air_quality}，气压{ap},湿度{hum}，愿你今天有个好心情哦～')"
   ]
  },
  {
   "cell_type": "markdown",
   "metadata": {},
   "source": [
    "**解析：**\n",
    "\n",
    "本题主要考察了：\n",
    "- 拓展包的使用：使用`requests`对某个链接发送请求，并获取请求到的数据；使用`BeautifulSoup`对数据进行格式化与信息筛选；\n",
    "- 字符串：获取到的信息都是字符串的形式，可以使用`索引`与`切片`来对信息进行二次加工，使其满足需求；\n",
    "- 日期：python提供了内置的`datetime`包可以获取当前日期或时间，我们只需对其进行稍加处理（转换成字符串，再拆分成列表），让获取年月日更加方便。\n",
    "\n",
    "\n",
    "**拓展：**\n",
    "- 当然，这里只是给出了一种参考答案，在最后的格式化输出中，你可以自由畅想&丰富结果。比如，使用`if-else`判断天气，如果下雨的话，则加上”提醒带伞“的语句，如果是晴天的话，则加上“注意防晒”等等，试试看。"
   ]
  },
  {
   "cell_type": "markdown",
   "metadata": {},
   "source": [
    "**知识点参考：**\n",
    "\n",
    "- [requests](https://www.liaoxuefeng.com/wiki/1016959663602400/1183249464292448)\n",
    "- [BeautifulSoup](https://www.jianshu.com/p/2b783f7914c6)\n",
    "- [datetime](https://www.liaoxuefeng.com/wiki/1016959663602400/1017648783851616)"
   ]
  },
  {
   "cell_type": "markdown",
   "metadata": {},
   "source": [
    "### 自定义城市\n",
    "\n",
    "在上一个问题中，我们需要先在网页中选择城市，然后才能根据获得的url启动爬虫，这未免有些麻烦。最好可以实现，通过用户的多级输入或筛选，按照网页的样式（即省-市-区）去自动获取url。\n",
    "\n",
    "最好可以使用面向对象的方式去完成此问题，如：\n",
    "```python\n",
    "class Weather_Scraper():\n",
    "    \n",
    "    # 获取城市信息\n",
    "    def get_city():\n",
    "        # ...\n",
    "        return city\n",
    "    \n",
    "    # 获取该城市天气\n",
    "    def get_info():\n",
    "        # ...\n",
    "        return info\n",
    "```\n",
    "\n",
    "> 这个问题可能稍稍有些棘手，提示一下：「你需要找到网页是如何筛选省-市-区的，然后模仿它，发送一些请求」。\n",
    "\n",
    "> 先试着挑战下，不行直接看下面的解析视频也是完全可以的～"
   ]
  },
  {
   "cell_type": "markdown",
   "metadata": {},
   "source": [
    "难度：4/5\n",
    "\n",
    "知识点：爬虫；网页分析；面向对象"
   ]
  },
  {
   "cell_type": "code",
   "execution_count": 88,
   "metadata": {},
   "outputs": [],
   "source": [
    "class Weather_Scraper():\n",
    "    \n",
    "    def __init__(self):\n",
    "        # 获取城市对应的链接\n",
    "        self.weather_url = self.get_city()\n",
    "        \n",
    "        \n",
    "    def get_input(self,item_str,error_str,item_lst):\n",
    "        '''\n",
    "        检测并获取用户输入\n",
    "        item_str: str, 输入引导语\n",
    "        error_str: str, 报错引导语\n",
    "        item_lst: list, 检测列表\n",
    "        '''\n",
    "        # 输出选择\n",
    "        print('请选择：',','.join(item_lst))\n",
    "        # 获取用户输入\n",
    "        item = input(item_str)\n",
    "        # 检测用户输入是否在检测列表中\n",
    "        while item not in item_lst:\n",
    "            # 如果没在的话，则重新获取用户输入\n",
    "            item = input(error_str)\n",
    "            \n",
    "        return item\n",
    "    \n",
    "    def get_city(self):\n",
    "        # 定义省份请求链接\n",
    "        city_menu = 'http://tianqi.hao123.com/citymenu'\n",
    "        # 发送请求\n",
    "        res = requests.get(city_menu)\n",
    "        # 获取城市信息\n",
    "        pros = res.json()\n",
    "        # 转换字典，方便读取\n",
    "        pros = {item['name']:item['id'] for item in pros}\n",
    "        # 获取用户输入\n",
    "        pro_name = self.get_input('请输入省市名称：','请检查输入：',list(pros.keys()))\n",
    "        \n",
    "        # 获取省份id\n",
    "        pro_id = pros[pro_name]\n",
    "        # 构造市链接\n",
    "        city_url = f'http://tianqi.hao123.com/citymenu?pid={pro_id}&callback=jQuery182013062938743496588_1600222673671&_=1600222691338'\n",
    "        # 发送请求\n",
    "        res = requests.get(city_url)\n",
    "        # 提取json信息\n",
    "        cities = eval(res.text[46:-1])\n",
    "        # 转换字典，方便读取\n",
    "        cities = {item['name']:item['id'] for item in cities}\n",
    "        # 获取用户输入\n",
    "        city_name = self.get_input('请输入市/区名称：','请检查输入：',list(cities.keys()))\n",
    "        \n",
    "        # 获取区\n",
    "        # 构造url\n",
    "        city_id = cities[city_name]\n",
    "        district_url = f'http://tianqi.hao123.com/citymenu?pid={pro_id}&cid={city_id}&callback=jQuery182013062938743496588_1600222673671&_=1600222691338'\n",
    "        # 发送请求\n",
    "        res = requests.get(district_url)\n",
    "        # 提取json\n",
    "        districts = eval(res.text[46:-1])\n",
    "        # 转换字典，方便读取\n",
    "        districts = {item['name']:item['name_en'] for item in districts}\n",
    "        # 获取用户输入\n",
    "        district_name = self.get_input('请输入市/区名称：','请检查输入：',list(districts.keys()))\n",
    "        \n",
    "        # 获取url\n",
    "        weather_url = 'http://tianqi.hao123.com/' + districts[district_name] + '.html'\n",
    "        \n",
    "        print(f'成功获取{pro_name}-{city_name}-{district_name}的链接.')\n",
    "        return weather_url\n",
    "        \n",
    "    def get_info(self):\n",
    "        # 发送请求\n",
    "        res = requests.get(self.weather_url)\n",
    "        # 分析网页结构\n",
    "        soup = BeautifulSoup(res.content,'html.parser')\n",
    "        # 获取当前温度\n",
    "        temp = soup.find('div',class_='temperature').get_text()[:-1]\n",
    "        # 获取其他内容\n",
    "        others = soup.find('div',class_='others').find_all('span')\n",
    "        # 获取天气\n",
    "        weather = others[0].get_text()\n",
    "        # 空气质量\n",
    "        air_quality = others[1].get_text()\n",
    "        # PM2.5指数\n",
    "        pm = others[2].get_text()[5:]\n",
    "        # 气压\n",
    "        ap = others[3].get_text()[2:]\n",
    "        # 湿度\n",
    "        hum = others[4].get_text()[2:]\n",
    "        # 获取今日日期\n",
    "        today = str(datetime.date.today()).split('-')\n",
    "        # 进行格式化输出\n",
    "        output = f'尊敬的挑战者你好，今天是{today[0]}年{today[1]}月{today[2]}日，天气{weather}，当前气温为{temp}摄氏度,PM2.5指数{pm},{air_quality}，气压{ap},湿度{hum}，愿你今天有个好心情哦～'\n",
    "        \n",
    "        return output   "
   ]
  },
  {
   "cell_type": "code",
   "execution_count": 89,
   "metadata": {},
   "outputs": [
    {
     "name": "stdout",
     "output_type": "stream",
     "text": [
      "请选择： 北京,上海,天津,重庆,安徽,福建,甘肃,广东,广西,贵州,海南,河北,河南,黑龙江,湖北,湖南,江苏,江西,吉林,辽宁,内蒙古,宁夏,青海,山东,山西,陕西,四川,西藏,新疆,云南,浙江,香港,澳门,台湾\n",
      "请输入省市名称：陕西\n",
      "请选择： 西安,安康,宝鸡,汉中,商洛,铜川,渭南,咸阳,杨凌,榆林,延安\n",
      "请输入市/区名称：西安\n",
      "请选择： 西安,碑林,灞桥,长安,高陵,鄠邑,临潼,蓝田,莲湖,未央,新城,雁塔,阎良,周至\n",
      "请输入市/区名称：未央\n",
      "成功获取陕西-西安-未央的链接.\n"
     ]
    }
   ],
   "source": [
    "scraper = Weather_Scraper()"
   ]
  },
  {
   "cell_type": "code",
   "execution_count": 90,
   "metadata": {},
   "outputs": [
    {
     "data": {
      "text/plain": [
       "'尊敬的挑战者你好，今天是2020年09月19日，天气多云，当前气温为27摄氏度,PM2.5指数70,空气质量良，气压965,湿度46，愿你今天有个好心情哦～'"
      ]
     },
     "execution_count": 90,
     "metadata": {},
     "output_type": "execute_result"
    }
   ],
   "source": [
    "scraper.get_info()"
   ]
  },
  {
   "cell_type": "raw",
   "metadata": {},
   "source": [
    "**视频**\n",
    "![](./videos/python00.mov)\n",
    "![](./videos/python01.mov)\n",
    "![](./videos/python02.mov)\n",
    "![](./videos/python03.mov)\n",
    "![](./videos/python04.mov)"
   ]
  },
  {
   "cell_type": "markdown",
   "metadata": {},
   "source": [
    "**解析：**\n",
    "\n",
    "本题主要考察了：\n",
    "- 爬虫：网络爬虫其实就是使用代码假装人去访问页面，并将页面中的信息截取&储存，用于后续的分析。所以，学习分析网页组织、请求方式是进行爬虫的基础，跟着下面的视频一起来了解下吧～\n",
    "- 面向对象：使用函数可以将松散的代码进行更高一级的抽象，我们不必在意函数中的变量、计算等等，只需要关注输入输出及函数本身即可。那么，面向对象则是对函数的更高一级抽象，做到“开箱即用”。\n",
    "\n",
    "\n",
    "**拓展：**\n",
    "- 想必你也发现了，在`get_city()`函数中，有很多重复性的代码块，要知道没有人想做无聊的重复工作，试着用函数把重复代码块代替一下吧。"
   ]
  },
  {
   "cell_type": "markdown",
   "metadata": {},
   "source": [
    "**知识点参考：**\n",
    "\n",
    "- [面向对象](https://www.liaoxuefeng.com/wiki/1016959663602400/1017495723838528)\n",
    "- [爬虫](https://morvanzhou.github.io/tutorials/data-manipulation/scraping/)"
   ]
  },
  {
   "cell_type": "markdown",
   "metadata": {},
   "source": [
    "### 使用推送工具，推送到微信"
   ]
  },
  {
   "cell_type": "markdown",
   "metadata": {},
   "source": [
    "恭喜完成了前面两个挑战，你已经尝试了如何从一个链接中提取信息，也尝试了如何从链接中构造更多链接。\n",
    "\n",
    "那么，该如何让“用户”获取我们从前面两步获得的天气信息呢？这里提供一个思路，你可以给代码设置每天定时运行，然后使用推送工具，将获取到的信息推送到微信中。\n",
    "\n",
    "> 本题目并不算严格意义上的挑战，设置本题目的初心是想告诉你，`学习代码是为了方便生活`，一定要学以致用哦～"
   ]
  },
  {
   "cell_type": "markdown",
   "metadata": {},
   "source": [
    "难度：2/5\n",
    "\n",
    "知识点：解决问题能力"
   ]
  },
  {
   "cell_type": "code",
   "execution_count": 91,
   "metadata": {},
   "outputs": [],
   "source": [
    "# 输入你的sckey\n",
    "sckey = ''\n",
    "# 构造推送链接\n",
    "push_url = f'https://sc.ftqq.com/{sckey}.send'\n",
    "# 撰写内容\n",
    "text = '今日天气'\n",
    "desp = scraper.get_info()\n",
    "\n",
    "# 推送到微信\n",
    "requests.post(push_url,data={'text':text,'desp':desp})"
   ]
  },
  {
   "cell_type": "code",
   "execution_count": 111,
   "metadata": {},
   "outputs": [
    {
     "data": {
      "text/plain": [
       "'尊敬的挑战者你好，今天是2020年09月20日，天气小雨，当前气温为17摄氏度,PM2.5指数31,空气质量优，气压969,湿度99，愿你今天有个好心情哦～'"
      ]
     },
     "execution_count": 111,
     "metadata": {},
     "output_type": "execute_result"
    }
   ],
   "source": [
    "scraper.get_info()"
   ]
  },
  {
   "cell_type": "markdown",
   "metadata": {},
   "source": [
    "**解决步骤：**\n",
    "- 1.访问推送工具主页[方糖](http://sc.ftqq.com/3.version)\n",
    "- 2.点击右下角，「登录」按钮\n",
    "- 3.点击「微信推送」，扫码绑定微信\n",
    "- 4.点击「发送消息」，在页面中可以看到你的专属**SCKEY**\n",
    "- 5.将你的sckey复制粘贴到如上代码中，运行，即可将消息推送到微信啦～"
   ]
  },
  {
   "cell_type": "markdown",
   "metadata": {},
   "source": [
    "![](imgs/python00.gif)"
   ]
  },
  {
   "cell_type": "markdown",
   "metadata": {},
   "source": [
    "**解析：**\n",
    "\n",
    "本题主要考察了：\n",
    "- 解决问题：实际工作中的需求千千万，纵使做一百道题，也有可能会遇到没见过的需求，那该如何解决这些问题呢？ \n",
    "    - 1. 将实际业务问题抽象为代码问题，比如想要`在微信获取到当前天气`的需求，就可以抽象为`如何给微信推送消息`；\n",
    "    - 2. 利用好搜索引擎，将抽象的问题+你的代码+你的环境，便可以构造一个较为科学的搜索语句，方便获取信息，如`如何给微信推送消息 python Mac`；\n",
    "    - 3. 学习读文档，`不要重复造轮子`，学习读懂`轮子`文档，并转换为自己的需求。\n",
    "\n",
    "\n",
    "**拓展：**\n",
    "- 如果觉得文字传达信息很干，那么试着将其转变为语音呢？自己试着挑战一下～"
   ]
  },
  {
   "cell_type": "markdown",
   "metadata": {},
   "source": [
    "**🎉🎉🎉 至此，恭喜你完成了Python部分的所有挑战，Bravo !!!**"
   ]
  }
 ],
 "metadata": {
  "kernelspec": {
   "display_name": "Python 3",
   "language": "python",
   "name": "python3"
  },
  "language_info": {
   "codemirror_mode": {
    "name": "ipython",
    "version": 3
   },
   "file_extension": ".py",
   "mimetype": "text/x-python",
   "name": "python",
   "nbconvert_exporter": "python",
   "pygments_lexer": "ipython3",
   "version": "3.7.3"
  },
  "toc": {
   "base_numbering": 1,
   "nav_menu": {},
   "number_sections": true,
   "sideBar": true,
   "skip_h1_title": false,
   "title_cell": "Table of Contents",
   "title_sidebar": "Contents",
   "toc_cell": false,
   "toc_position": {
    "height": "calc(100% - 180px)",
    "left": "10px",
    "top": "150px",
    "width": "195px"
   },
   "toc_section_display": true,
   "toc_window_display": true
  }
 },
 "nbformat": 4,
 "nbformat_minor": 2
}
