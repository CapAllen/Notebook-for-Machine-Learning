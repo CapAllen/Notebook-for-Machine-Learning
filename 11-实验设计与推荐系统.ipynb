{
 "cells": [
  {
   "cell_type": "markdown",
   "metadata": {},
   "source": [
    "# 实验设计"
   ]
  },
  {
   "cell_type": "markdown",
   "metadata": {},
   "source": [
    "## 实验设计的概念"
   ]
  },
  {
   "cell_type": "markdown",
   "metadata": {},
   "source": [
    "同一时间段内，纽约律师的数量跟苹果的价格成正比，保持着较为相似的增长曲线，那么是否就可以得出，律师数量的提升就可以带来苹果价格的提升呢？\n",
    "\n",
    "答案当然是否定的，因为二者都与当地的人口增长有关，是由其他因素导致的。\n",
    "\n",
    "这里也说明了一点**相关性并不意味着因果关系**（Correlation does not Imply Causation）"
   ]
  },
  {
   "cell_type": "markdown",
   "metadata": {},
   "source": [
    "但在实际的工作中，我们需要获取**某项改变是否会改善性能**的确切结果，这时候就需要进行**实验设计**（Experience）。\n",
    "\n",
    "本节课就将学习实验设计相关课程，包括：\n",
    "- 什么是实验\n",
    "- 实验有哪些类型\n",
    "- 如何评估实验结果\n",
    "- 实验设计中的坑"
   ]
  },
  {
   "cell_type": "markdown",
   "metadata": {},
   "source": [
    "## 什么是实验"
   ]
  },
  {
   "cell_type": "markdown",
   "metadata": {},
   "source": [
    "为了测试或理解数据中我们感兴趣的两个变量之间的关系，有很多种方法，这些方法可以根据**我们可以控制的变量数量**分为三大类：\n",
    "- 如果我们可以控制非常多的变量，这时候就可以进行**实验（Experience）**\n",
    "    - 控制变量法\n",
    "    - 随机分为多组\n",
    "    - 多组间的特征分布保持一致\n",
    "    - 如更改购物网站的详情页，查看对购买率的影响\n",
    "- 如果我们几乎不能控制任何变量，这时候就只能进行**观察研究（Observation Study）**\n",
    "    - 只能依靠现有掌握的数据进行观测\n",
    "    - 得到的结果并不具有强因果关系（如之前提到的律师与苹果的故事）\n",
    "    - 可以发现一些有趣的关系，来启发下一步研究或收集数据的方向\n",
    "    - 例如：吸烟对健康的影响，我们并不能强制一批人吸烟，以此设置为实验组\n",
    "- 如果我们可以控制部分变量，这时候就可以进行**准实验（quasi-Experience）**\n",
    "    - 介于如上二者之间，经常用于比较 修改前与修改后的所有用户情况\n",
    "    - 得到的结果因果关系强度较实验弱，但仍可以对相关研究提供证据\n",
    "    - 比如：对某新增教材的研究，无法保证教师和学生的分布特征完全一致\n",
    "\n",
    "### 实验\n",
    "\n",
    "在社会科学和医学科学中，实验的定义是比较两组或多组之间的结果，并确保除了我们要测试的特性之外，被比较组之间的其他特性是等价的（也就是**控制变量法**）。在实验中，我们是想看改变的这个特性，是否会对某个指标产生影响，比如看改变网站上按钮的布局是否会导致更多的访问者点击它。为了比较我们应用操纵时和不应用操纵时的结果（如旧的网站布局与新的网站布局），或者为了比较不同级别的操纵（如药物剂量），有**多个组是必要的**。我们还需要组间的等效性，这样我们就可以尽可能地确定结果的差异只是由于我们改变实验特性带来的差异。\n",
    "\n",
    "此外，在对用户进行分组时，要确保随机性，保证各个分组中的用户特征分布是一致的，如年龄分布、性别分布等等。\n",
    "\n",
    "### 观察研究\n",
    "\n",
    "观察性研究则是以缺乏控制来定义的。观察性研究也被称为自然或相关性研究。在观察性研究中，对感兴趣的变量不施加任何控制，也许是出于道德上的考虑，或者是缺乏实施操纵的权力。这种情况经常出现在医学研究中，例如，如果我们想研究吸烟对健康的影响，吸烟会带来潜在的风险，这使得强迫人们进行吸烟行为是不道德的。所以，我们需要**依靠现有的数据或群体来做出我们的判断**。由于我们缺乏对变量的控制，我们**通常不能在观察性研究中推断出因果关系**。观察到的变量之间的任何关系可能是由于未观察到的特征，或者因果关系的方向可能是不确定的。(正如开头提到的律师与苹果的例子，我们将在后面的课程中更多地讨论这个问题。)\n",
    "\n",
    "但是，这并不意味着观察性研究没有用。一个有趣的关系可能会给进行更多研究或收集更多数据提供灵感。这些研究可以通过排除越来越多的假设，帮助加强我们对感兴趣的特征关系的理解。\n",
    "\n",
    "### 准实验\n",
    "\n",
    "介于观察研究和实验之间的是准实验。在这里，可以满足真正实验的一些控制要求，但不是全部。例如，向所有用户推出一个新的网站界面，看看他们在上面花了多少时间，这可能被认为是一个准实验。虽然操作是由实验者控制的，但并没有多组进行比较。实验者仍然可以使用改变前的人群行为，并与改变后的行为进行比较，对改变的效果做出判断。\n",
    "\n",
    "但是，有可能存在操纵特征之外的其他特征，导致观察到的结果产生变化。\n",
    "\n",
    "一个典型的例子是，如果一个研究者想为高中课程测试一些新的补充材料。如果他们选择两所不同的学校，一所学校有新教材，一所学校没有，我们就有了一个准实验，因为这些学校的学生或教师的不同素质可能会对结果产生影响。理想情况下，我们希望在测试前将两所学校尽可能地匹配起来，但我们不能称之为真正的实验，因为学生与学校的分配不能被认为是随机的。\n",
    "\n",
    "虽然准实验的因果关系推断强度可能不如真正的实验，但结果仍然可以为所研究的关系提供大量有力的证据。"
   ]
  },
  {
   "cell_type": "markdown",
   "metadata": {},
   "source": [
    "**阅读材料：**\n",
    "\n",
    "[这篇New York Times的报告](https://www.nytimes.com/interactive/2018/07/18/upshot/nike-vaporfly-shoe-strava.html)在无法进行严格随机实验的前提下，分析了公众对Nike新跑鞋的看法，值得一看！"
   ]
  },
  {
   "cell_type": "markdown",
   "metadata": {},
   "source": [
    "## 实验的类别"
   ]
  },
  {
   "cell_type": "markdown",
   "metadata": {},
   "source": [
    "- 组间对比试验（A/B-test）：\n",
    "    - A组（对照组 control group）：保持原样\n",
    "    - B组（实验组 experimental group）：进行特性测试\n",
    "    - A组与B组的用户，会接受不同的产品（页面等），以此来对比分析最终结果\n",
    "    - 当然，可以进行多组实验，单个对照组VS多个实验组\n",
    "- 组内对比试验：\n",
    "    - 也被称作重复测试（repeated measures）实验\n",
    "    - 用户不需分组，分别对不同的产品进行体验/评分，如测试两款饮料的口感\n",
    "- 因子设计（Factorial Designs）：\n",
    "    - 可以操纵多个感兴趣的特征的值。例如，对于两个独立的操纵 \"X \"和 \"Y\"，我们有四个条件。\"控制\"，\"只有X\"，\"只有Y\"，\"X和Y\"；\n",
    "    - 在工程和物理科学领域比较常见，因为这些领域的系统单元往往受到比较严格的控制；在社会和医学领域则较少见，因为个体差异会阻碍实验的创建和分析。"
   ]
  },
  {
   "cell_type": "markdown",
   "metadata": {},
   "source": [
    "## 抽样的类别"
   ]
  },
  {
   "cell_type": "markdown",
   "metadata": {},
   "source": [
    "- 简单随机抽样（simple random sampling）：直接从总量中进行随机抽样，直到满足样本总量。比如，从一个城市中，随机抽取1000人；\n",
    "- 分层随机抽样（stratified random sampling）：按照类别占比从总量中进行随机抽样。比如，一个城市中包含市区、郊区和农村，人口密度不一样，如果进行简单随机抽样的话，会导致抽样中的农村人口数量太少，影响最终结果。这时候我们可以依据分层随机抽样，在市区抽500人，郊区300人，农村200人，这样就可以保证每个类别都有足够数量进行统计分析。"
   ]
  },
  {
   "cell_type": "markdown",
   "metadata": {},
   "source": [
    "## 评估结果"
   ]
  },
  {
   "cell_type": "markdown",
   "metadata": {},
   "source": [
    "### 指标的重要性\n",
    "\n",
    "我们通过测试去查看推荐系统是否更优，这时候就需要去定义评估结果的指标，比如：\n",
    "- 用户观看视频的长度\n",
    "- 用户点击视频的排名提升数量\n",
    "- 用户搜索的次数\n",
    "\n",
    "虽然如上这些指标，可以在一定程度上，表示出模型的优劣，但是，如果单单盯住某一个指标进行优化，则有可能带来一些问题：\n",
    "- 用户观看视频越长，说明系统越好，但这也有可能让推荐系统把持续时间较长的视频推送到最前面；\n",
    "- 用户点击视频的排名提升数量越高，说明系统越好，但这也有可能让推荐系统把排名最靠后的那些视频推到前面；\n",
    "- 用户搜索次数越少越好，但这也有可能带来用户量的损失。\n",
    "\n",
    "所以：\n",
    "- 首先，应确保指标与我们的最终目标保持一致；\n",
    "- 但，观察指标的变化不是研究的重点，而是变化对研究目标的影响更重要。"
   ]
  },
  {
   "cell_type": "markdown",
   "metadata": {},
   "source": [
    "### 创建指标"
   ]
  },
  {
   "cell_type": "markdown",
   "metadata": {},
   "source": [
    "- 评估指标（Evaluation Metrics）\n",
    "    - 提供评价实验是否成功的指标\n",
    "    - 例如：平均访问量，单位浏览量的购买率\n",
    "- 不变指标（Invariant Metrics）\n",
    "    - 用于检查各组的对等性\n",
    "    - 例如：访问网页的cookies数量；登陆用户数"
   ]
  },
  {
   "cell_type": "markdown",
   "metadata": {},
   "source": [
    "### 检查有效性（Validity）\n",
    "主要检查如下三个方面的有效性：\n",
    "- 结构有效性（Construct Validity）：评估指标是否与我们的目标一致，比如说之前提到的推荐系统中搜索次数这个指标，就不具有结构有效性；\n",
    "- 内部有效性（Internal Validity）：实验结果是否能推出有效的因果关系，比如冰淇淋售卖数量与犯罪率成正比，但二者并没有因果关系，都是因为天气炎热（**混淆变量（confounding variables）**）导致的结果；\n",
    "- 外部有效性（External Validity）：实验结果是否可以推广到更大的群体。"
   ]
  },
  {
   "cell_type": "markdown",
   "metadata": {},
   "source": [
    "### 检查偏差（Bias）"
   ]
  },
  {
   "cell_type": "markdown",
   "metadata": {},
   "source": [
    "偏差，是指影响最终结果可解释性的系统性错误。\n",
    "\n",
    "- 抽样偏差（Sampling Bias）：抽取的样本并不能代表整个群体；\n",
    "- 新奇偏差（Novelty Bias）：由于向用户提供新功能导致的问题，（比如会有恋旧的用户，或者更喜欢新鲜的客户，会导致结果出现偏差）\n",
    "- 顺序偏差（Order Bias）：主要是针对**组内对比试验**，相同用户对不同产品的测试顺序有可能会影响最终结果"
   ]
  },
  {
   "cell_type": "markdown",
   "metadata": {},
   "source": [
    "## 实验设计的道德性（Ethical）\n",
    "\n",
    "在开始实验之前，一定要评估实验的道德性：\n",
    "- 最小化用户可能的潜在风险；\n",
    "- 风险带来的收益如何？\n",
    "- 用户信息许可\n",
    "- 妥善处理敏感信息"
   ]
  },
  {
   "cell_type": "markdown",
   "metadata": {},
   "source": [
    "## 实验设计口诀（SMART）\n",
    "\n",
    "\n",
    "- **S**pecific（具体）: 实验设计的目标是具体的；\n",
    "- **M**easurable（可评估）: 输出的结果可以通过可观察的方法去评估；\n",
    "- **A**chievable（可实现）: 实验设计的步骤和目标是可实现的；\n",
    "- **R**elevant（相关性）: 实验设计需要有背景目标支撑；\n",
    "- **T**imely（时效性）: 实验结果是在某个时间段内收集完成。\n"
   ]
  },
  {
   "cell_type": "markdown",
   "metadata": {},
   "source": [
    "# 实验设计中的统计学"
   ]
  },
  {
   "cell_type": "markdown",
   "metadata": {},
   "source": [
    "## 统计显著性"
   ]
  },
  {
   "cell_type": "markdown",
   "metadata": {},
   "source": [
    "假设我们已经收集好了网页测试的结果，在这个测试中，我们改变网页布局，来查看用户的点击率是否会提升。"
   ]
  },
  {
   "cell_type": "code",
   "execution_count": 3,
   "metadata": {},
   "outputs": [
    {
     "name": "stderr",
     "output_type": "stream",
     "text": [
      "UsageError: Line magic function `%` not found.\n"
     ]
    }
   ],
   "source": [
    "# import packages\n",
    "\n",
    "import numpy as np\n",
    "import pandas as pd\n",
    "import scipy.stats as stats\n",
    "from statsmodels.stats import proportion as proptests\n",
    "\n",
    "import matplotlib.pyplot as plt\n",
    "% matplotlib inline"
   ]
  },
  {
   "cell_type": "code",
   "execution_count": 5,
   "metadata": {},
   "outputs": [
    {
     "data": {
      "text/html": [
       "<div>\n",
       "<style scoped>\n",
       "    .dataframe tbody tr th:only-of-type {\n",
       "        vertical-align: middle;\n",
       "    }\n",
       "\n",
       "    .dataframe tbody tr th {\n",
       "        vertical-align: top;\n",
       "    }\n",
       "\n",
       "    .dataframe thead th {\n",
       "        text-align: right;\n",
       "    }\n",
       "</style>\n",
       "<table border=\"1\" class=\"dataframe\">\n",
       "  <thead>\n",
       "    <tr style=\"text-align: right;\">\n",
       "      <th></th>\n",
       "      <th>condition</th>\n",
       "      <th>click</th>\n",
       "    </tr>\n",
       "  </thead>\n",
       "  <tbody>\n",
       "    <tr>\n",
       "      <th>0</th>\n",
       "      <td>1</td>\n",
       "      <td>0</td>\n",
       "    </tr>\n",
       "    <tr>\n",
       "      <th>1</th>\n",
       "      <td>0</td>\n",
       "      <td>0</td>\n",
       "    </tr>\n",
       "    <tr>\n",
       "      <th>2</th>\n",
       "      <td>0</td>\n",
       "      <td>0</td>\n",
       "    </tr>\n",
       "    <tr>\n",
       "      <th>3</th>\n",
       "      <td>1</td>\n",
       "      <td>1</td>\n",
       "    </tr>\n",
       "    <tr>\n",
       "      <th>4</th>\n",
       "      <td>1</td>\n",
       "      <td>0</td>\n",
       "    </tr>\n",
       "  </tbody>\n",
       "</table>\n",
       "</div>"
      ],
      "text/plain": [
       "   condition  click\n",
       "0          1      0\n",
       "1          0      0\n",
       "2          0      0\n",
       "3          1      1\n",
       "4          1      0"
      ]
     },
     "execution_count": 5,
     "metadata": {},
     "output_type": "execute_result"
    }
   ],
   "source": [
    "# import data\n",
    "data = pd.read_csv('data/statistical_significance_data.csv')\n",
    "data.head(5)"
   ]
  },
  {
   "cell_type": "markdown",
   "metadata": {},
   "source": [
    "### 检查不变指标"
   ]
  },
  {
   "cell_type": "code",
   "execution_count": 9,
   "metadata": {},
   "outputs": [
    {
     "data": {
      "text/plain": [
       "1    508\n",
       "0    491\n",
       "Name: condition, dtype: int64"
      ]
     },
     "execution_count": 9,
     "metadata": {},
     "output_type": "execute_result"
    }
   ],
   "source": [
    "data['condition'].value_counts()"
   ]
  },
  {
   "cell_type": "markdown",
   "metadata": {},
   "source": [
    "#### 分析法"
   ]
  },
  {
   "cell_type": "code",
   "execution_count": 11,
   "metadata": {},
   "outputs": [],
   "source": [
    "# 收集到的数据量（观察量）\n",
    "n_obs = data.shape[0]\n",
    "# 对照组数量\n",
    "n_control = data.groupby('condition').size()[0]"
   ]
  },
  {
   "cell_type": "code",
   "execution_count": 12,
   "metadata": {},
   "outputs": [
    {
     "name": "stdout",
     "output_type": "stream",
     "text": [
      "-0.5062175977346661\n",
      "0.6127039025537114\n"
     ]
    }
   ],
   "source": [
    "# Compute a z-score and p-value\n",
    "# 知识点：z-score等于某一个数与均值的差，再除以标准差。\n",
    "# 知识点：用户点击与否的分布符合伯努利分布，该分布的期望为p，标准差为 sqrt(p(1-p))\n",
    "# 知识点：用户点击量（即用户访问N次点击的量k）符合二项分布，该分布期望为Np，标准差为 sqrt(Np(1-p))\n",
    "p = 0.5\n",
    "sd = np.sqrt(p * (1-p) * n_obs)\n",
    "\n",
    "z = ((n_control + 0.5) - p * n_obs) / sd\n",
    "\n",
    "print(z)\n",
    "print(2 * stats.norm.cdf(z))"
   ]
  },
  {
   "cell_type": "markdown",
   "metadata": {},
   "source": [
    "#### 模拟法"
   ]
  },
  {
   "cell_type": "code",
   "execution_count": 13,
   "metadata": {},
   "outputs": [],
   "source": [
    "# get number of trials and number of 'successes'\n",
    "n_obs = data.shape[0]\n",
    "n_control = data.groupby('condition').size()[0]"
   ]
  },
  {
   "cell_type": "code",
   "execution_count": 14,
   "metadata": {},
   "outputs": [
    {
     "name": "stdout",
     "output_type": "stream",
     "text": [
      "0.61293\n"
     ]
    }
   ],
   "source": [
    "# # simulate outcomes under null, compare to observed outcome\n",
    "p = 0.5\n",
    "n_trials = 200_000\n",
    "# 模拟二项分布，进行n_obs次实验，每次成功率为p，数据的size为n_trials\n",
    "samples = np.random.binomial(n_obs, p, n_trials)\n",
    "\n",
    "print(np.logical_or(samples <= n_control, samples >= (n_obs - n_control)).mean())"
   ]
  },
  {
   "cell_type": "markdown",
   "metadata": {},
   "source": [
    "### 检查评估指标"
   ]
  },
  {
   "cell_type": "code",
   "execution_count": 15,
   "metadata": {},
   "outputs": [
    {
     "data": {
      "text/plain": [
       "condition\n",
       "0    0.079430\n",
       "1    0.112205\n",
       "Name: click, dtype: float64"
      ]
     },
     "execution_count": 15,
     "metadata": {},
     "output_type": "execute_result"
    }
   ],
   "source": [
    "p_click = data.groupby('condition').mean()['click']\n",
    "p_click"
   ]
  },
  {
   "cell_type": "code",
   "execution_count": 16,
   "metadata": {},
   "outputs": [
    {
     "data": {
      "text/plain": [
       "0.03277498917523293"
      ]
     },
     "execution_count": 16,
     "metadata": {},
     "output_type": "execute_result"
    }
   ],
   "source": [
    "p_click[1] - p_click[0]"
   ]
  },
  {
   "cell_type": "markdown",
   "metadata": {},
   "source": [
    "#### 分析法 "
   ]
  },
  {
   "cell_type": "code",
   "execution_count": 17,
   "metadata": {},
   "outputs": [],
   "source": [
    "# get number of trials and overall 'success' rate under null\n",
    "n_control = data.groupby('condition').size()[0]\n",
    "n_exper = data.groupby('condition').size()[1]\n",
    "p_null = data['click'].mean()"
   ]
  },
  {
   "cell_type": "code",
   "execution_count": 18,
   "metadata": {},
   "outputs": [
    {
     "name": "stdout",
     "output_type": "stream",
     "text": [
      "1.7571887396196666\n",
      "0.039442821974613684\n"
     ]
    }
   ],
   "source": [
    "# compute standard error, z-score, and p-value\n",
    "se_p = np.sqrt(p_null * (1-p_null) * (1/n_control + 1/n_exper))\n",
    "\n",
    "z = (p_click[1] - p_click[0]) / se_p\n",
    "print(z)\n",
    "print(1-stats.norm.cdf(z))"
   ]
  },
  {
   "attachments": {
    "image.png": {
     "image/png": "[encoded data removed]"
    }
   },
   "cell_type": "markdown",
   "metadata": {},
   "source": [
    "![image.png](attachment:image.png)"
   ]
  },
  {
   "cell_type": "markdown",
   "metadata": {},
   "source": [
    "### 模拟法"
   ]
  },
  {
   "cell_type": "code",
   "execution_count": 19,
   "metadata": {},
   "outputs": [],
   "source": [
    "# get number of trials and overall 'success' rate under null\n",
    "n_control = data.groupby('condition').size()[0]\n",
    "n_exper = data.groupby('condition').size()[1]\n",
    "p_null = data['click'].mean()"
   ]
  },
  {
   "cell_type": "code",
   "execution_count": 20,
   "metadata": {},
   "outputs": [
    {
     "name": "stdout",
     "output_type": "stream",
     "text": [
      "0.03969\n"
     ]
    }
   ],
   "source": [
    "# simulate outcomes under null, compare to observed outcome\n",
    "n_trials = 200_000\n",
    "\n",
    "ctrl_clicks = np.random.binomial(n_control, p_null, n_trials)\n",
    "exp_clicks = np.random.binomial(n_exper, p_null, n_trials)\n",
    "samples = exp_clicks / n_exper - ctrl_clicks / n_control\n",
    "\n",
    "print((samples >= (p_click[1] - p_click[0])).mean())"
   ]
  },
  {
   "cell_type": "markdown",
   "metadata": {},
   "source": [
    "从最终的结果中可以看到p值小于0.05，具有统计显著性。"
   ]
  },
  {
   "cell_type": "markdown",
   "metadata": {},
   "source": [
    "## 实际显著性\n",
    "\n",
    "只是具有统计显著性，还不足以进行部署，还需要考虑实际显著性。比如，接收优惠券的人群消费量确实比没接收优惠券的人多，具有统计显著性，但经过计算之后，发现，接收优惠券的人带来的净利润（收益-优惠券-成本）并没有比控制组的高，也就不具有实际显著性。"
   ]
  },
  {
   "cell_type": "markdown",
   "metadata": {},
   "source": [
    "## 实验人数（size）"
   ]
  },
  {
   "cell_type": "markdown",
   "metadata": {},
   "source": [
    "实际显著性不仅可以帮助最后的决策，还可以帮助划定实验人数范围。"
   ]
  },
  {
   "cell_type": "markdown",
   "metadata": {},
   "source": [
    "依然使用前面购物网站布局的例子，假设，原始网页的点击率为10%，我们希望新布局的点击率为12%，那么我们要记录多少个数据点，才能可靠地检测出这2%的变化呢？"
   ]
  },
  {
   "cell_type": "markdown",
   "metadata": {},
   "source": [
    "知识点：\n",
    "- 统计功效（Statistical Power）：拒绝零假设后，接受正确的备择假设概率。我们知道，在假设检验中有α错误和β错误。α错误是弃真错误（一类错误，零假设为真但被拒绝）， β错误是取伪错误（二类错误，零假设为假但被接受）。由此可知， 统计功效等于1-β。\n",
    "\n",
    "如下图中：红色表示零假设（new-old<=0）的分布，蓝色表示备择假设（new-old>0,差值至少为0.02）的分布。\n",
    "- 1. 我们可以取出其一类错误的临界点（即α=0.05）\n",
    "- 2. 将临界点位置与下方的备择假设曲线相匹配，那么，在虚线右侧即为**统计功效**0.44，在左侧即为二类错误β=0.56.\n",
    "\n",
    "![BxDx2T.png](https://s3.ax1x.com/2020/11/12/BxDx2T.png)\n",
    "\n",
    "**一般地，我们都会设置统计功效为0.8，并以此来计算实验人数**"
   ]
  },
  {
   "cell_type": "markdown",
   "metadata": {},
   "source": [
    "### 模拟分布"
   ]
  },
  {
   "cell_type": "code",
   "execution_count": 24,
   "metadata": {},
   "outputs": [],
   "source": [
    "# import packages\n",
    "import numpy as np\n",
    "import scipy.stats as stats\n",
    "\n",
    "import matplotlib.pyplot as plt\n",
    "%matplotlib inline"
   ]
  },
  {
   "cell_type": "code",
   "execution_count": 25,
   "metadata": {},
   "outputs": [],
   "source": [
    "def power(p_null, p_alt, n, alpha = .05, plot = True):\n",
    "    \"\"\"\n",
    "    计算两分布差值的统计功效\n",
    "    Compute the power of detecting the difference in two populations with \n",
    "    different proportion parameters, given a desired alpha rate.\n",
    "    \n",
    "    Input parameters:\n",
    "        p_null: 零假设下的成功率\n",
    "        p_alt : 备择假设下的成功率（要比p_null大）\n",
    "        n     : 在每组中的观测量\n",
    "        alpha : I类错误率\n",
    "        plot  : 是否需要绘制可视化\n",
    "    \n",
    "    Output value:\n",
    "        power : 在零假设下，检测出备择假设成功率与零假设成功率差值的统计功效\n",
    "    \"\"\"\n",
    "    \n",
    "    # Compute the power\n",
    "    # 计算零假设下，修改网页布局前后的标准差\n",
    "    se_null = np.sqrt((p_null * (1-p_null) + p_null * (1-p_null)) / n)\n",
    "    # 以0为均值，se_null为标准差，构建零假设下的模拟正态分布\n",
    "    null_dist = stats.norm(loc = 0, scale = se_null)\n",
    "    # 从该分布中，定位一类错误的临界点\n",
    "    p_crit = null_dist.ppf(1 - alpha)\n",
    "    \n",
    "    # 计算备择假设下，修改网页布局前后的标准差\n",
    "    se_alt  = np.sqrt((p_null * (1-p_null) + p_alt  * (1-p_alt) ) / n)\n",
    "    # 以p_alt - p_null为均值，se_alt为标准差，构建备择假设下的模拟正态分布\n",
    "    alt_dist = stats.norm(loc = p_alt - p_null, scale = se_alt)\n",
    "    # 以一类错误的临界点，计算二类错误率\n",
    "    beta = alt_dist.cdf(p_crit)\n",
    "    \n",
    "    if plot:\n",
    "        # Compute distribution heights\n",
    "        low_bound = null_dist.ppf(.01)\n",
    "        high_bound = alt_dist.ppf(.99)\n",
    "        x = np.linspace(low_bound, high_bound, 201)\n",
    "        y_null = null_dist.pdf(x)\n",
    "        y_alt = alt_dist.pdf(x)\n",
    "\n",
    "        # Plot the distributions\n",
    "        plt.plot(x, y_null)\n",
    "        plt.plot(x, y_alt)\n",
    "        plt.vlines(p_crit, 0, np.amax([null_dist.pdf(p_crit), alt_dist.pdf(p_crit)]),\n",
    "                   linestyles = '--')\n",
    "        plt.fill_between(x, y_null, 0, where = (x >= p_crit), alpha = .5)\n",
    "        plt.fill_between(x, y_alt , 0, where = (x <= p_crit), alpha = .5)\n",
    "        \n",
    "        plt.legend(['null','alt'])\n",
    "        plt.xlabel('difference')\n",
    "        plt.ylabel('density')\n",
    "        plt.show()\n",
    "    \n",
    "    # return power\n",
    "    return (1 - beta)\n",
    "    "
   ]
  },
  {
   "cell_type": "code",
   "execution_count": 26,
   "metadata": {},
   "outputs": [
    {
     "data": {
      "image/png": "[encoded data removed]",
      "text/plain": [
       "<Figure size 432x288 with 1 Axes>"
      ]
     },
     "metadata": {
      "needs_background": "light"
     },
     "output_type": "display_data"
    },
    {
     "data": {
      "text/plain": [
       "0.44122379261151545"
      ]
     },
     "execution_count": 26,
     "metadata": {},
     "output_type": "execute_result"
    }
   ],
   "source": [
    "power(.1, .12, 1000)"
   ]
  },
  {
   "cell_type": "markdown",
   "metadata": {},
   "source": [
    "### 统计计算"
   ]
  },
  {
   "cell_type": "markdown",
   "metadata": {},
   "source": [
    "\n",
    "Now that we've got some intuition for power by using trial and error, we can now approach a closed-form solution for computing a minimum experiment size. The key point to notice is that, for an $\\alpha$ and $\\beta$ both < .5, the critical value for determining statistical significance will fall between our null click-through rate and our alternative, desired click-through rate. So, the difference between $p_0$ and $p_1$ can be subdivided into the distance from $p_0$ to the critical value $p^*$ and the distance from $p^*$ to $p_1$.\n",
    "\n",
    "<img src= 'https://s3.ax1x.com/2020/11/12/BxyUEj.png'>\n",
    "\n",
    "Those subdivisions can be expressed in terms of the standard error and the z-scores:\n",
    "\n",
    "$$p^* - p_0 = z_{1-\\alpha} SE_{0},$$\n",
    "$$p_1 - p^* = -z_{\\beta} SE_{1};$$\n",
    "\n",
    "$$p_1 - p_0 = z_{1-\\alpha} SE_{0} - z_{\\beta} SE_{1}$$\n",
    "\n",
    "In turn, the standard errors can be expressed in terms of the standard deviations of the distributions, divided by the square root of the number of samples in each group:\n",
    "\n",
    "$$SE_{0} = \\frac{s_{0}}{\\sqrt{n}},$$\n",
    "$$SE_{1} = \\frac{s_{1}}{\\sqrt{n}}$$\n",
    "\n",
    "Substituting these values in and solving for $n$ will give us a formula for computing a minimum sample size to detect a specified difference, at the desired level of power:\n",
    "\n",
    "$$n = \\lceil \\big(\\frac{z_{\\alpha} s_{0} - z_{\\beta} s_{1}}{p_1 - p_0}\\big)^2 \\rceil$$\n",
    "\n",
    "where $\\lceil ... \\rceil$ represents the ceiling function, rounding up decimal values to the next-higher integer. Implement the necessary variables in the function below, and test them with the cells that follow."
   ]
  },
  {
   "cell_type": "code",
   "execution_count": 27,
   "metadata": {},
   "outputs": [],
   "source": [
    "def experiment_size(p_null, p_alt, alpha = .05, beta = .20):\n",
    "    \"\"\"\n",
    "    Compute the minimum number of samples needed to achieve a desired power\n",
    "    level for a given effect size.\n",
    "    \n",
    "    Input parameters:\n",
    "        p_null: base success rate under null hypothesis\n",
    "        p_alt : desired success rate to be detected\n",
    "        alpha : Type-I error rate\n",
    "        beta  : Type-II error rate\n",
    "    \n",
    "    Output value:\n",
    "        n : Number of samples required for each group to obtain desired power\n",
    "    \"\"\"\n",
    "    \n",
    "    # Get necessary z-scores and standard deviations (@ 1 obs per group)\n",
    "    z_null = stats.norm.ppf(1 - alpha)\n",
    "    z_alt  = stats.norm.ppf(beta)\n",
    "    sd_null = np.sqrt(p_null * (1-p_null) + p_null * (1-p_null))\n",
    "    sd_alt  = np.sqrt(p_null * (1-p_null) + p_alt  * (1-p_alt) )\n",
    "    \n",
    "    # Compute and return minimum sample size\n",
    "    p_diff = p_alt - p_null\n",
    "    n = ((z_null*sd_null - z_alt*sd_alt) / p_diff) ** 2\n",
    "    return np.ceil(n)"
   ]
  },
  {
   "cell_type": "code",
   "execution_count": 28,
   "metadata": {},
   "outputs": [
    {
     "data": {
      "text/plain": [
       "2863.0"
      ]
     },
     "execution_count": 28,
     "metadata": {},
     "output_type": "execute_result"
    }
   ],
   "source": [
    "experiment_size(.1, .12)"
   ]
  },
  {
   "cell_type": "markdown",
   "metadata": {},
   "source": [
    "所以，想要在一类错误为0.05，统计功效为0.8的前提下，可靠地观察到点击率从原来的0.1提升为0.12，**需要在每组中，设置2863个观测数据点。**"
   ]
  },
  {
   "cell_type": "markdown",
   "metadata": {},
   "source": [
    "### 使用拓展包计算"
   ]
  },
  {
   "cell_type": "code",
   "execution_count": 29,
   "metadata": {},
   "outputs": [
    {
     "data": {
      "text/plain": [
       "3020.515856462414"
      ]
     },
     "execution_count": 29,
     "metadata": {},
     "output_type": "execute_result"
    }
   ],
   "source": [
    "# example of using statsmodels for sample size calculation\n",
    "from statsmodels.stats.power import NormalIndPower\n",
    "from statsmodels.stats.proportion import proportion_effectsize\n",
    "\n",
    "# leave out the \"nobs\" parameter to solve for it\n",
    "NormalIndPower().solve_power(effect_size = proportion_effectsize(.12, .1), alpha = .05, power = 0.8,\n",
    "                             alternative = 'larger')"
   ]
  },
  {
   "cell_type": "markdown",
   "metadata": {},
   "source": [
    "此外，还可以使用现有的网页工具：[实验人数计算器](https://www.evanmiller.org/ab-testing/sample-size.html)"
   ]
  },
  {
   "cell_type": "markdown",
   "metadata": {},
   "source": [
    "## 虚拟测试（dummy test, A/A-Test）"
   ]
  },
  {
   "cell_type": "markdown",
   "metadata": {},
   "source": [
    "虚拟测试是指，在随机分成的用户组中，不进行任何改变，直接进行测试，所以也被称作A/A-Test。\n",
    "\n",
    "进行虚拟测试主要有两点：\n",
    "- 检查实验是否可以达到预期，比如每组是否分配了相等数量的用户；他们的特征分布等不变指标是否一致；检查最终结果是否像预想中一样，没有任何变化；\n",
    "- 收集指标行为信息：可以得到基础比率，了解测试需要时长等等。\n",
    "\n",
    "还需注意：\n",
    "- dummy test需要在A/B-Test之前；\n",
    "- dummy test也需要时间，所以有可能会耽误A/B-Test，比较适合用户量较大的产品。"
   ]
  },
  {
   "cell_type": "markdown",
   "metadata": {},
   "source": [
    "## 无参检验（Non-Parametric Test）"
   ]
  },
  {
   "cell_type": "markdown",
   "metadata": {},
   "source": [
    "到目前为止，我们在设计和分析实验时，对正态分布的均值采用的都是标准假设检验。但是其要求**样本必须满足近似正态，无离群点，数据量大**等要求；而有些时候其实很难都满足以上前提条件，则这时需要使用无参检验。"
   ]
  },
  {
   "cell_type": "markdown",
   "metadata": {},
   "source": [
    "### 自助取样（Bootstrapping）"
   ]
  },
  {
   "cell_type": "markdown",
   "metadata": {},
   "source": [
    "自助法会使用实际收集的数据作为“总体”，重新进行**有放回的取样**，以生成新样本（新样本数据量与收集数据量相等），进行假设检验。\n",
    "\n",
    "其步骤为：\n",
    "- 初始化收集的数据量len_old，以及有放回抽样的结果列表samples\n",
    "- 循环进行n_trails次随机抽样实验：\n",
    "    - 从数据中有放回的抽样len_old次\n",
    "    - 利用随机抽样的结果，计算统计量\n",
    "    - 将统计量添加到结果列表samples中\n",
    "- 计算结果列表的置信区间（95%）"
   ]
  },
  {
   "cell_type": "code",
   "execution_count": 31,
   "metadata": {},
   "outputs": [],
   "source": [
    "def quantile_ci(data, q, c = .95, n_trials = 1000):\n",
    "    \"\"\"\n",
    "    Compute a confidence interval for a quantile of a dataset using a bootstrap\n",
    "    method.\n",
    "    \n",
    "    Input parameters:\n",
    "        data: data in form of 1-D array-like (e.g. numpy array or Pandas series)\n",
    "        q: quantile to be estimated, must be between 0 and 1\n",
    "        c: confidence interval width\n",
    "        n_trials: number of bootstrap samples to perform\n",
    "    \n",
    "    Output value:\n",
    "        ci: Tuple indicating lower and upper bounds of bootstrapped\n",
    "            confidence interval\n",
    "    \"\"\"\n",
    "    \n",
    "    # initialize storage of bootstrapped sample quantiles\n",
    "    n_points = len(data)# number of data points\n",
    "    sample_qs = []# storage of sampled quantiles\n",
    "    \n",
    "    # For each trial...\n",
    "    for _ in range(n_trials):\n",
    "        # draw a random sample from the data with replacement...\n",
    "        sample = np.random.choice(data,n_points,replace=True)\n",
    "        \n",
    "        # compute the desired quantile...\n",
    "        sample_q = np.percentile(sample, 100 * q)\n",
    "        \n",
    "        # and add the value to the list of sampled quantiles\n",
    "        sample_qs.append(sample_q)\n",
    "        \n",
    "        \n",
    "    # Compute the confidence interval bounds\n",
    "    lower_limit = np.percentile(sample_qs, (1 - c)/2 * 100)\n",
    "    upper_limit = np.percentile(sample_qs, (1 + c)/2 * 100)\n",
    "    \n",
    "    return (lower_limit, upper_limit)"
   ]
  },
  {
   "cell_type": "code",
   "execution_count": 32,
   "metadata": {},
   "outputs": [
    {
     "data": {
      "text/html": [
       "<div>\n",
       "<style scoped>\n",
       "    .dataframe tbody tr th:only-of-type {\n",
       "        vertical-align: middle;\n",
       "    }\n",
       "\n",
       "    .dataframe tbody tr th {\n",
       "        vertical-align: top;\n",
       "    }\n",
       "\n",
       "    .dataframe thead th {\n",
       "        text-align: right;\n",
       "    }\n",
       "</style>\n",
       "<table border=\"1\" class=\"dataframe\">\n",
       "  <thead>\n",
       "    <tr style=\"text-align: right;\">\n",
       "      <th></th>\n",
       "      <th>time</th>\n",
       "    </tr>\n",
       "  </thead>\n",
       "  <tbody>\n",
       "    <tr>\n",
       "      <th>0</th>\n",
       "      <td>8152</td>\n",
       "    </tr>\n",
       "    <tr>\n",
       "      <th>1</th>\n",
       "      <td>2082</td>\n",
       "    </tr>\n",
       "    <tr>\n",
       "      <th>2</th>\n",
       "      <td>3049</td>\n",
       "    </tr>\n",
       "  </tbody>\n",
       "</table>\n",
       "</div>"
      ],
      "text/plain": [
       "   time\n",
       "0  8152\n",
       "1  2082\n",
       "2  3049"
      ]
     },
     "execution_count": 32,
     "metadata": {},
     "output_type": "execute_result"
    }
   ],
   "source": [
    "data = pd.read_csv('data/bootstrapping_data.csv')\n",
    "data.head(3)"
   ]
  },
  {
   "cell_type": "code",
   "execution_count": 33,
   "metadata": {},
   "outputs": [
    {
     "data": {
      "image/png": "[encoded data removed]",
      "text/plain": [
       "<Figure size 432x288 with 1 Axes>"
      ]
     },
     "metadata": {
      "needs_background": "light"
     },
     "output_type": "display_data"
    }
   ],
   "source": [
    "# data visualization\n",
    "plt.hist(data['time'], bins = np.arange(0, data['time'].max()+400, 400));"
   ]
  },
  {
   "cell_type": "code",
   "execution_count": 34,
   "metadata": {},
   "outputs": [
    {
     "name": "stdout",
     "output_type": "stream",
     "text": [
      "(5497.9825, 5834.300000000001)\n"
     ]
    }
   ],
   "source": [
    "# 查看收集的数据中，90%分位数所在的95%置信区间\n",
    "lims = quantile_ci(data['time'], 0.9)\n",
    "print(lims)"
   ]
  },
  {
   "cell_type": "markdown",
   "metadata": {},
   "source": [
    "#### 自助法注意事项\n",
    "\n",
    "与真实世界相比，通过自助法获得的置信区间更加乐观。这是因为我们没有关于真实世界的参数化模型，对于真实世界还有一些不了解的情况。\n",
    "\n",
    "但是，假如我们想尝试了解最大值分布的极端情形：**置信区间永远无法包含大于最大观察值的值**，很有可能有一些未观察到的值大于我们观察到的值，尤其是像示例中所演示的偏斜数据。\n",
    "\n",
    "但是这并不能否定自助法的优势。自助流程很简单直白。由于不对数据分布做出假设，所以**适用于任何情形**。结果应该与标准检验的不相上下。**但是需要投入计算精力，并且输出取决于输入数据**。"
   ]
  },
  {
   "cell_type": "markdown",
   "metadata": {},
   "source": [
    "### 置换检验（Permutation Test）"
   ]
  },
  {
   "cell_type": "markdown",
   "metadata": {},
   "source": [
    "置换检验，是Fisher提出的一种基于大量计算（computationally intensive），利用样本数据的随机排列（置换检验的核心思想，故名Permutation test），进行统计推断的方法。因其对总体分布自由，特别适合用于总体分布未知的小样本数据，以及一些常规方法难以使用的假设检验情况。"
   ]
  },
  {
   "cell_type": "markdown",
   "metadata": {},
   "source": [
    "置换检验是一种重新抽样检验，用于比较两组或多组之间的结果变量的值。在置换检验中，我们对组标签进行重新抽样。原理是，在零假设下，所有组的结果分布应该一样，无论是对照组还是实验组。所以，我们可以将所有数据值当做一个大的小组，并模拟零假设。将标签随机地分配给数据点（同时保持原始小组成员比例）可以得出零假设的一个模拟结果。\n",
    "\n",
    "剩下的步骤与标准假设检验中使用的抽样方法类似，但是我们尚未指定要从中抽样的参考分布，我们直接从收集的数据中抽样。将标签随机分配给所有数据并多次记录结果统计量后，我们将实际观察到的统计量与模拟统计量进行比较。我们看看有多少模拟统计值和实际观察到的统计值一样极端或更极端，并算出 p 值，然后得出结论。"
   ]
  },
  {
   "cell_type": "markdown",
   "metadata": {},
   "source": [
    "其步骤为：\n",
    "- 初始化结果列表samples，用于储存样本统计量的差值\n",
    "- 循环进行n_trails次实验：\n",
    "    - 随机重排数据点对应的标签，生成一个置换样本\n",
    "    - 基于置换样本，计算两组（或多组）数据的统计量差值，并将其储存在结果列表samples中\n",
    "- 计算实际观测数据中，两组数据的统计量差值\n",
    "- 查看samples中有多少样本大于或小于（这取决于备择假设的符号）实际观测数据的统计量差值，即为p值"
   ]
  },
  {
   "cell_type": "markdown",
   "metadata": {},
   "source": [
    "如下为利用置换检验，检验实验组次数的第90%分位数是否比对照组更小（具有统计显著性）："
   ]
  },
  {
   "cell_type": "code",
   "execution_count": 36,
   "metadata": {},
   "outputs": [],
   "source": [
    "def quantile_permtest(x, y, q, alternative = 'less', n_trials = 10_000):\n",
    "    \"\"\"\n",
    "    Compute a confidence interval for a quantile of a dataset using a bootstrap\n",
    "    method.\n",
    "    \n",
    "    Input parameters:\n",
    "        x: 1-D array-like of data for independent / grouping feature as 0s and 1s\n",
    "        y: 1-D array-like of data for dependent / output feature\n",
    "        q: quantile to be estimated, must be between 0 and 1\n",
    "        alternative: type of test to perform, {'less', 'greater'}\n",
    "        n_trials: number of permutation trials to perform\n",
    "    \n",
    "    Output value:\n",
    "        p: estimated p-value of test\n",
    "    \"\"\"\n",
    "    \n",
    "    \n",
    "    # initialize storage of bootstrapped sample quantiles\n",
    "    sample_diffs = []\n",
    "    \n",
    "    # For each trial...\n",
    "    for _ in range(n_trials):\n",
    "        # randomly permute the grouping labels\n",
    "        labels = np.random.permutation(y)\n",
    "        \n",
    "        # compute the difference in quantiles\n",
    "        cond_q = np.percentile(x[labels == 0], 100 * q)\n",
    "        exp_q  = np.percentile(x[labels == 1], 100 * q)\n",
    "        \n",
    "        # and add the value to the list of sampled differences\n",
    "        sample_diffs.append(exp_q-cond_q)\n",
    "    \n",
    "    # compute observed statistic\n",
    "    cond_q = np.percentile(x[y == 0], 100 * q)\n",
    "    exp_q  = np.percentile(x[y == 1], 100 * q)\n",
    "    obs_diff = exp_q - cond_q\n",
    "    \n",
    "    \n",
    "    # compute a p-value\n",
    "    if alternative == 'less':\n",
    "        hits = (sample_diffs <= obs_diff).sum()\n",
    "    elif alternative == 'greater':\n",
    "        hits = (sample_diffs >= obs_diff).sum()\n",
    "    \n",
    "    return (hits / n_trials)"
   ]
  },
  {
   "cell_type": "code",
   "execution_count": 37,
   "metadata": {},
   "outputs": [
    {
     "data": {
      "text/html": [
       "<div>\n",
       "<style scoped>\n",
       "    .dataframe tbody tr th:only-of-type {\n",
       "        vertical-align: middle;\n",
       "    }\n",
       "\n",
       "    .dataframe tbody tr th {\n",
       "        vertical-align: top;\n",
       "    }\n",
       "\n",
       "    .dataframe thead th {\n",
       "        text-align: right;\n",
       "    }\n",
       "</style>\n",
       "<table border=\"1\" class=\"dataframe\">\n",
       "  <thead>\n",
       "    <tr style=\"text-align: right;\">\n",
       "      <th></th>\n",
       "      <th>condition</th>\n",
       "      <th>time</th>\n",
       "    </tr>\n",
       "  </thead>\n",
       "  <tbody>\n",
       "    <tr>\n",
       "      <th>0</th>\n",
       "      <td>0</td>\n",
       "      <td>5940</td>\n",
       "    </tr>\n",
       "    <tr>\n",
       "      <th>1</th>\n",
       "      <td>0</td>\n",
       "      <td>666</td>\n",
       "    </tr>\n",
       "    <tr>\n",
       "      <th>2</th>\n",
       "      <td>1</td>\n",
       "      <td>571</td>\n",
       "    </tr>\n",
       "  </tbody>\n",
       "</table>\n",
       "</div>"
      ],
      "text/plain": [
       "   condition  time\n",
       "0          0  5940\n",
       "1          0   666\n",
       "2          1   571"
      ]
     },
     "execution_count": 37,
     "metadata": {},
     "output_type": "execute_result"
    }
   ],
   "source": [
    "data = pd.read_csv('data/permutation_data.csv')\n",
    "data.head(3)"
   ]
  },
  {
   "cell_type": "code",
   "execution_count": 38,
   "metadata": {},
   "outputs": [
    {
     "data": {
      "image/png": "[encoded data removed]",
      "text/plain": [
       "<Figure size 432x288 with 1 Axes>"
      ]
     },
     "metadata": {
      "needs_background": "light"
     },
     "output_type": "display_data"
    }
   ],
   "source": [
    "# data visualization\n",
    "bin_borders = np.arange(0, data['time'].max()+400, 400)\n",
    "plt.hist(data[data['condition'] == 0]['time'], alpha = 0.5, bins = bin_borders)\n",
    "plt.hist(data[data['condition'] == 1]['time'], alpha = 0.5, bins = bin_borders)\n",
    "plt.legend(labels = ['control', 'experiment']);"
   ]
  },
  {
   "cell_type": "code",
   "execution_count": 39,
   "metadata": {},
   "outputs": [
    {
     "name": "stdout",
     "output_type": "stream",
     "text": [
      "5809.199999999999 5492.2\n"
     ]
    }
   ],
   "source": [
    "# Just how different are the two distributions' 90th percentiles?\n",
    "print(np.percentile(data[data['condition'] == 0]['time'], 90),\n",
    "      np.percentile(data[data['condition'] == 1]['time'], 90))"
   ]
  },
  {
   "cell_type": "code",
   "execution_count": 40,
   "metadata": {},
   "outputs": [
    {
     "data": {
      "text/plain": [
       "0.0341"
      ]
     },
     "execution_count": 40,
     "metadata": {},
     "output_type": "execute_result"
    }
   ],
   "source": [
    "quantile_permtest(data['time'], data['condition'], 0.9,\n",
    "                  alternative = 'less')"
   ]
  },
  {
   "cell_type": "markdown",
   "metadata": {},
   "source": [
    "### 秩和检验（曼-惠特尼检验，Rank-Sum Test (Mann-Whitney)）"
   ]
  },
  {
   "cell_type": "markdown",
   "metadata": {},
   "source": [
    "秩和检验与之前的两个方法差别很大。不需要重新抽样，仅对存在的数据进行检验。秩和检验又称为曼-惠特尼 U 检验，它并不检验特定的统计量，例如均值或中值。而是**检验分布**：假设我们随机地从每个小组的总体中抽取一个值。**零假设表示更大的值来自第一个小组的概率与来自第二个小组的概率一样**；**备择假设表示这两个概率不相同**，可以表示为单尾或双尾检验。\n",
    "\n",
    "为了检验这种假设，我们应该查看收集的数据，并看看在多少情形下一个小组的值大于另一个小组的值。即对于第一个小组中的每个数据点，我们都数数第二个小组里有多少值小于它。（如果两个值相等，则表示打成平手，使计数器加0.5。）第一组获胜的数量用值 $U$ 表示。\n",
    "\n",
    "如果样本量足够大的话，则 $U$ 大致呈正态分布。如果第一组有 $n_1$ 个数据点，第二组有 $n_2$ 个数据点，那么总共有 $n_1 n_2$ 次比对和同等数量的获胜点。在零假设下，获胜次数在两组之间的分布应该是均匀的，所以**获胜次数的期望**为 $\\mu_U = \\frac{n_1 n_2}{2}$。**获胜次数的标准差**可以用以下方程表示（假设没有平局或只有少数几个平局）：\n",
    "\n",
    "$$ \n",
    "\\sigma_U = \\sqrt{\\frac{n_1n_2(n_1+n_2+1)}{12}}\n",
    "$$\n",
    "\n",
    "$\\mu_U$ 和 $\\sigma_U$ 值然后可以用来计算标准正态 z 分数，进而生成 p 值。\n",
    "\n",
    "\n",
    "\n"
   ]
  },
  {
   "cell_type": "markdown",
   "metadata": {},
   "source": [
    "请在以下单元格中实现秩和检验方法。"
   ]
  },
  {
   "cell_type": "code",
   "execution_count": 41,
   "metadata": {},
   "outputs": [],
   "source": [
    "def ranked_sum(x, y, alternative = 'two-sided'):\n",
    "    \"\"\"\n",
    "    Return a p-value for a ranked-sum test, assuming no ties.\n",
    "    \n",
    "    Input parameters:\n",
    "        x: 1-D array-like of data for first group\n",
    "        y: 1-D array-like of data for second group\n",
    "        alternative: type of test to perform, {'two-sided', less', 'greater'}\n",
    "    \n",
    "    Output value:\n",
    "        p: estimated p-value of test\n",
    "    \"\"\"\n",
    "    \n",
    "    # compute U\n",
    "    u = 0\n",
    "    for i in x:\n",
    "        wins = (i > y).sum()\n",
    "        ties = (i == y).sum()\n",
    "        u += wins + 0.5 * ties\n",
    "    \n",
    "    # compute a z-score\n",
    "    n_1 = len(x)\n",
    "    n_2 = len(y)\n",
    "    mean_u = n_1 * n_2 / 2# expected value for U statistic\n",
    "    sd_u = np.sqrt((n_1 * n_2 * (n_1 + n_2 + 1))/12)# expected standard deviation for U statistic\n",
    "    z = (u - mean_u) / sd_u# U value z-score\n",
    "    \n",
    "    # compute a p-value\n",
    "    if alternative == 'two-sided':\n",
    "        p = 2 * stats.norm.cdf(-np.abs(z))\n",
    "    if alternative == 'less':\n",
    "        p = stats.norm.cdf(z)\n",
    "    elif alternative == 'greater':\n",
    "        p = stats.norm.cdf(-z)\n",
    "    \n",
    "    return p"
   ]
  },
  {
   "cell_type": "code",
   "execution_count": 42,
   "metadata": {},
   "outputs": [
    {
     "data": {
      "text/html": [
       "<div>\n",
       "<style scoped>\n",
       "    .dataframe tbody tr th:only-of-type {\n",
       "        vertical-align: middle;\n",
       "    }\n",
       "\n",
       "    .dataframe tbody tr th {\n",
       "        vertical-align: top;\n",
       "    }\n",
       "\n",
       "    .dataframe thead th {\n",
       "        text-align: right;\n",
       "    }\n",
       "</style>\n",
       "<table border=\"1\" class=\"dataframe\">\n",
       "  <thead>\n",
       "    <tr style=\"text-align: right;\">\n",
       "      <th></th>\n",
       "      <th>condition</th>\n",
       "      <th>time</th>\n",
       "    </tr>\n",
       "  </thead>\n",
       "  <tbody>\n",
       "    <tr>\n",
       "      <th>0</th>\n",
       "      <td>0</td>\n",
       "      <td>5940</td>\n",
       "    </tr>\n",
       "    <tr>\n",
       "      <th>1</th>\n",
       "      <td>0</td>\n",
       "      <td>666</td>\n",
       "    </tr>\n",
       "    <tr>\n",
       "      <th>2</th>\n",
       "      <td>1</td>\n",
       "      <td>571</td>\n",
       "    </tr>\n",
       "  </tbody>\n",
       "</table>\n",
       "</div>"
      ],
      "text/plain": [
       "   condition  time\n",
       "0          0  5940\n",
       "1          0   666\n",
       "2          1   571"
      ]
     },
     "execution_count": 42,
     "metadata": {},
     "output_type": "execute_result"
    }
   ],
   "source": [
    "data = pd.read_csv('data/permutation_data.csv')\n",
    "data.head(3)"
   ]
  },
  {
   "cell_type": "code",
   "execution_count": 43,
   "metadata": {},
   "outputs": [
    {
     "data": {
      "image/png": "[encoded data removed]",
      "text/plain": [
       "<Figure size 432x288 with 1 Axes>"
      ]
     },
     "metadata": {
      "needs_background": "light"
     },
     "output_type": "display_data"
    }
   ],
   "source": [
    "# data visualization\n",
    "bin_borders = np.arange(0, data['time'].max()+400, 400)\n",
    "plt.hist(data[data['condition'] == 0]['time'], alpha = 0.5, bins = bin_borders)\n",
    "plt.hist(data[data['condition'] == 1]['time'], alpha = 0.5, bins = bin_borders)\n",
    "plt.legend(labels = ['control', 'experiment']);"
   ]
  },
  {
   "cell_type": "code",
   "execution_count": 44,
   "metadata": {},
   "outputs": [
    {
     "data": {
      "text/plain": [
       "0.001752226502296106"
      ]
     },
     "execution_count": 44,
     "metadata": {},
     "output_type": "execute_result"
    }
   ],
   "source": [
    "ranked_sum(data[data['condition'] == 0]['time'],\n",
    "           data[data['condition'] == 1]['time'],\n",
    "           alternative = 'greater')"
   ]
  },
  {
   "cell_type": "markdown",
   "metadata": {},
   "source": [
    "#### 秩和检验注意事项\n",
    "\n",
    "如果样本量更小，可以进行**置换检验**。在检查某个值的所有可能小组标签分配的获胜分布后，可以计算 p 值并判断实际观察到的 $U$ 有多不寻常。\n",
    "\n",
    "此外，scipy stats 软件包中已经有一个函数 [`mannwhitneyu`](https://docs.scipy.org/doc/scipy/reference/generated/scipy.stats.mannwhitneyu.html) 能够执行曼惠特尼 U 检验。此函数考虑的因素比上述实现要多，包括对平局的标准差进行校正，以及连续校正（因为我们通过连续分布逼近离散值分布）。\n",
    "\n",
    "此外，他们采取的方法计算更高效，基于的是**秩和**（因而得名秩和检验），而不是上面解释的比对方法。\n",
    "\n",
    ">什么是秩（rank）？\n",
    "- 即将n个样本数据从小到大排序，最小的秩为1，最大的秩为n；\n",
    "- 特殊的，如果存在相等数据，则计算秩平均，如`0,1,1,1,2`，则三个`1`的秩均为`(2+3+4)/3=3`；\n",
    "\n",
    "> 什么是秩和（rank sum）？\n",
    "- 现设1，2两总体分别抽取容量为n1,n2的样本，且设两样本独立。这里总假定 n1<>n2。\n",
    "- 我们将这n1 + n2个观察值放在一起，按自小到大的次序排列，求出每个观察值的秩，然后将属于第1个总体的样本观察值的秩相加，其和记为R1，称为第1样本的秩和，其余观察值的秩的总和记作R2，称为第2样本的秩和。显然，R1和R2是离散型随机变量，且有R1+R2=( (n1+n2)(n1+n2+1) )/2.（即 秩最小为1，最大为n1+n2，一共有n1+n2个数，（连续等差数列的和））\n",
    "\n",
    "\n",
    "参考资料：[维基百科文章](https://en.wikipedia.org/wiki/Mann%E2%80%93Whitney_U_test)"
   ]
  },
  {
   "cell_type": "code",
   "execution_count": 45,
   "metadata": {},
   "outputs": [
    {
     "data": {
      "text/plain": [
       "MannwhitneyuResult(statistic=3273546.0, pvalue=0.001752280226004597)"
      ]
     },
     "execution_count": 45,
     "metadata": {},
     "output_type": "execute_result"
    }
   ],
   "source": [
    "stats.mannwhitneyu(data[data['condition'] == 0]['time'],\n",
    "                   data[data['condition'] == 1]['time'],\n",
    "                   alternative = 'greater')"
   ]
  },
  {
   "cell_type": "markdown",
   "metadata": {},
   "source": [
    "## 多指标分析"
   ]
  },
  {
   "attachments": {},
   "cell_type": "markdown",
   "metadata": {},
   "source": [
    "假如我们现在使用两个相互独立的指标，用于评价测试是否成功：\n",
    "- 两指标相互独立\n",
    "- 两指标都设置5%作为I类错误阈值\n",
    "- 两指标只需满足一条统计显著性，即判定测试成功\n",
    "\n",
    "那么，我们实际上，错误判断测试成功的概率有多少呢？\n",
    "\n",
    "$$P(单指标不具统计显著性) = 1 - 0.05 = 0.95$$\n",
    "$$P(至少有一指标具有统计显著性) = 1 - 0.95 * 0.95 = 0.0975$$\n",
    "\n",
    "从如上的结果中，可以看到，当前判断错误的概率为9.75%，已经远超5%了。\n"
   ]
  },
  {
   "cell_type": "markdown",
   "metadata": {},
   "source": [
    "如下图所示，是至少有一项指标具有统计显著性时，随着指标数量的提升，判断错误的概率变化趋势。"
   ]
  },
  {
   "cell_type": "markdown",
   "metadata": {},
   "source": [
    "![DpEbvD.png](https://s3.ax1x.com/2020/11/13/DpEbvD.png)"
   ]
  },
  {
   "cell_type": "markdown",
   "metadata": {},
   "source": [
    "所以，我们需要对每个指标的I类错误进行矫正，其中最简单的便是**邦费罗尼矫正（Bonferroni correction）**，其矫正公式为：\n",
    "$$\\alpha_{矫正} = \\frac{\\alpha_{之前}}{n}; n为指标数量$$"
   ]
  },
  {
   "cell_type": "markdown",
   "metadata": {},
   "source": [
    "我们使用该方法校正后，重新计算：\n",
    "$$P(单指标不具统计显著性) = 1 - 0.05 / 2 = 0.975$$\n",
    "$$P(至少有一指标具有统计显著性) = 1 - 0.975 * 0.975 = 0.0493 < 0.05$$"
   ]
  },
  {
   "cell_type": "markdown",
   "metadata": {},
   "source": [
    "此外，还可以使用**Šidák correction**：\n",
    "$$\\alpha_{矫正} = 1 − (1 − \\alpha_{之前})^{1/n}; n为指标数量$$"
   ]
  },
  {
   "cell_type": "markdown",
   "metadata": {},
   "source": [
    "## 提前终止实验（Early Stopping）"
   ]
  },
  {
   "cell_type": "markdown",
   "metadata": {},
   "source": [
    "在试验过程中，最好不要中途窥视结果，并想要提前终止实验，因为会获得更高的判断错误（I类错误）率（约为8.6%）。\n",
    "\n",
    "但也并非不可以提前终止，这就需要我们提前进行模拟实验，然后校正指标的I类错误。"
   ]
  },
  {
   "cell_type": "markdown",
   "metadata": {},
   "source": [
    "## A/B-Test 实战"
   ]
  },
  {
   "cell_type": "markdown",
   "metadata": {},
   "source": [
    "### 背景"
   ]
  },
  {
   "cell_type": "markdown",
   "metadata": {},
   "source": []
  },
  {
   "cell_type": "markdown",
   "metadata": {},
   "source": [
    "## A/B-Test阅读材料"
   ]
  },
  {
   "cell_type": "markdown",
   "metadata": {},
   "source": [
    "- [携程机票的ABTest实践](https://zhuanlan.zhihu.com/p/25685006)\n",
    "- [ABtest和假设检验、流量分配](https://zhuanlan.zhihu.com/p/36384858)"
   ]
  },
  {
   "cell_type": "code",
   "execution_count": null,
   "metadata": {},
   "outputs": [],
   "source": []
  },
  {
   "cell_type": "code",
   "execution_count": null,
   "metadata": {},
   "outputs": [],
   "source": []
  },
  {
   "cell_type": "code",
   "execution_count": null,
   "metadata": {},
   "outputs": [],
   "source": []
  },
  {
   "cell_type": "markdown",
   "metadata": {},
   "source": [
    "# 推荐系统"
   ]
  },
  {
   "cell_type": "markdown",
   "metadata": {},
   "source": [
    "当前推荐系统应用十分广泛，如淘宝推荐猜你喜欢的商品、网易云音乐推荐歌曲、爱奇艺推荐视频等等。\n",
    "\n",
    "在这部分内容中，我们将会学习&了解几种基础的推荐系统：\n",
    "- 基于知识（Knowledge Based）\n",
    "- 基于内容（Content Based）\n",
    "- 基于协同过滤（Collaborative Filtering Based）"
   ]
  },
  {
   "cell_type": "markdown",
   "metadata": {},
   "source": [
    "## 推荐系统示例"
   ]
  },
  {
   "cell_type": "markdown",
   "metadata": {},
   "source": [
    "- 有些推荐基于位置信息，例如交友应用的推荐；\n",
    "- 有些推荐，只是列出了热门内容，如沃尔玛官网；\n",
    "- 有些推荐基于之前的偏好设置，如B站。\n",
    "\n",
    "创建推荐的方式有很多种，需要基于特定的业务场景，来决定使用何种推荐算法。\n"
   ]
  },
  {
   "cell_type": "markdown",
   "metadata": {},
   "source": [
    "一些品牌：\n",
    "- LinkedIn和Facebook的交友推荐；\n",
    "- Airbnb的体验&目的地推荐；\n",
    "- 沃尔玛，亚马逊等零售商的商品推荐。"
   ]
  },
  {
   "cell_type": "markdown",
   "metadata": {},
   "source": [
    "## 基于知识的推荐系统"
   ]
  },
  {
   "cell_type": "markdown",
   "metadata": {},
   "source": [
    "- 基于排名的推荐系统：\n",
    "    - 基于某种指标进行排序，如最喜欢的，购买最多的，评分最高的等等；  \n",
    "    - 按照排名推荐热门电影\n",
    "- 基于知识的推荐系统：\n",
    "    - 需要用户提供对产品的偏好；  \n",
    "    - 在如上推荐系统中，根据用户的喜好选择，添加上一定的筛选条件，如在推荐电影时，用户喜好冒险类的电影，所以，这里就推荐”冒险类”排名靠前的电影，这就是基于知识的推荐系统\n",
    "    - 示例：贝壳app的筛选推荐。"
   ]
  },
  {
   "cell_type": "markdown",
   "metadata": {},
   "source": [
    "## 更个性化的推荐系统"
   ]
  },
  {
   "cell_type": "markdown",
   "metadata": {},
   "source": [
    "现在你已经掌握了一种向用户推荐热门内容的方法，但有时候我们需要在用户没有给出他的喜好时，也给用户推荐更个性化的内容，而不是简单的推荐一些热门内容。\n",
    "\n",
    "虽然《肖申克的救赎》是豆瓣热门电影Top1，但给所有人都推荐这部电影，并不合适。比如说对于一个家庭来说，虽然父亲可能更喜欢看这部电影，但母亲更偏向于爱情类的电影，而孩子可能只对动画片感兴趣。\n",
    "\n",
    "那这时候，我们就可以根据**用户与内容的互动**进行推荐，比如淘宝的猜你喜欢。"
   ]
  },
  {
   "cell_type": "markdown",
   "metadata": {},
   "source": [
    "根据用户与内容互动进行推荐的方式就叫做**协同过滤**。这种方法，我们不需要知道任何用户的背景信息，甚至不需要知道内容的背景信息，依然可以做出推荐，唯一需要获取的数据就是用户与内容的交互行为，比如用户对内容的评分，是否喜欢该内容等等。"
   ]
  },
  {
   "cell_type": "markdown",
   "metadata": {},
   "source": [
    "其主要分为两类：\n",
    "- 基于模型（Model），需要使用机器学习技巧\n",
    "- 基于近邻（Neighborhood），近邻也就是寻找跟当前被推荐用户关系紧密的个人，比如观看相同电影较多的用户群体就算是彼此的近邻。"
   ]
  },
  {
   "cell_type": "markdown",
   "metadata": {},
   "source": [
    "### 基于近邻的协同过滤"
   ]
  },
  {
   "cell_type": "markdown",
   "metadata": {},
   "source": [
    "如何确定近邻呢？\n",
    "- 基于相似度（similarity）\n",
    "    - 皮尔逊相关性（Pearson's Correlation）\n",
    "    - 斯皮尔曼相关性（Spearman's Correlation）\n",
    "    - Kendall's tau\n",
    "    - 如上这些衡量方法都在-1到1之间，越接近1，就说明越相似。所以，在进行推荐时，就需要找出这些系数最大的用户。    \n",
    "    \n",
    "- 基于距离（distance）\n",
    "    - 欧氏距离（Euclidean Distance）\n",
    "    - 曼哈顿距离（Manhattan Distance）\n",
    "    - 如上两个衡量方法在0到无穷大之间，我们需要找的，是那些接近于0的用户。\n",
    "    \n",
    "    \n",
    "对于这些指标，要根据具体业务场景进行选择。\n",
    "    \n"
   ]
  },
  {
   "cell_type": "markdown",
   "metadata": {},
   "source": [
    "实施协同过滤推荐：\n",
    "- 从近邻交互的内容中，筛选出评分较高/点赞/喜欢的内容\n",
    "- 从如上筛选出的内容中，删除掉被推荐用户已经看过/交互过的内容\n",
    "- 将上一步中的结果，推荐给用户"
   ]
  },
  {
   "cell_type": "markdown",
   "metadata": {},
   "source": [
    "那这样会有什么问题吗？比如说，推荐系统刚刚建立起来的时候，可能没有任何用户或者没有很多用户，这就会导致很多用户并不能获得推荐结果。"
   ]
  },
  {
   "cell_type": "markdown",
   "metadata": {},
   "source": [
    "这时候就需要使用**基于内容的推荐**方式"
   ]
  },
  {
   "cell_type": "markdown",
   "metadata": {},
   "source": [
    "## 基于内容的推荐系统"
   ]
  },
  {
   "cell_type": "markdown",
   "metadata": {},
   "source": [
    "比如说，有个用户刚买了一辆自行车，那么我们就可以基于**内容**，推荐自行车相关的东西，比如头盔、车灯等等。"
   ]
  },
  {
   "cell_type": "markdown",
   "metadata": {},
   "source": [
    "## 评估"
   ]
  },
  {
   "cell_type": "markdown",
   "metadata": {},
   "source": [
    "当给用户做出推荐之后，如何知道用户对推荐内容的评分呢？\n",
    "\n",
    "某些情景下，我们只知道用户与内容是否发生了互动，但我们想知道用户是否喜欢推荐的内容，那这种评分标准（rating scale）有很多，如：\n",
    "- 喜欢or不喜欢\n",
    "- 评分范围：非常差、差、中等、好、非常好\n",
    "\n",
    "更多可以参考：[Survey Response Scales: How to Choose the Right One](https://cxl.com/blog/survey-response-scales/)"
   ]
  },
  {
   "cell_type": "markdown",
   "metadata": {},
   "source": [
    "## 目标"
   ]
  },
  {
   "cell_type": "markdown",
   "metadata": {},
   "source": [
    "在通常情况下，推荐系统非常重要，因为它可以给公司带来经济上的收益，那么一个推荐系统的性能需要考虑如下四点：\n",
    "- 相关性（Relevance）：推荐的内容与用户相关；\n",
    "- 新奇性（Novelty）：推荐的内容不应该是用户已经接触过的；\n",
    "- 意外新发现（Serendipity）：这会让用户真正的惊喜，也就是推荐的内容并不是完全与用户历史相似，比如用户经常听经典音乐，然后推荐了一首乡村音乐，用户还意外地发现，自己很喜欢这首歌。这比较难实现，经常需要结合协同过滤与基于内容的推荐；\n",
    "- 多样性（Diversity）：推荐的内容多样性，才能至少有一个是被用户喜欢的。\n",
    "\n",
    " [In this article, Lab41 shows how they worked to quantify these metrics.](https://gab41.lab41.org/recommender-systems-its-not-all-about-the-accuracy-562c7dceeaff)\n",
    "\n"
   ]
  },
  {
   "cell_type": "markdown",
   "metadata": {},
   "source": [
    "## 小结"
   ]
  },
  {
   "cell_type": "markdown",
   "metadata": {},
   "source": [
    "如上我们一共学习&了解了x中推荐方法：\n",
    "- 基于知识的推荐系统：使用内容的相关知识给用户进行契合需求的推荐，经常用在奢侈品等交易量较少的购物网站，比如珠宝、汽车、二手房等等；\n",
    "- 协同过滤：使用用户-内容交互数据进行推荐；\n",
    "- 基于内容的推荐系统：使用内容之间的相似性（内容描述、功能、用途等等）进行推荐"
   ]
  },
  {
   "cell_type": "markdown",
   "metadata": {},
   "source": [
    "此外，还有一些其他的推荐方法，比如：\n",
    "- 基于地理位置信息的推荐：[As our smart phones become more addicting every day, it is easy to see why location based recommendations will be more and more popular](https://link.springer.com/referenceworkentry/10.1007%2F978-3-319-17885-1_1580)\n",
    "![B2wBUe.md.png](https://s1.ax1x.com/2020/11/05/B2wBUe.md.png)\n",
    "\n",
    "- 基于深度学习的推荐"
   ]
  }
 ],
 "metadata": {
  "kernelspec": {
   "display_name": "Python 3",
   "language": "python",
   "name": "python3"
  },
  "language_info": {
   "codemirror_mode": {
    "name": "ipython",
    "version": 3
   },
   "file_extension": ".py",
   "mimetype": "text/x-python",
   "name": "python",
   "nbconvert_exporter": "python",
   "pygments_lexer": "ipython3",
   "version": "3.6.8"
  },
  "toc": {
   "base_numbering": 1,
   "nav_menu": {},
   "number_sections": true,
   "sideBar": true,
   "skip_h1_title": false,
   "title_cell": "Table of Contents",
   "title_sidebar": "Contents",
   "toc_cell": false,
   "toc_position": {
    "height": "calc(100% - 180px)",
    "left": "10px",
    "top": "150px",
    "width": "165px"
   },
   "toc_section_display": true,
   "toc_window_display": true
  }
 },
 "nbformat": 4,
 "nbformat_minor": 2
}
