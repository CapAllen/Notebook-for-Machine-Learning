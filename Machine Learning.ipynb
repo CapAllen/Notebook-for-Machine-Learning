{
 "cells": [
  {
   "cell_type": "markdown",
   "metadata": {},
   "source": [
    "https://www.w3resource.com//machine-learning/scikit-learn/iris/index.php"
   ]
  },
  {
   "cell_type": "markdown",
   "metadata": {},
   "source": [
    "https://www.edx.org/course/machine-learning"
   ]
  },
  {
   "cell_type": "markdown",
   "metadata": {},
   "source": [
    "https://scikit-learn.org/stable/user_guide.html"
   ]
  },
  {
   "cell_type": "markdown",
   "metadata": {},
   "source": [
    "Kaggle Course"
   ]
  },
  {
   "cell_type": "markdown",
   "metadata": {},
   "source": [
    "\n",
    "- supervised(11)\n",
    "    - regression(2)\n",
    "        - linear\n",
    "        - lasso\n",
    "    - classification(9)\n",
    "        - decision tree\n",
    "        - bayes\n",
    "        - svm\n",
    "        - knn\n",
    "        - randomforeast\n",
    "        - adaboost\n",
    "        - gbdt\n",
    "        - xgboost\n",
    "        - lightgbm\n",
    "- unsupervised(5)\n",
    "    - clustering(3)\n",
    "        - kmeans\n",
    "        - DBSCAN\n",
    "        - GMM\n",
    "    - decrease dimension(2)\n",
    "        - pca\n",
    "        - lda\n",
    "- deeplearning(3)\n",
    "    - pytorch 手写体识别(3)\n",
    "        - basic\n",
    "        - add layer\n",
    "        - train\n",
    "- other (2)\n",
    "    - imbalanced data\n",
    "    - feature engineering"
   ]
  },
  {
   "cell_type": "markdown",
   "metadata": {},
   "source": [
    "data:？\n",
    "- 鸢尾花\n",
    "- "
   ]
  }
 ],
 "metadata": {
  "kernelspec": {
   "display_name": "Python 3",
   "language": "python",
   "name": "python3"
  },
  "language_info": {
   "codemirror_mode": {
    "name": "ipython",
    "version": 3
   },
   "file_extension": ".py",
   "mimetype": "text/x-python",
   "name": "python",
   "nbconvert_exporter": "python",
   "pygments_lexer": "ipython3",
   "version": "3.6.8"
  },
  "toc": {
   "base_numbering": 1,
   "nav_menu": {},
   "number_sections": true,
   "sideBar": true,
   "skip_h1_title": false,
   "title_cell": "Table of Contents",
   "title_sidebar": "Contents",
   "toc_cell": false,
   "toc_position": {},
   "toc_section_display": true,
   "toc_window_display": false
  }
 },
 "nbformat": 4,
 "nbformat_minor": 2
}
