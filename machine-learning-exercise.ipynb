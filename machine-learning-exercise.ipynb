{
 "cells": [
  {
   "cell_type": "markdown",
   "metadata": {},
   "source": [
    "# Machine Learning Exercise"
   ]
  },
  {
   "cell_type": "markdown",
   "metadata": {
    "_uuid": "d2a2b8741de2060d6c0a4126cd764a5b7514d0ef",
    "collapsed": true
   },
   "source": [
    "## 回归问题（Regression）\n",
    "\n",
    "### 线性回归（Linear Regression）\n",
    "\n"
   ]
  },
  {
   "cell_type": "code",
   "execution_count": 5,
   "metadata": {
    "_cell_guid": "b1076dfc-b9ad-4769-8c92-a6c4dae69d19",
    "_uuid": "8f2839f25d086af736a60e9eeb907d3b93b6e0e5"
   },
   "outputs": [
    {
     "name": "stdout",
     "output_type": "stream",
     "text": [
      "<class 'pandas.core.frame.DataFrame'>\n",
      "RangeIndex: 14 entries, 0 to 13\n",
      "Data columns (total 2 columns):\n",
      "x    14 non-null float64\n",
      "y    14 non-null int64\n",
      "dtypes: float64(1), int64(1)\n",
      "memory usage: 304.0 bytes\n",
      "None\n",
      "     x     y\n",
      "0  0.5  2500\n",
      "1  0.0  2250\n",
      "2  1.0  2750\n",
      "3  5.0  8000\n",
      "4  8.0  9000\n",
      "               x             y\n",
      "count  14.000000     14.000000\n",
      "mean    6.250000   8778.571429\n",
      "std     4.979767   5733.495185\n",
      "min     0.000000   2250.000000\n",
      "25%     2.250000   4125.000000\n",
      "50%     5.500000   7750.000000\n",
      "75%     9.500000  12000.000000\n",
      "max    15.000000  20000.000000\n"
     ]
    }
   ],
   "source": [
    "# 参考答案\n",
    "# 导入库\n",
    "import pandas as pd\n",
    "import matplotlib.pyplot as plt\n",
    "import math\n",
    "\n",
    "# 读取数据\n",
    "data = pd.read_csv(\"data/linear-regression-dataset.csv\")\n",
    "# 查看数据基本信息\n",
    "print(data.info())\n",
    "print(data.head())\n",
    "print(data.describe())"
   ]
  },
  {
   "cell_type": "code",
   "execution_count": 6,
   "metadata": {
    "_uuid": "f5762dd847253d7c3c994e8dddcfd61678db7b96"
   },
   "outputs": [
    {
     "data": {
      "image/png": "[encoded data removed]",
      "text/plain": [
       "<Figure size 432x288 with 1 Axes>"
      ]
     },
     "metadata": {
      "needs_background": "light"
     },
     "output_type": "display_data"
    }
   ],
   "source": [
    "# 使用散点图查看数据分布\n",
    "plt.scatter(data['x'],data['y'])\n",
    "# 设置轴标签\n",
    "plt.xlabel(\"deneyim\")\n",
    "plt.ylabel(\"maas\");"
   ]
  },
  {
   "cell_type": "code",
   "execution_count": 9,
   "metadata": {
    "_cell_guid": "79c7e3d0-c299-4dcb-8224-4455121ee9b0",
    "_uuid": "d629ff2d2480ee46fbb7e2d37f6b5fab8052498a",
    "scrolled": true
   },
   "outputs": [
    {
     "name": "stdout",
     "output_type": "stream",
     "text": [
      "R-Score:  0.9775283164949903\n"
     ]
    }
   ],
   "source": [
    "# 线性回归建模\n",
    "\n",
    "# 从sklearn库中导入线性回归函数\n",
    "from sklearn.linear_model import LinearRegression\n",
    "# 实例化线性回归\n",
    "linear_reg = LinearRegression()\n",
    "# 定义自变量与因变量\n",
    "x = data[['x']]\n",
    "y = data['y']\n",
    "# 训练模型\n",
    "linear_reg.fit(x,y)\n",
    "\n",
    "# 查看模型R^2评分\n",
    "print('R-Score: ', linear_reg.score(x, y))"
   ]
  },
  {
   "cell_type": "code",
   "execution_count": 12,
   "metadata": {},
   "outputs": [
    {
     "name": "stdout",
     "output_type": "stream",
     "text": [
      "x的系数为:  [1138.34819698]\n",
      "截距为:  1663.895197474103\n",
      "回归方程为: y = 1663.895197474103 + (x * 1138.3481969755721)\n"
     ]
    }
   ],
   "source": [
    "# 查看模型参数\n",
    "print(\"x的系数为: \", linear_reg.coef_)\n",
    "print(\"截距为: \", linear_reg.intercept_)\n",
    "print(\"回归方程为: y = \" + str(linear_reg.intercept_) + \" + (x * \" + str(linear_reg.coef_[0]) + \")\")"
   ]
  },
  {
   "cell_type": "code",
   "execution_count": 17,
   "metadata": {},
   "outputs": [
    {
     "data": {
      "text/plain": [
       "x    15.0\n",
       "dtype: float64"
      ]
     },
     "execution_count": 17,
     "metadata": {},
     "output_type": "execute_result"
    }
   ],
   "source": [
    "x.max()"
   ]
  },
  {
   "cell_type": "code",
   "execution_count": 19,
   "metadata": {
    "_uuid": "1959e6380288a6c7dbc07e8fb0b68d2659eb6b25"
   },
   "outputs": [
    {
     "data": {
      "image/png": "[encoded data removed]",
      "text/plain": [
       "<Figure size 432x288 with 1 Axes>"
      ]
     },
     "metadata": {
      "needs_background": "light"
     },
     "output_type": "display_data"
    }
   ],
   "source": [
    "# 查看预测结果\n",
    "import numpy as np\n",
    "# 定义预测用x\n",
    "array = np.arange(int(x.max())+2).reshape(-1,1)  \n",
    "\n",
    "# 绘制x与y的散点图\n",
    "plt.scatter(x,y)\n",
    "\n",
    "# 模型预测\n",
    "y_head = linear_reg.predict(array) \n",
    "# 绘制预测线，标记为红色\n",
    "plt.plot(array, y_head,color = \"red\");"
   ]
  },
  {
   "cell_type": "markdown",
   "metadata": {
    "_uuid": "cd10495240f73dd98b3a4a3884fc3490e2cbd09e"
   },
   "source": [
    "\n",
    "### 多重线性回归（Multiple Linear Regression）"
   ]
  },
  {
   "cell_type": "code",
   "execution_count": 25,
   "metadata": {
    "_uuid": "d795b93f69f1100865f142cc6e1269355da05de7"
   },
   "outputs": [
    {
     "name": "stdout",
     "output_type": "stream",
     "text": [
      "<class 'pandas.core.frame.DataFrame'>\n",
      "RangeIndex: 14 entries, 0 to 13\n",
      "Data columns (total 3 columns):\n",
      "x_1    14 non-null float64\n",
      "y      14 non-null int64\n",
      "x_2    14 non-null int64\n",
      "dtypes: float64(1), int64(2)\n",
      "memory usage: 416.0 bytes\n",
      "None\n",
      "   x_1     y  x_2\n",
      "0  0.5  2500   22\n",
      "1  0.0  2250   21\n",
      "2  1.0  2750   23\n",
      "3  5.0  8000   25\n",
      "4  8.0  9000   28\n",
      "             x_1             y        x_2\n",
      "count  14.000000     14.000000  14.000000\n",
      "mean    6.250000   8778.571429  26.714286\n",
      "std     4.979767   5733.495185   4.713786\n",
      "min     0.000000   2250.000000  21.000000\n",
      "25%     2.250000   4125.000000  23.000000\n",
      "50%     5.500000   7750.000000  26.000000\n",
      "75%     9.500000  12000.000000  29.750000\n",
      "max    15.000000  20000.000000  35.000000\n"
     ]
    }
   ],
   "source": [
    "# 导入库\n",
    "import pandas as pd\n",
    "import numpy as np\n",
    "from sklearn.linear_model import LinearRegression\n",
    "\n",
    "# 读入数据\n",
    "data = pd.read_csv(\"data/multiple-linear-regression-dataset.csv\")\n",
    "# 查看数据概览\n",
    "print(data.info())\n",
    "print(data.head())\n",
    "print(data.describe())"
   ]
  },
  {
   "cell_type": "code",
   "execution_count": 26,
   "metadata": {},
   "outputs": [
    {
     "name": "stdout",
     "output_type": "stream",
     "text": [
      "截距:  10376.627472275015\n",
      "系数:  [1525.50072054 -416.72218625]\n"
     ]
    }
   ],
   "source": [
    "# 定义自变量与因变量\n",
    "x = data.iloc[:,[0,2]]\n",
    "y = data['y'].values\n",
    "\n",
    "# 实例化线性回归模型\n",
    "multiple_linear_regression = LinearRegression()\n",
    "# 拟合\n",
    "multiple_linear_regression.fit(x,y)\n",
    "\n",
    "# 查看模型参数\n",
    "print(\"截距: \",multiple_linear_regression.intercept_)\n",
    "print(\"系数: \", multiple_linear_regression.coef_)"
   ]
  },
  {
   "cell_type": "code",
   "execution_count": 28,
   "metadata": {},
   "outputs": [],
   "source": [
    "# 预测\n",
    "x_ = np.array([[10,35],[5,35]])\n",
    "y_pred = multiple_linear_regression.predict(x) "
   ]
  },
  {
   "cell_type": "code",
   "execution_count": 29,
   "metadata": {
    "_uuid": "9efbff1b66e4a3d531515f54180b3202cbdb1814"
   },
   "outputs": [
    {
     "name": "stdout",
     "output_type": "stream",
     "text": [
      "r_square score:  0.9818393838730448\n"
     ]
    }
   ],
   "source": [
    "# 查看R方评分\n",
    "from sklearn.metrics import r2_score\n",
    "print(\"r_square score: \", r2_score(y,y_pred))"
   ]
  },
  {
   "cell_type": "markdown",
   "metadata": {
    "_uuid": "ab20c0cc55c15ab98ff8bf504cfcf4693a6c2b80"
   },
   "source": [
    "### 多项式线性回归（Polynomial Linear Regression）"
   ]
  },
  {
   "cell_type": "code",
   "execution_count": 36,
   "metadata": {
    "_uuid": "4d475404e278cd0ec2f8126cfd6f1dd9c81030bc"
   },
   "outputs": [
    {
     "name": "stdout",
     "output_type": "stream",
     "text": [
      "<class 'pandas.core.frame.DataFrame'>\n",
      "RangeIndex: 15 entries, 0 to 14\n",
      "Data columns (total 2 columns):\n",
      "总量    15 non-null int64\n",
      "增速    15 non-null int64\n",
      "dtypes: int64(2)\n",
      "memory usage: 320.0 bytes\n",
      "None\n",
      "    总量   增速\n",
      "0   60  180\n",
      "1   70  180\n",
      "2   80  200\n",
      "3  100  200\n",
      "4  120  200\n"
     ]
    }
   ],
   "source": [
    "# 导入库\n",
    "import pandas as pd\n",
    "import matplotlib.pyplot as plt\n",
    "# 设置中文字体\n",
    "plt.rcParams['font.sans-serif']=['simhei']\n",
    "\n",
    "# 读取数据\n",
    "data = pd.read_csv(\"data/polynomial-regression.csv\")\n",
    "# 查看数据概览\n",
    "print(data.info())\n",
    "print(data.head())\n",
    "#print(data.describe())"
   ]
  },
  {
   "cell_type": "code",
   "execution_count": 37,
   "metadata": {
    "_uuid": "1e41e06212bc02d68fab37dccecc471a2b28f84c"
   },
   "outputs": [
    {
     "data": {
      "image/png": "[encoded data removed]",
      "text/plain": [
       "<Figure size 432x288 with 1 Axes>"
      ]
     },
     "metadata": {
      "needs_background": "light"
     },
     "output_type": "display_data"
    }
   ],
   "source": [
    "# 定义自变量与因变量\n",
    "x = data[['总量']]\n",
    "y = data['增速']\n",
    "\n",
    "# 绘制总量与增速的散点图\n",
    "plt.scatter(x,y)\n",
    "# 添加x/y轴标签\n",
    "plt.xlabel(\"总量\")\n",
    "plt.ylabel(\"增速\");"
   ]
  },
  {
   "cell_type": "code",
   "execution_count": 43,
   "metadata": {},
   "outputs": [
    {
     "data": {
      "text/plain": [
       "LinearRegression(copy_X=True, fit_intercept=True, n_jobs=None, normalize=False)"
      ]
     },
     "execution_count": 43,
     "metadata": {},
     "output_type": "execute_result"
    }
   ],
   "source": [
    "# 导入多项式及线性回归模型\n",
    "from sklearn.preprocessing import PolynomialFeatures\n",
    "from sklearn.linear_model import LinearRegression\n",
    "\n",
    "# 分别拟合线性回归，2阶、4阶多项式回归模型\n",
    "lr_model = LinearRegression()\n",
    "lr_model.fit(x,y)\n",
    "\n",
    "# 拟合2阶多项式回归\n",
    "polynominal_regression = PolynomialFeatures(degree=2)\n",
    "x_polynomial_2 = polynominal_regression.fit_transform(x,y)\n",
    "linear_regression_2 = LinearRegression()\n",
    "linear_regression_2.fit(x_polynomial_2,y)\n",
    "\n",
    "# 拟合4阶多项式回归\n",
    "polynominal_regression = PolynomialFeatures(degree=4)\n",
    "x_polynomial_4 = polynominal_regression.fit_transform(x,y)\n",
    "linear_regression_4 = LinearRegression()\n",
    "linear_regression_4.fit(x_polynomial_4,y)"
   ]
  },
  {
   "cell_type": "code",
   "execution_count": 45,
   "metadata": {
    "_uuid": "07aec476557ba38eade528a8f86a16fe8509c5c0"
   },
   "outputs": [
    {
     "data": {
      "image/png": "[encoded data removed]",
      "text/plain": [
       "<Figure size 432x288 with 1 Axes>"
      ]
     },
     "metadata": {
      "needs_background": "light"
     },
     "output_type": "display_data"
    }
   ],
   "source": [
    "# 分别预测\n",
    "y_pred_lr = lr_model.predict(x)\n",
    "y_pred_lr_2 = linear_regression_2.predict(x_polynomial_2)\n",
    "y_pred_lr_4 = linear_regression_4.predict(x_polynomial_4)\n",
    "\n",
    "# 绘制结果\n",
    "plt.plot(x,y_pred_lr,color= \"green\",label = \"线性回归\")\n",
    "plt.plot(x,y_pred_lr_2,color= \"red\",label = \"2阶多项式\")\n",
    "plt.plot(x,y_pred_lr_4,color= \"orange\",label = \"4阶多项式\")\n",
    "# 显示图例\n",
    "plt.legend()\n",
    "# 绘制x与y的散点图\n",
    "plt.scatter(x,y)\n",
    "# 添加x、y轴标签\n",
    "plt.xlabel(\"总量\")\n",
    "plt.ylabel(\"增速\");"
   ]
  },
  {
   "cell_type": "code",
   "execution_count": 46,
   "metadata": {},
   "outputs": [
    {
     "name": "stdout",
     "output_type": "stream",
     "text": [
      "线性回归r_square score:  0.4745823761330058\n",
      "2阶多项式r_square score:  0.81088099873991\n",
      "4阶多项式r_square score:  0.969474302321178\n"
     ]
    }
   ],
   "source": [
    "# 查看各模型评分\n",
    "from sklearn.metrics import r2_score\n",
    "print(\"线性回归r_square score: \", r2_score(y,y_pred_lr))\n",
    "print(\"2阶多项式r_square score: \", r2_score(y,y_pred_lr_2))\n",
    "print(\"4阶多项式r_square score: \", r2_score(y,y_pred_lr_4))"
   ]
  },
  {
   "cell_type": "markdown",
   "metadata": {
    "_uuid": "08cd67c6bbb6cba9e4b155e42da9426fa9d7e3c3"
   },
   "source": [
    "### 支持向量回归（Support Vector Regression）"
   ]
  },
  {
   "cell_type": "code",
   "execution_count": 53,
   "metadata": {
    "_uuid": "9dafc0d1bb2f3cad0122eab45490d4d12a29c3e1"
   },
   "outputs": [
    {
     "name": "stdout",
     "output_type": "stream",
     "text": [
      "<class 'pandas.core.frame.DataFrame'>\n",
      "RangeIndex: 10 entries, 0 to 9\n",
      "Data columns (total 3 columns):\n",
      "职业      10 non-null object\n",
      "学历层次    10 non-null int64\n",
      "薪资      10 non-null int64\n",
      "dtypes: int64(2), object(1)\n",
      "memory usage: 320.0+ bytes\n",
      "None\n",
      "                 职业  学历层次    薪资\n",
      "0             Cayci     1  2250\n",
      "1          Sekreter     2  2500\n",
      "2  Uzman Yardimcisi     3  3000\n",
      "3             Uzman     4  4000\n",
      "4  Proje Yoneticisi     5  5500\n"
     ]
    }
   ],
   "source": [
    "# 导入库\n",
    "import pandas as pd\n",
    "import matplotlib.pyplot as plt\n",
    "# 设置显示负号\n",
    "plt.rcParams['axes.unicode_minus']=False\n",
    "\n",
    "# 导入数据\n",
    "data = pd.read_csv(\"data/maaslar.csv\")\n",
    "# 查看数据概览\n",
    "print(data.info())\n",
    "print(data.head())\n",
    "#print(data.describe())"
   ]
  },
  {
   "cell_type": "code",
   "execution_count": 55,
   "metadata": {
    "_uuid": "5d730f95657d3d4400740b8cc71acd38bb962653"
   },
   "outputs": [
    {
     "data": {
      "image/png": "[encoded data removed]",
      "text/plain": [
       "<Figure size 432x288 with 1 Axes>"
      ]
     },
     "metadata": {
      "needs_background": "light"
     },
     "output_type": "display_data"
    }
   ],
   "source": [
    "# 定义自变量与因变量\n",
    "x = data.iloc[:,1:2]\n",
    "y = data['薪资']\n",
    "# 绘制x与y关系\n",
    "plt.scatter(x,y)\n",
    "# 添加x、y轴标签\n",
    "plt.xlabel(\"学历层次\")\n",
    "plt.ylabel(\"薪资\");"
   ]
  },
  {
   "cell_type": "code",
   "execution_count": 58,
   "metadata": {
    "_uuid": "2353e42af280d77cd4cfd913a5259586341c43c1"
   },
   "outputs": [
    {
     "name": "stderr",
     "output_type": "stream",
     "text": [
      "d:\\ProgramData\\Anaconda3\\lib\\site-packages\\sklearn\\utils\\validation.py:760: DataConversionWarning: A column-vector y was passed when a 1d array was expected. Please change the shape of y to (n_samples, ), for example using ravel().\n",
      "  y = column_or_1d(y, warn=True)\n"
     ]
    },
    {
     "data": {
      "image/png": "[encoded data removed]",
      "text/plain": [
       "<Figure size 432x288 with 1 Axes>"
      ]
     },
     "metadata": {
      "needs_background": "light"
     },
     "output_type": "display_data"
    }
   ],
   "source": [
    "# 数值缩放\n",
    "from sklearn.preprocessing import StandardScaler\n",
    "# 实例化标准缩放\n",
    "sc1 = StandardScaler()\n",
    "# 拟合自变量\n",
    "x_scale = sc1.fit_transform(x)\n",
    "sc2 = StandardScaler()\n",
    "y_scale = sc2.fit_transform(y.values.reshape(-1,1))\n",
    "\n",
    "# 导入模型\n",
    "from sklearn.svm import SVR\n",
    "# 实例化模型，使用rbf核技巧\n",
    "svr_reg = SVR(kernel = 'rbf')\n",
    "# 拟合数据\n",
    "svr_reg.fit(x_scale,y_scale)\n",
    "\n",
    "# 预测\n",
    "y_pred = svr_reg.predict(x_scale)\n",
    "\n",
    "# 可视化结果\n",
    "plt.plot(x_scale,y_pred,color= \"green\",label = \"SVR\")\n",
    "plt.legend()\n",
    "plt.scatter(x_scale,y_scale,color='red');"
   ]
  },
  {
   "cell_type": "code",
   "execution_count": 60,
   "metadata": {},
   "outputs": [
    {
     "name": "stdout",
     "output_type": "stream",
     "text": [
      "R-Score:  0.7513836788854973\n"
     ]
    }
   ],
   "source": [
    "# 模型评分\n",
    "print('R-Score: ', svr_reg.score(x_scale, y_scale))"
   ]
  },
  {
   "cell_type": "markdown",
   "metadata": {
    "_uuid": "ba4d3734c7b630eccccd946caf920befd8240dc8"
   },
   "source": [
    "\n",
    "### 决策树回归（Decision Tree Regression）"
   ]
  },
  {
   "cell_type": "code",
   "execution_count": 63,
   "metadata": {
    "_uuid": "6b66e5231a235777c73c0d0c89865023f8ea3ad2"
   },
   "outputs": [
    {
     "name": "stdout",
     "output_type": "stream",
     "text": [
      "<class 'pandas.core.frame.DataFrame'>\n",
      "RangeIndex: 10 entries, 0 to 9\n",
      "Data columns (total 2 columns):\n",
      "0    10 non-null int64\n",
      "1    10 non-null int64\n",
      "dtypes: int64(2)\n",
      "memory usage: 240.0 bytes\n",
      "None\n",
      "   0    1\n",
      "0  1  100\n",
      "1  2   80\n",
      "2  3   70\n",
      "3  4   60\n",
      "4  5   50\n"
     ]
    }
   ],
   "source": [
    "# 导入库\n",
    "import pandas as pd\n",
    "import matplotlib.pyplot as plt\n",
    "import numpy as np\n",
    "\n",
    "# 导入数据\n",
    "data = pd.read_csv(\"data/decision-tree-regression-dataset.csv\", header=None)\n",
    "# 查看数据概览\n",
    "print(data.info())\n",
    "print(data.head())\n",
    "#print(data.describe())\n"
   ]
  },
  {
   "cell_type": "code",
   "execution_count": 64,
   "metadata": {
    "_uuid": "ee576f4a239fb14f0169c3ffdc1977c68cae2f26"
   },
   "outputs": [],
   "source": [
    "# 设置自变量与因变量\n",
    "x = data[[0]]\n",
    "y = data[1]"
   ]
  },
  {
   "cell_type": "code",
   "execution_count": 65,
   "metadata": {
    "_uuid": "459c739d4ec84d5a4c1f12487dd64a6633cc5817"
   },
   "outputs": [
    {
     "data": {
      "text/plain": [
       "DecisionTreeRegressor(ccp_alpha=0.0, criterion='mse', max_depth=None,\n",
       "                      max_features=None, max_leaf_nodes=None,\n",
       "                      min_impurity_decrease=0.0, min_impurity_split=None,\n",
       "                      min_samples_leaf=1, min_samples_split=2,\n",
       "                      min_weight_fraction_leaf=0.0, presort='deprecated',\n",
       "                      random_state=None, splitter='best')"
      ]
     },
     "execution_count": 65,
     "metadata": {},
     "output_type": "execute_result"
    }
   ],
   "source": [
    "# 导入模型\n",
    "from sklearn.tree import DecisionTreeRegressor\n",
    "# 实例化\n",
    "tree_reg = DecisionTreeRegressor()\n",
    "# 拟合\n",
    "tree_reg.fit(x,y)"
   ]
  },
  {
   "cell_type": "code",
   "execution_count": 68,
   "metadata": {},
   "outputs": [
    {
     "data": {
      "text/plain": [
       "array([], dtype=float64)"
      ]
     },
     "execution_count": 68,
     "metadata": {},
     "output_type": "execute_result"
    }
   ],
   "source": [
    "np.arange(min(x),max(x),0.01)"
   ]
  },
  {
   "cell_type": "code",
   "execution_count": 73,
   "metadata": {
    "_uuid": "1746ea3660d72c74970c449eb8033f0556134733"
   },
   "outputs": [
    {
     "data": {
      "image/png": "[encoded data removed]",
      "text/plain": [
       "<Figure size 432x288 with 1 Axes>"
      ]
     },
     "metadata": {
      "needs_background": "light"
     },
     "output_type": "display_data"
    }
   ],
   "source": [
    "# 模型预测\n",
    "x_test = np.arange(min(x.values),max(x.values),0.01).reshape(-1,1)\n",
    "y_pred = tree_reg.predict(x_test)\n",
    "\n",
    "# 可视化结果\n",
    "plt.scatter(x,y,color=\"red\")\n",
    "plt.plot(x_test,y_pred,color = \"green\")\n",
    "plt.xlabel(\"x\")\n",
    "plt.ylabel(\"y\");"
   ]
  },
  {
   "cell_type": "code",
   "execution_count": 77,
   "metadata": {},
   "outputs": [
    {
     "name": "stdout",
     "output_type": "stream",
     "text": [
      "r_square score:  1.0\n"
     ]
    }
   ],
   "source": [
    "# 查看评分\n",
    "y_pred = tree_reg.predict(x)\n",
    "print(\"r_square score: \", r2_score(y,y_pred))"
   ]
  },
  {
   "cell_type": "markdown",
   "metadata": {
    "_uuid": "a5a032923d33520ca489371d67b07dcaba2178ed"
   },
   "source": [
    "### 随机森林回归（Random Forest Regression）"
   ]
  },
  {
   "cell_type": "code",
   "execution_count": 78,
   "metadata": {
    "_uuid": "3071bb8f97eff9a46ed0af678d32c6aa6e2c01fe"
   },
   "outputs": [
    {
     "name": "stdout",
     "output_type": "stream",
     "text": [
      "<class 'pandas.core.frame.DataFrame'>\n",
      "RangeIndex: 10 entries, 0 to 9\n",
      "Data columns (total 2 columns):\n",
      "0    10 non-null int64\n",
      "1    10 non-null int64\n",
      "dtypes: int64(2)\n",
      "memory usage: 240.0 bytes\n",
      "None\n",
      "   0    1\n",
      "0  1  100\n",
      "1  2   80\n",
      "2  3   70\n",
      "3  4   60\n",
      "4  5   50\n"
     ]
    }
   ],
   "source": [
    "# 导入库\n",
    "import pandas as pd\n",
    "import matplotlib.pyplot as plt\n",
    "import numpy as np\n",
    "# 导入数据\n",
    "data = pd.read_csv(\"data/random-forest-regression-dataset.csv\", header=None)\n",
    "print(data.info())\n",
    "print(data.head())\n",
    "#print(data.describe())"
   ]
  },
  {
   "cell_type": "code",
   "execution_count": 79,
   "metadata": {
    "_uuid": "58861f28f79d61ffc6c9c31fe67c99ea3301f822"
   },
   "outputs": [],
   "source": [
    "# 设定自变量、因变量\n",
    "x = data[[0]]\n",
    "y = data[1]"
   ]
  },
  {
   "cell_type": "code",
   "execution_count": 80,
   "metadata": {
    "_uuid": "eeef3c6f27bb3fb1c4ecf8c20fc3afd9a79726e3"
   },
   "outputs": [
    {
     "data": {
      "text/plain": [
       "RandomForestRegressor(bootstrap=True, ccp_alpha=0.0, criterion='mse',\n",
       "                      max_depth=None, max_features='auto', max_leaf_nodes=None,\n",
       "                      max_samples=None, min_impurity_decrease=0.0,\n",
       "                      min_impurity_split=None, min_samples_leaf=1,\n",
       "                      min_samples_split=2, min_weight_fraction_leaf=0.0,\n",
       "                      n_estimators=100, n_jobs=None, oob_score=False,\n",
       "                      random_state=42, verbose=0, warm_start=False)"
      ]
     },
     "execution_count": 80,
     "metadata": {},
     "output_type": "execute_result"
    }
   ],
   "source": [
    "# 导入模型\n",
    "from sklearn.ensemble import RandomForestRegressor\n",
    "# 实例化模型，并设置模型中树的数量为100，random_state\n",
    "rf = RandomForestRegressor(n_estimators = 100, random_state= 42) \n",
    "# 拟合数据\n",
    "rf.fit(x,y)\n"
   ]
  },
  {
   "cell_type": "code",
   "execution_count": 82,
   "metadata": {
    "_uuid": "7fefd17ff9e999e49be66cdc6d9b6532fdfc2aa3"
   },
   "outputs": [
    {
     "data": {
      "image/png": "[encoded data removed]",
      "text/plain": [
       "<Figure size 432x288 with 1 Axes>"
      ]
     },
     "metadata": {
      "needs_background": "light"
     },
     "output_type": "display_data"
    }
   ],
   "source": [
    "# 预测\n",
    "x_test = np.arange(min(x.values),max(x.values),0.01).reshape(-1,1)\n",
    "y_pred = rf.predict(x_test)\n",
    "# 可视化结果\n",
    "plt.scatter(x,y,color=\"red\")\n",
    "plt.plot(x_test,y_pred,color=\"green\")\n",
    "plt.xlabel(\"x\")\n",
    "plt.ylabel(\"y\");"
   ]
  },
  {
   "cell_type": "code",
   "execution_count": 83,
   "metadata": {
    "_uuid": "102adc4137933e5703b9d6c04464ce28ad65b6a1"
   },
   "outputs": [
    {
     "name": "stdout",
     "output_type": "stream",
     "text": [
      "r_score:  0.9798724794092587\n"
     ]
    }
   ],
   "source": [
    "# 查看模型评分\n",
    "y_pred = rf.predict(x)\n",
    "from sklearn.metrics import r2_score\n",
    "print(\"r_score: \", r2_score(y,y_pred))"
   ]
  },
  {
   "cell_type": "markdown",
   "metadata": {
    "_uuid": "4a81372f8e54f250309f93c62211c858e2894971"
   },
   "source": [
    "## 分类问题（ Classification）\n",
    "\n",
    "### K近邻（K-Nearest Neighbour (KNN) Classification）"
   ]
  },
  {
   "cell_type": "code",
   "execution_count": 162,
   "metadata": {
    "_uuid": "5efafca9d33c88044cd84a31c09dfedd1646dc61"
   },
   "outputs": [
    {
     "name": "stdout",
     "output_type": "stream",
     "text": [
      "<class 'pandas.core.frame.DataFrame'>\n",
      "RangeIndex: 569 entries, 0 to 568\n",
      "Data columns (total 33 columns):\n",
      "id                         569 non-null int64\n",
      "diagnosis                  569 non-null object\n",
      "radius_mean                569 non-null float64\n",
      "texture_mean               569 non-null float64\n",
      "perimeter_mean             569 non-null float64\n",
      "area_mean                  569 non-null float64\n",
      "smoothness_mean            569 non-null float64\n",
      "compactness_mean           569 non-null float64\n",
      "concavity_mean             569 non-null float64\n",
      "concave points_mean        569 non-null float64\n",
      "symmetry_mean              569 non-null float64\n",
      "fractal_dimension_mean     569 non-null float64\n",
      "radius_se                  569 non-null float64\n",
      "texture_se                 569 non-null float64\n",
      "perimeter_se               569 non-null float64\n",
      "area_se                    569 non-null float64\n",
      "smoothness_se              569 non-null float64\n",
      "compactness_se             569 non-null float64\n",
      "concavity_se               569 non-null float64\n",
      "concave points_se          569 non-null float64\n",
      "symmetry_se                569 non-null float64\n",
      "fractal_dimension_se       569 non-null float64\n",
      "radius_worst               569 non-null float64\n",
      "texture_worst              569 non-null float64\n",
      "perimeter_worst            569 non-null float64\n",
      "area_worst                 569 non-null float64\n",
      "smoothness_worst           569 non-null float64\n",
      "compactness_worst          569 non-null float64\n",
      "concavity_worst            569 non-null float64\n",
      "concave points_worst       569 non-null float64\n",
      "symmetry_worst             569 non-null float64\n",
      "fractal_dimension_worst    569 non-null float64\n",
      "Unnamed: 32                0 non-null float64\n",
      "dtypes: float64(31), int64(1), object(1)\n",
      "memory usage: 146.8+ KB\n",
      "None\n",
      "         id diagnosis  radius_mean  texture_mean  perimeter_mean  area_mean  \\\n",
      "0    842302         M        17.99         10.38          122.80     1001.0   \n",
      "1    842517         M        20.57         17.77          132.90     1326.0   \n",
      "2  84300903         M        19.69         21.25          130.00     1203.0   \n",
      "3  84348301         M        11.42         20.38           77.58      386.1   \n",
      "4  84358402         M        20.29         14.34          135.10     1297.0   \n",
      "\n",
      "   smoothness_mean  compactness_mean  concavity_mean  concave points_mean  \\\n",
      "0          0.11840           0.27760          0.3001              0.14710   \n",
      "1          0.08474           0.07864          0.0869              0.07017   \n",
      "2          0.10960           0.15990          0.1974              0.12790   \n",
      "3          0.14250           0.28390          0.2414              0.10520   \n",
      "4          0.10030           0.13280          0.1980              0.10430   \n",
      "\n",
      "   ...  texture_worst  perimeter_worst  area_worst  smoothness_worst  \\\n",
      "0  ...          17.33           184.60      2019.0            0.1622   \n",
      "1  ...          23.41           158.80      1956.0            0.1238   \n",
      "2  ...          25.53           152.50      1709.0            0.1444   \n",
      "3  ...          26.50            98.87       567.7            0.2098   \n",
      "4  ...          16.67           152.20      1575.0            0.1374   \n",
      "\n",
      "   compactness_worst  concavity_worst  concave points_worst  symmetry_worst  \\\n",
      "0             0.6656           0.7119                0.2654          0.4601   \n",
      "1             0.1866           0.2416                0.1860          0.2750   \n",
      "2             0.4245           0.4504                0.2430          0.3613   \n",
      "3             0.8663           0.6869                0.2575          0.6638   \n",
      "4             0.2050           0.4000                0.1625          0.2364   \n",
      "\n",
      "   fractal_dimension_worst  Unnamed: 32  \n",
      "0                  0.11890          NaN  \n",
      "1                  0.08902          NaN  \n",
      "2                  0.08758          NaN  \n",
      "3                  0.17300          NaN  \n",
      "4                  0.07678          NaN  \n",
      "\n",
      "[5 rows x 33 columns]\n"
     ]
    }
   ],
   "source": [
    "# 导入库\n",
    "import pandas as pd\n",
    "import matplotlib.pyplot as plt\n",
    "import numpy as np\n",
    "\n",
    "# 导入数据\n",
    "data = pd.read_csv(\"data/data.csv\")\n",
    "# 查看数据概览\n",
    "print(data.info())\n",
    "print(data.head())\n",
    "#print(data.describe())\n"
   ]
  },
  {
   "cell_type": "code",
   "execution_count": 163,
   "metadata": {},
   "outputs": [],
   "source": [
    "# 删除无关列id与Unnamed: 32\n",
    "data.drop([\"id\",\"Unnamed: 32\"],axis=1,inplace=True)"
   ]
  },
  {
   "cell_type": "code",
   "execution_count": 164,
   "metadata": {
    "_uuid": "f417a069b00a2b26f4d206ccaf5b1991cee88485"
   },
   "outputs": [
    {
     "data": {
      "image/png": "[encoded data removed]",
      "text/plain": [
       "<Figure size 432x288 with 1 Axes>"
      ]
     },
     "metadata": {
      "needs_background": "light"
     },
     "output_type": "display_data"
    }
   ],
   "source": [
    "# 拆分良性与恶性肿瘤数据\n",
    "M = data[data.diagnosis == \"M\"] # 恶性肿瘤\n",
    "B = data[data.diagnosis == \"B\"] # 良性肿瘤\n",
    "# 对数据进行可视化\n",
    "# 分别绘制良性与恶性肿瘤数据，x轴设置为半径radius_mean，y轴设置为质地texture_mean，并添加图例，透明度设置为0.3\n",
    "plt.scatter(M.radius_mean,M.texture_mean,color=\"red\",label=\"恶性\",alpha= 0.3)\n",
    "plt.scatter(B.radius_mean,B.texture_mean,color=\"green\",label=\"良性\",alpha= 0.3)\n",
    "# 添加轴标签\n",
    "plt.xlabel(\"半径均值\")\n",
    "plt.ylabel(\"质地均值\")\n",
    "# 显示图例\n",
    "plt.legend();"
   ]
  },
  {
   "cell_type": "code",
   "execution_count": 165,
   "metadata": {
    "_uuid": "9788627d6183021abe455b2c620c41f2d8ba8143"
   },
   "outputs": [],
   "source": [
    "# 将恶性标记为1，良性标记为0\n",
    "data['diagnosis'] = data['diagnosis'].map({'M':1,'B':0})\n",
    "# 定义特征与标签列\n",
    "x_data = data.drop([\"diagnosis\"],axis=1)\n",
    "y = data['diagnosis']\n",
    "\n",
    "# 归一化特征\n",
    "x = (x_data - np.min(x_data))/(np.max(x_data)-np.min(x_data))"
   ]
  },
  {
   "cell_type": "code",
   "execution_count": 166,
   "metadata": {
    "_uuid": "4395f1bf11ade326210c1c263c372f890e2c4336"
   },
   "outputs": [
    {
     "name": "stdout",
     "output_type": "stream",
     "text": [
      " 3 nn score: 0.9532163742690059 \n"
     ]
    }
   ],
   "source": [
    "# 拆分训练集与测试集，设定训练集比例为30%\n",
    "from sklearn.model_selection import train_test_split\n",
    "x_train, x_test, y_train, y_test = train_test_split(x,y,test_size = 0.3,random_state=1)\n",
    "\n",
    "# 导入KNN模型\n",
    "from sklearn.neighbors import KNeighborsClassifier\n",
    "# 实例化模型，并设置近邻数量为3\n",
    "knn = KNeighborsClassifier(n_neighbors = 3)\n",
    "# 拟合数据\n",
    "knn.fit(x_train,y_train)\n",
    "# 预测\n",
    "prediction = knn.predict(x_test)\n",
    "# 查看模型评分（准确率）\n",
    "print(\" {} nn score: {} \".format(3,knn.score(x_test,y_test)))"
   ]
  },
  {
   "cell_type": "code",
   "execution_count": 100,
   "metadata": {
    "_uuid": "f24666dce757eec9f9473bda393dc1e4b5389085"
   },
   "outputs": [
    {
     "data": {
      "image/png": "[encoded data removed]",
      "text/plain": [
       "<Figure size 432x288 with 1 Axes>"
      ]
     },
     "metadata": {
      "needs_background": "light"
     },
     "output_type": "display_data"
    }
   ],
   "source": [
    "# 使用for循环，探索最佳近邻数\n",
    "score_list = []\n",
    "for each in range(1,15):\n",
    "    knn2 = KNeighborsClassifier(n_neighbors = each)\n",
    "    knn2.fit(x_train,y_train)\n",
    "    score_list.append(knn2.score(x_test,y_test))\n",
    "# 绘制结果\n",
    "plt.plot(range(1,15),score_list)\n",
    "plt.xlabel(\"k values\")\n",
    "plt.ylabel(\"accuracy\");"
   ]
  },
  {
   "cell_type": "code",
   "execution_count": 143,
   "metadata": {
    "_uuid": "1deb8fcb9efc7b35dcf914380dde1cc2530538ad"
   },
   "outputs": [
    {
     "name": "stdout",
     "output_type": "stream",
     "text": [
      "最佳近邻数为6，模型准确率为: 0.9186046511627907 \n"
     ]
    }
   ],
   "source": [
    "# 使用最佳近邻数量，重建模型\n",
    "knn = KNeighborsClassifier(n_neighbors = 6)\n",
    "# 拟合&预测\n",
    "knn.fit(x_train,y_train)\n",
    "prediction = knn.predict(x_test)\n",
    "print(\"最佳近邻数为6，模型准确率为: {} \".format(knn.score(x_test,y_test)))"
   ]
  },
  {
   "cell_type": "code",
   "execution_count": 103,
   "metadata": {
    "_uuid": "784358fdd25cf9021e871d24b44ddab686e38ce2"
   },
   "outputs": [
    {
     "data": {
      "image/png": "[encoded data removed]",
      "text/plain": [
       "<Figure size 360x360 with 1 Axes>"
      ]
     },
     "metadata": {
      "needs_background": "light"
     },
     "output_type": "display_data"
    }
   ],
   "source": [
    "# 计算混淆矩阵\n",
    "from sklearn.metrics import confusion_matrix\n",
    "cm = confusion_matrix(y_test,prediction)\n",
    "\n",
    "# 绘制混淆矩阵\n",
    "# 导入seaborn可视化库\n",
    "import seaborn as sns\n",
    "# 定义画布\n",
    "f, ax = plt.subplots(figsize =(5,5))\n",
    "# 创建热度图，并显示数量（整数），隐藏色度指标\n",
    "sns.heatmap(cm,annot = True,fmt = \"d\",cbar=False,ax=ax)\n",
    "# 添加轴标签\n",
    "plt.xlabel(\"y_pred\")\n",
    "plt.ylabel(\"y_true\");"
   ]
  },
  {
   "cell_type": "markdown",
   "metadata": {
    "_uuid": "ef15904c6e89f8ed174fd3c9449742986fdccde9"
   },
   "source": [
    "### 支持向量机（Support Vector Machine (SVM) Classification）"
   ]
  },
  {
   "cell_type": "code",
   "execution_count": 151,
   "metadata": {
    "_uuid": "2f1e56dcde6f6b96426efb1caa0554ad063f53b7"
   },
   "outputs": [
    {
     "name": "stdout",
     "output_type": "stream",
     "text": [
      "模型准确率为:  0.9649122807017544\n"
     ]
    }
   ],
   "source": [
    "# 使用前面相同的数据\n",
    "\n",
    "# 导入支持向量机模型\n",
    "from sklearn.svm import SVC\n",
    "# 拟合数据 \n",
    "svm = SVC(random_state = 1)\n",
    "svm.fit(x_train,y_train)\n",
    "# 预测&评分\n",
    "print(\"模型准确率为: \",svm.score(x_test,y_test))"
   ]
  },
  {
   "cell_type": "code",
   "execution_count": 106,
   "metadata": {
    "_uuid": "33a98c07e6d110a797f25912e0a6eb23ab2e4ff0"
   },
   "outputs": [
    {
     "data": {
      "image/png": "[encoded data removed]",
      "text/plain": [
       "<Figure size 360x360 with 1 Axes>"
      ]
     },
     "metadata": {
      "needs_background": "light"
     },
     "output_type": "display_data"
    }
   ],
   "source": [
    "# 绘制混淆矩阵\n",
    "# 预测结果\n",
    "y_pred = svm.predict(x_test)\n",
    "cm = confusion_matrix(y_test,y_pred)\n",
    "\n",
    "# 绘制热度图\n",
    "f, ax = plt.subplots(figsize =(5,5))\n",
    "# 创建热度图，并显示数量（整数），隐藏色度指标\n",
    "sns.heatmap(cm,annot = True,fmt = \"d\",cbar=False,ax=ax)\n",
    "# 添加轴标签\n",
    "plt.xlabel(\"y_pred\")\n",
    "plt.ylabel(\"y_true\");"
   ]
  },
  {
   "cell_type": "markdown",
   "metadata": {
    "_uuid": "e56d4ac198fda8cba774575eb63cde4a730815ec"
   },
   "source": [
    "### 朴素贝叶斯（Naive Bayes Classification）"
   ]
  },
  {
   "cell_type": "code",
   "execution_count": 156,
   "metadata": {
    "_uuid": "8a11d9493c6e99560eb03e983ad07e4ff4db275c"
   },
   "outputs": [
    {
     "name": "stdout",
     "output_type": "stream",
     "text": [
      "模型准确率为:  0.935672514619883\n"
     ]
    }
   ],
   "source": [
    "# 使用前面相同的数据\n",
    "\n",
    "# 导入模型\n",
    "from sklearn.naive_bayes import GaussianNB\n",
    "# 实例化模型\n",
    "nb = GaussianNB()\n",
    "# 拟合数据\n",
    "nb.fit(x_train,y_train)\n",
    "# 查看评分\n",
    "print(\"模型准确率为: \",nb.score(x_test,y_test))"
   ]
  },
  {
   "cell_type": "code",
   "execution_count": 109,
   "metadata": {
    "_uuid": "a3a6d398d204c98e7c1d135c88e0700221ba925b"
   },
   "outputs": [
    {
     "data": {
      "image/png": "[encoded data removed]",
      "text/plain": [
       "<Figure size 360x360 with 1 Axes>"
      ]
     },
     "metadata": {
      "needs_background": "light"
     },
     "output_type": "display_data"
    }
   ],
   "source": [
    "# 绘制混淆矩阵\n",
    "# 预测结果\n",
    "y_pred = nb.predict(x_test)\n",
    "cm = confusion_matrix(y_test,y_pred)\n",
    "\n",
    "# 绘制热度图\n",
    "f, ax = plt.subplots(figsize =(5,5))\n",
    "# 创建热度图，并显示数量（整数），隐藏色度指标\n",
    "sns.heatmap(cm,annot = True,fmt = \"d\",cbar=False,ax=ax)\n",
    "# 添加轴标签\n",
    "plt.xlabel(\"y_pred\")\n",
    "plt.ylabel(\"y_true\");"
   ]
  },
  {
   "cell_type": "code",
   "execution_count": 161,
   "metadata": {},
   "outputs": [
    {
     "name": "stdout",
     "output_type": "stream",
     "text": [
      "模型准确率为:  0.9534883720930233\n"
     ]
    }
   ],
   "source": [
    "# 重新定义x\n",
    "x_no_scaled = x_data.values\n",
    "# 切分数据\n",
    "x_train_no_scaled, x_test_no_scaled, y_train_no_scaled, y_test_no_scaled = train_test_split(x_no_scaled, y, \n",
    "                                                                        test_size=0.15,\n",
    "                                                                        random_state=42)\n",
    "# 实例化模型\n",
    "nb = GaussianNB()\n",
    "# 拟合数据\n",
    "nb.fit(x_train_no_scaled,y_train_no_scaled)\n",
    "# 查看评分\n",
    "print(\"模型准确率为: \",nb.score(x_test_no_scaled,y_test_no_scaled))"
   ]
  },
  {
   "cell_type": "markdown",
   "metadata": {
    "_uuid": "40f18bb6f2f1bd008aa74f2d5812a4955b70c0fb"
   },
   "source": [
    "### 决策树（Decision Tree Classification）"
   ]
  },
  {
   "cell_type": "code",
   "execution_count": 174,
   "metadata": {
    "_uuid": "09580f81c8fb9b185bfcf7fecef62680906bcc0e"
   },
   "outputs": [
    {
     "name": "stdout",
     "output_type": "stream",
     "text": [
      "模型准确率为:  0.9532163742690059\n"
     ]
    }
   ],
   "source": [
    "# 使用前面相同的数据\n",
    "# 导入决策树模型\n",
    "from sklearn.tree import DecisionTreeClassifier\n",
    "# 实例化模型\n",
    "dt = DecisionTreeClassifier(random_state=2020)\n",
    "# 拟合数据\n",
    "dt.fit(x_train,y_train)\n",
    "# 查看评分\n",
    "print(\"模型准确率为: \", dt.score(x_test,y_test))"
   ]
  },
  {
   "cell_type": "code",
   "execution_count": 175,
   "metadata": {
    "_uuid": "fa2c78c0185c187881a6d8334aac07736774acd8"
   },
   "outputs": [
    {
     "data": {
      "image/png": "[encoded data removed]",
      "text/plain": [
       "<Figure size 360x360 with 1 Axes>"
      ]
     },
     "metadata": {
      "needs_background": "light"
     },
     "output_type": "display_data"
    }
   ],
   "source": [
    "# 绘制混淆矩阵\n",
    "# 预测结果\n",
    "y_pred = dt.predict(x_test)\n",
    "cm = confusion_matrix(y_test,y_pred)\n",
    "\n",
    "# 绘制热度图\n",
    "f, ax = plt.subplots(figsize =(5,5))\n",
    "# 创建热度图，并显示数量（整数），隐藏色度指标\n",
    "sns.heatmap(cm,annot = True,fmt = \"d\",cbar=False,ax=ax)\n",
    "# 添加轴标签\n",
    "plt.xlabel(\"y_pred\")\n",
    "plt.ylabel(\"y_true\");"
   ]
  },
  {
   "cell_type": "markdown",
   "metadata": {
    "_uuid": "2b377613c971f16dec18391501d351e84c46afca"
   },
   "source": [
    "### 随机森林（Random Forest Classification）"
   ]
  },
  {
   "cell_type": "code",
   "execution_count": 176,
   "metadata": {
    "_uuid": "477ba66b73b63bf74f6b9f39571797973f05978a"
   },
   "outputs": [
    {
     "name": "stdout",
     "output_type": "stream",
     "text": [
      "模型准确率为:  0.9473684210526315\n"
     ]
    }
   ],
   "source": [
    "# 使用前面相同的数据\n",
    "# 导入随机森林模型\n",
    "from sklearn.ensemble import RandomForestClassifier\n",
    "# 实例化模型，并设置子树数量为100，随机参数\n",
    "rf = RandomForestClassifier(n_estimators = 100,random_state = 2020)\n",
    "# 拟合数据\n",
    "rf.fit(x_train,y_train)\n",
    "# 查看评分\n",
    "print(\"模型准确率为: \",rf.score(x_test,y_test))"
   ]
  },
  {
   "cell_type": "code",
   "execution_count": 177,
   "metadata": {
    "_uuid": "384b0f8d88a28bc53d960d6e9f6d061e15f9f731"
   },
   "outputs": [
    {
     "data": {
      "image/png": "[encoded data removed]",
      "text/plain": [
       "<Figure size 360x360 with 1 Axes>"
      ]
     },
     "metadata": {
      "needs_background": "light"
     },
     "output_type": "display_data"
    }
   ],
   "source": [
    "# 绘制混淆矩阵\n",
    "# 预测结果\n",
    "y_pred = rf.predict(x_test)\n",
    "cm = confusion_matrix(y_test,y_pred)\n",
    "\n",
    "# 绘制热度图\n",
    "f, ax = plt.subplots(figsize =(5,5))\n",
    "# 创建热度图，并显示数量（整数），隐藏色度指标\n",
    "sns.heatmap(cm,annot = True,fmt = \"d\",cbar=False,ax=ax)\n",
    "# 添加轴标签\n",
    "plt.xlabel(\"y_pred\")\n",
    "plt.ylabel(\"y_true\");"
   ]
  },
  {
   "cell_type": "markdown",
   "metadata": {
    "_uuid": "ea721f4e2c16e11f55a10928efc310d7a943fe8b"
   },
   "source": [
    "## 分群问题（Clustering）\n",
    "### K-Means"
   ]
  },
  {
   "cell_type": "code",
   "execution_count": 183,
   "metadata": {
    "_uuid": "bf827f0631e15af4a5df18b481214d314fc609df"
   },
   "outputs": [
    {
     "data": {
      "text/html": [
       "<div>\n",
       "<style scoped>\n",
       "    .dataframe tbody tr th:only-of-type {\n",
       "        vertical-align: middle;\n",
       "    }\n",
       "\n",
       "    .dataframe tbody tr th {\n",
       "        vertical-align: top;\n",
       "    }\n",
       "\n",
       "    .dataframe thead th {\n",
       "        text-align: right;\n",
       "    }\n",
       "</style>\n",
       "<table border=\"1\" class=\"dataframe\">\n",
       "  <thead>\n",
       "    <tr style=\"text-align: right;\">\n",
       "      <th></th>\n",
       "      <th>x</th>\n",
       "      <th>y</th>\n",
       "    </tr>\n",
       "  </thead>\n",
       "  <tbody>\n",
       "    <tr>\n",
       "      <th>0</th>\n",
       "      <td>25.292673</td>\n",
       "      <td>21.760312</td>\n",
       "    </tr>\n",
       "    <tr>\n",
       "      <th>1</th>\n",
       "      <td>28.496491</td>\n",
       "      <td>23.016235</td>\n",
       "    </tr>\n",
       "    <tr>\n",
       "      <th>2</th>\n",
       "      <td>27.857959</td>\n",
       "      <td>21.173973</td>\n",
       "    </tr>\n",
       "    <tr>\n",
       "      <th>3</th>\n",
       "      <td>31.165471</td>\n",
       "      <td>20.955495</td>\n",
       "    </tr>\n",
       "    <tr>\n",
       "      <th>4</th>\n",
       "      <td>26.062506</td>\n",
       "      <td>25.382237</td>\n",
       "    </tr>\n",
       "  </tbody>\n",
       "</table>\n",
       "</div>"
      ],
      "text/plain": [
       "           x          y\n",
       "0  25.292673  21.760312\n",
       "1  28.496491  23.016235\n",
       "2  27.857959  21.173973\n",
       "3  31.165471  20.955495\n",
       "4  26.062506  25.382237"
      ]
     },
     "execution_count": 183,
     "metadata": {},
     "output_type": "execute_result"
    }
   ],
   "source": [
    "# 导入库\n",
    "import numpy as np\n",
    "import pandas as pd\n",
    "import matplotlib.pyplot as plt\n",
    "\n",
    "# 读取数据\n",
    "data = pd.read_csv(\"data/cluster_data.csv\")\n",
    "# 查看数据概览\n",
    "data.head()"
   ]
  },
  {
   "cell_type": "code",
   "execution_count": 184,
   "metadata": {},
   "outputs": [
    {
     "data": {
      "image/png": "[encoded data removed]",
      "text/plain": [
       "<Figure size 432x288 with 1 Axes>"
      ]
     },
     "metadata": {
      "needs_background": "light"
     },
     "output_type": "display_data"
    }
   ],
   "source": [
    "# 绘制数据\n",
    "plt.scatter(data['x'],data['y'],color=\"black\");"
   ]
  },
  {
   "cell_type": "code",
   "execution_count": 185,
   "metadata": {
    "_uuid": "b9aa3dc537d00293bc88086c718150d31f8ebd82"
   },
   "outputs": [
    {
     "data": {
      "image/png": "[encoded data removed]",
      "text/plain": [
       "<Figure size 432x288 with 1 Axes>"
      ]
     },
     "metadata": {
      "needs_background": "light"
     },
     "output_type": "display_data"
    }
   ],
   "source": [
    "# 导入模型\n",
    "from sklearn.cluster import KMeans\n",
    "# 使用肘方法（Elbow Method）寻找最佳分群数量\n",
    "# 定义空列表\n",
    "wcss = []\n",
    "# 使用for循环，测试从1-10个分群\n",
    "for k in range(1,10):\n",
    "    # 实例化模型\n",
    "    kmeans = KMeans(n_clusters=k)\n",
    "    # 拟合数据\n",
    "    kmeans.fit(data)\n",
    "    # 将模型评分添加到wcss列表中\n",
    "    wcss.append(kmeans.inertia_)\n",
    "\n",
    "# 绘制分群-评分关系图\n",
    "plt.plot(range(1,10),wcss)\n",
    "# 添加轴标签\n",
    "plt.xlabel(\"分群数量\")\n",
    "plt.ylabel(\"wcss\");"
   ]
  },
  {
   "cell_type": "code",
   "execution_count": 187,
   "metadata": {
    "_uuid": "c8f91653931aa2508b1839d4b3b8c8b102725065"
   },
   "outputs": [
    {
     "data": {
      "image/png": "[encoded data removed]",
      "text/plain": [
       "<Figure size 432x288 with 1 Axes>"
      ]
     },
     "metadata": {
      "needs_background": "light"
     },
     "output_type": "display_data"
    }
   ],
   "source": [
    "# 选择最佳分群数量建模\n",
    "kmeans2 = KMeans(n_clusters=3)\n",
    "# 对数据进行分群\n",
    "data[\"label\"] = kmeans2.fit_predict(data)\n",
    "\n",
    "# 可视化分群结果\n",
    "plt.scatter(data.x[data.label == 0 ],data.y[data.label == 0],color = \"red\")\n",
    "plt.scatter(data.x[data.label == 1 ],data.y[data.label == 1],color = \"green\")\n",
    "plt.scatter(data.x[data.label == 2 ],data.y[data.label == 2],color = \"blue\")\n",
    "# 标记分群中心点\n",
    "plt.scatter(kmeans2.cluster_centers_[:,0],kmeans2.cluster_centers_[:,1],color = \"yellow\");"
   ]
  },
  {
   "cell_type": "markdown",
   "metadata": {
    "_uuid": "94a12a8e93a902826638894035e75ee9b0524421"
   },
   "source": [
    "### 层次聚类（Hierarchical Clustering）"
   ]
  },
  {
   "cell_type": "code",
   "execution_count": 188,
   "metadata": {
    "_uuid": "1b34448149ebba9baa9b0af8933275ea85430a0e"
   },
   "outputs": [
    {
     "data": {
      "image/png": "[encoded data removed]",
      "text/plain": [
       "<Figure size 432x288 with 1 Axes>"
      ]
     },
     "metadata": {
      "needs_background": "light"
     },
     "output_type": "display_data"
    }
   ],
   "source": [
    "# 导入模型\n",
    "from sklearn.cluster import AgglomerativeClustering\n",
    "\n",
    "# 实例化模型\n",
    "hiyerartical_cluster = AgglomerativeClustering(n_clusters = 3)\n",
    "# 数据分群\n",
    "data[\"label\"] = hiyerartical_cluster.fit_predict(data)\n",
    "\n",
    "# 绘制结果\n",
    "plt.scatter(data.x[data.label == 0 ],data.y[data.label == 0],color = \"red\")\n",
    "plt.scatter(data.x[data.label == 1 ],data.y[data.label == 1],color = \"green\")\n",
    "plt.scatter(data.x[data.label == 2 ],data.y[data.label == 2],color = \"blue\");"
   ]
  },
  {
   "cell_type": "code",
   "execution_count": 189,
   "metadata": {
    "_uuid": "c2b9dd663c2981fb219ee2f458cbedd3ab8e4d33"
   },
   "outputs": [
    {
     "data": {
      "image/png": "[encoded data removed]",
      "text/plain": [
       "<Figure size 432x288 with 1 Axes>"
      ]
     },
     "metadata": {
      "needs_background": "light"
     },
     "output_type": "display_data"
    }
   ],
   "source": [
    "# 导入层次树状图可视化包\n",
    "from scipy.cluster.hierarchy import linkage, dendrogram\n",
    "\n",
    "# 计算树状图\n",
    "merg = linkage(data,method=\"ward\")\n",
    "# 可视化\n",
    "dendrogram(merg,leaf_rotation = 90)\n",
    "plt.xlabel(\"数据点\")\n",
    "plt.ylabel(\"欧氏距离\");"
   ]
  },
  {
   "cell_type": "markdown",
   "metadata": {
    "_uuid": "db086df591b886260f50223f8406ab1aa0907139"
   },
   "source": [
    "## 数据降维问题（Dimensionality Reduction）\n",
    "### 主成分分析（Principal Component Analysis (PCA)）"
   ]
  },
  {
   "cell_type": "code",
   "execution_count": 1,
   "metadata": {
    "_uuid": "ad15a3b65cd66ea5196469ba1731ccd2840d11a6"
   },
   "outputs": [
    {
     "name": "stdout",
     "output_type": "stream",
     "text": [
      "<class 'pandas.core.frame.DataFrame'>\n",
      "RangeIndex: 150 entries, 0 to 149\n",
      "Data columns (total 5 columns):\n",
      "sepal length (cm)    150 non-null float64\n",
      "sepal width (cm)     150 non-null float64\n",
      "petal length (cm)    150 non-null float64\n",
      "petal width (cm)     150 non-null float64\n",
      "sinif                150 non-null int64\n",
      "dtypes: float64(4), int64(1)\n",
      "memory usage: 6.0 KB\n",
      "None\n",
      "   sepal length (cm)  sepal width (cm)  petal length (cm)  petal width (cm)  \\\n",
      "0                5.1               3.5                1.4               0.2   \n",
      "1                4.9               3.0                1.4               0.2   \n",
      "2                4.7               3.2                1.3               0.2   \n",
      "3                4.6               3.1                1.5               0.2   \n",
      "4                5.0               3.6                1.4               0.2   \n",
      "\n",
      "   sinif  \n",
      "0      0  \n",
      "1      0  \n",
      "2      0  \n",
      "3      0  \n",
      "4      0  \n"
     ]
    }
   ],
   "source": [
    "# 导入包\n",
    "from sklearn.datasets import load_iris\n",
    "import pandas as pd\n",
    "\n",
    "# 加载数据\n",
    "iris = load_iris()\n",
    "\n",
    "# 创建DataFrame\n",
    "feature_names = iris.feature_names\n",
    "y = iris.target\n",
    "data = pd.DataFrame(iris.data,columns = feature_names)\n",
    "data[\"sinif\"] = y\n",
    "\n",
    "x = iris.data\n",
    "# 查看数据概览\n",
    "print(data.info())\n",
    "print(data.head())"
   ]
  },
  {
   "cell_type": "code",
   "execution_count": 2,
   "metadata": {
    "_uuid": "fc2602f17179998d2bc471dd943620942394088c"
   },
   "outputs": [
    {
     "name": "stdout",
     "output_type": "stream",
     "text": [
      "variance ratio:  [0.92461872 0.05306648]\n",
      "sum:  0.977685206318795\n"
     ]
    }
   ],
   "source": [
    "# 导入PCA模型\n",
    "from sklearn.decomposition import PCA\n",
    "# 实例化模型，并将结果映射到二维特征，且使用标准化\n",
    "pca = PCA(n_components = 2, whiten= True )   \n",
    "# 拟合数据\n",
    "pca.fit(x)\n",
    "# 处理数据\n",
    "x_pca = pca.transform(x)\n",
    "\n",
    "# 输出各个变量的方差百分比\n",
    "print(\"variance ratio: \", pca.explained_variance_ratio_)\n",
    "# 输出方差百分比之和\n",
    "print(\"sum: \",sum(pca.explained_variance_ratio_))"
   ]
  },
  {
   "cell_type": "code",
   "execution_count": 5,
   "metadata": {
    "_uuid": "a11db65273a789f84efa2c955cefaffafb1d8c64"
   },
   "outputs": [
    {
     "data": {
      "image/png": "[encoded data removed]",
      "text/plain": [
       "<Figure size 432x288 with 1 Axes>"
      ]
     },
     "metadata": {
      "needs_background": "light"
     },
     "output_type": "display_data"
    }
   ],
   "source": [
    "# 导入可视化包\n",
    "import matplotlib.pyplot as plt\n",
    "%matplotlib inline\n",
    "\n",
    "# 可视化结果\n",
    "# 新建两列，分别储存为降维后的两列\n",
    "data[\"p1\"] = x_pca[:,0]\n",
    "data[\"p2\"] = x_pca[:,1]\n",
    "\n",
    "# 定义可视化颜色\n",
    "color = [\"red\",\"green\",\"blue\"]\n",
    "\n",
    "# 在降维后的二维空间中，对三个类别进行可视化\n",
    "for each in range(3):\n",
    "    plt.scatter(data.p1[data.sinif == each],data.p2[data.sinif == each],color = color[each],label = iris.target_names[each])\n",
    "\n",
    "# 显示图例\n",
    "plt.legend()\n",
    "# 设置轴标签\n",
    "plt.xlabel(\"p1\")\n",
    "plt.ylabel(\"p2\");"
   ]
  },
  {
   "cell_type": "markdown",
   "metadata": {},
   "source": [
    "### LDA"
   ]
  },
  {
   "cell_type": "markdown",
   "metadata": {
    "_uuid": "f076f59bf663daaca7b570ff07f83e309c033b60"
   },
   "source": [
    "\n",
    "## 模型优化"
   ]
  },
  {
   "cell_type": "code",
   "execution_count": 6,
   "metadata": {
    "_uuid": "27613b663031e77f035d26db7e04009cacf7b710"
   },
   "outputs": [
    {
     "name": "stdout",
     "output_type": "stream",
     "text": [
      "<class 'pandas.core.frame.DataFrame'>\n",
      "RangeIndex: 150 entries, 0 to 149\n",
      "Data columns (total 5 columns):\n",
      "sepal length (cm)    150 non-null float64\n",
      "sepal width (cm)     150 non-null float64\n",
      "petal length (cm)    150 non-null float64\n",
      "petal width (cm)     150 non-null float64\n",
      "sinif                150 non-null int64\n",
      "dtypes: float64(4), int64(1)\n",
      "memory usage: 6.0 KB\n",
      "None\n",
      "   sepal length (cm)  sepal width (cm)  petal length (cm)  petal width (cm)  \\\n",
      "0                5.1               3.5                1.4               0.2   \n",
      "1                4.9               3.0                1.4               0.2   \n",
      "2                4.7               3.2                1.3               0.2   \n",
      "3                4.6               3.1                1.5               0.2   \n",
      "4                5.0               3.6                1.4               0.2   \n",
      "\n",
      "   sinif  \n",
      "0      0  \n",
      "1      0  \n",
      "2      0  \n",
      "3      0  \n",
      "4      0  \n"
     ]
    }
   ],
   "source": [
    "# 导入库\n",
    "from sklearn.datasets import load_iris\n",
    "import pandas as pd\n",
    "import numpy as np\n",
    "\n",
    "# 加载数据\n",
    "iris = load_iris()\n",
    "x = iris.data\n",
    "y = iris.target\n",
    "# 转为DataFrame\n",
    "data = pd.DataFrame(iris.data,columns = feature_names)\n",
    "data[\"sinif\"] = y\n",
    "# 查看数据概览\n",
    "print(data.info())\n",
    "print(data.head())\n"
   ]
  },
  {
   "cell_type": "code",
   "execution_count": 66,
   "metadata": {
    "_uuid": "f30d8f0556647de70ae096cc7d207129989ef565",
    "collapsed": true
   },
   "outputs": [
    {
     "name": "stdout",
     "output_type": "stream",
     "text": [
      "average accuracy:  0.9805555555555555\n",
      "average std:  0.03938179688543842\n",
      "test accuracy:  0.9555555555555556\n"
     ]
    }
   ],
   "source": [
    "# 归一化处理特征\n",
    "x = (x-np.min(x))/(np.max(x)-np.min(x))\n",
    "\n",
    "# 拆分为训练集与测试集\n",
    "from sklearn.model_selection import train_test_split\n",
    "x_train, x_test, y_train, y_test = train_test_split(x,y,test_size = 0.3)\n",
    "\n",
    "# 导入KNN模型\n",
    "from sklearn.neighbors import KNeighborsClassifier\n",
    "# 实例化模型，设置近邻数为16\n",
    "knn = KNeighborsClassifier(n_neighbors = 13) # n_neighbors = k\n",
    "\n",
    "# 导入交叉验证评分\n",
    "from sklearn.model_selection import cross_val_score\n",
    "\n",
    "accuracies = cross_val_score(estimator = knn, X = x_train, y= y_train, cv = 10)\n",
    "print(\"average accuracy: \",np.mean(accuracies))\n",
    "print(\"average std: \",np.std(accuracies))\n",
    "\n",
    "knn.fit(x_train,y_train)\n",
    "print(\"test accuracy: \",knn.score(x_test,y_test))"
   ]
  },
  {
   "cell_type": "code",
   "execution_count": 67,
   "metadata": {
    "_uuid": "2a91844f74fc47e3751a6d2e395b453fd817f5b9",
    "collapsed": true
   },
   "outputs": [
    {
     "name": "stdout",
     "output_type": "stream",
     "text": [
      "tuned hyperparameter K:  {'n_neighbors': 13}\n",
      "tuned parametreye gore en iyi accuracy (best score):  0.98\n"
     ]
    }
   ],
   "source": [
    "#Model Selection  grid search cross validation for knn\n",
    "from sklearn.model_selection import GridSearchCV\n",
    "\n",
    "grid = {\"n_neighbors\":np.arange(1,50)}\n",
    "knn= KNeighborsClassifier()\n",
    "\n",
    "knn_cv = GridSearchCV(knn, grid, cv = 10)  # GridSearchCV\n",
    "knn_cv.fit(x,y)\n",
    "\n",
    "#%% print hyperparameter KNN algoritmasindaki K degeri\n",
    "print(\"tuned hyperparameter K: \",knn_cv.best_params_)\n",
    "print(\"tuned parametreye gore en iyi accuracy (best score): \",knn_cv.best_score_)"
   ]
  },
  {
   "cell_type": "code",
   "execution_count": 68,
   "metadata": {
    "_uuid": "c88e9b7a881199352338684ce7d95f905115ddcf"
   },
   "outputs": [
    {
     "name": "stdout",
     "output_type": "stream",
     "text": [
      "tuned hyperparameters: (best parameters):  {'C': 0.1, 'penalty': 'l2'}\n",
      "accuracy:  1.0\n"
     ]
    }
   ],
   "source": [
    "#Model Selection Grid search CV with logistic regression\n",
    "x = x[:100,:]\n",
    "y = y[:100] \n",
    "\n",
    "from sklearn.linear_model import LogisticRegression\n",
    "grid = {\"C\":np.logspace(-3,3,7),\"penalty\":[\"l1\",\"l2\"]}  # l1 = lasso ve l2 = ridge\n",
    "\n",
    "logreg = LogisticRegression()\n",
    "logreg_cv = GridSearchCV(logreg,grid,cv = 10)\n",
    "logreg_cv.fit(x,y)\n",
    "\n",
    "print(\"tuned hyperparameters: (best parameters): \",logreg_cv.best_params_)\n",
    "print(\"accuracy: \",logreg_cv.best_score_)"
   ]
  },
  {
   "cell_type": "markdown",
   "metadata": {},
   "source": [
    "## 特征工程"
   ]
  },
  {
   "cell_type": "code",
   "execution_count": 1,
   "metadata": {},
   "outputs": [
    {
     "ename": "NameError",
     "evalue": "name 'get_dummies' is not defined",
     "output_type": "error",
     "traceback": [
      "\u001b[1;31m---------------------------------------------------------------------------\u001b[0m",
      "\u001b[1;31mNameError\u001b[0m                                 Traceback (most recent call last)",
      "\u001b[1;32m<ipython-input-1-efcfcd4ec8bf>\u001b[0m in \u001b[0;36m<module>\u001b[1;34m\u001b[0m\n\u001b[0;32m      1\u001b[0m \u001b[1;31m# 类别变量转为数值变量\u001b[0m\u001b[1;33m\u001b[0m\u001b[1;33m\u001b[0m\u001b[1;33m\u001b[0m\u001b[0m\n\u001b[1;32m----> 2\u001b[1;33m \u001b[0mget_dummies\u001b[0m\u001b[1;33m\u001b[0m\u001b[1;33m\u001b[0m\u001b[0m\n\u001b[0m",
      "\u001b[1;31mNameError\u001b[0m: name 'get_dummies' is not defined"
     ]
    }
   ],
   "source": [
    "# 类别变量转为数值变量\n",
    "get_dummies"
   ]
  },
  {
   "cell_type": "code",
   "execution_count": null,
   "metadata": {},
   "outputs": [],
   "source": [
    "# "
   ]
  },
  {
   "cell_type": "markdown",
   "metadata": {},
   "source": [
    "## 数据不平衡问题"
   ]
  },
  {
   "cell_type": "code",
   "execution_count": null,
   "metadata": {},
   "outputs": [],
   "source": [
    "imblearn"
   ]
  },
  {
   "cell_type": "markdown",
   "metadata": {},
   "source": [
    "## 深度学习"
   ]
  },
  {
   "cell_type": "code",
   "execution_count": null,
   "metadata": {},
   "outputs": [],
   "source": [
    "    \n",
    "https://tensorflow.google.cn/tutorials?hl=zh-cn"
   ]
  },
  {
   "cell_type": "code",
   "execution_count": null,
   "metadata": {},
   "outputs": [],
   "source": []
  },
  {
   "cell_type": "markdown",
   "metadata": {},
   "source": [
    "### 让计算机懂“时尚”"
   ]
  },
  {
   "cell_type": "code",
   "execution_count": 1,
   "metadata": {},
   "outputs": [],
   "source": [
    "# 导入包\n",
    "import numpy as np\n",
    "from sklearn.model_selection import train_test_split\n",
    "from tensorflow import keras\n",
    "# 设定图像参数\n",
    "img_rows, img_cols = 28, 28\n",
    "num_classes = 10\n",
    "\n",
    "\n",
    "\n",
    "# 读入数据\n",
    "fashion_file = \"data/fashion-mnist_train.csv\"\n",
    "fashion_data = np.loadtxt(fashion_file, skiprows=1, delimiter=',')\n",
    "\n",
    "# 拆分特征与标签\n",
    "def prep_data(raw):\n",
    "    y = raw[:, 0]\n",
    "    out_y = keras.utils.to_categorical(y, num_classes)\n",
    "    \n",
    "    x = raw[:,1:]\n",
    "    num_images = raw.shape[0]\n",
    "    out_x = x.reshape(num_images, img_rows, img_cols, 1)\n",
    "    out_x = out_x / 255\n",
    "    return out_x, out_y\n",
    "x, y = prep_data(fashion_data)"
   ]
  },
  {
   "cell_type": "code",
   "execution_count": 2,
   "metadata": {},
   "outputs": [],
   "source": [
    "# Create a Sequential model called fashion_model. Don't add layers yet.\n",
    "from tensorflow import keras\n",
    "from tensorflow.keras.models import Sequential\n",
    "from tensorflow.keras.layers import Dense, Flatten, Conv2D\n",
    "\n",
    "# Your Code Here\n",
    "fashion_model = Sequential()\n"
   ]
  },
  {
   "cell_type": "markdown",
   "metadata": {},
   "source": [
    " 2) Add the first layer\n",
    "\n",
    "Add the first `Conv2D` layer to `fashion_model`. It should have 12 filters, a kernel_size of 3 and the `relu` activation function. The first layer always requires that you specify the `input_shape`.  We have saved the number of rows and columns to the variables `img_rows` and `img_cols` respectively, so the input shape in this case is `(img_rows, img_cols, 1)`."
   ]
  },
  {
   "cell_type": "code",
   "execution_count": 3,
   "metadata": {},
   "outputs": [],
   "source": [
    "# Your code here\n",
    "fashion_model.add(Conv2D(12,\n",
    "                         kernel_size=3,\n",
    "                         activation='relu',                        \n",
    "                         input_shape=(img_rows,img_cols,1)))\n"
   ]
  },
  {
   "cell_type": "markdown",
   "metadata": {},
   "source": [
    " 3) Add the remaining layers\n",
    "\n",
    "1. Add 2 more convolutional (`Conv2D layers`) with 20 filters each, 'relu' activation, and a kernel size of 3. Follow that with a `Flatten` layer, and then a `Dense` layer with 100 neurons. \n",
    "2. Add your prediction layer to `fashion_model`.  This is a `Dense` layer.  We alrady have a variable called `num_classes`.  Use this variable when specifying the number of nodes in this layer. The activation should be `softmax` (or you will have problems later)."
   ]
  },
  {
   "cell_type": "code",
   "execution_count": 4,
   "metadata": {},
   "outputs": [],
   "source": [
    "# Your code here\n",
    "fashion_model.add(Conv2D(20, activation='relu', kernel_size=3))\n",
    "fashion_model.add(Conv2D(20, activation='relu', kernel_size=3))\n",
    "fashion_model.add(Flatten())\n",
    "fashion_model.add(Dense(100, activation='relu'))\n",
    "fashion_model.add(Dense(10, activation='softmax'))\n"
   ]
  },
  {
   "cell_type": "markdown",
   "metadata": {},
   "source": [
    " 4) Compile Your Model\n",
    "Compile fashion_model with the `compile` method.  Specify the following arguments:\n",
    "1. `loss = \"categorical_crossentropy\"`\n",
    "2. `optimizer = 'adam'`\n",
    "3. `metrics = ['accuracy']`"
   ]
  },
  {
   "cell_type": "code",
   "execution_count": 5,
   "metadata": {},
   "outputs": [],
   "source": [
    "# Your code to compile the model in this cell\n",
    "fashion_model.compile(loss='categorical_crossentropy',\n",
    "                      optimizer='adam',\n",
    "                      metrics=['accuracy'])\n"
   ]
  },
  {
   "cell_type": "markdown",
   "metadata": {},
   "source": [
    " 5) Fit The Model\n",
    "Run the command `fashion_model.fit`. The arguments you will use are\n",
    "1. The data used to fit the model. First comes the data holding the images, and second is the data with the class labels to be predicted. Look at the first code cell (which was supplied to you) where we called `prep_data` to find the variable names for these.\n",
    "2. `batch_size = 100`\n",
    "3. `epochs = 4`\n",
    "4. `validation_split = 0.2`\n",
    "\n",
    "When you run this command, you can watch your model start improving.  You will see validation accuracies after each epoch."
   ]
  },
  {
   "cell_type": "code",
   "execution_count": 6,
   "metadata": {},
   "outputs": [
    {
     "name": "stdout",
     "output_type": "stream",
     "text": [
      "Epoch 1/4\n",
      "480/480 [==============================] - 28s 58ms/step - loss: 0.4804 - accuracy: 0.8290 - val_loss: 0.3432 - val_accuracy: 0.8812\n",
      "Epoch 2/4\n",
      "480/480 [==============================] - 26s 55ms/step - loss: 0.3085 - accuracy: 0.8893 - val_loss: 0.3068 - val_accuracy: 0.8922\n",
      "Epoch 3/4\n",
      "480/480 [==============================] - 26s 54ms/step - loss: 0.2514 - accuracy: 0.9088 - val_loss: 0.2789 - val_accuracy: 0.9011\n",
      "Epoch 4/4\n",
      "480/480 [==============================] - 26s 54ms/step - loss: 0.2092 - accuracy: 0.9229 - val_loss: 0.2725 - val_accuracy: 0.9051\n"
     ]
    },
    {
     "data": {
      "text/plain": [
       "<tensorflow.python.keras.callbacks.History at 0x148866c18>"
      ]
     },
     "execution_count": 6,
     "metadata": {},
     "output_type": "execute_result"
    }
   ],
   "source": [
    "# Your code to fit the model here\n",
    "fashion_model.fit(x, y, batch_size=100, epochs=4, validation_split=0.2)"
   ]
  },
  {
   "cell_type": "code",
   "execution_count": null,
   "metadata": {},
   "outputs": [],
   "source": []
  }
 ],
 "metadata": {
  "kernelspec": {
   "display_name": "Python 3",
   "language": "python",
   "name": "python3"
  },
  "language_info": {
   "codemirror_mode": {
    "name": "ipython",
    "version": 3
   },
   "file_extension": ".py",
   "mimetype": "text/x-python",
   "name": "python",
   "nbconvert_exporter": "python",
   "pygments_lexer": "ipython3",
   "version": "3.7.3"
  },
  "toc": {
   "base_numbering": 1,
   "nav_menu": {},
   "number_sections": true,
   "sideBar": true,
   "skip_h1_title": false,
   "title_cell": "Table of Contents",
   "title_sidebar": "Contents",
   "toc_cell": false,
   "toc_position": {
    "height": "calc(100% - 180px)",
    "left": "10px",
    "top": "150px",
    "width": "165px"
   },
   "toc_section_display": true,
   "toc_window_display": true
  }
 },
 "nbformat": 4,
 "nbformat_minor": 4
}
