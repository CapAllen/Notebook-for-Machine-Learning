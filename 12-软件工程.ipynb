{
 "cells": [
  {
   "cell_type": "markdown",
   "metadata": {},
   "source": [
    "# Introduction"
   ]
  },
  {
   "cell_type": "markdown",
   "metadata": {},
   "source": [
    "数据科学工作日常中，离不开代码，为了编写出可靠、稳定、结构良好的代码，我们需要学习一些软件工程方面的知识。"
   ]
  },
  {
   "cell_type": "markdown",
   "metadata": {},
   "source": [
    "本章内容包括：\n",
    "- 软件工程基础\n",
    "- 面向对象编程\n",
    "- Web应用开发"
   ]
  },
  {
   "cell_type": "markdown",
   "metadata": {},
   "source": [
    "# 软件工程基础\n",
    "\n",
    "## 整洁&模块化的代码"
   ]
  },
  {
   "cell_type": "markdown",
   "metadata": {},
   "source": [
    "整洁的定义：\n",
    "- 可读性（readable），比如变量、函数名称等，需要有意义，如使用`age_list`表示年龄列表，使用`is_male`表示判断是否为男性等；\n",
    "- 简洁（simple）\n",
    "- 精炼（concise）\n",
    "\n",
    "模块化的定义：\n",
    "- 在逻辑上分解为不同的函数（functions）&模块（modules，在python中可以是一个文件）\n",
    "- 核心思想为：`DRY`（Don't Repeat Yourself）"
   ]
  },
  {
   "cell_type": "markdown",
   "metadata": {},
   "source": [
    "代码重构：\n",
    "- 在项目刚开始时，我们更注重代码的功能性，所以代码组织上稍乱也没关系；\n",
    "- 之后需要专门拿出时间，来对代码进行重构，也就是改善代码结构，而不该变其功能。"
   ]
  },
  {
   "cell_type": "markdown",
   "metadata": {},
   "source": [
    "## 提高代码效率"
   ]
  },
  {
   "cell_type": "markdown",
   "metadata": {},
   "source": [
    "- 减少代码运行时间\n",
    "- 减少代码运行所占内存"
   ]
  },
  {
   "cell_type": "markdown",
   "metadata": {},
   "source": [
    "## 有效的文档注释"
   ]
  },
  {
   "cell_type": "markdown",
   "metadata": {},
   "source": [
    "帮助快速理清复杂代码与代码思路。"
   ]
  },
  {
   "cell_type": "markdown",
   "metadata": {},
   "source": [
    "- 单行注释\n",
    "- 函数文档\n",
    "\n",
    "```python\n",
    "# 单行注释\n",
    "def population_density(population, land_area):\n",
    "    \"\"\"Calculate the population density of an area.\"\"\"\n",
    "    return population / land_area\n",
    "```\n",
    "\n",
    "```python\n",
    "# 完整多行注释\n",
    "def population_density(population, land_area):\n",
    "    \"\"\"Calculate the population density of an area.\n",
    "\n",
    "    Args:\n",
    "    population: int. The population of the area\n",
    "    land_area: int or float. This function is unit-agnostic, if you pass in values in terms of square km or square miles the function will return a density in those units.\n",
    "\n",
    "    Returns:\n",
    "    population_density: population/land_area. The population density of a \n",
    "    particular area.\n",
    "    \"\"\"\n",
    "    return population / land_area\n",
    "```\n",
    "\n",
    "- 项目文档(README)\n",
    "    - 项目背景\n",
    "    - 项目依赖环境及拓展包、版本\n",
    "    - 简洁的文件组成及功能\n",
    "    - 如何使用\n"
   ]
  },
  {
   "cell_type": "markdown",
   "metadata": {},
   "source": [
    "## 版本控制"
   ]
  },
  {
   "cell_type": "markdown",
   "metadata": {},
   "source": [
    "使用Git进行版本控制。\n",
    "\n",
    "**非常有用的两个教程**：\n",
    "- [Learn Git](https://learngitbranching.js.org/?locale=zh_CN)\n",
    "- "
   ]
  },
  {
   "cell_type": "markdown",
   "metadata": {},
   "source": [
    "## 测试"
   ]
  },
  {
   "cell_type": "markdown",
   "metadata": {},
   "source": [
    "在上线前，做好代码测试。"
   ]
  },
  {
   "cell_type": "markdown",
   "metadata": {},
   "source": [
    "## 日志记录"
   ]
  },
  {
   "cell_type": "markdown",
   "metadata": {},
   "source": [
    "运行代码时，可以使用print或者txt文档，储存运行过程，当出现问题时，我们便可以查看日志，来进行Debug。"
   ]
  },
  {
   "cell_type": "markdown",
   "metadata": {},
   "source": [
    "## 代码审查"
   ]
  },
  {
   "cell_type": "markdown",
   "metadata": {},
   "source": [
    "即对上面的所有内容，进行回顾审查。"
   ]
  },
  {
   "cell_type": "markdown",
   "metadata": {},
   "source": [
    "# 面向对象编程"
   ]
  },
  {
   "cell_type": "markdown",
   "metadata": {},
   "source": [
    "面向对象编程，可以让代码更具模块化与组织性。"
   ]
  },
  {
   "cell_type": "markdown",
   "metadata": {},
   "source": [
    "## 顺序编程与面向对象编程\n",
    "\n",
    "- 顺序编程：即代码从上至下依次执行的编码；\n",
    "- 面向对象编程：即基于对象的编程，对象具有\n",
    "    - 特征（Characteristics）：如狗的毛发颜色、身高、体重等（类似于名词）；——更专业的术语叫做**属性（attributes）**\n",
    "    - 行为（Actions）：如狗叫、跑、挖洞等（类似于动词）。——更专业的术语叫做**方法（methods）**"
   ]
  },
  {
   "cell_type": "markdown",
   "metadata": {},
   "source": [
    "- 对象：具体的实例，比如说田园犬与泰迪犬；\n",
    "- 类：由方法与属性组成的蓝图，可以理解为*模板*，比如 犬类中的所有犬都具有颜色、身高、体重等属性，具有叫、跑、挖洞等方法。"
   ]
  },
  {
   "cell_type": "markdown",
   "metadata": {},
   "source": [
    "## 语法\n"
   ]
  },
  {
   "cell_type": "markdown",
   "metadata": {},
   "source": [
    "> Method与Function有点类似，都使用def定义，具有输入与输出；区别在于，Method是在类里面；而Function是在类外面。"
   ]
  },
  {
   "cell_type": "code",
   "execution_count": 2,
   "metadata": {},
   "outputs": [],
   "source": [
    "# 如下是犬类的定义\n",
    "# 类的名称要首字母大写，保持良好的编码风格\n",
    "class Dogs: \n",
    "    # __init__函数是python内置函数，用来初始化\n",
    "    # self可以帮助python定义属性在内存中的位置，以此可以在整个类中进行调用\n",
    "    # 可以把self理解为一个字典\n",
    "    def __init__(self,color,weight,height): \n",
    "        self.color = color\n",
    "        self.weight = weight\n",
    "        self.height = height\n",
    "    \n",
    "    # 定义method：跑步\n",
    "    def run(self,distance):\n",
    "        return(f'Dog has run for {distance}m.')"
   ]
  },
  {
   "cell_type": "code",
   "execution_count": 3,
   "metadata": {},
   "outputs": [],
   "source": [
    "# 实例化类，即定义对象\n",
    "tianyuan_dog = Dogs('yellow',30,50)"
   ]
  },
  {
   "cell_type": "code",
   "execution_count": 4,
   "metadata": {},
   "outputs": [
    {
     "data": {
      "text/plain": [
       "'yellow'"
      ]
     },
     "execution_count": 4,
     "metadata": {},
     "output_type": "execute_result"
    }
   ],
   "source": [
    "# 查看对象的属性\n",
    "tianyuan_dog.color"
   ]
  },
  {
   "cell_type": "code",
   "execution_count": 5,
   "metadata": {},
   "outputs": [
    {
     "data": {
      "text/plain": [
       "'Dog has run for 10m.'"
      ]
     },
     "execution_count": 5,
     "metadata": {},
     "output_type": "execute_result"
    }
   ],
   "source": [
    "# 执行对象的方法\n",
    "tianyuan_dog.run(10)"
   ]
  },
  {
   "cell_type": "markdown",
   "metadata": {},
   "source": [
    "## 类的注释"
   ]
  },
  {
   "cell_type": "markdown",
   "metadata": {},
   "source": [
    "```python\n",
    "class Pants:\n",
    "    \"\"\"The Pants class represents an article of clothing sold in a store\n",
    "    \"\"\"\n",
    "\n",
    "    def __init__(self, color, waist_size, length, price):\n",
    "        \"\"\"Method for initializing a Pants object\n",
    "\n",
    "        Args: \n",
    "            color (str)\n",
    "            waist_size (int)\n",
    "            length (int)\n",
    "            price (float)\n",
    "\n",
    "        Attributes:\n",
    "            color (str): color of a pants object\n",
    "            waist_size (str): waist size of a pants object\n",
    "            length (str): length of a pants object\n",
    "            price (float): price of a pants object\n",
    "        \"\"\"\n",
    "\n",
    "        self.color = color\n",
    "        self.waist_size = waist_size\n",
    "        self.length = length\n",
    "        self.price = price\n",
    "\n",
    "    def change_price(self, new_price):\n",
    "        \"\"\"The change_price method changes the price attribute of a pants object\n",
    "\n",
    "        Args: \n",
    "            new_price (float): the new price of the pants object\n",
    "\n",
    "        Returns: None\n",
    "\n",
    "        \"\"\"\n",
    "        self.price = new_price\n",
    "\n",
    "    def discount(self, percentage):\n",
    "        \"\"\"The discount method outputs a discounted price of a pants object\n",
    "\n",
    "        Args:\n",
    "            percentage (float): a decimal representing the amount to discount\n",
    "\n",
    "        Returns:\n",
    "            float: the discounted price\n",
    "        \"\"\"\n",
    "        return self.price * (1 - percentage)\n",
    "```"
   ]
  },
  {
   "cell_type": "markdown",
   "metadata": {},
   "source": [
    "## 继承"
   ]
  },
  {
   "cell_type": "markdown",
   "metadata": {},
   "source": [
    "继承，即我们编写类时，可以从更广泛的类中获得一些基础属性与方法，然后再添加上更个性化的属性与方法。可以把他理解为从父类继承子类，比如说从 宠物类 继承 犬类，如下所示："
   ]
  },
  {
   "cell_type": "code",
   "execution_count": 6,
   "metadata": {},
   "outputs": [],
   "source": [
    "# 宠物类\n",
    "class Pets: \n",
    "    # 宠物类中都具有颜色、体重、身高属性，以及跑步的方法\n",
    "    def __init__(self,color,weight,height): \n",
    "        self.color = color\n",
    "        self.weight = weight\n",
    "        self.height = height\n",
    "    \n",
    "    # 定义method：跑步\n",
    "    def run(self,distance):\n",
    "        return(f'Dog has run for {distance}m.')"
   ]
  },
  {
   "cell_type": "code",
   "execution_count": 7,
   "metadata": {},
   "outputs": [],
   "source": [
    "# 定义犬类，继承自宠物类\n",
    "class Dogs(Pets):\n",
    "    # 除了宠物类中的基础属性外，还添加了尾巴长度属性\n",
    "    def __init__(self,color,weight,height,tail_length):\n",
    "        Pets.__init__(self,color,weight,height)\n",
    "        self.tail_length = tail_length\n",
    "    # 添加汪汪叫的方法    \n",
    "    def bark(self,times):\n",
    "        return ('Wong! ' * times)"
   ]
  },
  {
   "cell_type": "code",
   "execution_count": 8,
   "metadata": {},
   "outputs": [],
   "source": [
    "tianyuan_dog = Dogs('Yellow',20,50,30)"
   ]
  },
  {
   "cell_type": "code",
   "execution_count": 10,
   "metadata": {},
   "outputs": [
    {
     "data": {
      "text/plain": [
       "('Yellow', 30)"
      ]
     },
     "execution_count": 10,
     "metadata": {},
     "output_type": "execute_result"
    }
   ],
   "source": [
    "# 测试继承的基础属性，与新添加的属性\n",
    "tianyuan_dog.color, tianyuan_dog.tail_length"
   ]
  },
  {
   "cell_type": "code",
   "execution_count": 11,
   "metadata": {},
   "outputs": [
    {
     "data": {
      "text/plain": [
       "'Dog has run for 10m.'"
      ]
     },
     "execution_count": 11,
     "metadata": {},
     "output_type": "execute_result"
    }
   ],
   "source": [
    "# 继承的方法\n",
    "tianyuan_dog.run(10)"
   ]
  },
  {
   "cell_type": "code",
   "execution_count": 12,
   "metadata": {},
   "outputs": [
    {
     "data": {
      "text/plain": [
       "'Wong! Wong! Wong! '"
      ]
     },
     "execution_count": 12,
     "metadata": {},
     "output_type": "execute_result"
    }
   ],
   "source": [
    "# 新添加的方法\n",
    "tianyuan_dog.bark(3)"
   ]
  }
 ],
 "metadata": {
  "kernelspec": {
   "display_name": "Python 3",
   "language": "python",
   "name": "python3"
  },
  "language_info": {
   "codemirror_mode": {
    "name": "ipython",
    "version": 3
   },
   "file_extension": ".py",
   "mimetype": "text/x-python",
   "name": "python",
   "nbconvert_exporter": "python",
   "pygments_lexer": "ipython3",
   "version": "3.6.8"
  },
  "toc": {
   "base_numbering": 1,
   "nav_menu": {},
   "number_sections": true,
   "sideBar": true,
   "skip_h1_title": false,
   "title_cell": "Table of Contents",
   "title_sidebar": "Contents",
   "toc_cell": false,
   "toc_position": {
    "height": "calc(100% - 180px)",
    "left": "10px",
    "top": "150px",
    "width": "165px"
   },
   "toc_section_display": true,
   "toc_window_display": true
  }
 },
 "nbformat": 4,
 "nbformat_minor": 2
}
