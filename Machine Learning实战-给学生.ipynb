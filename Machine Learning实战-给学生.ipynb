{
 "cells": [
  {
   "cell_type": "markdown",
   "metadata": {},
   "source": [
    "Hi,欢迎来到实战营的最后一个项目——Machine Learning实战，在这部分，我们将通过对某银行的真实数据进行清洗、分析、可视化、建模等操作，预测某客户是否会订购定期存款业务。\n",
    "\n",
    "如下便是该数据集的数据字典，是时候展现真正的技术啦！Come On！"
   ]
  },
  {
   "cell_type": "markdown",
   "metadata": {},
   "source": [
    "|NO   | 字段名称|  数据类型 |字段描述\n",
    "-------|---------|-----------|----------\n",
    "1 |ID |Int |客户唯一标识\n",
    "2 |age |Int |客户年龄\n",
    "3 |job |String |客户的职业\n",
    "4 |marital |String |婚姻状况\n",
    "5 |education |String |受教育水平\n",
    "6 |default |String |是否有违约记录\n",
    "7 |balance |Int |每年账户的平均余额\n",
    "8 |housing |String |是否有住房贷款\n",
    "9 |loan |String |是否有个人贷款\n",
    "10 |contact |String |与客户联系的沟通方式\n",
    "11 |day |Int |最后一次联系的时间（几号）\n",
    "12 |month |String |最后一次联系的时间（月份）\n",
    "13 |duration |Int |最后一次联系的交流时长\n",
    "14 |campaign |Int |在本次活动中，与该客户交流过的次数\n",
    "15 |pdays |Int |距离上次活动最后一次联系该客户，过去了多久（999表示没有联系过）\n",
    "16 |previous |Int |在本次活动之前，与该客户交流过的次数\n",
    "17 |poutcome |String |上一次活动的结果\n",
    "18 |y |Int |预测客户是否会订购定期存款业务"
   ]
  },
  {
   "cell_type": "code",
   "execution_count": null,
   "metadata": {},
   "outputs": [],
   "source": [
    "# 导入数据分析相关包\n",
    "\n",
    "\n",
    "#设置中文字体等\n"
   ]
  },
  {
   "cell_type": "code",
   "execution_count": null,
   "metadata": {},
   "outputs": [],
   "source": [
    "# 读入数据 ，数据路径为data/buyornot_train_set.csv\n"
   ]
  },
  {
   "cell_type": "markdown",
   "metadata": {},
   "source": [
    "## 数据分析"
   ]
  },
  {
   "cell_type": "markdown",
   "metadata": {},
   "source": [
    "### 查看数据概览"
   ]
  },
  {
   "cell_type": "code",
   "execution_count": null,
   "metadata": {},
   "outputs": [],
   "source": [
    "# 查看前5行\n"
   ]
  },
  {
   "cell_type": "code",
   "execution_count": null,
   "metadata": {
    "scrolled": false
   },
   "outputs": [],
   "source": [
    "# 查看基本信息，检查是否有数据类型错误，是否有缺失情况\n"
   ]
  },
  {
   "cell_type": "code",
   "execution_count": null,
   "metadata": {},
   "outputs": [],
   "source": [
    "# 查看数据的重复情况\n"
   ]
  },
  {
   "cell_type": "code",
   "execution_count": null,
   "metadata": {},
   "outputs": [],
   "source": [
    "# 查看数值型数据基本统计情况\n"
   ]
  },
  {
   "cell_type": "code",
   "execution_count": null,
   "metadata": {
    "scrolled": true
   },
   "outputs": [],
   "source": [
    "# 筛选出类别变量\n",
    "\n",
    "# 查看类别型数据基本统计情况\n"
   ]
  },
  {
   "cell_type": "markdown",
   "metadata": {},
   "source": [
    "总结这部分的发现"
   ]
  },
  {
   "cell_type": "markdown",
   "metadata": {},
   "source": [
    "总结：\n",
    "\n",
    "- \n",
    "- "
   ]
  },
  {
   "cell_type": "markdown",
   "metadata": {},
   "source": [
    "### 探索性分析"
   ]
  },
  {
   "cell_type": "markdown",
   "metadata": {},
   "source": [
    "在这部分，需要你对各个变量的分布情况及其与关键列`y`之间的关系进行探索，最好可以进行相应的可视化，并配上可视化的解读～\n",
    "\n",
    "当然，十分鼓励你使用自定义函数来简化重复代码，试试看！"
   ]
  },
  {
   "cell_type": "markdown",
   "metadata": {},
   "source": [
    "- 关键列：`y`"
   ]
  },
  {
   "cell_type": "markdown",
   "metadata": {},
   "source": [
    "- age"
   ]
  },
  {
   "cell_type": "markdown",
   "metadata": {},
   "source": [
    "..."
   ]
  },
  {
   "cell_type": "markdown",
   "metadata": {},
   "source": [
    "### 数据清洗"
   ]
  },
  {
   "cell_type": "markdown",
   "metadata": {},
   "source": [
    "对如上发现的数据问题进行清洗，若无需数据清洗，也请注明理由。"
   ]
  },
  {
   "cell_type": "markdown",
   "metadata": {},
   "source": [
    "## 特征工程"
   ]
  },
  {
   "cell_type": "markdown",
   "metadata": {},
   "source": [
    "特征工程是建模最重要的部分（远比模型调参重要），因为它决定了模型的上限。\n",
    "\n",
    "在这部分，需要你讲数据转换为机器学习模型可以接受的形式，如分类变量转为数值变量等等。"
   ]
  },
  {
   "cell_type": "code",
   "execution_count": null,
   "metadata": {},
   "outputs": [],
   "source": [
    "# 备份数据\n"
   ]
  },
  {
   "cell_type": "markdown",
   "metadata": {},
   "source": [
    "## 拟合模型"
   ]
  },
  {
   "cell_type": "markdown",
   "metadata": {},
   "source": [
    "### 确定评价方法"
   ]
  },
  {
   "cell_type": "markdown",
   "metadata": {},
   "source": [
    "想要知道模型的优劣，需要根据当前业务场景及数据特征，选择合适的评价方法。\n",
    "\n",
    "请选择你认为适合本数据场景的评价方法：\n",
    "- [ ] 准确率（Accuracy）\n",
    "- [ ] 召回率（Recall）\n",
    "- [ ] 精确率（Precision）\n",
    "- [ ] F-Score\n",
    "- [ ] 受试者操作曲线下与坐标轴围成的面积（AUC of ROC）\n"
   ]
  },
  {
   "cell_type": "markdown",
   "metadata": {},
   "source": [
    "### 搭建模型训练-预测管道"
   ]
  },
  {
   "cell_type": "code",
   "execution_count": null,
   "metadata": {},
   "outputs": [],
   "source": [
    "# 从sklearn中导入拆分数据集函数\n",
    "\n",
    "# 拆分训练集与测试集\n"
   ]
  },
  {
   "cell_type": "code",
   "execution_count": null,
   "metadata": {},
   "outputs": [],
   "source": [
    "# 为了方便对比不同算法模型在此数据场景的表现，你需要搭建一个模型训练-预测函数（Pipeline），来简化重复工作\n",
    "# 导入时间拓展\n",
    "from time import time\n",
    "# 从sklearn中导入评价方法\n",
    "\n",
    "\n",
    "def train_predict(learner, X_train, X_test, y_train, y_test): \n",
    "    '''\n",
    "    输入:\n",
    "       - learner: 用于模型拟合与预测的算法\n",
    "       - X_train: 训练集特征\n",
    "       - y_train: 训练集标签\n",
    "       - X_test: 测试集特征\n",
    "       - y_test: 测试集标签\n",
    "    '''    \n",
    "    # 初始化结果为字典，用于储存最后结果\n",
    "    results = {}\n",
    "    \n",
    "    # 拟合模型\n",
    "    start = time() \n",
    "    learner = \n",
    "    end = time()\n",
    "    \n",
    "    # 计算训练时间\n",
    "    results['train_time'] = \n",
    "        \n",
    "    # 获取测试集与训练集的预测结果\n",
    "    start = time()\n",
    "    \n",
    "    predictions_train = \n",
    "    predict_prob_train = \n",
    "    predictions_test = \n",
    "    predict_prob_test = \n",
    "    \n",
    "    end = time() \n",
    "    \n",
    "    # 计算预测时间\n",
    "    results['pred_time'] = \n",
    "    \n",
    "    # 计算训练集的评分\n",
    "    results['f_train'] = \n",
    "    results['auc_train'] = \n",
    "        \n",
    "    # 计算测试集的评分\n",
    "    results['f_test'] = \n",
    "    results['auc_test'] = \n",
    "       \n",
    "    # 提示训练结束\n",
    "    print(f\"{learner.__class__.__name__}模型训练结束。\")\n",
    "        \n",
    "    # 返回结果\n",
    "    return results"
   ]
  },
  {
   "cell_type": "code",
   "execution_count": null,
   "metadata": {},
   "outputs": [],
   "source": [
    "# 请从sklearn中导入至少三种监督学习算法\n",
    "\n",
    "\n",
    "# 实例化导入的模型\n",
    "clf_A = \n",
    "clf_B = \n",
    "clf_C = \n",
    "\n",
    "\n",
    "# 对如上三种算法，分别进行拟合，并获取结果，将结果保存至results中\n",
    "results = {}\n",
    "# 循环三种算法\n",
    "for clf in [clf_A, clf_B, clf_C]:\n",
    "    # 获取函数名称\n",
    "    clf_name = clf.__class__.__name__\n",
    "    results[clf_name] = train_predict(clf, X_train, X_test, y_train, y_test)"
   ]
  },
  {
   "cell_type": "code",
   "execution_count": null,
   "metadata": {},
   "outputs": [],
   "source": [
    "# 查看结果\n",
    "pd.DataFrame(results)"
   ]
  },
  {
   "cell_type": "markdown",
   "metadata": {},
   "source": [
    "发现：\n",
    "\n",
    "记录在如上结果中的发现。"
   ]
  },
  {
   "cell_type": "markdown",
   "metadata": {},
   "source": [
    "## 优化"
   ]
  },
  {
   "cell_type": "markdown",
   "metadata": {},
   "source": [
    "当进行模型优化时，我们首先需要考虑进行更细致的特征工程，让数据表达出更多信息，这会对模型最终的评分提升较大；其次，考虑使用较优秀的新算法；最后，再使用网格搜索（GridSearch）等方法去进行参数调优。"
   ]
  },
  {
   "cell_type": "markdown",
   "metadata": {},
   "source": [
    "- 请完成至少三个方面的特征优化；\n",
    "- 请使用至少一种新算法（Xgboost，LightGBM等）；\n",
    "- 请完成至少一个参数的调优。"
   ]
  },
  {
   "cell_type": "markdown",
   "metadata": {},
   "source": [
    "## 业务解读"
   ]
  },
  {
   "cell_type": "markdown",
   "metadata": {},
   "source": [
    "### 查看特征重要性"
   ]
  },
  {
   "cell_type": "code",
   "execution_count": null,
   "metadata": {},
   "outputs": [],
   "source": [
    "# 查看特征重要性\n",
    "feature_importances = pd.DataFrame({'特征': \n",
    "                                    '重要性': })"
   ]
  },
  {
   "cell_type": "code",
   "execution_count": null,
   "metadata": {},
   "outputs": [],
   "source": [
    "feature_importances.sort_values(by='重要性',ascending=False)"
   ]
  },
  {
   "cell_type": "markdown",
   "metadata": {},
   "source": [
    "结论： 请根据如上结果，撰写结论"
   ]
  },
  {
   "cell_type": "markdown",
   "metadata": {},
   "source": [
    "### 使用Shap解释模型"
   ]
  },
  {
   "cell_type": "markdown",
   "metadata": {},
   "source": [
    "使用LightGBM、RandomForest等算法，虽然可以提升算法性能，但是同样由于模型的复杂度高，可解释性不如逻辑回归与决策树等。这时候，就需要使用黑盒模型事后归因解析：SHAP方法。\n",
    "\n",
    "关于SHAP你可以通过如下三个阅读材料去了解，并尝试对你的模型进行解释。\n",
    "- [黑盒模型事后归因解析：SHAP方法](https://cloud.tencent.com/developer/news/624937)\n",
    "- [利用SHAP解释Xgboost模型](http://sofasofa.io/tutorials/shap_xgboost/)\n",
    "- [Shap Documents](https://shap.readthedocs.io/en/latest/)"
   ]
  },
  {
   "cell_type": "code",
   "execution_count": null,
   "metadata": {},
   "outputs": [],
   "source": []
  }
 ],
 "metadata": {
  "kernelspec": {
   "display_name": "Python 3",
   "language": "python",
   "name": "python3"
  },
  "language_info": {
   "codemirror_mode": {
    "name": "ipython",
    "version": 3
   },
   "file_extension": ".py",
   "mimetype": "text/x-python",
   "name": "python",
   "nbconvert_exporter": "python",
   "pygments_lexer": "ipython3",
   "version": "3.7.3"
  },
  "toc": {
   "base_numbering": 1,
   "nav_menu": {},
   "number_sections": true,
   "sideBar": true,
   "skip_h1_title": false,
   "title_cell": "Table of Contents",
   "title_sidebar": "Contents",
   "toc_cell": false,
   "toc_position": {
    "height": "calc(100% - 180px)",
    "left": "10px",
    "top": "150px",
    "width": "165px"
   },
   "toc_section_display": true,
   "toc_window_display": true
  }
 },
 "nbformat": 4,
 "nbformat_minor": 2
}
