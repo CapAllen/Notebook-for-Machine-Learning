{
 "cells": [
  {
   "cell_type": "markdown",
   "metadata": {},
   "source": [
    "## 简介"
   ]
  },
  {
   "cell_type": "markdown",
   "metadata": {},
   "source": [
    "目前最流行的两种集成算法分别为boosting和bagging。\n",
    "- bagging ： 是bootstrap aggregatin（自助聚集）的简称。比如说，我们参加一次考试，但不知道该怎么做，这时候求助了几位朋友，对于数字型的问题，我们综合所有朋友的答案，求得均值；对于选择题，我们则将所有朋友的答案进行投票，选择票数最高的那个答案；\n",
    "\n",
    "- boosting ： 即提升算法；这里同样也是求助朋友，只不过我们依据不同的问题，求助不同专业的朋友，比如对于音乐类的题，我们就求助音乐专业的同学，对于计算机问题则求助计算机专业的同学。\n",
    "\n",
    "将如上的例子映射到机器学习中，那么这些“朋友“被称作”弱学习器“（并不表示模型是最弱的，只是相对于想要合成的强分类器而言较弱）。\n"
   ]
  },
  {
   "cell_type": "markdown",
   "metadata": {},
   "source": []
  },
  {
   "cell_type": "code",
   "execution_count": null,
   "metadata": {},
   "outputs": [],
   "source": []
  }
 ],
 "metadata": {
  "kernelspec": {
   "display_name": "Python 3",
   "language": "python",
   "name": "python3"
  },
  "language_info": {
   "codemirror_mode": {
    "name": "ipython",
    "version": 3
   },
   "file_extension": ".py",
   "mimetype": "text/x-python",
   "name": "python",
   "nbconvert_exporter": "python",
   "pygments_lexer": "ipython3",
   "version": "3.7.3"
  },
  "toc": {
   "base_numbering": 1,
   "nav_menu": {},
   "number_sections": true,
   "sideBar": true,
   "skip_h1_title": false,
   "title_cell": "Table of Contents",
   "title_sidebar": "Contents",
   "toc_cell": false,
   "toc_position": {},
   "toc_section_display": true,
   "toc_window_display": false
  }
 },
 "nbformat": 4,
 "nbformat_minor": 2
}
