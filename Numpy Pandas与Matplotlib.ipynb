{
 "cells": [
  {
   "cell_type": "markdown",
   "metadata": {},
   "source": [
    "- [Numpy](https://www.w3resource.com/python-exercises/numpy/index-array.php)\n",
    "- [Numpy](https://www.numpy.org.cn/article/advanced/numpy_exercises_for_data_analysis.html#_1%E3%80%81%E5%AF%BC%E5%85%A5numpy%E4%BD%9C%E4%B8%BAnp%EF%BC%8C%E5%B9%B6%E6%9F%A5%E7%9C%8B%E7%89%88%E6%9C%AC)\n",
    "- [Pandas](https://www.w3resource.com/index.php)"
   ]
  },
  {
   "cell_type": "markdown",
   "metadata": {},
   "source": [
    "## 标题\n",
    "\n",
    "要求："
   ]
  },
  {
   "cell_type": "markdown",
   "metadata": {},
   "source": [
    "难度：3/5\n",
    "\n",
    "知识点： ； ；"
   ]
  },
  {
   "cell_type": "code",
   "execution_count": null,
   "metadata": {},
   "outputs": [],
   "source": [
    "# 参考答案"
   ]
  },
  {
   "cell_type": "markdown",
   "metadata": {},
   "source": [
    "**解析：**\n"
   ]
  },
  {
   "cell_type": "markdown",
   "metadata": {},
   "source": [
    "**知识点参考：**\n",
    "\n",
    "- [数据类型和变量](https://www.liaoxuefeng.com/wiki/1016959663602400/1017063826246112)\n",
    "- [字符串和编码](https://www.liaoxuefeng.com/wiki/1016959663602400/1017075323632896)\n",
    "- [输入输出](https://www.liaoxuefeng.com/wiki/1016959663602400/1017032074151456)"
   ]
  }
 ],
 "metadata": {
  "kernelspec": {
   "display_name": "Python 3",
   "language": "python",
   "name": "python3"
  },
  "language_info": {
   "codemirror_mode": {
    "name": "ipython",
    "version": 3
   },
   "file_extension": ".py",
   "mimetype": "text/x-python",
   "name": "python",
   "nbconvert_exporter": "python",
   "pygments_lexer": "ipython3",
   "version": "3.6.8"
  },
  "toc": {
   "base_numbering": 1,
   "nav_menu": {},
   "number_sections": true,
   "sideBar": true,
   "skip_h1_title": false,
   "title_cell": "Table of Contents",
   "title_sidebar": "Contents",
   "toc_cell": false,
   "toc_position": {},
   "toc_section_display": true,
   "toc_window_display": false
  }
 },
 "nbformat": 4,
 "nbformat_minor": 2
}
