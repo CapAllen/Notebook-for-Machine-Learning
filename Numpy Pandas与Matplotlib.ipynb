{
 "cells": [
  {
   "cell_type": "markdown",
   "metadata": {},
   "source": [
    "## 标题\n",
    "\n",
    "要求："
   ]
  },
  {
   "cell_type": "markdown",
   "metadata": {},
   "source": [
    "难度：3/5\n",
    "\n",
    "知识点： ； ；"
   ]
  },
  {
   "cell_type": "code",
   "execution_count": null,
   "metadata": {},
   "outputs": [],
   "source": [
    "# 参考答案"
   ]
  },
  {
   "cell_type": "markdown",
   "metadata": {},
   "source": [
    "**解析：**\n",
    "\n",
    "本题虽然看似简单，但考察的知识点还是比较全面的：\n",
    "- 输入：使用`input`函数获取键盘输入，但所有通过`input`获取的都是字符串`str`类型，如果涉及到数值计算，需要先转换成数值类型；\n",
    "- 数值类型转换：这里使用`float`转换为浮点型，是考虑到华氏温度有可能包含小数；\n",
    "- 格式化输出：可以使用`f`或者`format`函数进行格式化输出，此外，还需考虑小数精度问题，这里使用`round`函数将小数点后位数限制为1；\n",
    " > 改写成`format`函数就是`'您输入的{}华氏度，等于{}摄氏度'.format(Fahrenheit,round(Celsius,1))`\n",
    "- 变量赋值：变量名虽然可以随意取，但为了代码的可读性，尽量取得有意义一些。"
   ]
  },
  {
   "cell_type": "markdown",
   "metadata": {},
   "source": [
    "**知识点参考：**\n",
    "\n",
    "- [数据类型和变量](https://www.liaoxuefeng.com/wiki/1016959663602400/1017063826246112)\n",
    "- [字符串和编码](https://www.liaoxuefeng.com/wiki/1016959663602400/1017075323632896)\n",
    "- [输入输出](https://www.liaoxuefeng.com/wiki/1016959663602400/1017032074151456)"
   ]
  }
 ],
 "metadata": {
  "kernelspec": {
   "display_name": "Python 3",
   "language": "python",
   "name": "python3"
  },
  "language_info": {
   "codemirror_mode": {
    "name": "ipython",
    "version": 3
   },
   "file_extension": ".py",
   "mimetype": "text/x-python",
   "name": "python",
   "nbconvert_exporter": "python",
   "pygments_lexer": "ipython3",
   "version": "3.6.8"
  },
  "toc": {
   "base_numbering": 1,
   "nav_menu": {},
   "number_sections": true,
   "sideBar": true,
   "skip_h1_title": false,
   "title_cell": "Table of Contents",
   "title_sidebar": "Contents",
   "toc_cell": false,
   "toc_position": {},
   "toc_section_display": true,
   "toc_window_display": false
  }
 },
 "nbformat": 4,
 "nbformat_minor": 2
}
