{
 "cells": [
  {
   "cell_type": "markdown",
   "metadata": {},
   "source": [
    "## 朴素贝叶斯（Naive Bayes）"
   ]
  },
  {
   "cell_type": "markdown",
   "metadata": {},
   "source": [
    "朴素贝叶斯是一种基于条件概率的算法，它有很多优势，如易于实现、训练速度快等。"
   ]
  },
  {
   "cell_type": "markdown",
   "metadata": {},
   "source": [
    "### 贝叶斯理论（Bayes Theory）"
   ]
  },
  {
   "cell_type": "markdown",
   "metadata": {},
   "source": [
    "我们通过一个生活中的小🌰来了解下什么是贝叶斯理论：\n",
    "\n",
    "假设，在办公室里有两个同事，一个叫Alex，一个叫Brenda，有一天，你在办公室里面突然看到一个人影闪过去，那么问题来了，刚闪过去的这个人是谁呢？\n",
    "\n",
    "- 已知，Alex与Brenda两人在办公室的时间一样长，那么闪过去的这个人是Alex的概率为50%；\n",
    "\n",
    "接下来，我们通过更多的信息，来猜得更准：\n",
    "- 我们看到闪过去的这个人穿的是**红色毛衣**，并且经过以往的观察，Alex每周有2次穿红衣服，Brenda每周有3次穿红衣服。\n",
    "\n",
    "从直观上讲，在一周内Brenda穿红衣服的概率比Alex高，那么刚闪过去的这个人是Brenda的可能性就会更大一些，那么这个可能性是具体多少呢？\n",
    "\n",
    "假设，我们看到有人从面前经过了5次，那么在这5次中，有2次可能是Alex，有3次可能是Brenda，所以刚过去的这个人是Alex的可能性就是40%，Brenda的可能性是60%。\n",
    "\n",
    "如上的过程就是就是贝叶斯定理的应用，最开始我们猜测的二者都是50%概率被称作**先验概率Prior**，而后得到的40%与60%被称为**后验概率posterior**"
   ]
  },
  {
   "cell_type": "markdown",
   "metadata": {},
   "source": [
    "  \n",
    "  "
   ]
  },
  {
   "cell_type": "markdown",
   "metadata": {},
   "source": [
    "贝叶斯理论的“正经”版本：\n",
    "\n",
    "我们假设某一事件有A和B两种可能，A发生的概率为$P(A)$与B发生的概率为$P(B)$，现在有第三个事件R，对于A和B两种情况来说，都有发生$R$与不发生$R^c$的可能，其关系如下图所示：\n",
    "![NYWREt.png](https://s1.ax1x.com/2020/06/22/NYWREt.png)"
   ]
  },
  {
   "cell_type": "markdown",
   "metadata": {},
   "source": [
    "那么，在已知事件R发生的情况下，最后出现的事件只有可能是$P(R \\cap A)$或$P(R \\cap B)$，所以，已知R事件发生时A事件发生的概率为：\n",
    "$$P(A|R) = \\frac{P(R \\cap A)}{P(R \\cap A)+P(R \\cap B)} = \\frac{P(A)P(R|A)}{P(A)P(R|A)+P(B)P(R|B)}$$\n",
    "\n",
    "事件B同理，如上便是贝叶斯理论，其中$P(A)$与$P(B)$为先验概率，即事件R发生前我们就已经知道的概率；$P(A|R)$与$P(B|R)$为后验概率，即事件R发生后，反推事件A与B的发生概率。"
   ]
  },
  {
   "cell_type": "markdown",
   "metadata": {},
   "source": [
    "练习："
   ]
  },
  {
   "cell_type": "code",
   "execution_count": null,
   "metadata": {},
   "outputs": [],
   "source": []
  }
 ],
 "metadata": {
  "kernelspec": {
   "display_name": "Python 3",
   "language": "python",
   "name": "python3"
  },
  "language_info": {
   "codemirror_mode": {
    "name": "ipython",
    "version": 3
   },
   "file_extension": ".py",
   "mimetype": "text/x-python",
   "name": "python",
   "nbconvert_exporter": "python",
   "pygments_lexer": "ipython3",
   "version": "3.7.3"
  },
  "toc": {
   "base_numbering": 1,
   "nav_menu": {},
   "number_sections": true,
   "sideBar": true,
   "skip_h1_title": false,
   "title_cell": "Table of Contents",
   "title_sidebar": "Contents",
   "toc_cell": false,
   "toc_position": {
    "height": "calc(100% - 180px)",
    "left": "10px",
    "top": "150px",
    "width": "217px"
   },
   "toc_section_display": true,
   "toc_window_display": true
  }
 },
 "nbformat": 4,
 "nbformat_minor": 2
}
