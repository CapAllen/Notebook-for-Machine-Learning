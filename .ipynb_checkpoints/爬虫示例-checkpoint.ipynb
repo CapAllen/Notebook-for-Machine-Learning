{
 "cells": [
  {
   "cell_type": "code",
   "execution_count": 1,
   "metadata": {},
   "outputs": [],
   "source": [
    "import requests\n",
    "from bs4 import BeautifulSoup"
   ]
  },
  {
   "cell_type": "code",
   "execution_count": 2,
   "metadata": {},
   "outputs": [],
   "source": [
    "city_menu = 'http://tianqi.hao123.com/citymenu'"
   ]
  },
  {
   "cell_type": "code",
   "execution_count": 3,
   "metadata": {},
   "outputs": [],
   "source": [
    "res = requests.get(city_menu)"
   ]
  },
  {
   "cell_type": "code",
   "execution_count": 5,
   "metadata": {},
   "outputs": [],
   "source": [
    "pro_dict = res.json()"
   ]
  },
  {
   "cell_type": "code",
   "execution_count": 8,
   "metadata": {},
   "outputs": [],
   "source": [
    "pro_dict = {item['name']:item['id'] for item in pro_dict}"
   ]
  },
  {
   "cell_type": "code",
   "execution_count": 9,
   "metadata": {},
   "outputs": [],
   "source": [
    "pid = pro_dict['河北']"
   ]
  },
  {
   "cell_type": "code",
   "execution_count": 10,
   "metadata": {},
   "outputs": [
    {
     "data": {
      "text/plain": [
       "'12'"
      ]
     },
     "execution_count": 10,
     "metadata": {},
     "output_type": "execute_result"
    }
   ],
   "source": [
    "pid"
   ]
  },
  {
   "cell_type": "code",
   "execution_count": 11,
   "metadata": {},
   "outputs": [],
   "source": [
    "city_url = f'http://tianqi.hao123.com/citymenu?pid={pid}&callback=jQuery18209746358735283486_1600591277626&_=1600591320711'"
   ]
  },
  {
   "cell_type": "code",
   "execution_count": 12,
   "metadata": {},
   "outputs": [],
   "source": [
    "res = requests.get(city_url)"
   ]
  },
  {
   "cell_type": "code",
   "execution_count": 13,
   "metadata": {},
   "outputs": [
    {
     "data": {
      "text/plain": [
       "'/**/jQuery18209746358735283486_1600591277626([{\"id\":\"01\",\"firstchar\":\"S\",\"name\":\"\\\\u77f3\\\\u5bb6\\\\u5e84\",\"name_en\":\"shijiazhuang\"},{\"id\":\"02\",\"firstchar\":\"B\",\"name\":\"\\\\u4fdd\\\\u5b9a\",\"name_en\":\"baoding\"},{\"id\":\"03\",\"firstchar\":\"C\",\"name\":\"\\\\u627f\\\\u5fb7\",\"name_en\":\"chengde\"},{\"id\":\"04\",\"firstchar\":\"C\",\"name\":\"\\\\u6ca7\\\\u5dde\",\"name_en\":\"cangzhou\"},{\"id\":\"05\",\"firstchar\":\"H\",\"name\":\"\\\\u90af\\\\u90f8\",\"name_en\":\"handan\"},{\"id\":\"06\",\"firstchar\":\"H\",\"name\":\"\\\\u8861\\\\u6c34\",\"name_en\":\"hengshui\"},{\"id\":\"07\",\"firstchar\":\"L\",\"name\":\"\\\\u5eca\\\\u574a\",\"name_en\":\"langfang\"},{\"id\":\"08\",\"firstchar\":\"Q\",\"name\":\"\\\\u79e6\\\\u7687\\\\u5c9b\",\"name_en\":\"qinhuangdao\"},{\"id\":\"09\",\"firstchar\":\"T\",\"name\":\"\\\\u5510\\\\u5c71\",\"name_en\":\"tangshan\"},{\"id\":\"10\",\"firstchar\":\"X\",\"name\":\"\\\\u96c4\\\\u5b89\\\\u65b0\\\\u533a\",\"name_en\":\"xionganxinqu\"},{\"id\":\"11\",\"firstchar\":\"X\",\"name\":\"\\\\u90a2\\\\u53f0\",\"name_en\":\"xingtai\"},{\"id\":\"12\",\"firstchar\":\"Z\",\"name\":\"\\\\u5f20\\\\u5bb6\\\\u53e3\",\"name_en\":\"zhangjiakou\"}])'"
      ]
     },
     "execution_count": 13,
     "metadata": {},
     "output_type": "execute_result"
    }
   ],
   "source": [
    "res.text"
   ]
  },
  {
   "cell_type": "code",
   "execution_count": 14,
   "metadata": {},
   "outputs": [],
   "source": [
    "cid = \"01\"\n",
    "district_url = f\"http://tianqi.hao123.com/citymenu?pid={pid}&cid={cid}&callback=jQuery18209746358735283486_1600591277626&_=1600591321062\""
   ]
  },
  {
   "cell_type": "code",
   "execution_count": 15,
   "metadata": {},
   "outputs": [],
   "source": [
    "res = requests.get(district_url)"
   ]
  },
  {
   "cell_type": "code",
   "execution_count": 16,
   "metadata": {},
   "outputs": [
    {
     "data": {
      "text/plain": [
       "'/**/jQuery18209746358735283486_1600591277626([{\"id\":\"01\",\"firstchar\":\"S\",\"name\":\"\\\\u77f3\\\\u5bb6\\\\u5e84\",\"name_en\":\"shijiazhuang\"},{\"id\":\"02\",\"firstchar\":\"C\",\"name\":\"\\\\u957f\\\\u5b89\",\"name_en\":\"changan\"},{\"id\":\"03\",\"firstchar\":\"G\",\"name\":\"\\\\u9ad8\\\\u9091\",\"name_en\":\"gaoyi\"},{\"id\":\"04\",\"firstchar\":\"G\",\"name\":\"\\\\u85c1\\\\u57ce\",\"name_en\":\"gaocheng\"},{\"id\":\"05\",\"firstchar\":\"J\",\"name\":\"\\\\u4e95\\\\u9649\",\"name_en\":\"jingxing\"},{\"id\":\"06\",\"firstchar\":\"J\",\"name\":\"\\\\u664b\\\\u5dde\",\"name_en\":\"jinzhou2\"},{\"id\":\"07\",\"firstchar\":\"J\",\"name\":\"\\\\u4e95\\\\u9649\\\\u77ff\\\\u533a\",\"name_en\":\"jingxingkuangqu\"},{\"id\":\"08\",\"firstchar\":\"L\",\"name\":\"\\\\u683e\\\\u57ce\",\"name_en\":\"luancheng\"},{\"id\":\"09\",\"firstchar\":\"L\",\"name\":\"\\\\u7075\\\\u5bff\",\"name_en\":\"lingshou\"},{\"id\":\"10\",\"firstchar\":\"L\",\"name\":\"\\\\u9e7f\\\\u6cc9\",\"name_en\":\"luquan\"},{\"id\":\"11\",\"firstchar\":\"P\",\"name\":\"\\\\u5e73\\\\u5c71\",\"name_en\":\"pingshan1\"},{\"id\":\"12\",\"firstchar\":\"Q\",\"name\":\"\\\\u6865\\\\u897f\",\"name_en\":\"qiaoxi\"},{\"id\":\"13\",\"firstchar\":\"S\",\"name\":\"\\\\u6df1\\\\u6cfd\",\"name_en\":\"shenze\"},{\"id\":\"14\",\"firstchar\":\"W\",\"name\":\"\\\\u65e0\\\\u6781\",\"name_en\":\"wuji\"},{\"id\":\"15\",\"firstchar\":\"X\",\"name\":\"\\\\u884c\\\\u5510\",\"name_en\":\"xingtang\"},{\"id\":\"16\",\"firstchar\":\"X\",\"name\":\"\\\\u8f9b\\\\u96c6\",\"name_en\":\"xinji\"},{\"id\":\"17\",\"firstchar\":\"X\",\"name\":\"\\\\u65b0\\\\u4e50\",\"name_en\":\"xinle\"},{\"id\":\"18\",\"firstchar\":\"X\",\"name\":\"\\\\u65b0\\\\u534e\",\"name_en\":\"xinhua\"},{\"id\":\"19\",\"firstchar\":\"Y\",\"name\":\"\\\\u5143\\\\u6c0f\",\"name_en\":\"yuanshi\"},{\"id\":\"20\",\"firstchar\":\"Y\",\"name\":\"\\\\u88d5\\\\u534e\",\"name_en\":\"yuhua\"},{\"id\":\"21\",\"firstchar\":\"Z\",\"name\":\"\\\\u6b63\\\\u5b9a\",\"name_en\":\"zhengding\"},{\"id\":\"22\",\"firstchar\":\"Z\",\"name\":\"\\\\u8d5e\\\\u7687\",\"name_en\":\"zanhuang\"},{\"id\":\"23\",\"firstchar\":\"Z\",\"name\":\"\\\\u8d75\\\\u53bf\",\"name_en\":\"zhaoxian\"}])'"
      ]
     },
     "execution_count": 16,
     "metadata": {},
     "output_type": "execute_result"
    }
   ],
   "source": [
    "res.text"
   ]
  },
  {
   "cell_type": "code",
   "execution_count": 17,
   "metadata": {},
   "outputs": [],
   "source": [
    "name_en = \"yuanshi\"\n",
    "weather_url = f\"http://tianqi.hao123.com/{name_en}.html\""
   ]
  },
  {
   "cell_type": "code",
   "execution_count": 18,
   "metadata": {},
   "outputs": [
    {
     "data": {
      "text/plain": [
       "'http://tianqi.hao123.com/yuanshi.html'"
      ]
     },
     "execution_count": 18,
     "metadata": {},
     "output_type": "execute_result"
    }
   ],
   "source": [
    "weather_url"
   ]
  },
  {
   "cell_type": "code",
   "execution_count": null,
   "metadata": {},
   "outputs": [],
   "source": []
  }
 ],
 "metadata": {
  "kernelspec": {
   "display_name": "Python 3",
   "language": "python",
   "name": "python3"
  },
  "language_info": {
   "codemirror_mode": {
    "name": "ipython",
    "version": 3
   },
   "file_extension": ".py",
   "mimetype": "text/x-python",
   "name": "python",
   "nbconvert_exporter": "python",
   "pygments_lexer": "ipython3",
   "version": "3.7.3"
  },
  "toc": {
   "base_numbering": 1,
   "nav_menu": {},
   "number_sections": true,
   "sideBar": true,
   "skip_h1_title": false,
   "title_cell": "Table of Contents",
   "title_sidebar": "Contents",
   "toc_cell": false,
   "toc_position": {},
   "toc_section_display": true,
   "toc_window_display": false
  }
 },
 "nbformat": 4,
 "nbformat_minor": 2
}
