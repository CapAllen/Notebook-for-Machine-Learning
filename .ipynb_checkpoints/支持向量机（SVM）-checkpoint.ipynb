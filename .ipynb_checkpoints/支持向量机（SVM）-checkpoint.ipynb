{
 "cells": [
  {
   "cell_type": "markdown",
   "metadata": {},
   "source": [
    "## 支持向量机（SVM）"
   ]
  },
  {
   "cell_type": "markdown",
   "metadata": {},
   "source": [
    "SVM是一种非常强大的分类算法，不仅仅会进行分类，而且还会寻找两分类保持最大间隔的界线。"
   ]
  },
  {
   "cell_type": "markdown",
   "metadata": {},
   "source": [
    "### 引言"
   ]
  },
  {
   "cell_type": "markdown",
   "metadata": {
    "solution2": "shown",
    "solution2_first": true
   },
   "source": [
    "如下图所示，左右两条线都可以把数据分为两类，那么这两条线，那种更好呢？\n",
    "![UrTkVK.png](https://s1.ax1x.com/2020/07/16/UrTkVK.png)"
   ]
  },
  {
   "cell_type": "markdown",
   "metadata": {
    "solution2": "shown"
   },
   "source": [
    "当然，这里答案是左边这条，因为在左图中，两个类别的点到分界线的间距适当，而右图中则有的距离远，有的距离近。而且，比较两图中点与线的最小间距，也可以发现左图的最小间距要比右图大。（也就是说，左图可以尽可能的把两分类分离得更远）支持向量机就是按照左图的样式去工作的。\n",
    "\n",
    "![UrTm2d.png](https://s1.ax1x.com/2020/07/16/UrTm2d.png)"
   ]
  },
  {
   "cell_type": "code",
   "execution_count": null,
   "metadata": {},
   "outputs": [],
   "source": []
  }
 ],
 "metadata": {
  "kernelspec": {
   "display_name": "Python 3",
   "language": "python",
   "name": "python3"
  },
  "language_info": {
   "codemirror_mode": {
    "name": "ipython",
    "version": 3
   },
   "file_extension": ".py",
   "mimetype": "text/x-python",
   "name": "python",
   "nbconvert_exporter": "python",
   "pygments_lexer": "ipython3",
   "version": "3.7.3"
  },
  "toc": {
   "base_numbering": 1,
   "nav_menu": {},
   "number_sections": true,
   "sideBar": true,
   "skip_h1_title": false,
   "title_cell": "Table of Contents",
   "title_sidebar": "Contents",
   "toc_cell": false,
   "toc_position": {},
   "toc_section_display": true,
   "toc_window_display": false
  }
 },
 "nbformat": 4,
 "nbformat_minor": 2
}
