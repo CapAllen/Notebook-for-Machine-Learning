{
 "cells": [
  {
   "cell_type": "markdown",
   "metadata": {},
   "source": [
    "介绍：\n",
    "- [How To Write Qualitative Data Analysis](https://helpwithdissertation.com/blog/how-to-write-qualitative-data-analysis/)\n",
    "- [How to Write a Good Data Analysis Report](https://bizfluent.com/how-5822409-write-good-data-analysis-report.html)"
   ]
  },
  {
   "cell_type": "markdown",
   "metadata": {},
   "source": [
    "样例：\n",
    "- [Recommendations to PASSNYC (1st place solution)](https://www.kaggle.com/erikbruin/recommendations-to-passnyc-1st-place-solution)\n",
    "- [Summary - Budapest Pythons](https://www.kaggle.com/gaborfodor/summary-budapest-pythons)"
   ]
  },
  {
   "cell_type": "markdown",
   "metadata": {},
   "source": [
    "- [Data Source](https://www.kaggle.com/loaiabdalslam/sales-data-analysis-report/notebook)\n",
    "\n",
    "进行了本地化改造"
   ]
  },
  {
   "cell_type": "markdown",
   "metadata": {},
   "source": [
    "# 项目背景及要求"
   ]
  },
  {
   "cell_type": "markdown",
   "metadata": {},
   "source": [
    "优衣库（英文名称：UNIQLO，日文假名发音：ユニクロ），为日本迅销公司的核心品牌，建立于1984年，当年是一家销售西服的小服装店，现已成为国际知名服装品牌。\n",
    "现任董事长兼总经理柳井正，在日本首次引进了大卖场式的服装销售方式，通过独特的商品策划、开发和销售体系来实现店铺运作的低成本化，由此引发了优衣库的热卖潮。\n",
    "在2018世界品牌500强排行榜中，优衣库排名第168位。\n",
    "\n",
    "优衣库(Uniqlo) 的内在涵义是指通过摒弃了不必要装潢装饰的仓储型店铺，采用超市型的自助购物方式，以合理可信的价格提供顾客希望的商品价廉物美的休闲装“UNIQLO”是Unique Clothing Warehouse的缩写，意为消费者提供“低价良品、品质保证”的经营理念，在日本经济低迷时期取得了惊人的业绩。\n",
    "\n",
    "> 来自百度百科\n",
    "\n"
   ]
  },
  {
   "cell_type": "markdown",
   "metadata": {},
   "source": [
    "根据提供的数据，利用Python进行数据分析及可视化，并尝试回答如下问题：\n",
    "\n",
    "- 整体销售情况在工作日与周末有何区别？\n",
    "- 不同产品的销售情况是怎样的？\n",
    "- 顾客偏爱哪一种购买方式？\n",
    "- 销售额和产品成本之间的有怎样的关系？\n"
   ]
  },
  {
   "cell_type": "markdown",
   "metadata": {},
   "source": [
    "# 数据概况"
   ]
  },
  {
   "cell_type": "markdown",
   "metadata": {},
   "source": [
    "本项目包含两个数据文件，包含内容如下：\n",
    "- `orders.csv`，订单详情表，包含订单ID，门店城市，购买渠道，性别，年龄，购买日期，商品编号，收益总额，订单量，商品量等信息；\n",
    "- `product_cost.xlsx`，产品成本表，包含门店城市，商品编号，单位商品成本等信息。"
   ]
  },
  {
   "cell_type": "markdown",
   "metadata": {},
   "source": [
    "# 项目代码"
   ]
  },
  {
   "cell_type": "code",
   "execution_count": 1,
   "metadata": {},
   "outputs": [],
   "source": [
    "# 导入所需库\n"
   ]
  },
  {
   "cell_type": "markdown",
   "metadata": {},
   "source": [
    "## 查看数据概览"
   ]
  },
  {
   "cell_type": "code",
   "execution_count": 3,
   "metadata": {},
   "outputs": [],
   "source": [
    "# 读取数据\n",
    "orders = pd.read_csv('./data/data_analysis_data/orders.csv')\n",
    "costs = pd.read_excel('./data/data_analysis_data/product_cost.xlsx')"
   ]
  },
  {
   "cell_type": "markdown",
   "metadata": {},
   "source": [
    "你需要在这里添加更多代码框，重点查看数据中是否存在如下问题并记录：\n",
    "- 重复\n",
    "- 缺失\n",
    "- 数据类型错误\n",
    "- 表意相同等"
   ]
  },
  {
   "cell_type": "markdown",
   "metadata": {},
   "source": [
    "总结：\n",
    "你需要在这里记录发现的问题"
   ]
  },
  {
   "cell_type": "markdown",
   "metadata": {},
   "source": [
    "## 数据清洗"
   ]
  },
  {
   "cell_type": "markdown",
   "metadata": {},
   "source": [
    "对如上发现的问题进行清洗，并检查。"
   ]
  },
  {
   "cell_type": "markdown",
   "metadata": {},
   "source": [
    "## 探索性数据分析（EDA）"
   ]
  },
  {
   "cell_type": "markdown",
   "metadata": {},
   "source": [
    "你需要：\n",
    "- 查看各变量的分布情况、统计情况\n",
    "- 进行恰当的可视化，并进行描述\n",
    "- 尝试使用函数简化重复代码\n",
    "- 可以尝试进行更多维度信息的拓展，如计算商品利润等"
   ]
  },
  {
   "cell_type": "markdown",
   "metadata": {},
   "source": [
    "## 项目问题"
   ]
  },
  {
   "cell_type": "markdown",
   "metadata": {},
   "source": [
    "### 问题一：整体销售情况在工作日与周末有何区别？"
   ]
  },
  {
   "cell_type": "markdown",
   "metadata": {},
   "source": [
    "数据中涉及到时间的只有变量`购买日期`，请尝试从该变量中提取工作日与周末信息，之后可以从渠道、性别、销售额、销售产品数量及利润等维度对其进行对比分析及可视化。"
   ]
  },
  {
   "cell_type": "markdown",
   "metadata": {},
   "source": [
    "总结：\n",
    "记录发现。"
   ]
  },
  {
   "cell_type": "markdown",
   "metadata": {},
   "source": [
    "### 问题二：不同产品的销售情况是怎样的？"
   ]
  },
  {
   "cell_type": "markdown",
   "metadata": {},
   "source": [
    "不同产品即指商品编号字段中不同类别的产品，销售情况即为收益总额、商品量、利润等情况。"
   ]
  },
  {
   "cell_type": "markdown",
   "metadata": {},
   "source": [
    "总结：\n",
    "记录发现"
   ]
  },
  {
   "cell_type": "markdown",
   "metadata": {},
   "source": [
    "### 问题三：顾客偏爱哪一种购买方式？"
   ]
  },
  {
   "cell_type": "markdown",
   "metadata": {},
   "source": [
    "从购买渠道维度，进行数据分析及可视化"
   ]
  },
  {
   "cell_type": "markdown",
   "metadata": {},
   "source": [
    "总结：\n",
    "记录发现"
   ]
  },
  {
   "cell_type": "markdown",
   "metadata": {},
   "source": [
    "### 问题四：销售额和产品成本之间的有怎样的关系？"
   ]
  },
  {
   "cell_type": "markdown",
   "metadata": {},
   "source": [
    "-   思路一：单件产品销售额-成本为利润，它是如何分布的？是否存在亏本销售的产品？\n",
    "-    思路二：探究实际销售额和产品成本之间的关系，即为求它们之间的相关，若成正相关，则产品成本越高，销售额越高，或许为高端商品；若成负相关，则成本越低，销售额越高，为薄利多销的模式。\n"
   ]
  },
  {
   "cell_type": "markdown",
   "metadata": {},
   "source": [
    "总结：\n",
    "记录发现"
   ]
  },
  {
   "cell_type": "markdown",
   "metadata": {},
   "source": [
    "# 总结&建议"
   ]
  },
  {
   "cell_type": "markdown",
   "metadata": {},
   "source": [
    "对整篇报告进行总结，并输出结论。\n",
    "> 你可以按照如下维度给出你的答案，当然也十分鼓励你按照自己的维度去分析解答。\n",
    "\n",
    "## 客户画像\n",
    "- 基本信息\n",
    "\n",
    "- 消费习惯\n"
   ]
  },
  {
   "cell_type": "markdown",
   "metadata": {},
   "source": [
    "## 产品情况\n",
    "\n",
    "- 销售情况\n",
    "\n",
    "    \n",
    "- 利润情况 \n"
   ]
  },
  {
   "cell_type": "markdown",
   "metadata": {},
   "source": [
    "## 销售建议"
   ]
  },
  {
   "cell_type": "markdown",
   "metadata": {},
   "source": [
    "给出不少于3条可行的销售建议"
   ]
  }
 ],
 "metadata": {
  "kernelspec": {
   "display_name": "Python 3",
   "language": "python",
   "name": "python3"
  },
  "language_info": {
   "codemirror_mode": {
    "name": "ipython",
    "version": 3
   },
   "file_extension": ".py",
   "mimetype": "text/x-python",
   "name": "python",
   "nbconvert_exporter": "python",
   "pygments_lexer": "ipython3",
   "version": "3.6.8"
  },
  "notify_time": "5",
  "toc": {
   "base_numbering": 1,
   "nav_menu": {},
   "number_sections": true,
   "sideBar": true,
   "skip_h1_title": false,
   "title_cell": "Table of Contents",
   "title_sidebar": "Contents",
   "toc_cell": false,
   "toc_position": {
    "height": "calc(100% - 180px)",
    "left": "10px",
    "top": "150px",
    "width": "198px"
   },
   "toc_section_display": true,
   "toc_window_display": true
  }
 },
 "nbformat": 4,
 "nbformat_minor": 2
}
