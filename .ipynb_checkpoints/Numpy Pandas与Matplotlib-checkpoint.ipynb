{
 "cells": [
  {
   "cell_type": "markdown",
   "metadata": {},
   "source": [
    "- [Numpy](https://www.w3resource.com/python-exercises/numpy/index-array.php)\n",
    "- [Numpy](https://www.numpy.org.cn/article/advanced/numpy_exercises_for_data_analysis.html#_1%E3%80%81%E5%AF%BC%E5%85%A5numpy%E4%BD%9C%E4%B8%BAnp%EF%BC%8C%E5%B9%B6%E6%9F%A5%E7%9C%8B%E7%89%88%E6%9C%AC)\n",
    "- [Pandas](https://www.w3resource.com/index.php)"
   ]
  },
  {
   "cell_type": "markdown",
   "metadata": {},
   "source": [
    "numpy-7\n",
    "pandas-8\n",
    "matplotlib-5"
   ]
  },
  {
   "cell_type": "markdown",
   "metadata": {},
   "source": [
    "Numpy 重要参考：\n",
    "\n",
    "- [NumPy User Guide](https://numpy.org/doc/stable/user/tutorials_index.html)\n",
    "- [NumPy User Guide(PDF)](https://numpy.org/doc/stable/numpy-user.pdf)"
   ]
  },
  {
   "cell_type": "markdown",
   "metadata": {},
   "source": [
    "## Numpy - 创建ndarray\n",
    "\n",
    "按照各小题的要求，输出正确的`ndarray`"
   ]
  },
  {
   "cell_type": "markdown",
   "metadata": {},
   "source": [
    "难度：1/5\n",
    "\n",
    "知识点： ndarray创建"
   ]
  },
  {
   "cell_type": "code",
   "execution_count": 6,
   "metadata": {},
   "outputs": [],
   "source": [
    "# 将如下list转换为ndarray\n",
    "lst = [0,1,2]\n",
    "# 创建2x2的全0数组\n",
    "\n",
    "# 创建1x2的全1数组\n",
    "\n",
    "# 创建2x2定值为7的数组\n",
    "\n",
    "# 创建2x2的单位矩阵（对角元素为1）\n",
    "\n",
    "# 创建一个对角线为10,20,30,50的对角矩阵\n",
    "\n",
    "# 创建一个一维的4-9的数组\n",
    "\n",
    "# 创建一个一维的1-13且以间隔为3的数组\n",
    "\n",
    "# 创建一个一维的范围在0-10，长度为6的数组\n",
    "\n",
    "# 创建0-11的一维数组，并转换为3行4列的二维数组\n",
    "\n",
    "# 创建一个取值范围在[4,15)，2行2列的随机整数矩阵\n",
    "\n",
    "# 创建一个从均值为0，标准差为0.1的正态分布中随机抽样的3x3矩阵"
   ]
  },
  {
   "cell_type": "code",
   "execution_count": null,
   "metadata": {},
   "outputs": [],
   "source": [
    "# 参考答案\n",
    "# 导入numpy包\n",
    "import numpy as np\n",
    "# 将如下list转换为ndarray\n",
    "lst = [0,1,2]\n",
    "np.array(lst)\n",
    "\n",
    "# 创建2x2的全0数组\n",
    "np.zeros((2,2))\n",
    "# 创建1x2的全1数组\n",
    "np.ones((1,2))\n",
    "# 创建2x2定值为7的数组\n",
    "np.full((2,2), 7)\n",
    "# 创建2x2的单位矩阵（对角元素为1）\n",
    "np.eye(2)  \n",
    "# 创建一个对角线为10,20,30,50的对角矩阵\n",
    "np.diag([10,20,30,50])\n",
    "# 创建一个一维的4-9的数组\n",
    "np.arange(4,10)\n",
    "# 创建一个一维的1-13且以间隔为3的数组\n",
    "np.arange(1,14,3)\n",
    "# 创建一个一维的范围在0-10，长度为6的数组\n",
    "np.linspace(0,10,6)\n",
    "# 创建0-11的一维数组，并转换为3行4列的二维数组\n",
    "np.arange(12).reshape(3,4)\n",
    "# 创建一个取值范围在[4,15)，2行2列的随机整数矩阵\n",
    "np.random.randint(4,15,size = (2,2))\n",
    "# 创建一个从均值为0，标准差为0.1的正态分布中随机抽样的3x3矩阵\n",
    "np.random.normal(0,0.1,size = (3,3))"
   ]
  },
  {
   "cell_type": "markdown",
   "metadata": {},
   "source": [
    "**解析：**\n",
    "\n",
    "本题较为简单，主要考察了对`numpy ndarray`的基础概念理解与常用的创建方法：\n",
    "- 使用`np.array()`可以将`python list`轻松转换为`ndarrary`；\n",
    "- `np.arange`函数与python中的`range`函数类似，默认从0开始计数，支持设置起止及步长；\n",
    "- `np.linspace`是在指定范围内，均匀地取n个数，作为`ndarray`，各个元素的间隔相等，如题目中，间隔为`(10-0)/(6-1) = 2`，若不想包含末尾的`10`，可以添加参数`endpoint = False`；\n",
    "- 其余函数最好可以记住，这些都是最常用的创建方法。"
   ]
  },
  {
   "cell_type": "markdown",
   "metadata": {},
   "source": [
    "**知识点参考：**\n",
    "\n",
    "- [ndarray创建](https://www.runoob.com/numpy/numpy-array-creation.html)\n",
    "- [Array creation](https://numpy.org/doc/stable/user/basics.creation.html)\n"
   ]
  },
  {
   "cell_type": "markdown",
   "metadata": {},
   "source": [
    "## Numpy - 筛选与替换\n",
    "\n",
    "要求：分两步完成`ndarray` `arr`的操作：\n",
    "```python \n",
    "arr = [1,3,2,4,5,6,7,9,8,10]\n",
    "```\n",
    "- 筛选出arr中的所有奇数；\n",
    "- 筛选出arr中的所有奇数，并替换为-1，赋值给变量`arr_new`."
   ]
  },
  {
   "cell_type": "markdown",
   "metadata": {},
   "source": [
    "难度：2/5\n",
    "\n",
    "知识点： ndarray创建；索引；替换"
   ]
  },
  {
   "cell_type": "code",
   "execution_count": 3,
   "metadata": {},
   "outputs": [
    {
     "data": {
      "text/plain": [
       "array([1, 3, 5, 7, 9])"
      ]
     },
     "execution_count": 3,
     "metadata": {},
     "output_type": "execute_result"
    }
   ],
   "source": [
    "# 参考答案\n",
    "# 导入numpy包\n",
    "import numpy as np\n",
    "# 创建ndarrary\n",
    "arr = np.array([1,3,2,4,5,6,7,9,8,10])\n",
    "# 第一步，筛选出所有的奇数\n",
    "arr[arr % 2 == 1]"
   ]
  },
  {
   "cell_type": "code",
   "execution_count": 4,
   "metadata": {},
   "outputs": [],
   "source": [
    "# 第二步，筛选+替换+赋值\n",
    "arr_new = np.where(arr % 2 == 1, -1, arr)"
   ]
  },
  {
   "cell_type": "code",
   "execution_count": 5,
   "metadata": {},
   "outputs": [
    {
     "data": {
      "text/plain": [
       "array([-1, -1,  2,  4, -1,  6, -1, -1,  8, 10])"
      ]
     },
     "execution_count": 5,
     "metadata": {},
     "output_type": "execute_result"
    }
   ],
   "source": [
    "arr_new"
   ]
  },
  {
   "cell_type": "markdown",
   "metadata": {},
   "source": [
    "**解析：**\n",
    "\n",
    "本题较为简单，主要考察了`numpy ndarray`的创建与索引：\n",
    "- 使用`np.array()`可以将`python list`轻松转换为`ndarrary`，方便后续操作；\n",
    "- 在`ndarray`的索引中支持布尔运算，所以我们可以直接将判断是否为奇数的语句，放到索引中，进行数据筛选；\n",
    "- 此外，还可以使用`np.where`函数，筛选出`ndarray`中满足条件的数据，进行替换等操作。"
   ]
  },
  {
   "cell_type": "markdown",
   "metadata": {},
   "source": [
    "**知识点参考：**\n",
    "\n",
    "- [ndarray创建](https://www.runoob.com/numpy/numpy-array-creation.html)\n",
    "- [索引](https://www.runoob.com/numpy/numpy-advanced-indexing.html)\n"
   ]
  },
  {
   "cell_type": "markdown",
   "metadata": {},
   "source": [
    "## Numpy - 内冷外热？外冷内热！\n",
    "\n",
    "要求：分两步完成`ndarray` `arr`的操作：\n",
    "\n",
    "- 1. 创建一个5x5的矩阵，要求周围为1，内部全为0，如：\n",
    "```python\n",
    "[[ 1.  1.  1.  1.  1.]                                                  \n",
    " [ 1.  0.  0.  0.  1.]                                                  \n",
    " [ 1.  0.  0.  0.  1.]                                                  \n",
    " [ 1.  0.  0.  0.  1.]                                                  \n",
    " [ 1.  1.  1.  1.  1.]]\n",
    "```\n",
    "- 2. 给如下矩阵周围全部加满0，如：\n",
    "```python\n",
    "# Before:\n",
    "[[ 1.  1.  1.]                                                          \n",
    " [ 1.  1.  1.]                                                          \n",
    " [ 1.  1.  1.]] \n",
    "# After:\n",
    "[[ 0.  0.  0.  0.  0.]                                                  \n",
    " [ 0.  1.  1.  1.  0.]                                                  \n",
    " [ 0.  1.  1.  1.  0.]                                                  \n",
    " [ 0.  1.  1.  1.  0.]                                                  \n",
    " [ 0.  0.  0.  0.  0.]]\n",
    "```"
   ]
  },
  {
   "cell_type": "markdown",
   "metadata": {},
   "source": [
    "难度：2/5\n",
    "\n",
    "知识点： ndarray创建；切片"
   ]
  },
  {
   "cell_type": "code",
   "execution_count": 7,
   "metadata": {},
   "outputs": [
    {
     "data": {
      "text/plain": [
       "array([[1., 1., 1., 1., 1.],\n",
       "       [1., 0., 0., 0., 1.],\n",
       "       [1., 0., 0., 0., 1.],\n",
       "       [1., 0., 0., 0., 1.],\n",
       "       [1., 1., 1., 1., 1.]])"
      ]
     },
     "execution_count": 7,
     "metadata": {},
     "output_type": "execute_result"
    }
   ],
   "source": [
    "# 1. 参考答案\n",
    "# 导入numpy包\n",
    "import numpy as np\n",
    "# 创建ndarrary\n",
    "arr = np.ones((5,5))\n",
    "# 使用切片，筛选出所有的外边框，将其替换为0\n",
    "arr[1:-1,1:-1] = 0\n",
    "\n",
    "arr"
   ]
  },
  {
   "cell_type": "code",
   "execution_count": 9,
   "metadata": {},
   "outputs": [
    {
     "data": {
      "text/plain": [
       "array([[0., 0., 0., 0., 0.],\n",
       "       [0., 1., 1., 1., 0.],\n",
       "       [0., 1., 1., 1., 0.],\n",
       "       [0., 1., 1., 1., 0.],\n",
       "       [0., 0., 0., 0., 0.]])"
      ]
     },
     "execution_count": 9,
     "metadata": {},
     "output_type": "execute_result"
    }
   ],
   "source": [
    "# 2. 参考答案\n",
    "# 创建ndarrary\n",
    "arr = np.ones((3,3))\n",
    "# 使用pad函数，将周围填充为0\n",
    "np.pad(arr, pad_width=1, constant_values=0)"
   ]
  },
  {
   "cell_type": "markdown",
   "metadata": {},
   "source": [
    "**解析：**\n",
    "\n",
    "本题主要考察了`numpy ndarray`的切片：\n",
    "- 切片类似于`python list`中的切片，可以依据索引的起止位，筛选出这个区间内的数据，就像是用刀把数据的一片切下来一样；\n",
    "- 不同的是，由于`ndarray`是n维数组，所以再进行切片时，要考虑好是在哪个维度上的索引切片，将多个维度的切片组合在一起，得到一个多维数组，这样想，更应该是“切块”。\n",
    "- 这里还介绍了一个函数`pad`，可以在`ndarray`周围添加数字，当然除此之外还有更多酷炫的功能，你可以从下方的知识点参考中了解。\n",
    "> 在后面深度学习的卷积网络中，我们会经常用到它，所以，掌握它！"
   ]
  },
  {
   "cell_type": "markdown",
   "metadata": {},
   "source": [
    "**知识点参考：**\n",
    "\n",
    "- [ndarray切片](https://numpy.org/doc/stable/user/basics.indexing.html)\n",
    "- [pad](https://numpy.org/devdocs/reference/generated/numpy.pad.html)\n"
   ]
  },
  {
   "cell_type": "markdown",
   "metadata": {},
   "source": [
    "## Numpy - 高级计算器\n",
    "\n",
    "按以下题目中的要求，完成各项计算：\n",
    "\n",
    "- 1. 创建一个从均值为10，标准差为5的正态分布中随机抽样的5x3矩阵，并计算每一行中的最小与最大值之比：\n",
    "```python\n",
    "# 数组示例：\n",
    "array([[9, 9, 4],\n",
    "        [8, 8, 1],\n",
    "        [5, 3, 6],\n",
    "        [3, 3, 3],\n",
    "        [2, 1, 9]])\n",
    "# 结果示例：\n",
    "array([ 0.44444444,  0.125     ,  0.5       ,  1.        ,  0.11111111])\n",
    "```\n",
    "- 2. 创建一个一维随机整数数组，并计算步长为3的移动均值\n",
    "> 移动均值，是指定序列数据进行移动计算平均值的方法，用于数据平滑，掌握数据走向。\n",
    "> 如下面示例中，第一个步长为3的移动均值为 `(8+8+3)/3 = 6.33`，第二个为`(8+3+7)/3 = 6`...\n",
    "\n",
    "    ```python\n",
    "    # 数组示例:\n",
    "    array:  [8 8 3 7 7 0 4 2 5 2]\n",
    "    # 结果示例:\n",
    "    [ 6.33  6.    5.67  4.67  3.67  2.    3.67  3.  ]\n",
    "    ```"
   ]
  },
  {
   "cell_type": "markdown",
   "metadata": {},
   "source": [
    "难度：3/5\n",
    "\n",
    "知识点： ndarray计算"
   ]
  },
  {
   "cell_type": "code",
   "execution_count": 24,
   "metadata": {},
   "outputs": [
    {
     "data": {
      "text/plain": [
       "array([0.11137002, 0.53827322, 0.80446253, 0.36191233, 0.23991287])"
      ]
     },
     "execution_count": 24,
     "metadata": {},
     "output_type": "execute_result"
    }
   ],
   "source": [
    "# 1. 参考答案\n",
    "# 导入numpy包\n",
    "import numpy as np\n",
    "# 指定随机种子，方便复现结果\n",
    "np.random.seed(2020)\n",
    "# 创建ndarrary\n",
    "arr = np.random.normal(10,5, [5,3])\n",
    "# 使用apply_along_axis+lambda，计算结果\n",
    "np.apply_along_axis(lambda x: x.min()/x.max(), arr=arr, axis=1)"
   ]
  },
  {
   "cell_type": "code",
   "execution_count": 27,
   "metadata": {},
   "outputs": [
    {
     "data": {
      "text/plain": [
       "array([3.67, 5.67, 4.  , 4.  , 4.33, 6.  , 5.  , 2.67])"
      ]
     },
     "execution_count": 27,
     "metadata": {},
     "output_type": "execute_result"
    }
   ],
   "source": [
    "# 2. 参考答案\n",
    "# 指定随机种子，方便复现结果\n",
    "np.random.seed(2020)\n",
    "# 创建计算函数\n",
    "def moving_average(a, n=3) :\n",
    "    '''\n",
    "    a: ndarray, 待计算的数组\n",
    "    n: int, 步长\n",
    "    '''\n",
    "    # 计算数组累加\n",
    "    ret = np.cumsum(a, dtype=float)\n",
    "    # 重新计算累加值，使用当前累加值 - 往前n步的累加值，得到按照步长计算的和\n",
    "    ret[n:] = ret[n:] - ret[:-n]\n",
    "    # 计算移动均值\n",
    "    return ret[n - 1:] / n\n",
    "# 创建ndarrary\n",
    "arr = np.random.randint(10, size=10)\n",
    "# 计算，并保留两位小数\n",
    "moving_average(arr).round(2)"
   ]
  },
  {
   "cell_type": "code",
   "execution_count": 28,
   "metadata": {},
   "outputs": [
    {
     "data": {
      "text/plain": [
       "array([3.67, 5.67, 4.  , 4.  , 4.33, 6.  , 5.  , 2.67])"
      ]
     },
     "execution_count": 28,
     "metadata": {},
     "output_type": "execute_result"
    }
   ],
   "source": [
    "# 使用numpy内置函数\n",
    "n = 3\n",
    "np.convolve(arr, np.ones(n)/n, mode='valid').round(2)"
   ]
  },
  {
   "cell_type": "code",
   "execution_count": 31,
   "metadata": {},
   "outputs": [
    {
     "data": {
      "text/plain": [
       "array([0.33333333, 0.33333333, 0.33333333])"
      ]
     },
     "execution_count": 31,
     "metadata": {},
     "output_type": "execute_result"
    }
   ],
   "source": [
    "np.ones(n)/n"
   ]
  },
  {
   "cell_type": "markdown",
   "metadata": {},
   "source": [
    "**解析：**\n",
    "\n",
    "本题主要考察了使用`numpy ndarray`进行计算的能力：\n",
    "- numpy最核心的功能便是提供了快速&便捷的计算，使之成为python数据科学的奠基，之后我们所学的Pandas、Matplotlib、Scikit-Learn等，都会基于numpy进行计算，所以掌握numpy的计算方法十分重要；\n",
    "- 在`ndarray`中，我们可以使用`min`和`max`方便的提取出数组中的最小与最大值，当然还可以提取出均值`mean`，标准差`std`等； 使用`apply_along_axis`函数，可以在某一维度`axis`下执行函数计算；\n",
    "（`apply`+`lambda`的形式在以后的数据处理中会经常用到哦）\n",
    "- 问题2稍微难一些，这里考察了一点点数学知识，需要你先计算步长的和，再计算均值； 同样我们还可以使用[卷积](https://www.zhihu.com/question/22298352)的方式进行简化计算。"
   ]
  },
  {
   "cell_type": "markdown",
   "metadata": {},
   "source": [
    "**知识点参考：**\n",
    "\n",
    "- [apply_along_axis](https://numpy.org/devdocs/reference/generated/numpy.apply_along_axis.html)\n",
    "- [cumsum](https://numpy.org/devdocs/reference/generated/numpy.cumsum.html)\n",
    "- [convolve](https://numpy.org/devdocs/reference/generated/numpy.convolve.html)\n",
    "- [Structured arrays](https://numpy.org/doc/stable/user/basics.rec.html)"
   ]
  },
  {
   "cell_type": "markdown",
   "metadata": {},
   "source": [
    "## Numpy - 独热编码\n",
    "\n",
    "要求：将如下数组转换为独热编码\n",
    "```python \n",
    "arr = [1,3,2,4,2,1,2,3]\n",
    "```\n",
    "独热编码(One-Hot Encoding)，又称为一位有效编码，主要是采用N位状态寄存器来对N个状态进行编码，每个状态都由他独立的寄存器位，并且在任意时候只有一位有效，在数据处理中，经常用于将分类变量表示为数值变量，如：\n",
    "```python\n",
    "arr = ['a','b','a','c']\n",
    "\n",
    "# 转换为独热编码后\n",
    "   a   b   c\n",
    "   1   0   0\n",
    "   0   1   0\n",
    "   1   0   0\n",
    "   0   0   1\n",
    "```\n",
    "\n",
    "所以，本题的结果应该是：\n",
    "```\n",
    "array([[1., 0., 0., 0.],\n",
    "       [0., 0., 1., 0.],\n",
    "       [0., 1., 0., 0.],\n",
    "       [0., 0., 0., 1.],\n",
    "       [0., 1., 0., 0.],\n",
    "       [1., 0., 0., 0.],\n",
    "       [0., 1., 0., 0.],\n",
    "       [0., 0., 1., 0.]])\n",
    "```"
   ]
  },
  {
   "cell_type": "markdown",
   "metadata": {},
   "source": [
    "难度：4/5\n",
    "\n",
    "知识点： ndarray计算；索引"
   ]
  },
  {
   "cell_type": "code",
   "execution_count": 44,
   "metadata": {},
   "outputs": [
    {
     "data": {
      "text/plain": [
       "array([[1., 0., 0., 0.],\n",
       "       [0., 0., 1., 0.],\n",
       "       [0., 1., 0., 0.],\n",
       "       [0., 0., 0., 1.],\n",
       "       [0., 1., 0., 0.],\n",
       "       [1., 0., 0., 0.],\n",
       "       [0., 1., 0., 0.],\n",
       "       [0., 0., 1., 0.]])"
      ]
     },
     "execution_count": 44,
     "metadata": {},
     "output_type": "execute_result"
    }
   ],
   "source": [
    "# 参考答案\n",
    "# 导入numpy包\n",
    "import numpy as np\n",
    "# 创建独热编码函数\n",
    "def one_hot_encodings(arr):\n",
    "    '''\n",
    "    arr: ndarray, 待处理的数组\n",
    "    '''\n",
    "    # 先取出数组中的唯一值\n",
    "    uniqs = np.unique(arr)\n",
    "    # 依据数组的长度及唯一值的个数，定义一个全0数组\n",
    "    out = np.zeros((arr.shape[0], uniqs.shape[0]))\n",
    "    # 遍历数组\n",
    "    for i, k in enumerate(arr):\n",
    "        # 将全0数组中的对应位置，标记为1\n",
    "        # 如数组中第一个元素（i=0）为1，则把数组中索引为[0,0]的位置标记为1\n",
    "        out[i, k-1] = 1\n",
    "    return out\n",
    "# 定义数组\n",
    "arr = np.array([1,3,2,4,2,1,2,3])\n",
    "# 执行计算\n",
    "one_hot_encodings(arr)"
   ]
  },
  {
   "cell_type": "markdown",
   "metadata": {},
   "source": [
    "**解析：**\n",
    "\n",
    "本题主要考察了`numpy ndarray`的计算与索引：\n",
    "- 使用`np.unique()`可以取出`ndarrary`中的唯一值，它会影响最终数组的`列`；\n",
    "- 先使用`np.zeros`创建全0矩阵，然后在使用索引，筛选出对应位置的数值，标记为`1`，完成独热编码。"
   ]
  },
  {
   "cell_type": "markdown",
   "metadata": {},
   "source": [
    "**知识点参考：**\n",
    "\n",
    "- [unique](https://numpy.org/devdocs/reference/generated/numpy.unique.html)\n",
    "- [enumerate](https://www.tutorialspoint.com/enumerate-in-python)\n"
   ]
  },
  {
   "cell_type": "markdown",
   "metadata": {},
   "source": [
    "## Numpy - 排序\n",
    "\n",
    "要求：创建一个新数组，数据为如下`ndarray` `arr`中各元素对应的顺序：\n",
    "```python \n",
    "array([[10,  9, 19, 11, 18],\n",
    "       [ 3,  6,  5, 16,  8]])\n",
    "```\n",
    "\n",
    "你计算后的结果应该为：\n",
    "```python\n",
    "array([[5, 4, 9, 6, 8],\n",
    "       [0, 2, 1, 7, 3]])\n",
    "```"
   ]
  },
  {
   "cell_type": "markdown",
   "metadata": {},
   "source": [
    "难度：4/5\n",
    "\n",
    "知识点： ndarray排序；计算"
   ]
  },
  {
   "cell_type": "code",
   "execution_count": 52,
   "metadata": {},
   "outputs": [],
   "source": [
    "# 参考答案\n",
    "# 导入numpy包\n",
    "import numpy as np\n",
    "# 创建ndarrary\n",
    "arr = np.array([[10,  9, 19, 11, 18],\n",
    "       [ 3,  6,  5, 16,  8]])"
   ]
  },
  {
   "cell_type": "code",
   "execution_count": 53,
   "metadata": {},
   "outputs": [
    {
     "data": {
      "text/plain": [
       "array([10,  9, 19, 11, 18,  3,  6,  5, 16,  8])"
      ]
     },
     "execution_count": 53,
     "metadata": {},
     "output_type": "execute_result"
    }
   ],
   "source": [
    "# 先将数组平铺（flatten）\n",
    "arr_tmp = arr.ravel()\n",
    "arr_tmp"
   ]
  },
  {
   "cell_type": "code",
   "execution_count": 55,
   "metadata": {},
   "outputs": [
    {
     "data": {
      "text/plain": [
       "array([5, 7, 6, 9, 1, 0, 3, 8, 4, 2], dtype=int64)"
      ]
     },
     "execution_count": 55,
     "metadata": {},
     "output_type": "execute_result"
    }
   ],
   "source": [
    "# 计算排序后的索引\n",
    "arr_tmp = arr_tmp.argsort()\n",
    "arr_tmp"
   ]
  },
  {
   "cell_type": "code",
   "execution_count": 57,
   "metadata": {},
   "outputs": [
    {
     "data": {
      "text/plain": [
       "array([5, 4, 9, 6, 8, 0, 2, 1, 7, 3], dtype=int64)"
      ]
     },
     "execution_count": 57,
     "metadata": {},
     "output_type": "execute_result"
    }
   ],
   "source": [
    "# 对索引再次排序，得到各元素对应的顺序\n",
    "arr_tmp = arr_tmp.argsort()\n",
    "arr_tmp"
   ]
  },
  {
   "cell_type": "code",
   "execution_count": 58,
   "metadata": {},
   "outputs": [
    {
     "data": {
      "text/plain": [
       "array([[5, 4, 9, 6, 8],\n",
       "       [0, 2, 1, 7, 3]], dtype=int64)"
      ]
     },
     "execution_count": 58,
     "metadata": {},
     "output_type": "execute_result"
    }
   ],
   "source": [
    "# 将其reshape为原来数组的结构\n",
    "arr_tmp.reshape(arr.shape)"
   ]
  },
  {
   "cell_type": "markdown",
   "metadata": {},
   "source": [
    "**解析：**\n",
    "\n",
    "本题的知识点不难，主要考察了`numpy ndarray`的排序，难点在于计算过程比较绕，如果思路不清晰，可以先用伪代码去解答该问题：\n",
    "- 使用`ravel`可以将`ndarrary`平铺展开，在进行数组内全部元素排序、堆叠等操作时会经常用到；\n",
    "- 使用`argsort`可以获取顺序排序（由小到大）后的索引，如在本题中，得到结果中的第一个元素是最小值，它的索引为5，也就是数值3；\n",
    "- 再次使用`argsort`即可对索引进行排序，也就得到了各个数值对应的顺序了。"
   ]
  },
  {
   "cell_type": "markdown",
   "metadata": {},
   "source": [
    "**知识点参考：**\n",
    "\n",
    "- [ravel](https://numpy.org/devdocs/reference/generated/numpy.ravel.html)\n",
    "- [argsort](https://numpy.org/devdocs/reference/generated/numpy.argsort.html)\n"
   ]
  },
  {
   "cell_type": "markdown",
   "metadata": {},
   "source": [
    "## BOSS: 处理图片中的水印\n",
    "\n",
    "又到了BOSS关卡，这里我们依然从实际出发，可以让你做一些跟朋友使用~~show off~~的工具。\n",
    "\n",
    "场景是：你需要将一堆图片型的表格数据中，提取信息，这需要你先把图片中的文字识别出来，但是，图片上加了很多的水印，识别的效果非常差。 那聪明如你，想到了图片也就是三个通道中0-255的数组嘛，那是不是可以用`numpy`来处理掉这些水印呢？\n",
    "\n",
    "\n",
    "具有水印的图片：\n",
    "<img src=\"numpy00.png\" width=\"300px\">\n",
    "<center><font size=2>(图片来源：<a href=\"https://gaokao.chsi.com.cn/zsgs/bssnlqmd.do?method=listStu&year=2020&yxdm=10003\">阳光高考公布的清华大学保送生名单</a>)</center>\n",
    "\n",
    "\n",
    "想要得到的结果：\n",
    "<img src=\"numpy_00_new.png\" width=\"300px\">\n",
    "\n",
    "\n",
    "HINT1：\n",
    "- 图片的[RGB](https://baike.baidu.com/item/RGB/342517)\n",
    "- 在RGB色彩模式中，0强度最小，255强度最大，所以`(0,0,0)`即为黑色，`(255,255,255)`即为白色\n",
    "- 图片中，文字的强度在`(50,50,50)`左右，水印的强度在`(235,235,235)`左右，表格线的强度在`(205,205,205)`左右\n",
    "\n",
    "\n",
    "HINT2：\n",
    "```python \n",
    "# 读入图片，并转换为ndarray\n",
    "from PIL import Image\n",
    "import numpy as np\n",
    "im = np.array(Image.open('numpy00.png'))\n",
    "\n",
    "# 将ndarray保存为图片\n",
    "pil_img = Image.fromarray(im)\n",
    "pil_img.save('numpy_00_new.png')\n",
    "```\n",
    "\n"
   ]
  },
  {
   "cell_type": "markdown",
   "metadata": {},
   "source": [
    "难度：4/5\n",
    "\n",
    "知识点： ndarray筛选；修改"
   ]
  },
  {
   "cell_type": "code",
   "execution_count": 59,
   "metadata": {},
   "outputs": [],
   "source": [
    "# 参考答案\n",
    "# 导入所需库\n",
    "from PIL import Image\n",
    "import numpy as np\n",
    "# 读入图片，并转换为ndarray\n",
    "im = np.array(Image.open('numpy00.png'))"
   ]
  },
  {
   "cell_type": "code",
   "execution_count": 34,
   "metadata": {},
   "outputs": [
    {
     "data": {
      "text/plain": [
       "(866, 1000, 3)"
      ]
     },
     "execution_count": 34,
     "metadata": {},
     "output_type": "execute_result"
    }
   ],
   "source": [
    "# 查看读入图片的shape，宽866像素，高1000像素，3个通道（RGB）\n",
    "im.shape"
   ]
  },
  {
   "cell_type": "code",
   "execution_count": 37,
   "metadata": {},
   "outputs": [],
   "source": [
    "# 使用where，将强度大于等于220的部分，全部改成255\n",
    "im_new = np.where(im >= 220, 255, im)"
   ]
  },
  {
   "cell_type": "code",
   "execution_count": 38,
   "metadata": {},
   "outputs": [],
   "source": [
    "# 保存处理好的ndarray为png图片\n",
    "pil_img = Image.fromarray(im_new)\n",
    "pil_img.save('numpy_00_new.png')"
   ]
  },
  {
   "cell_type": "markdown",
   "metadata": {},
   "source": [
    "**解析：**\n",
    "\n",
    "哈哈，这个BOSS是不是“纸老虎”？ 这里主要就是考察了`ndarray`的筛选与替换：\n",
    "- 我们只需要将包含水印强度的部分数值（可以是`210~230`的任意数值），改为`255`，即可将灰色的水印变成白色，也就是消除了水印；\n",
    "- 注意这里最好保留表格框线，也就是你的数值不能低于`205`；\n",
    "- 你可以将其写为python脚本，批量处理包含相同水印的图片，这样在PhotoShop中需要一张张处理的图片，使用python分分钟就搞定啦~"
   ]
  },
  {
   "cell_type": "markdown",
   "metadata": {},
   "source": [
    "**知识点参考：**\n",
    "\n",
    "- [PIL库（The Python Imaging Library Handbook）](http://effbot.org/imagingbook/introduction.htm)\n",
    "- [RGB](https://baike.baidu.com/item/RGB/342517)\n"
   ]
  },
  {
   "cell_type": "markdown",
   "metadata": {},
   "source": [
    "## Pandas: 基本数据结构及创建\n",
    "\n"
   ]
  },
  {
   "cell_type": "markdown",
   "metadata": {},
   "source": [
    "难度：1/5\n",
    "\n",
    "知识点： ndarray筛选；修改"
   ]
  },
  {
   "cell_type": "markdown",
   "metadata": {},
   "source": [
    "Pandas：\n",
    "\n",
    "- Series\n",
    "- DataFrame\n",
    "- Index\n",
    "- String 与 re\n",
    "- Join Merge\n",
    "- Time Series\n",
    "- 。。https://www.w3resource.com/python-exercises/pandas/index.php"
   ]
  },
  {
   "cell_type": "markdown",
   "metadata": {},
   "source": [
    "Matplotlib：\n",
    "\n",
    "- Basic\n",
    "- Bar\n",
    "- Pie\n",
    "- Scatter\n",
    "- Hist&Box\n",
    "- https://www.capallen.top/2018/Matplotlib%E5%8F%AF%E8%A7%86%E5%8C%96.html"
   ]
  }
 ],
 "metadata": {
  "kernelspec": {
   "display_name": "Python 3",
   "language": "python",
   "name": "python3"
  },
  "language_info": {
   "codemirror_mode": {
    "name": "ipython",
    "version": 3
   },
   "file_extension": ".py",
   "mimetype": "text/x-python",
   "name": "python",
   "nbconvert_exporter": "python",
   "pygments_lexer": "ipython3",
   "version": "3.6.8"
  },
  "toc": {
   "base_numbering": 1,
   "nav_menu": {},
   "number_sections": true,
   "sideBar": true,
   "skip_h1_title": false,
   "title_cell": "Table of Contents",
   "title_sidebar": "Contents",
   "toc_cell": false,
   "toc_position": {},
   "toc_section_display": true,
   "toc_window_display": false
  }
 },
 "nbformat": 4,
 "nbformat_minor": 2
}
