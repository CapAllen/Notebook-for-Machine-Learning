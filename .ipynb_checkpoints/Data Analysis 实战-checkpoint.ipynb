{
 "cells": [
  {
   "cell_type": "markdown",
   "metadata": {},
   "source": [
    "介绍：\n",
    "- [How To Write Qualitative Data Analysis](https://helpwithdissertation.com/blog/how-to-write-qualitative-data-analysis/)\n",
    "- [How to Write a Good Data Analysis Report](https://bizfluent.com/how-5822409-write-good-data-analysis-report.html)"
   ]
  },
  {
   "cell_type": "markdown",
   "metadata": {},
   "source": [
    "样例：\n",
    "- [Recommendations to PASSNYC (1st place solution)](https://www.kaggle.com/erikbruin/recommendations-to-passnyc-1st-place-solution)\n",
    "- [Summary - Budapest Pythons](https://www.kaggle.com/gaborfodor/summary-budapest-pythons)"
   ]
  },
  {
   "cell_type": "markdown",
   "metadata": {},
   "source": [
    "- [Data Source](https://www.kaggle.com/loaiabdalslam/sales-data-analysis-report/notebook)\n",
    "\n",
    "进行了本地化改造"
   ]
  },
  {
   "cell_type": "markdown",
   "metadata": {},
   "source": [
    "# 项目背景及要求"
   ]
  },
  {
   "cell_type": "markdown",
   "metadata": {},
   "source": [
    "优衣库（英文名称：UNIQLO，日文假名发音：ユニクロ），为日本迅销公司的核心品牌，建立于1984年，当年是一家销售西服的小服装店，现已成为国际知名服装品牌。\n",
    "现任董事长兼总经理柳井正，在日本首次引进了大卖场式的服装销售方式，通过独特的商品策划、开发和销售体系来实现店铺运作的低成本化，由此引发了优衣库的热卖潮。\n",
    "在2018世界品牌500强排行榜中，优衣库排名第168位。\n",
    "\n",
    "优衣库(Uniqlo) 的内在涵义是指通过摒弃了不必要装潢装饰的仓储型店铺，采用超市型的自助购物方式，以合理可信的价格提供顾客希望的商品价廉物美的休闲装“UNIQLO”是Unique Clothing Warehouse的缩写，意为消费者提供“低价良品、品质保证”的经营理念，在日本经济低迷时期取得了惊人的业绩。\n",
    "\n",
    "> 来自百度百科\n",
    "\n"
   ]
  },
  {
   "cell_type": "markdown",
   "metadata": {},
   "source": [
    "根据提供的数据，利用Python进行数据分析及可视化，并尝试回答如下问题：\n",
    "\n",
    "- 整体销售情况在工作日与周末有何区别？\n",
    "- 不同产品的销售情况是怎样的？\n",
    "- 顾客偏爱哪一种购买方式？\n",
    "- 销售额和产品成本之间的有怎样的关系？\n"
   ]
  },
  {
   "cell_type": "markdown",
   "metadata": {},
   "source": [
    "# 项目代码"
   ]
  },
  {
   "cell_type": "code",
   "execution_count": 1,
   "metadata": {},
   "outputs": [],
   "source": [
    "# 导入所需库\n",
    "import pandas as pd\n",
    "import numpy as np\n",
    "import matplotlib.pyplot as plt\n",
    "\n",
    "%matplotlib inline"
   ]
  },
  {
   "cell_type": "code",
   "execution_count": 2,
   "metadata": {},
   "outputs": [],
   "source": [
    "# 设置中文字体\n",
    "# windows \n",
    "plt.rcParams['font.sans-serif'] = ['simhei']\n",
    "#os\n",
    "# plt.rcParams['font.sans-serif'] = ['Arial Unicode MS']\n",
    "# 显示负号\n",
    "plt.rcParams['axes.unicode_minus']=False"
   ]
  },
  {
   "cell_type": "markdown",
   "metadata": {},
   "source": [
    "## 查看数据概览"
   ]
  },
  {
   "cell_type": "code",
   "execution_count": 3,
   "metadata": {},
   "outputs": [],
   "source": [
    "# 读取数据\n",
    "orders = pd.read_csv('./data/data_analysis_data/orders.csv')\n",
    "costs = pd.read_excel('./data/data_analysis_data/product_cost.xlsx')"
   ]
  },
  {
   "cell_type": "code",
   "execution_count": 4,
   "metadata": {},
   "outputs": [
    {
     "data": {
      "text/html": [
       "<div>\n",
       "<style scoped>\n",
       "    .dataframe tbody tr th:only-of-type {\n",
       "        vertical-align: middle;\n",
       "    }\n",
       "\n",
       "    .dataframe tbody tr th {\n",
       "        vertical-align: top;\n",
       "    }\n",
       "\n",
       "    .dataframe thead th {\n",
       "        text-align: right;\n",
       "    }\n",
       "</style>\n",
       "<table border=\"1\" class=\"dataframe\">\n",
       "  <thead>\n",
       "    <tr style=\"text-align: right;\">\n",
       "      <th></th>\n",
       "      <th>订单ID</th>\n",
       "      <th>门店城市</th>\n",
       "      <th>购买渠道</th>\n",
       "      <th>性别</th>\n",
       "      <th>年龄</th>\n",
       "      <th>购买日期</th>\n",
       "      <th>商品编号</th>\n",
       "      <th>收益总额</th>\n",
       "      <th>订单量</th>\n",
       "      <th>商品量</th>\n",
       "    </tr>\n",
       "  </thead>\n",
       "  <tbody>\n",
       "    <tr>\n",
       "      <th>0</th>\n",
       "      <td>34495</td>\n",
       "      <td>深圳</td>\n",
       "      <td>线下</td>\n",
       "      <td>女</td>\n",
       "      <td>26</td>\n",
       "      <td>2020-09-22</td>\n",
       "      <td>No.277</td>\n",
       "      <td>803</td>\n",
       "      <td>4</td>\n",
       "      <td>4</td>\n",
       "    </tr>\n",
       "    <tr>\n",
       "      <th>1</th>\n",
       "      <td>32073</td>\n",
       "      <td>杭州</td>\n",
       "      <td>线下</td>\n",
       "      <td>女</td>\n",
       "      <td>25</td>\n",
       "      <td>2020-09-23</td>\n",
       "      <td>No.305</td>\n",
       "      <td>151</td>\n",
       "      <td>1</td>\n",
       "      <td>1</td>\n",
       "    </tr>\n",
       "    <tr>\n",
       "      <th>2</th>\n",
       "      <td>39998</td>\n",
       "      <td>深圳</td>\n",
       "      <td>线下</td>\n",
       "      <td>男</td>\n",
       "      <td>61</td>\n",
       "      <td>2020-09-23</td>\n",
       "      <td>No.005</td>\n",
       "      <td>179</td>\n",
       "      <td>2</td>\n",
       "      <td>2</td>\n",
       "    </tr>\n",
       "    <tr>\n",
       "      <th>3</th>\n",
       "      <td>51661</td>\n",
       "      <td>深圳</td>\n",
       "      <td>线下</td>\n",
       "      <td>女</td>\n",
       "      <td>26</td>\n",
       "      <td>2020-09-24</td>\n",
       "      <td>No.005</td>\n",
       "      <td>60</td>\n",
       "      <td>1</td>\n",
       "      <td>1</td>\n",
       "    </tr>\n",
       "    <tr>\n",
       "      <th>4</th>\n",
       "      <td>34743</td>\n",
       "      <td>深圳</td>\n",
       "      <td>线下</td>\n",
       "      <td>男</td>\n",
       "      <td>23</td>\n",
       "      <td>2020-09-27</td>\n",
       "      <td>No.343</td>\n",
       "      <td>66</td>\n",
       "      <td>2</td>\n",
       "      <td>3</td>\n",
       "    </tr>\n",
       "  </tbody>\n",
       "</table>\n",
       "</div>"
      ],
      "text/plain": [
       "    订单ID 门店城市 购买渠道 性别  年龄        购买日期    商品编号  收益总额  订单量  商品量\n",
       "0  34495   深圳   线下  女  26  2020-09-22  No.277   803    4    4\n",
       "1  32073   杭州   线下  女  25  2020-09-23  No.305   151    1    1\n",
       "2  39998   深圳   线下  男  61  2020-09-23  No.005   179    2    2\n",
       "3  51661   深圳   线下  女  26  2020-09-24  No.005    60    1    1\n",
       "4  34743   深圳   线下  男  23  2020-09-27  No.343    66    2    3"
      ]
     },
     "execution_count": 4,
     "metadata": {},
     "output_type": "execute_result"
    }
   ],
   "source": [
    "# 查看数据前5行\n",
    "orders.head()"
   ]
  },
  {
   "cell_type": "code",
   "execution_count": 5,
   "metadata": {},
   "outputs": [
    {
     "data": {
      "text/html": [
       "<div>\n",
       "<style scoped>\n",
       "    .dataframe tbody tr th:only-of-type {\n",
       "        vertical-align: middle;\n",
       "    }\n",
       "\n",
       "    .dataframe tbody tr th {\n",
       "        vertical-align: top;\n",
       "    }\n",
       "\n",
       "    .dataframe thead th {\n",
       "        text-align: right;\n",
       "    }\n",
       "</style>\n",
       "<table border=\"1\" class=\"dataframe\">\n",
       "  <thead>\n",
       "    <tr style=\"text-align: right;\">\n",
       "      <th></th>\n",
       "      <th>门店城市</th>\n",
       "      <th>商品编号</th>\n",
       "      <th>单位商品成本</th>\n",
       "    </tr>\n",
       "  </thead>\n",
       "  <tbody>\n",
       "    <tr>\n",
       "      <th>0</th>\n",
       "      <td>其他</td>\n",
       "      <td>No.005</td>\n",
       "      <td>49</td>\n",
       "    </tr>\n",
       "    <tr>\n",
       "      <th>1</th>\n",
       "      <td>北京</td>\n",
       "      <td>No.005</td>\n",
       "      <td>50</td>\n",
       "    </tr>\n",
       "    <tr>\n",
       "      <th>2</th>\n",
       "      <td>其他</td>\n",
       "      <td>No.173</td>\n",
       "      <td>99</td>\n",
       "    </tr>\n",
       "    <tr>\n",
       "      <th>3</th>\n",
       "      <td>北京</td>\n",
       "      <td>No.173</td>\n",
       "      <td>101</td>\n",
       "    </tr>\n",
       "    <tr>\n",
       "      <th>4</th>\n",
       "      <td>其他</td>\n",
       "      <td>No.277</td>\n",
       "      <td>59</td>\n",
       "    </tr>\n",
       "  </tbody>\n",
       "</table>\n",
       "</div>"
      ],
      "text/plain": [
       "  门店城市    商品编号  单位商品成本\n",
       "0   其他  No.005      49\n",
       "1   北京  No.005      50\n",
       "2   其他  No.173      99\n",
       "3   北京  No.173     101\n",
       "4   其他  No.277      59"
      ]
     },
     "execution_count": 5,
     "metadata": {},
     "output_type": "execute_result"
    }
   ],
   "source": [
    "costs.head()"
   ]
  },
  {
   "cell_type": "code",
   "execution_count": 6,
   "metadata": {},
   "outputs": [
    {
     "data": {
      "text/plain": [
       "(22293, 10)"
      ]
     },
     "execution_count": 6,
     "metadata": {},
     "output_type": "execute_result"
    }
   ],
   "source": [
    "# 查看数据量\n",
    "orders.shape"
   ]
  },
  {
   "cell_type": "code",
   "execution_count": 7,
   "metadata": {},
   "outputs": [
    {
     "data": {
      "text/plain": [
       "(15, 3)"
      ]
     },
     "execution_count": 7,
     "metadata": {},
     "output_type": "execute_result"
    }
   ],
   "source": [
    "costs.shape"
   ]
  },
  {
   "cell_type": "code",
   "execution_count": 8,
   "metadata": {},
   "outputs": [
    {
     "name": "stdout",
     "output_type": "stream",
     "text": [
      "<class 'pandas.core.frame.DataFrame'>\n",
      "RangeIndex: 22293 entries, 0 to 22292\n",
      "Data columns (total 10 columns):\n",
      "订单ID    22293 non-null int64\n",
      "门店城市    22293 non-null object\n",
      "购买渠道    22293 non-null object\n",
      "性别      22293 non-null object\n",
      "年龄      22293 non-null object\n",
      "购买日期    22293 non-null object\n",
      "商品编号    22293 non-null object\n",
      "收益总额    22293 non-null int64\n",
      "订单量     22293 non-null int64\n",
      "商品量     22293 non-null int64\n",
      "dtypes: int64(4), object(6)\n",
      "memory usage: 1.7+ MB\n"
     ]
    }
   ],
   "source": [
    "# 查看数据基本信息\n",
    "orders.info()"
   ]
  },
  {
   "cell_type": "code",
   "execution_count": 9,
   "metadata": {},
   "outputs": [
    {
     "name": "stdout",
     "output_type": "stream",
     "text": [
      "<class 'pandas.core.frame.DataFrame'>\n",
      "RangeIndex: 15 entries, 0 to 14\n",
      "Data columns (total 3 columns):\n",
      "门店城市      15 non-null object\n",
      "商品编号      15 non-null object\n",
      "单位商品成本    15 non-null int64\n",
      "dtypes: int64(1), object(2)\n",
      "memory usage: 440.0+ bytes\n"
     ]
    }
   ],
   "source": [
    "# 查看数据基本信息\n",
    "costs.info()"
   ]
  },
  {
   "cell_type": "code",
   "execution_count": 10,
   "metadata": {},
   "outputs": [
    {
     "data": {
      "text/plain": [
       "(0, 0)"
      ]
     },
     "execution_count": 10,
     "metadata": {},
     "output_type": "execute_result"
    }
   ],
   "source": [
    "# 检查是否有数据重复\n",
    "sum(orders.duplicated(subset=['订单ID'])),sum(costs.duplicated())"
   ]
  },
  {
   "cell_type": "code",
   "execution_count": 11,
   "metadata": {},
   "outputs": [
    {
     "data": {
      "text/html": [
       "<div>\n",
       "<style scoped>\n",
       "    .dataframe tbody tr th:only-of-type {\n",
       "        vertical-align: middle;\n",
       "    }\n",
       "\n",
       "    .dataframe tbody tr th {\n",
       "        vertical-align: top;\n",
       "    }\n",
       "\n",
       "    .dataframe thead th {\n",
       "        text-align: right;\n",
       "    }\n",
       "</style>\n",
       "<table border=\"1\" class=\"dataframe\">\n",
       "  <thead>\n",
       "    <tr style=\"text-align: right;\">\n",
       "      <th></th>\n",
       "      <th>订单ID</th>\n",
       "      <th>收益总额</th>\n",
       "      <th>订单量</th>\n",
       "      <th>商品量</th>\n",
       "    </tr>\n",
       "  </thead>\n",
       "  <tbody>\n",
       "    <tr>\n",
       "      <th>count</th>\n",
       "      <td>22293.000000</td>\n",
       "      <td>22293.000000</td>\n",
       "      <td>22293.000000</td>\n",
       "      <td>22293.000000</td>\n",
       "    </tr>\n",
       "    <tr>\n",
       "      <th>mean</th>\n",
       "      <td>32261.258870</td>\n",
       "      <td>162.087023</td>\n",
       "      <td>1.652312</td>\n",
       "      <td>1.858610</td>\n",
       "    </tr>\n",
       "    <tr>\n",
       "      <th>std</th>\n",
       "      <td>12832.644447</td>\n",
       "      <td>282.176800</td>\n",
       "      <td>1.869030</td>\n",
       "      <td>2.359209</td>\n",
       "    </tr>\n",
       "    <tr>\n",
       "      <th>min</th>\n",
       "      <td>10000.000000</td>\n",
       "      <td>0.000000</td>\n",
       "      <td>1.000000</td>\n",
       "      <td>1.000000</td>\n",
       "    </tr>\n",
       "    <tr>\n",
       "      <th>25%</th>\n",
       "      <td>21141.000000</td>\n",
       "      <td>65.000000</td>\n",
       "      <td>1.000000</td>\n",
       "      <td>1.000000</td>\n",
       "    </tr>\n",
       "    <tr>\n",
       "      <th>50%</th>\n",
       "      <td>32278.000000</td>\n",
       "      <td>99.000000</td>\n",
       "      <td>1.000000</td>\n",
       "      <td>1.000000</td>\n",
       "    </tr>\n",
       "    <tr>\n",
       "      <th>75%</th>\n",
       "      <td>43342.000000</td>\n",
       "      <td>177.000000</td>\n",
       "      <td>2.000000</td>\n",
       "      <td>2.000000</td>\n",
       "    </tr>\n",
       "    <tr>\n",
       "      <th>max</th>\n",
       "      <td>54585.000000</td>\n",
       "      <td>12914.000000</td>\n",
       "      <td>66.000000</td>\n",
       "      <td>84.000000</td>\n",
       "    </tr>\n",
       "  </tbody>\n",
       "</table>\n",
       "</div>"
      ],
      "text/plain": [
       "               订单ID          收益总额           订单量           商品量\n",
       "count  22293.000000  22293.000000  22293.000000  22293.000000\n",
       "mean   32261.258870    162.087023      1.652312      1.858610\n",
       "std    12832.644447    282.176800      1.869030      2.359209\n",
       "min    10000.000000      0.000000      1.000000      1.000000\n",
       "25%    21141.000000     65.000000      1.000000      1.000000\n",
       "50%    32278.000000     99.000000      1.000000      1.000000\n",
       "75%    43342.000000    177.000000      2.000000      2.000000\n",
       "max    54585.000000  12914.000000     66.000000     84.000000"
      ]
     },
     "execution_count": 11,
     "metadata": {},
     "output_type": "execute_result"
    }
   ],
   "source": [
    "# 检查数值型变量基本统计情况\n",
    "orders.describe()"
   ]
  },
  {
   "cell_type": "code",
   "execution_count": 12,
   "metadata": {},
   "outputs": [
    {
     "data": {
      "text/plain": [
       "(array(['深圳', '杭州', '武汉', '北京', '北 京', '&nbsp南京', '南京 ', '南京', '上海', '北/京'],\n",
       "       dtype=object),\n",
       " array(['线下', '线上'], dtype=object),\n",
       " array(['女', '男', '保密'], dtype=object),\n",
       " array(['No.277', 'No.305', 'No.005', 'No.343', 'No.906', 'No.782',\n",
       "        'No.173', 'No.902', 'No.577'], dtype=object))"
      ]
     },
     "execution_count": 12,
     "metadata": {},
     "output_type": "execute_result"
    }
   ],
   "source": [
    "# 检查分类型变量基本情况\n",
    "orders['门店城市'].unique(),orders['购买渠道'].unique(),orders['性别'].unique(),orders['商品编号'].unique()"
   ]
  },
  {
   "cell_type": "code",
   "execution_count": 13,
   "metadata": {},
   "outputs": [
    {
     "data": {
      "text/plain": [
       "(array(['其他', '北京', '所有'], dtype=object),\n",
       " array(['No.005', 'No.173', 'No.277', 'No.305', 'No.343', 'No.577',\n",
       "        'No.782', 'No.902', 'No.906'], dtype=object))"
      ]
     },
     "execution_count": 13,
     "metadata": {},
     "output_type": "execute_result"
    }
   ],
   "source": [
    "costs['门店城市'].unique(),costs['商品编号'].unique()"
   ]
  },
  {
   "cell_type": "markdown",
   "metadata": {},
   "source": [
    "总结：\n",
    "- orders包含订单数据，costs包含成本数据，需要将两表合并，但门店城市稍有不同，需要注意；\n",
    "- 数据无缺失、无重复；\n",
    "- 订单数据中的购买日期应该为datetime类型；\n",
    "- 订单数据中的年龄应该为int类型；\n",
    "- 订单数据中存在收益总额为0的样本；\n",
    "- 订单数据中的门店城市存在多个相同城市，但格式不同的样本。"
   ]
  },
  {
   "cell_type": "markdown",
   "metadata": {},
   "source": [
    "## 数据清洗"
   ]
  },
  {
   "cell_type": "code",
   "execution_count": 14,
   "metadata": {},
   "outputs": [],
   "source": [
    "# 处理数据类型\n",
    "orders['购买日期'] = pd.to_datetime(orders['购买日期'])"
   ]
  },
  {
   "cell_type": "code",
   "execution_count": 15,
   "metadata": {},
   "outputs": [
    {
     "data": {
      "text/plain": [
       "array(['26', '25', '61', '23', '35', '60', '32', '49', '21', '37', '30',\n",
       "       '24', '39', '34', '31', '64', '28', '38', '36', '47', '29', '50',\n",
       "       '27', '42', '68', '52', '66', '33', '20', '62', '22', '63', '保密',\n",
       "       '44', '59', '67', '54', '51', '69', '45', '40', '55', '17', '46',\n",
       "       '16', '43', '41', '58', '19', '48', '18', '65', '56', '57', '53'],\n",
       "      dtype=object)"
      ]
     },
     "execution_count": 15,
     "metadata": {},
     "output_type": "execute_result"
    }
   ],
   "source": [
    "# 处理年龄类型\n",
    "orders['年龄'].unique()\n",
    "# 发现存在“保密”这类数据，需要将其处理为缺失"
   ]
  },
  {
   "cell_type": "code",
   "execution_count": 16,
   "metadata": {},
   "outputs": [],
   "source": [
    "# 处理保密，并转换为数字类型\n",
    "orders['年龄'] = orders['年龄'].replace('保密',np.NaN).astype(float)"
   ]
  },
  {
   "cell_type": "code",
   "execution_count": 17,
   "metadata": {},
   "outputs": [
    {
     "data": {
      "text/html": [
       "<div>\n",
       "<style scoped>\n",
       "    .dataframe tbody tr th:only-of-type {\n",
       "        vertical-align: middle;\n",
       "    }\n",
       "\n",
       "    .dataframe tbody tr th {\n",
       "        vertical-align: top;\n",
       "    }\n",
       "\n",
       "    .dataframe thead th {\n",
       "        text-align: right;\n",
       "    }\n",
       "</style>\n",
       "<table border=\"1\" class=\"dataframe\">\n",
       "  <thead>\n",
       "    <tr style=\"text-align: right;\">\n",
       "      <th></th>\n",
       "      <th>订单ID</th>\n",
       "      <th>门店城市</th>\n",
       "      <th>购买渠道</th>\n",
       "      <th>性别</th>\n",
       "      <th>年龄</th>\n",
       "      <th>购买日期</th>\n",
       "      <th>商品编号</th>\n",
       "      <th>收益总额</th>\n",
       "      <th>订单量</th>\n",
       "      <th>商品量</th>\n",
       "    </tr>\n",
       "  </thead>\n",
       "  <tbody>\n",
       "    <tr>\n",
       "      <th>77</th>\n",
       "      <td>48382</td>\n",
       "      <td>南京</td>\n",
       "      <td>线下</td>\n",
       "      <td>女</td>\n",
       "      <td>63.0</td>\n",
       "      <td>2020-09-26</td>\n",
       "      <td>No.173</td>\n",
       "      <td>0</td>\n",
       "      <td>1</td>\n",
       "      <td>1</td>\n",
       "    </tr>\n",
       "    <tr>\n",
       "      <th>837</th>\n",
       "      <td>19679</td>\n",
       "      <td>南京</td>\n",
       "      <td>线下</td>\n",
       "      <td>女</td>\n",
       "      <td>40.0</td>\n",
       "      <td>2020-09-26</td>\n",
       "      <td>No.343</td>\n",
       "      <td>0</td>\n",
       "      <td>1</td>\n",
       "      <td>1</td>\n",
       "    </tr>\n",
       "    <tr>\n",
       "      <th>1137</th>\n",
       "      <td>31806</td>\n",
       "      <td>&amp;nbsp南京</td>\n",
       "      <td>线下</td>\n",
       "      <td>女</td>\n",
       "      <td>48.0</td>\n",
       "      <td>2020-09-27</td>\n",
       "      <td>No.277</td>\n",
       "      <td>0</td>\n",
       "      <td>1</td>\n",
       "      <td>1</td>\n",
       "    </tr>\n",
       "    <tr>\n",
       "      <th>1405</th>\n",
       "      <td>35877</td>\n",
       "      <td>南京</td>\n",
       "      <td>线下</td>\n",
       "      <td>女</td>\n",
       "      <td>38.0</td>\n",
       "      <td>2020-09-24</td>\n",
       "      <td>No.277</td>\n",
       "      <td>0</td>\n",
       "      <td>1</td>\n",
       "      <td>1</td>\n",
       "    </tr>\n",
       "    <tr>\n",
       "      <th>1411</th>\n",
       "      <td>37076</td>\n",
       "      <td>南京</td>\n",
       "      <td>线下</td>\n",
       "      <td>女</td>\n",
       "      <td>32.0</td>\n",
       "      <td>2020-09-26</td>\n",
       "      <td>No.277</td>\n",
       "      <td>0</td>\n",
       "      <td>1</td>\n",
       "      <td>1</td>\n",
       "    </tr>\n",
       "    <tr>\n",
       "      <th>2475</th>\n",
       "      <td>19725</td>\n",
       "      <td>&amp;nbsp南京</td>\n",
       "      <td>线下</td>\n",
       "      <td>女</td>\n",
       "      <td>45.0</td>\n",
       "      <td>2020-09-26</td>\n",
       "      <td>No.005</td>\n",
       "      <td>0</td>\n",
       "      <td>1</td>\n",
       "      <td>1</td>\n",
       "    </tr>\n",
       "    <tr>\n",
       "      <th>2606</th>\n",
       "      <td>14441</td>\n",
       "      <td>南京</td>\n",
       "      <td>线下</td>\n",
       "      <td>女</td>\n",
       "      <td>24.0</td>\n",
       "      <td>2020-09-22</td>\n",
       "      <td>No.005</td>\n",
       "      <td>0</td>\n",
       "      <td>1</td>\n",
       "      <td>1</td>\n",
       "    </tr>\n",
       "    <tr>\n",
       "      <th>2863</th>\n",
       "      <td>20444</td>\n",
       "      <td>南京</td>\n",
       "      <td>线下</td>\n",
       "      <td>男</td>\n",
       "      <td>42.0</td>\n",
       "      <td>2020-09-26</td>\n",
       "      <td>No.277</td>\n",
       "      <td>0</td>\n",
       "      <td>1</td>\n",
       "      <td>1</td>\n",
       "    </tr>\n",
       "    <tr>\n",
       "      <th>3479</th>\n",
       "      <td>16752</td>\n",
       "      <td>南京</td>\n",
       "      <td>线下</td>\n",
       "      <td>男</td>\n",
       "      <td>64.0</td>\n",
       "      <td>2020-09-26</td>\n",
       "      <td>No.782</td>\n",
       "      <td>0</td>\n",
       "      <td>1</td>\n",
       "      <td>1</td>\n",
       "    </tr>\n",
       "    <tr>\n",
       "      <th>4168</th>\n",
       "      <td>41497</td>\n",
       "      <td>南京</td>\n",
       "      <td>线下</td>\n",
       "      <td>女</td>\n",
       "      <td>29.0</td>\n",
       "      <td>2020-09-26</td>\n",
       "      <td>No.343</td>\n",
       "      <td>0</td>\n",
       "      <td>1</td>\n",
       "      <td>1</td>\n",
       "    </tr>\n",
       "    <tr>\n",
       "      <th>4390</th>\n",
       "      <td>17493</td>\n",
       "      <td>南京</td>\n",
       "      <td>线下</td>\n",
       "      <td>女</td>\n",
       "      <td>28.0</td>\n",
       "      <td>2020-09-26</td>\n",
       "      <td>No.343</td>\n",
       "      <td>0</td>\n",
       "      <td>1</td>\n",
       "      <td>1</td>\n",
       "    </tr>\n",
       "    <tr>\n",
       "      <th>4858</th>\n",
       "      <td>28142</td>\n",
       "      <td>南京</td>\n",
       "      <td>线下</td>\n",
       "      <td>女</td>\n",
       "      <td>22.0</td>\n",
       "      <td>2020-09-27</td>\n",
       "      <td>No.005</td>\n",
       "      <td>0</td>\n",
       "      <td>1</td>\n",
       "      <td>1</td>\n",
       "    </tr>\n",
       "    <tr>\n",
       "      <th>5048</th>\n",
       "      <td>20747</td>\n",
       "      <td>南京</td>\n",
       "      <td>线下</td>\n",
       "      <td>男</td>\n",
       "      <td>32.0</td>\n",
       "      <td>2020-09-22</td>\n",
       "      <td>No.277</td>\n",
       "      <td>0</td>\n",
       "      <td>1</td>\n",
       "      <td>1</td>\n",
       "    </tr>\n",
       "    <tr>\n",
       "      <th>7656</th>\n",
       "      <td>10831</td>\n",
       "      <td>南京</td>\n",
       "      <td>线下</td>\n",
       "      <td>女</td>\n",
       "      <td>52.0</td>\n",
       "      <td>2020-09-23</td>\n",
       "      <td>No.005</td>\n",
       "      <td>0</td>\n",
       "      <td>1</td>\n",
       "      <td>1</td>\n",
       "    </tr>\n",
       "    <tr>\n",
       "      <th>9278</th>\n",
       "      <td>35342</td>\n",
       "      <td>&amp;nbsp南京</td>\n",
       "      <td>线下</td>\n",
       "      <td>女</td>\n",
       "      <td>19.0</td>\n",
       "      <td>2020-09-27</td>\n",
       "      <td>No.005</td>\n",
       "      <td>0</td>\n",
       "      <td>1</td>\n",
       "      <td>1</td>\n",
       "    </tr>\n",
       "    <tr>\n",
       "      <th>10558</th>\n",
       "      <td>33852</td>\n",
       "      <td>&amp;nbsp南京</td>\n",
       "      <td>线下</td>\n",
       "      <td>女</td>\n",
       "      <td>34.0</td>\n",
       "      <td>2020-09-23</td>\n",
       "      <td>No.005</td>\n",
       "      <td>0</td>\n",
       "      <td>1</td>\n",
       "      <td>1</td>\n",
       "    </tr>\n",
       "    <tr>\n",
       "      <th>11120</th>\n",
       "      <td>10143</td>\n",
       "      <td>&amp;nbsp南京</td>\n",
       "      <td>线下</td>\n",
       "      <td>女</td>\n",
       "      <td>29.0</td>\n",
       "      <td>2020-09-26</td>\n",
       "      <td>No.343</td>\n",
       "      <td>0</td>\n",
       "      <td>1</td>\n",
       "      <td>1</td>\n",
       "    </tr>\n",
       "    <tr>\n",
       "      <th>12703</th>\n",
       "      <td>48743</td>\n",
       "      <td>南京</td>\n",
       "      <td>线下</td>\n",
       "      <td>女</td>\n",
       "      <td>44.0</td>\n",
       "      <td>2020-09-23</td>\n",
       "      <td>No.005</td>\n",
       "      <td>0</td>\n",
       "      <td>1</td>\n",
       "      <td>1</td>\n",
       "    </tr>\n",
       "    <tr>\n",
       "      <th>12764</th>\n",
       "      <td>17392</td>\n",
       "      <td>南京</td>\n",
       "      <td>线下</td>\n",
       "      <td>男</td>\n",
       "      <td>50.0</td>\n",
       "      <td>2020-09-26</td>\n",
       "      <td>No.005</td>\n",
       "      <td>0</td>\n",
       "      <td>1</td>\n",
       "      <td>1</td>\n",
       "    </tr>\n",
       "    <tr>\n",
       "      <th>12778</th>\n",
       "      <td>23542</td>\n",
       "      <td>&amp;nbsp南京</td>\n",
       "      <td>线下</td>\n",
       "      <td>女</td>\n",
       "      <td>22.0</td>\n",
       "      <td>2020-09-27</td>\n",
       "      <td>No.005</td>\n",
       "      <td>0</td>\n",
       "      <td>1</td>\n",
       "      <td>1</td>\n",
       "    </tr>\n",
       "    <tr>\n",
       "      <th>13323</th>\n",
       "      <td>53502</td>\n",
       "      <td>&amp;nbsp南京</td>\n",
       "      <td>线下</td>\n",
       "      <td>女</td>\n",
       "      <td>43.0</td>\n",
       "      <td>2020-09-21</td>\n",
       "      <td>No.782</td>\n",
       "      <td>0</td>\n",
       "      <td>1</td>\n",
       "      <td>1</td>\n",
       "    </tr>\n",
       "    <tr>\n",
       "      <th>16261</th>\n",
       "      <td>40199</td>\n",
       "      <td>南京</td>\n",
       "      <td>线下</td>\n",
       "      <td>女</td>\n",
       "      <td>37.0</td>\n",
       "      <td>2020-09-22</td>\n",
       "      <td>No.005</td>\n",
       "      <td>0</td>\n",
       "      <td>1</td>\n",
       "      <td>1</td>\n",
       "    </tr>\n",
       "    <tr>\n",
       "      <th>17259</th>\n",
       "      <td>37745</td>\n",
       "      <td>&amp;nbsp南京</td>\n",
       "      <td>线下</td>\n",
       "      <td>女</td>\n",
       "      <td>21.0</td>\n",
       "      <td>2020-09-21</td>\n",
       "      <td>No.902</td>\n",
       "      <td>0</td>\n",
       "      <td>1</td>\n",
       "      <td>1</td>\n",
       "    </tr>\n",
       "    <tr>\n",
       "      <th>17606</th>\n",
       "      <td>32012</td>\n",
       "      <td>南京</td>\n",
       "      <td>线下</td>\n",
       "      <td>女</td>\n",
       "      <td>21.0</td>\n",
       "      <td>2020-09-27</td>\n",
       "      <td>No.277</td>\n",
       "      <td>0</td>\n",
       "      <td>1</td>\n",
       "      <td>1</td>\n",
       "    </tr>\n",
       "    <tr>\n",
       "      <th>17967</th>\n",
       "      <td>12859</td>\n",
       "      <td>&amp;nbsp南京</td>\n",
       "      <td>线下</td>\n",
       "      <td>男</td>\n",
       "      <td>50.0</td>\n",
       "      <td>2020-09-22</td>\n",
       "      <td>No.906</td>\n",
       "      <td>0</td>\n",
       "      <td>1</td>\n",
       "      <td>1</td>\n",
       "    </tr>\n",
       "    <tr>\n",
       "      <th>19032</th>\n",
       "      <td>31275</td>\n",
       "      <td>南京</td>\n",
       "      <td>线下</td>\n",
       "      <td>女</td>\n",
       "      <td>29.0</td>\n",
       "      <td>2020-09-22</td>\n",
       "      <td>No.906</td>\n",
       "      <td>0</td>\n",
       "      <td>1</td>\n",
       "      <td>1</td>\n",
       "    </tr>\n",
       "    <tr>\n",
       "      <th>19486</th>\n",
       "      <td>41135</td>\n",
       "      <td>&amp;nbsp南京</td>\n",
       "      <td>线下</td>\n",
       "      <td>男</td>\n",
       "      <td>62.0</td>\n",
       "      <td>2020-09-23</td>\n",
       "      <td>No.005</td>\n",
       "      <td>0</td>\n",
       "      <td>1</td>\n",
       "      <td>1</td>\n",
       "    </tr>\n",
       "    <tr>\n",
       "      <th>20049</th>\n",
       "      <td>17764</td>\n",
       "      <td>武汉</td>\n",
       "      <td>线上</td>\n",
       "      <td>女</td>\n",
       "      <td>57.0</td>\n",
       "      <td>2020-09-21</td>\n",
       "      <td>No.305</td>\n",
       "      <td>0</td>\n",
       "      <td>1</td>\n",
       "      <td>2</td>\n",
       "    </tr>\n",
       "    <tr>\n",
       "      <th>20180</th>\n",
       "      <td>39098</td>\n",
       "      <td>&amp;nbsp南京</td>\n",
       "      <td>线下</td>\n",
       "      <td>男</td>\n",
       "      <td>22.0</td>\n",
       "      <td>2020-09-24</td>\n",
       "      <td>No.005</td>\n",
       "      <td>0</td>\n",
       "      <td>1</td>\n",
       "      <td>1</td>\n",
       "    </tr>\n",
       "    <tr>\n",
       "      <th>21404</th>\n",
       "      <td>23232</td>\n",
       "      <td>&amp;nbsp南京</td>\n",
       "      <td>线下</td>\n",
       "      <td>男</td>\n",
       "      <td>61.0</td>\n",
       "      <td>2020-09-22</td>\n",
       "      <td>No.906</td>\n",
       "      <td>0</td>\n",
       "      <td>1</td>\n",
       "      <td>1</td>\n",
       "    </tr>\n",
       "    <tr>\n",
       "      <th>21618</th>\n",
       "      <td>24569</td>\n",
       "      <td>南京</td>\n",
       "      <td>线下</td>\n",
       "      <td>男</td>\n",
       "      <td>40.0</td>\n",
       "      <td>2020-09-26</td>\n",
       "      <td>No.343</td>\n",
       "      <td>0</td>\n",
       "      <td>1</td>\n",
       "      <td>1</td>\n",
       "    </tr>\n",
       "  </tbody>\n",
       "</table>\n",
       "</div>"
      ],
      "text/plain": [
       "        订单ID     门店城市 购买渠道 性别    年龄       购买日期    商品编号  收益总额  订单量  商品量\n",
       "77     48382      南京    线下  女  63.0 2020-09-26  No.173     0    1    1\n",
       "837    19679      南京    线下  女  40.0 2020-09-26  No.343     0    1    1\n",
       "1137   31806  &nbsp南京   线下  女  48.0 2020-09-27  No.277     0    1    1\n",
       "1405   35877      南京    线下  女  38.0 2020-09-24  No.277     0    1    1\n",
       "1411   37076      南京    线下  女  32.0 2020-09-26  No.277     0    1    1\n",
       "2475   19725  &nbsp南京   线下  女  45.0 2020-09-26  No.005     0    1    1\n",
       "2606   14441      南京    线下  女  24.0 2020-09-22  No.005     0    1    1\n",
       "2863   20444      南京    线下  男  42.0 2020-09-26  No.277     0    1    1\n",
       "3479   16752      南京    线下  男  64.0 2020-09-26  No.782     0    1    1\n",
       "4168   41497      南京    线下  女  29.0 2020-09-26  No.343     0    1    1\n",
       "4390   17493      南京    线下  女  28.0 2020-09-26  No.343     0    1    1\n",
       "4858   28142      南京    线下  女  22.0 2020-09-27  No.005     0    1    1\n",
       "5048   20747      南京    线下  男  32.0 2020-09-22  No.277     0    1    1\n",
       "7656   10831      南京    线下  女  52.0 2020-09-23  No.005     0    1    1\n",
       "9278   35342  &nbsp南京   线下  女  19.0 2020-09-27  No.005     0    1    1\n",
       "10558  33852  &nbsp南京   线下  女  34.0 2020-09-23  No.005     0    1    1\n",
       "11120  10143  &nbsp南京   线下  女  29.0 2020-09-26  No.343     0    1    1\n",
       "12703  48743      南京    线下  女  44.0 2020-09-23  No.005     0    1    1\n",
       "12764  17392      南京    线下  男  50.0 2020-09-26  No.005     0    1    1\n",
       "12778  23542  &nbsp南京   线下  女  22.0 2020-09-27  No.005     0    1    1\n",
       "13323  53502  &nbsp南京   线下  女  43.0 2020-09-21  No.782     0    1    1\n",
       "16261  40199      南京    线下  女  37.0 2020-09-22  No.005     0    1    1\n",
       "17259  37745  &nbsp南京   线下  女  21.0 2020-09-21  No.902     0    1    1\n",
       "17606  32012      南京    线下  女  21.0 2020-09-27  No.277     0    1    1\n",
       "17967  12859  &nbsp南京   线下  男  50.0 2020-09-22  No.906     0    1    1\n",
       "19032  31275      南京    线下  女  29.0 2020-09-22  No.906     0    1    1\n",
       "19486  41135  &nbsp南京   线下  男  62.0 2020-09-23  No.005     0    1    1\n",
       "20049  17764       武汉   线上  女  57.0 2020-09-21  No.305     0    1    2\n",
       "20180  39098  &nbsp南京   线下  男  22.0 2020-09-24  No.005     0    1    1\n",
       "21404  23232  &nbsp南京   线下  男  61.0 2020-09-22  No.906     0    1    1\n",
       "21618  24569      南京    线下  男  40.0 2020-09-26  No.343     0    1    1"
      ]
     },
     "execution_count": 17,
     "metadata": {},
     "output_type": "execute_result"
    }
   ],
   "source": [
    "# 查看订单总额有误的数据\n",
    "orders[orders['收益总额'] <= 0]\n",
    "# 发现均为南京门店"
   ]
  },
  {
   "cell_type": "code",
   "execution_count": 18,
   "metadata": {},
   "outputs": [],
   "source": [
    "# 去除收益总额为0的样本\n",
    "orders = orders[orders['收益总额'] > 0]"
   ]
  },
  {
   "cell_type": "code",
   "execution_count": 19,
   "metadata": {},
   "outputs": [
    {
     "data": {
      "text/plain": [
       "array(['深圳', '杭州', '武汉', '北京', '北 京', '&nbsp南京', '南京 ', '南京', '上海', '北/京'],\n",
       "      dtype=object)"
      ]
     },
     "execution_count": 19,
     "metadata": {},
     "output_type": "execute_result"
    }
   ],
   "source": [
    "# 处理门店城市\n",
    "# 方法不唯一，你可以用map，也可以用str.replace，也可以用apply+lambda\n",
    "orders['门店城市'].unique()"
   ]
  },
  {
   "cell_type": "code",
   "execution_count": 20,
   "metadata": {},
   "outputs": [
    {
     "data": {
      "text/plain": [
       "array(['深圳', '杭州', '武汉', '北京', '南京', '上海'], dtype=object)"
      ]
     },
     "execution_count": 20,
     "metadata": {},
     "output_type": "execute_result"
    }
   ],
   "source": [
    "# 处理有问题的北京、南京数据\n",
    "orders['门店城市'] = orders['门店城市'].apply(lambda x:'北京' if '北' in x else x)\n",
    "orders['门店城市'] = orders['门店城市'].apply(lambda x:'南京' if '南' in x else x)\n",
    "# 查看结果\n",
    "orders['门店城市'].unique()"
   ]
  },
  {
   "cell_type": "code",
   "execution_count": 21,
   "metadata": {},
   "outputs": [],
   "source": [
    "# 合并数据\n",
    "# 因为costs中，只有北京是特殊，其余城市作为其他\n",
    "# 所以，需要对orders中的城市进行相应处理\n",
    "# 将orders中的门店城市改为城市，方便后续调用\n",
    "orders = orders.rename(columns={'门店城市':'城市'})\n",
    "# 筛选出『其他』的商品编号\n",
    "other_city_code = costs.query('门店城市==\"其他\"')['商品编号'].unique()\n",
    "# 筛选出『所有』的商品编号\n",
    "all_city_code = costs.query('门店城市==\"所有\"')['商品编号'].unique()\n",
    "# 将orders中的对应编号，非北京城市处理为其他\n",
    "orders.loc[(orders['商品编号'].isin(other_city_code)) & (orders['城市'] != '北京'),'门店城市'] = '其他'\n",
    "# 将『所有』的编号，处理为所有\n",
    "orders.loc[orders['商品编号'].isin(all_city_code),'门店城市'] = '所有'\n",
    "# 将空余项填充为『北京』\n",
    "orders['门店城市'] = orders['门店城市'].fillna('北京')\n",
    "\n",
    "# 按照『门店城市』、『商品编号』将商品成本合并到订单表中\n",
    "orders = orders.merge(costs,on=['门店城市','商品编号'],how='left')"
   ]
  },
  {
   "cell_type": "code",
   "execution_count": 22,
   "metadata": {},
   "outputs": [
    {
     "data": {
      "text/html": [
       "<div>\n",
       "<style scoped>\n",
       "    .dataframe tbody tr th:only-of-type {\n",
       "        vertical-align: middle;\n",
       "    }\n",
       "\n",
       "    .dataframe tbody tr th {\n",
       "        vertical-align: top;\n",
       "    }\n",
       "\n",
       "    .dataframe thead th {\n",
       "        text-align: right;\n",
       "    }\n",
       "</style>\n",
       "<table border=\"1\" class=\"dataframe\">\n",
       "  <thead>\n",
       "    <tr style=\"text-align: right;\">\n",
       "      <th></th>\n",
       "      <th>订单ID</th>\n",
       "      <th>城市</th>\n",
       "      <th>购买渠道</th>\n",
       "      <th>性别</th>\n",
       "      <th>年龄</th>\n",
       "      <th>购买日期</th>\n",
       "      <th>商品编号</th>\n",
       "      <th>收益总额</th>\n",
       "      <th>订单量</th>\n",
       "      <th>商品量</th>\n",
       "      <th>单位商品成本</th>\n",
       "    </tr>\n",
       "  </thead>\n",
       "  <tbody>\n",
       "    <tr>\n",
       "      <th>0</th>\n",
       "      <td>34495</td>\n",
       "      <td>深圳</td>\n",
       "      <td>线下</td>\n",
       "      <td>女</td>\n",
       "      <td>26.0</td>\n",
       "      <td>2020-09-22</td>\n",
       "      <td>No.277</td>\n",
       "      <td>803</td>\n",
       "      <td>4</td>\n",
       "      <td>4</td>\n",
       "      <td>59</td>\n",
       "    </tr>\n",
       "    <tr>\n",
       "      <th>1</th>\n",
       "      <td>32073</td>\n",
       "      <td>杭州</td>\n",
       "      <td>线下</td>\n",
       "      <td>女</td>\n",
       "      <td>25.0</td>\n",
       "      <td>2020-09-23</td>\n",
       "      <td>No.305</td>\n",
       "      <td>151</td>\n",
       "      <td>1</td>\n",
       "      <td>1</td>\n",
       "      <td>49</td>\n",
       "    </tr>\n",
       "    <tr>\n",
       "      <th>2</th>\n",
       "      <td>39998</td>\n",
       "      <td>深圳</td>\n",
       "      <td>线下</td>\n",
       "      <td>男</td>\n",
       "      <td>61.0</td>\n",
       "      <td>2020-09-23</td>\n",
       "      <td>No.005</td>\n",
       "      <td>179</td>\n",
       "      <td>2</td>\n",
       "      <td>2</td>\n",
       "      <td>49</td>\n",
       "    </tr>\n",
       "    <tr>\n",
       "      <th>3</th>\n",
       "      <td>51661</td>\n",
       "      <td>深圳</td>\n",
       "      <td>线下</td>\n",
       "      <td>女</td>\n",
       "      <td>26.0</td>\n",
       "      <td>2020-09-24</td>\n",
       "      <td>No.005</td>\n",
       "      <td>60</td>\n",
       "      <td>1</td>\n",
       "      <td>1</td>\n",
       "      <td>49</td>\n",
       "    </tr>\n",
       "    <tr>\n",
       "      <th>4</th>\n",
       "      <td>34743</td>\n",
       "      <td>深圳</td>\n",
       "      <td>线下</td>\n",
       "      <td>男</td>\n",
       "      <td>23.0</td>\n",
       "      <td>2020-09-27</td>\n",
       "      <td>No.343</td>\n",
       "      <td>66</td>\n",
       "      <td>2</td>\n",
       "      <td>3</td>\n",
       "      <td>9</td>\n",
       "    </tr>\n",
       "  </tbody>\n",
       "</table>\n",
       "</div>"
      ],
      "text/plain": [
       "    订单ID  城市 购买渠道 性别    年龄       购买日期    商品编号  收益总额  订单量  商品量  单位商品成本\n",
       "0  34495  深圳   线下  女  26.0 2020-09-22  No.277   803    4    4      59\n",
       "1  32073  杭州   线下  女  25.0 2020-09-23  No.305   151    1    1      49\n",
       "2  39998  深圳   线下  男  61.0 2020-09-23  No.005   179    2    2      49\n",
       "3  51661  深圳   线下  女  26.0 2020-09-24  No.005    60    1    1      49\n",
       "4  34743  深圳   线下  男  23.0 2020-09-27  No.343    66    2    3       9"
      ]
     },
     "execution_count": 22,
     "metadata": {},
     "output_type": "execute_result"
    }
   ],
   "source": [
    "# 删除无用的『门店城市』列\n",
    "orders.drop('门店城市',axis=1,inplace=True)\n",
    "# 查看合并结果\n",
    "orders.head()"
   ]
  },
  {
   "cell_type": "code",
   "execution_count": 23,
   "metadata": {},
   "outputs": [
    {
     "name": "stdout",
     "output_type": "stream",
     "text": [
      "<class 'pandas.core.frame.DataFrame'>\n",
      "Int64Index: 22262 entries, 0 to 22261\n",
      "Data columns (total 11 columns):\n",
      "订单ID      22262 non-null int64\n",
      "城市        22262 non-null object\n",
      "购买渠道      22262 non-null object\n",
      "性别        22262 non-null object\n",
      "年龄        22125 non-null float64\n",
      "购买日期      22262 non-null datetime64[ns]\n",
      "商品编号      22262 non-null object\n",
      "收益总额      22262 non-null int64\n",
      "订单量       22262 non-null int64\n",
      "商品量       22262 non-null int64\n",
      "单位商品成本    22262 non-null int64\n",
      "dtypes: datetime64[ns](1), float64(1), int64(5), object(4)\n",
      "memory usage: 2.0+ MB\n"
     ]
    }
   ],
   "source": [
    "orders.info()"
   ]
  },
  {
   "cell_type": "markdown",
   "metadata": {},
   "source": [
    "## 探索性数据分析（EDA）"
   ]
  },
  {
   "cell_type": "markdown",
   "metadata": {},
   "source": [
    "- 增加计算字段\n",
    "    - 订单平均包含商品量`商品量/订单量`\n",
    "    - 商品平均销售额`收益总额/商品量`\n",
    "    - 单位利润`商品平均销售额-单位商品成本`\n",
    "- 增加时间维度\n",
    "    - 提取周几\n",
    "    - 划分工作日&周末"
   ]
  },
  {
   "cell_type": "code",
   "execution_count": 24,
   "metadata": {},
   "outputs": [],
   "source": [
    "# 根据如上公式，增加计算字段\n",
    "orders['单均商品量'] = orders['商品量'] / orders['订单量']\n",
    "orders['单位商品收益'] = orders['收益总额'] / orders['商品量']\n",
    "orders['单位商品利润'] = orders['单位商品收益'] - orders['单位商品成本']"
   ]
  },
  {
   "cell_type": "code",
   "execution_count": 25,
   "metadata": {},
   "outputs": [],
   "source": [
    "# 提取周几\n",
    "orders['周几'] = orders['购买日期'].dt.weekday\n",
    "# 划分工作日与周末\n",
    "orders['日期类型'] = orders['周几'].apply(lambda x: '工作日' if x < 5 else '周末')"
   ]
  },
  {
   "cell_type": "markdown",
   "metadata": {},
   "source": [
    "### 数值变量"
   ]
  },
  {
   "cell_type": "code",
   "execution_count": 26,
   "metadata": {},
   "outputs": [],
   "source": [
    "# 筛选出数值变量\n",
    "numerical_df = orders.select_dtypes(include=['int64','float64']).drop(['订单ID','周几'],axis=1)"
   ]
  },
  {
   "cell_type": "code",
   "execution_count": 27,
   "metadata": {},
   "outputs": [],
   "source": [
    "def numerical_plot(col_name):\n",
    "    '''\n",
    "    绘制数值变量分布图，包括直方图与箱线图。\n",
    "    col_name: str, orders中的数值型变量列名\n",
    "    '''\n",
    "    fig,axes = plt.subplots(1,2,figsize=(10,5))\n",
    "    orders[col_name].plot(kind='hist',ax=axes[0])\n",
    "    orders[col_name].plot(kind='box',ax=axes[1])\n",
    "    fig.suptitle(f'{col_name}分布图');"
   ]
  },
  {
   "cell_type": "code",
   "execution_count": 28,
   "metadata": {},
   "outputs": [
    {
     "data": {
      "image/png": "[encoded data removed]",
      "text/plain": [
       "<Figure size 720x360 with 2 Axes>"
      ]
     },
     "metadata": {
      "needs_background": "light"
     },
     "output_type": "display_data"
    },
    {
     "data": {
      "image/png": "[encoded data removed]",
      "text/plain": [
       "<Figure size 720x360 with 2 Axes>"
      ]
     },
     "metadata": {
      "needs_background": "light"
     },
     "output_type": "display_data"
    },
    {
     "data": {
      "image/png": "[encoded data removed]",
      "text/plain": [
       "<Figure size 720x360 with 2 Axes>"
      ]
     },
     "metadata": {
      "needs_background": "light"
     },
     "output_type": "display_data"
    },
    {
     "data": {
      "image/png": "[encoded data removed]",
      "text/plain": [
       "<Figure size 720x360 with 2 Axes>"
      ]
     },
     "metadata": {
      "needs_background": "light"
     },
     "output_type": "display_data"
    },
    {
     "data": {
      "image/png": "[encoded data removed]",
      "text/plain": [
       "<Figure size 720x360 with 2 Axes>"
      ]
     },
     "metadata": {
      "needs_background": "light"
     },
     "output_type": "display_data"
    },
    {
     "data": {
      "image/png": "[encoded data removed]",
      "text/plain": [
       "<Figure size 720x360 with 2 Axes>"
      ]
     },
     "metadata": {
      "needs_background": "light"
     },
     "output_type": "display_data"
    },
    {
     "data": {
      "image/png": "[encoded data removed]",
      "text/plain": [
       "<Figure size 720x360 with 2 Axes>"
      ]
     },
     "metadata": {
      "needs_background": "light"
     },
     "output_type": "display_data"
    },
    {
     "data": {
      "image/png": "[encoded data removed]",
      "text/plain": [
       "<Figure size 720x360 with 2 Axes>"
      ]
     },
     "metadata": {
      "needs_background": "light"
     },
     "output_type": "display_data"
    }
   ],
   "source": [
    "# 查看数值型变量的分布情况\n",
    "for col in numerical_df.columns:\n",
    "    numerical_plot(col)"
   ]
  },
  {
   "cell_type": "markdown",
   "metadata": {},
   "source": [
    "总结：\n",
    "- 客户年龄主要分布在25-40岁之间；存在少量年龄较大的离群值；\n",
    "- 收益总额分布为长尾分布，主要集中在1000元以内；\n",
    "- 订单量、商品量、单均商品量分布同收益总额类似；\n",
    "- 单位商品收益集中在10-120之间；\n",
    "- 单位商品利润集中在0-100之间；存在小于0，即亏本的情况。"
   ]
  },
  {
   "cell_type": "code",
   "execution_count": 29,
   "metadata": {},
   "outputs": [],
   "source": [
    "def heatmap(df):\n",
    "    '''\n",
    "    绘制热度图\n",
    "    df:DataFrame, 热度图数据来源\n",
    "    '''\n",
    "    fig, ax = plt.subplots(figsize=(8,8))\n",
    "    im = ax.imshow(df.values,cmap=\"YlGn\")\n",
    "    \n",
    "    # 设置x，y轴坐标\n",
    "    ax.set_xticks(np.arange(df.shape[0]))\n",
    "    ax.set_yticks(np.arange(df.shape[1]))\n",
    "    # 轴坐标标签\n",
    "    ax.set_xticklabels(df.columns)\n",
    "    ax.set_yticklabels(df.index)\n",
    "\n",
    "    # 将轴坐标签旋转45度，以防重叠\n",
    "    plt.setp(ax.get_xticklabels(), rotation=45, ha=\"right\",\n",
    "             rotation_mode=\"anchor\")\n",
    "       \n",
    "    # 循环在热度图上标记相关系数\n",
    "    for i in range(df.shape[0]):\n",
    "        for j in range(df.shape[1]):\n",
    "            text = ax.text(j, i, round(df.iloc[i, j],2),\n",
    "                           ha=\"center\", va=\"center\", color=\"b\")\n",
    "\n",
    "    ax.set_title(\"相关系数热度图\")\n",
    "    fig.tight_layout()"
   ]
  },
  {
   "cell_type": "code",
   "execution_count": 30,
   "metadata": {},
   "outputs": [
    {
     "data": {
      "image/png": "[encoded data removed]",
      "text/plain": [
       "<Figure size 576x576 with 1 Axes>"
      ]
     },
     "metadata": {
      "needs_background": "light"
     },
     "output_type": "display_data"
    }
   ],
   "source": [
    "# 通过热度图查看数值变量之间的相关系数\n",
    "heatmap(numerical_df.corr())"
   ]
  },
  {
   "cell_type": "code",
   "execution_count": 31,
   "metadata": {},
   "outputs": [
    {
     "data": {
      "image/png": "[encoded data removed]",
      "text/plain": [
       "<Figure size 576x432 with 2 Axes>"
      ]
     },
     "metadata": {
      "needs_background": "light"
     },
     "output_type": "display_data"
    }
   ],
   "source": [
    "# 当然你可以用已经封装好的seaborn去绘制，代码更简洁，也更美观\n",
    "import seaborn as sns\n",
    "\n",
    "# 设置图像大小\n",
    "plt.figure(figsize=(8,6))\n",
    "# 绘制热度图\n",
    "sns.heatmap(numerical_df.corr(),linewidths=1,annot=True);"
   ]
  },
  {
   "cell_type": "markdown",
   "metadata": {},
   "source": [
    "总结：\n",
    "- 收益总额与订单量、商品量呈强正相关。"
   ]
  },
  {
   "cell_type": "markdown",
   "metadata": {},
   "source": [
    "### 分类变量"
   ]
  },
  {
   "cell_type": "code",
   "execution_count": 32,
   "metadata": {},
   "outputs": [],
   "source": [
    "# 筛选分类变量\n",
    "categorical_df = orders.select_dtypes(include=['object'])"
   ]
  },
  {
   "cell_type": "code",
   "execution_count": 33,
   "metadata": {},
   "outputs": [
    {
     "data": {
      "image/png": "[encoded data removed]",
      "text/plain": [
       "<Figure size 432x288 with 1 Axes>"
      ]
     },
     "metadata": {
      "needs_background": "light"
     },
     "output_type": "display_data"
    },
    {
     "data": {
      "image/png": "[encoded data removed]",
      "text/plain": [
       "<Figure size 432x288 with 1 Axes>"
      ]
     },
     "metadata": {
      "needs_background": "light"
     },
     "output_type": "display_data"
    },
    {
     "data": {
      "image/png": "[encoded data removed]",
      "text/plain": [
       "<Figure size 432x288 with 1 Axes>"
      ]
     },
     "metadata": {
      "needs_background": "light"
     },
     "output_type": "display_data"
    },
    {
     "data": {
      "image/png": "[encoded data removed]",
      "text/plain": [
       "<Figure size 432x288 with 1 Axes>"
      ]
     },
     "metadata": {
      "needs_background": "light"
     },
     "output_type": "display_data"
    },
    {
     "data": {
      "image/png": "[encoded data removed]",
      "text/plain": [
       "<Figure size 432x288 with 1 Axes>"
      ]
     },
     "metadata": {
      "needs_background": "light"
     },
     "output_type": "display_data"
    }
   ],
   "source": [
    "# 绘制分类变量中，不同类目的对比情况\n",
    "for col in categorical_df.columns:\n",
    "    fig,ax = plt.subplots(1,1)\n",
    "    orders[col].value_counts().plot(kind='bar',ax=ax)\n",
    "    ax.set_title(f'{col}构成');"
   ]
  },
  {
   "cell_type": "markdown",
   "metadata": {},
   "source": [
    "结论：\n",
    "- 数据在城市维度分布较为均匀，只有上海数据量偏少；\n",
    "- 选择线下购买的客户远大于线上购买\n",
    "- 客户中女性数量多于男性近一倍\n",
    "- No.005是最畅销的产品\n",
    "- 客户选择工作日购买的总次数要稍大于周末购买总次数，但考虑到工作日有5天，周末单日的次数要多于周内单日"
   ]
  },
  {
   "cell_type": "markdown",
   "metadata": {},
   "source": [
    "## 项目问题"
   ]
  },
  {
   "cell_type": "markdown",
   "metadata": {},
   "source": [
    "### 问题一：整体销售情况在工作日与周末有何区别？"
   ]
  },
  {
   "cell_type": "markdown",
   "metadata": {},
   "source": [
    "数据中涉及到时间的只有变量`购买日期`，我们已经在数据清洗中，从该变量中提取了周几，并将其转换为了工作日与周末，所以我们可以从渠道、性别、销售额、销售产品数量及利润等维度对其进行对比分析及可视化。"
   ]
  },
  {
   "cell_type": "code",
   "execution_count": 34,
   "metadata": {},
   "outputs": [],
   "source": [
    "def cat_wkd_plot(col,figsize=(7,7)):\n",
    "    '''\n",
    "    绘制变量日期类型与其他分类变量之间的统计比例柱状图\n",
    "    '''\n",
    "    # 按照分类变量聚合后，统计工作日与周末的占比\n",
    "    tmp = orders.groupby(col)['日期类型'].apply(lambda x: x.value_counts(1))\n",
    "    # 将其转换为DataFrame，并重命名列\n",
    "    tmp = tmp.reset_index().rename(columns={'level_1':'日期类型','日期类型':'rate'})\n",
    "    # 设置图像大小\n",
    "    plt.figure(figsize=figsize)\n",
    "    # 绘制柱状图\n",
    "    g = sns.barplot(x=col,y='rate',hue='日期类型',data=tmp)\n",
    "    # 标记柱状图上的数值\n",
    "    for index,row in tmp.iterrows():\n",
    "        if row.name%2 == 0:\n",
    "            g.text(row.name//2-0.2,row.rate+0.01,round(row.rate,2),color=\"black\",ha=\"center\")\n",
    "        else:\n",
    "            g.text(row.name//2+0.2,row.rate+0.01,round(row.rate,2),color=\"black\",ha=\"center\")\n",
    "    # 设置图例位置\n",
    "    plt.legend(loc='lower right');"
   ]
  },
  {
   "cell_type": "markdown",
   "metadata": {},
   "source": [
    "- 城市"
   ]
  },
  {
   "cell_type": "code",
   "execution_count": 35,
   "metadata": {},
   "outputs": [
    {
     "data": {
      "image/png": "[encoded data removed]",
      "text/plain": [
       "<Figure size 504x504 with 1 Axes>"
      ]
     },
     "metadata": {
      "needs_background": "light"
     },
     "output_type": "display_data"
    }
   ],
   "source": [
    "cat_wkd_plot('城市')"
   ]
  },
  {
   "cell_type": "markdown",
   "metadata": {},
   "source": [
    "不同城市在周末与工作日的购买比例基本一致。"
   ]
  },
  {
   "cell_type": "markdown",
   "metadata": {},
   "source": [
    "- 购买渠道"
   ]
  },
  {
   "cell_type": "code",
   "execution_count": 36,
   "metadata": {},
   "outputs": [
    {
     "data": {
      "image/png": "[encoded data removed]",
      "text/plain": [
       "<Figure size 504x504 with 1 Axes>"
      ]
     },
     "metadata": {
      "needs_background": "light"
     },
     "output_type": "display_data"
    }
   ],
   "source": [
    "cat_wkd_plot('购买渠道')"
   ]
  },
  {
   "cell_type": "markdown",
   "metadata": {},
   "source": [
    "不管是周内还是周末，选择线上和线下的客户比例相当。"
   ]
  },
  {
   "cell_type": "markdown",
   "metadata": {},
   "source": [
    "- 性别"
   ]
  },
  {
   "cell_type": "code",
   "execution_count": 37,
   "metadata": {},
   "outputs": [
    {
     "data": {
      "image/png": "[encoded data removed]",
      "text/plain": [
       "<Figure size 504x504 with 1 Axes>"
      ]
     },
     "metadata": {
      "needs_background": "light"
     },
     "output_type": "display_data"
    }
   ],
   "source": [
    "cat_wkd_plot('性别')"
   ]
  },
  {
   "cell_type": "markdown",
   "metadata": {},
   "source": [
    "相比于女生，男生有稍高的比例(+5%)选择在周末购买。"
   ]
  },
  {
   "cell_type": "code",
   "execution_count": 38,
   "metadata": {},
   "outputs": [],
   "source": [
    "def num_wkd_plot(col_name):\n",
    "    '''\n",
    "    绘制数值型变量与时间的关系对比比例图。\n",
    "    '''\n",
    "    # 计算均值、总和、中位数、最大、最小值及标准差\n",
    "    sum_series = orders.groupby('日期类型')[col_name].sum()\n",
    "    tmp = orders.groupby('日期类型')[col_name].describe().join(sum_series)\n",
    "    # 重命名列&筛选\n",
    "    tmp = tmp.rename(columns={col_name:'sum'})[['mean','sum','std','50%','max','min']]\n",
    "    # 进行归一化处理，避免由于量的差距带来干扰\n",
    "    tmp = (tmp - tmp.std()) / tmp.mean()\n",
    "    # 将tmp处理为stack类型（列展开）的数据，方便可视化\n",
    "    tmp = tmp.reset_index().melt(id_vars='日期类型')\n",
    "    # 可视化\n",
    "    plt.figure(figsize=(5,5))\n",
    "    sns.barplot(x='variable',y='value',hue='日期类型',data=tmp)\n",
    "    # 设置图例位置\n",
    "    plt.legend(loc='lower right');"
   ]
  },
  {
   "cell_type": "markdown",
   "metadata": {},
   "source": [
    "- 年龄"
   ]
  },
  {
   "cell_type": "code",
   "execution_count": 39,
   "metadata": {},
   "outputs": [
    {
     "data": {
      "image/png": "[encoded data removed]",
      "text/plain": [
       "<Figure size 360x360 with 1 Axes>"
      ]
     },
     "metadata": {
      "needs_background": "light"
     },
     "output_type": "display_data"
    }
   ],
   "source": [
    "num_wkd_plot('年龄')"
   ]
  },
  {
   "cell_type": "markdown",
   "metadata": {},
   "source": [
    "年龄上区别不大"
   ]
  },
  {
   "cell_type": "code",
   "execution_count": 40,
   "metadata": {},
   "outputs": [
    {
     "data": {
      "text/plain": [
       "Index(['年龄', '收益总额', '订单量', '商品量', '单位商品成本', '单均商品量', '单位商品收益', '单位商品利润'], dtype='object')"
      ]
     },
     "execution_count": 40,
     "metadata": {},
     "output_type": "execute_result"
    }
   ],
   "source": [
    "numerical_df.columns"
   ]
  },
  {
   "cell_type": "markdown",
   "metadata": {},
   "source": [
    "- 收益总额"
   ]
  },
  {
   "cell_type": "code",
   "execution_count": 41,
   "metadata": {},
   "outputs": [
    {
     "data": {
      "image/png": "[encoded data removed]",
      "text/plain": [
       "<Figure size 360x360 with 1 Axes>"
      ]
     },
     "metadata": {
      "needs_background": "light"
     },
     "output_type": "display_data"
    }
   ],
   "source": [
    "num_wkd_plot('收益总额')"
   ]
  },
  {
   "cell_type": "markdown",
   "metadata": {},
   "source": [
    "工作日的收益总额均值、总和、标准差及最大值都较高。"
   ]
  },
  {
   "cell_type": "markdown",
   "metadata": {},
   "source": [
    "- 商品量"
   ]
  },
  {
   "cell_type": "code",
   "execution_count": 42,
   "metadata": {},
   "outputs": [
    {
     "data": {
      "image/png": "[encoded data removed]",
      "text/plain": [
       "<Figure size 360x360 with 1 Axes>"
      ]
     },
     "metadata": {
      "needs_background": "light"
     },
     "output_type": "display_data"
    }
   ],
   "source": [
    "num_wkd_plot('商品量')"
   ]
  },
  {
   "cell_type": "markdown",
   "metadata": {},
   "source": [
    "与收益总额类似"
   ]
  },
  {
   "cell_type": "markdown",
   "metadata": {},
   "source": [
    "- 单位商品利润"
   ]
  },
  {
   "cell_type": "code",
   "execution_count": 43,
   "metadata": {},
   "outputs": [
    {
     "data": {
      "image/png": "[encoded data removed]",
      "text/plain": [
       "<Figure size 360x360 with 1 Axes>"
      ]
     },
     "metadata": {
      "needs_background": "light"
     },
     "output_type": "display_data"
    }
   ],
   "source": [
    "num_wkd_plot('单位商品利润')"
   ]
  },
  {
   "cell_type": "markdown",
   "metadata": {},
   "source": [
    "利润上，周末的利润较工作日稍高。"
   ]
  },
  {
   "cell_type": "markdown",
   "metadata": {},
   "source": [
    "总结：\n",
    "- 相比于女生，男生有稍高的比例(+5%)选择在周末购买；\n",
    "- 工作日的收益总额均值、总和、标准差及最大值都较高，也就是说，工作日的客户购买力更不均衡，具有较高购买力的客户会选择在工作日购买商品；\n",
    "- 利润上，周末的利润较工作日稍高；\n",
    "- 其余项上，工作日与周末无明显区别。"
   ]
  },
  {
   "cell_type": "markdown",
   "metadata": {},
   "source": [
    "### 问题二：不同产品的销售情况是怎样的？"
   ]
  },
  {
   "cell_type": "markdown",
   "metadata": {},
   "source": [
    "不同产品即指商品编号字段中不同类别的产品，销售情况即为收益总额、商品量、利润等情况。"
   ]
  },
  {
   "cell_type": "code",
   "execution_count": 44,
   "metadata": {},
   "outputs": [
    {
     "data": {
      "image/png": "[encoded data removed]",
      "text/plain": [
       "<Figure size 432x288 with 1 Axes>"
      ]
     },
     "metadata": {
      "needs_background": "light"
     },
     "output_type": "display_data"
    }
   ],
   "source": [
    "#总销售额\n",
    "orders.groupby('商品编号')['收益总额'].sum().sort_values(ascending=False).plot(kind='bar');"
   ]
  },
  {
   "cell_type": "code",
   "execution_count": 45,
   "metadata": {},
   "outputs": [
    {
     "data": {
      "image/png": "[encoded data removed]",
      "text/plain": [
       "<Figure size 432x288 with 1 Axes>"
      ]
     },
     "metadata": {
      "needs_background": "light"
     },
     "output_type": "display_data"
    }
   ],
   "source": [
    "#总销售额均值\n",
    "orders.groupby('商品编号')['收益总额'].mean().sort_values(ascending=False).plot(kind='bar');"
   ]
  },
  {
   "cell_type": "code",
   "execution_count": 46,
   "metadata": {},
   "outputs": [
    {
     "data": {
      "image/png": "[encoded data removed]",
      "text/plain": [
       "<Figure size 432x288 with 1 Axes>"
      ]
     },
     "metadata": {
      "needs_background": "light"
     },
     "output_type": "display_data"
    }
   ],
   "source": [
    "#总销售数量\n",
    "orders.groupby('商品编号')['商品量'].sum().sort_values(ascending=False).plot(kind='bar');"
   ]
  },
  {
   "cell_type": "code",
   "execution_count": 47,
   "metadata": {},
   "outputs": [
    {
     "data": {
      "image/png": "[encoded data removed]",
      "text/plain": [
       "<Figure size 432x288 with 1 Axes>"
      ]
     },
     "metadata": {
      "needs_background": "light"
     },
     "output_type": "display_data"
    }
   ],
   "source": [
    "# 总利润\n",
    "orders.groupby('商品编号')['单位商品利润'].sum().sort_values(ascending=False).plot(kind='bar');"
   ]
  },
  {
   "cell_type": "code",
   "execution_count": 48,
   "metadata": {},
   "outputs": [
    {
     "data": {
      "image/png": "[encoded data removed]",
      "text/plain": [
       "<Figure size 432x288 with 1 Axes>"
      ]
     },
     "metadata": {
      "needs_background": "light"
     },
     "output_type": "display_data"
    }
   ],
   "source": [
    "#利润均值\n",
    "orders.groupby('商品编号')['单位商品利润'].mean().sort_values(ascending=False).plot(kind='bar');"
   ]
  },
  {
   "cell_type": "code",
   "execution_count": 49,
   "metadata": {},
   "outputs": [
    {
     "data": {
      "image/png": "[encoded data removed]",
      "text/plain": [
       "<Figure size 432x288 with 1 Axes>"
      ]
     },
     "metadata": {
      "needs_background": "light"
     },
     "output_type": "display_data"
    }
   ],
   "source": [
    "# 商品利润分布情况\n",
    "sns.boxplot(x='商品编号',y='单位商品利润',data=orders)\n",
    "# 标记0\n",
    "plt.axhline(y=0);"
   ]
  },
  {
   "cell_type": "code",
   "execution_count": 50,
   "metadata": {},
   "outputs": [
    {
     "data": {
      "text/html": [
       "<div>\n",
       "<style scoped>\n",
       "    .dataframe tbody tr th:only-of-type {\n",
       "        vertical-align: middle;\n",
       "    }\n",
       "\n",
       "    .dataframe tbody tr th {\n",
       "        vertical-align: top;\n",
       "    }\n",
       "\n",
       "    .dataframe thead th {\n",
       "        text-align: right;\n",
       "    }\n",
       "</style>\n",
       "<table border=\"1\" class=\"dataframe\">\n",
       "  <thead>\n",
       "    <tr style=\"text-align: right;\">\n",
       "      <th></th>\n",
       "      <th>count</th>\n",
       "      <th>mean</th>\n",
       "      <th>std</th>\n",
       "      <th>min</th>\n",
       "      <th>25%</th>\n",
       "      <th>50%</th>\n",
       "      <th>75%</th>\n",
       "      <th>max</th>\n",
       "    </tr>\n",
       "    <tr>\n",
       "      <th>商品编号</th>\n",
       "      <th></th>\n",
       "      <th></th>\n",
       "      <th></th>\n",
       "      <th></th>\n",
       "      <th></th>\n",
       "      <th></th>\n",
       "      <th></th>\n",
       "      <th></th>\n",
       "    </tr>\n",
       "  </thead>\n",
       "  <tbody>\n",
       "    <tr>\n",
       "      <th>No.173</th>\n",
       "      <td>32.0</td>\n",
       "      <td>-30.250000</td>\n",
       "      <td>31.755111</td>\n",
       "      <td>-86.00</td>\n",
       "      <td>-51.5</td>\n",
       "      <td>-19.0</td>\n",
       "      <td>-1.875</td>\n",
       "      <td>-1.000000</td>\n",
       "    </tr>\n",
       "    <tr>\n",
       "      <th>No.577</th>\n",
       "      <td>19.0</td>\n",
       "      <td>-22.631579</td>\n",
       "      <td>14.644720</td>\n",
       "      <td>-49.00</td>\n",
       "      <td>-30.5</td>\n",
       "      <td>-19.0</td>\n",
       "      <td>-17.500</td>\n",
       "      <td>-1.000000</td>\n",
       "    </tr>\n",
       "    <tr>\n",
       "      <th>No.782</th>\n",
       "      <td>825.0</td>\n",
       "      <td>-21.318726</td>\n",
       "      <td>13.638840</td>\n",
       "      <td>-55.00</td>\n",
       "      <td>-29.0</td>\n",
       "      <td>-18.5</td>\n",
       "      <td>-9.000</td>\n",
       "      <td>-2.333333</td>\n",
       "    </tr>\n",
       "    <tr>\n",
       "      <th>No.305</th>\n",
       "      <td>570.0</td>\n",
       "      <td>-12.485589</td>\n",
       "      <td>4.315664</td>\n",
       "      <td>-32.00</td>\n",
       "      <td>-15.5</td>\n",
       "      <td>-10.5</td>\n",
       "      <td>-10.000</td>\n",
       "      <td>-8.000000</td>\n",
       "    </tr>\n",
       "    <tr>\n",
       "      <th>No.005</th>\n",
       "      <td>694.0</td>\n",
       "      <td>-9.853998</td>\n",
       "      <td>5.308495</td>\n",
       "      <td>-36.00</td>\n",
       "      <td>-10.0</td>\n",
       "      <td>-10.0</td>\n",
       "      <td>-9.000</td>\n",
       "      <td>-0.125000</td>\n",
       "    </tr>\n",
       "    <tr>\n",
       "      <th>No.906</th>\n",
       "      <td>1.0</td>\n",
       "      <td>-9.000000</td>\n",
       "      <td>NaN</td>\n",
       "      <td>-9.00</td>\n",
       "      <td>-9.0</td>\n",
       "      <td>-9.0</td>\n",
       "      <td>-9.000</td>\n",
       "      <td>-9.000000</td>\n",
       "    </tr>\n",
       "    <tr>\n",
       "      <th>No.277</th>\n",
       "      <td>631.0</td>\n",
       "      <td>-7.828518</td>\n",
       "      <td>7.881764</td>\n",
       "      <td>-46.75</td>\n",
       "      <td>-10.5</td>\n",
       "      <td>-4.5</td>\n",
       "      <td>-2.000</td>\n",
       "      <td>-0.333333</td>\n",
       "    </tr>\n",
       "  </tbody>\n",
       "</table>\n",
       "</div>"
      ],
      "text/plain": [
       "        count       mean        std    min   25%   50%     75%       max\n",
       "商品编号                                                                    \n",
       "No.173   32.0 -30.250000  31.755111 -86.00 -51.5 -19.0  -1.875 -1.000000\n",
       "No.577   19.0 -22.631579  14.644720 -49.00 -30.5 -19.0 -17.500 -1.000000\n",
       "No.782  825.0 -21.318726  13.638840 -55.00 -29.0 -18.5  -9.000 -2.333333\n",
       "No.305  570.0 -12.485589   4.315664 -32.00 -15.5 -10.5 -10.000 -8.000000\n",
       "No.005  694.0  -9.853998   5.308495 -36.00 -10.0 -10.0  -9.000 -0.125000\n",
       "No.906    1.0  -9.000000        NaN  -9.00  -9.0  -9.0  -9.000 -9.000000\n",
       "No.277  631.0  -7.828518   7.881764 -46.75 -10.5  -4.5  -2.000 -0.333333"
      ]
     },
     "execution_count": 50,
     "metadata": {},
     "output_type": "execute_result"
    }
   ],
   "source": [
    "# 亏本商品的基本统计情况\n",
    "orders.query('单位商品利润<0').groupby('商品编号')['单位商品利润'].describe().sort_values(by='mean')"
   ]
  },
  {
   "cell_type": "code",
   "execution_count": 51,
   "metadata": {},
   "outputs": [
    {
     "data": {
      "text/plain": [
       "商品编号\n",
       "No.782   -17587.948657\n",
       "No.305    -7116.785911\n",
       "No.005    -6838.674873\n",
       "No.277    -4939.794643\n",
       "No.173     -968.000000\n",
       "No.577     -430.000000\n",
       "No.906       -9.000000\n",
       "Name: 单位商品利润, dtype: float64"
      ]
     },
     "execution_count": 51,
     "metadata": {},
     "output_type": "execute_result"
    }
   ],
   "source": [
    "orders.query('单位商品利润<0').groupby('商品编号')['单位商品利润'].sum().sort_values()"
   ]
  },
  {
   "cell_type": "markdown",
   "metadata": {},
   "source": [
    "总结：\n",
    "- No.005占绝对领先地位，在销售额总值、销售总量和总利润上都遥遥领先，但均值不高，属于薄利多销的主打产品；\n",
    "- No.173、Np.577和No.902的平均利润最高，都在80元以上；\n",
    "- 除No.343与No.902外，其余产品都有或多或少的亏本情况，其中No.782亏本最多，近一万八千元。"
   ]
  },
  {
   "cell_type": "markdown",
   "metadata": {},
   "source": [
    "### 问题三：顾客偏爱哪一种购买方式？"
   ]
  },
  {
   "cell_type": "code",
   "execution_count": 52,
   "metadata": {},
   "outputs": [],
   "source": [
    "def channel_plot(col):\n",
    "    '''\n",
    "    绘制与渠道相关的分类比例图\n",
    "    '''\n",
    "    tmp = orders.groupby(col)['购买渠道'].apply(lambda x:x.value_counts(1))\n",
    "    tmp = pd.DataFrame(tmp).reset_index()\n",
    "    tmp = tmp.rename(columns={'level_1':'购买渠道','购买渠道':'rate'})\n",
    "    sns.barplot(x=col,y='rate',hue='购买渠道',data=tmp);"
   ]
  },
  {
   "cell_type": "code",
   "execution_count": 53,
   "metadata": {},
   "outputs": [
    {
     "data": {
      "image/png": "[encoded data removed]",
      "text/plain": [
       "<Figure size 432x288 with 1 Axes>"
      ]
     },
     "metadata": {
      "needs_background": "light"
     },
     "output_type": "display_data"
    }
   ],
   "source": [
    "channel_plot('城市')"
   ]
  },
  {
   "cell_type": "code",
   "execution_count": 54,
   "metadata": {},
   "outputs": [
    {
     "data": {
      "image/png": "[encoded data removed]",
      "text/plain": [
       "<Figure size 432x288 with 1 Axes>"
      ]
     },
     "metadata": {
      "needs_background": "light"
     },
     "output_type": "display_data"
    }
   ],
   "source": [
    "channel_plot('性别')"
   ]
  },
  {
   "cell_type": "code",
   "execution_count": 59,
   "metadata": {},
   "outputs": [
    {
     "data": {
      "image/png": "[encoded data removed]",
      "text/plain": [
       "<Figure size 432x288 with 1 Axes>"
      ]
     },
     "metadata": {
      "needs_background": "light"
     },
     "output_type": "display_data"
    }
   ],
   "source": [
    "# 绘制年龄与购买渠道的阶梯图\n",
    "sns.histplot(data=orders, x=\"年龄\", hue=\"购买渠道\",\n",
    "    element=\"step\", fill=False,\n",
    "    cumulative=True, stat=\"density\", common_norm=False,\n",
    ");"
   ]
  },
  {
   "cell_type": "markdown",
   "metadata": {},
   "source": [
    "总结：\n",
    "- 武汉的顾客更偏爱在线上购买，南京、上海和北京也有一定的线上购买比例，其余城市均为在线下购买；\n",
    "- 不同性别在选择购买渠道时比例相当；\n",
    "- 就年龄段来看，所有年龄段选择线上购买的比例相当；其中30-40岁选择线上的占比较高。"
   ]
  },
  {
   "cell_type": "markdown",
   "metadata": {},
   "source": [
    "### 问题四：销售额和产品成本之间的有怎样的关系？"
   ]
  },
  {
   "cell_type": "markdown",
   "metadata": {},
   "source": [
    "-   思路一：单件产品销售额-成本为利润，它是如何分布的？是否存在亏本销售的产品？\n",
    "-    思路二：探究实际销售额和产品成本之间的关系，即为求它们之间的相关，若成正相关，则产品成本越高，销售额越高，或许为高端商品；若成负相关，则成本越低，销售额越高，为薄利多销的模式。\n"
   ]
  },
  {
   "cell_type": "code",
   "execution_count": 60,
   "metadata": {},
   "outputs": [
    {
     "data": {
      "image/png": "[encoded data removed]",
      "text/plain": [
       "<Figure size 432x288 with 1 Axes>"
      ]
     },
     "metadata": {
      "needs_background": "light"
     },
     "output_type": "display_data"
    }
   ],
   "source": [
    "orders['单位商品利润'].plot(kind='hist',bins=15);"
   ]
  },
  {
   "cell_type": "markdown",
   "metadata": {},
   "source": [
    "- 利润主要集中在0-75元之间；\n",
    "- 存在一定量的亏本（即利润小于0）的产品。"
   ]
  },
  {
   "cell_type": "code",
   "execution_count": 61,
   "metadata": {},
   "outputs": [],
   "source": [
    "#聚焦亏本产品\n",
    "df_loss = orders.query('单位商品利润<0')"
   ]
  },
  {
   "cell_type": "code",
   "execution_count": 62,
   "metadata": {},
   "outputs": [
    {
     "data": {
      "image/png": "[encoded data removed]",
      "text/plain": [
       "<Figure size 432x288 with 1 Axes>"
      ]
     },
     "metadata": {
      "needs_background": "light"
     },
     "output_type": "display_data"
    }
   ],
   "source": [
    "# 查看亏本产品占总量的比例\n",
    "#城市\n",
    "(df_loss['城市'].value_counts()/orders['城市'].value_counts()).sort_values().plot(kind='bar');"
   ]
  },
  {
   "cell_type": "code",
   "execution_count": 64,
   "metadata": {},
   "outputs": [
    {
     "data": {
      "image/png": "[encoded data removed]",
      "text/plain": [
       "<Figure size 432x288 with 1 Axes>"
      ]
     },
     "metadata": {
      "needs_background": "light"
     },
     "output_type": "display_data"
    }
   ],
   "source": [
    "#渠道\n",
    "(df_loss['购买渠道'].value_counts()/orders['购买渠道'].value_counts()).sort_values().plot(kind='bar');"
   ]
  },
  {
   "cell_type": "code",
   "execution_count": 65,
   "metadata": {},
   "outputs": [
    {
     "data": {
      "image/png": "[encoded data removed]",
      "text/plain": [
       "<Figure size 432x288 with 1 Axes>"
      ]
     },
     "metadata": {
      "needs_background": "light"
     },
     "output_type": "display_data"
    }
   ],
   "source": [
    "#时间\n",
    "(df_loss['日期类型'].value_counts()/orders['日期类型'].value_counts()).sort_values().plot(kind='bar');"
   ]
  },
  {
   "cell_type": "code",
   "execution_count": 68,
   "metadata": {},
   "outputs": [
    {
     "data": {
      "image/png": "[encoded data removed]",
      "text/plain": [
       "<Figure size 432x288 with 1 Axes>"
      ]
     },
     "metadata": {
      "needs_background": "light"
     },
     "output_type": "display_data"
    }
   ],
   "source": [
    "#产品\n",
    "(df_loss['商品编号'].value_counts()/orders['商品编号'].value_counts()).sort_values().plot(kind='bar');"
   ]
  },
  {
   "cell_type": "markdown",
   "metadata": {},
   "source": [
    "总结：\n",
    "- 北京的亏本商品占比最高，约为14%；其余城市在12%及以下；\n",
    "- 线下销售亏本商品比例要高于线上渠道；\n",
    "- 工作日销售亏本商品比例要高于周末；\n",
    "- No.782和No.305是亏损率最高的商品，近乎60%。"
   ]
  },
  {
   "cell_type": "code",
   "execution_count": 73,
   "metadata": {},
   "outputs": [
    {
     "data": {
      "text/plain": [
       "单位商品利润    1.000000\n",
       "单位商品收益    0.914743\n",
       "收益总额      0.335153\n",
       "单位商品成本    0.112234\n",
       "订单量       0.077967\n",
       "商品量       0.044291\n",
       "单均商品量    -0.070700\n",
       "Name: 单位商品利润, dtype: float64"
      ]
     },
     "execution_count": 73,
     "metadata": {},
     "output_type": "execute_result"
    }
   ],
   "source": [
    "# 利润相关列\n",
    "margin_cols = ['单位商品利润', '单位商品收益', '单均商品量', \n",
    "               '单位商品成本', '收益总额', '订单量', '商品量']\n",
    "# 查看相关系数\n",
    "orders[margin_cols].corr()['单位商品利润'].sort_values(ascending=False)"
   ]
  },
  {
   "cell_type": "markdown",
   "metadata": {},
   "source": [
    "整体来看，单位商品利润与单位商品收益成强正相关，相关系数为0.91；但商品的成本与利润的相关性很低，仅为0.1."
   ]
  },
  {
   "cell_type": "markdown",
   "metadata": {},
   "source": [
    "# 总结&建议"
   ]
  },
  {
   "cell_type": "markdown",
   "metadata": {},
   "source": [
    "通篇我们使用了6座城市，共计22262条数据进行分析，得出以下结论：\n",
    "\n",
    "## 客户画像\n",
    "- 基本信息\n",
    "    - 客户年龄主要分布在25-40岁之间；\n",
    "    - 客户中女性数量多于男性近一倍。\n",
    "- 消费习惯\n",
    "    - 【#消费金额】单笔收益总额分布为长尾分布，主要集中在1000元以内；\n",
    "    - 【#消费时间】客户选择工作日购买的总次数要稍大于周末购买总次数，但考虑到工作日有5天，周末单日的次数要多于周内单日；\n",
    "    - 【#消费时间】相比于女生，男生有稍高的比例(+5%)选择在周末购买；\n",
    "    - 【#消费渠道】选择线下购买的客户远大于线上购买；\n",
    "    - 【#消费渠道】不同性别在选择购买渠道时比例相当；\n",
    "    - 【#消费渠道】武汉的顾客更偏爱在线上购买，南京、上海和北京也有一定的线上购买比例，其余城市均为在线下购买；\n",
    "    - 【#消费渠道】线上购买渠道中，30-40岁占比较高。"
   ]
  },
  {
   "cell_type": "markdown",
   "metadata": {},
   "source": [
    "## 产品情况\n",
    "\n",
    "- 销售情况：\n",
    "    - 单位商品收益集中在10-120之间；\n",
    "    - 单位商品利润集中在0-100之间；\n",
    "    - No.005占绝对领先地位，在销售额总值、销售总量和总利润上都遥遥领先，但均值不高，属于薄利多销的畅销产品；\n",
    "    - 工作日的收益总额均值、总和、标准差及最大值都较高，也就是说，工作日的客户购买力更不均衡，具有较高购买力的客户会选择在工作日购买商品。\n",
    "    \n",
    "- 利润情况：    \n",
    "    - 利润上，周末的利润较工作日稍高；\n",
    "    - No.173、Np.577和No.902的平均利润最高，都在80元以上；\n",
    "    - 北京的亏本商品占比最高，约为14%；其余城市在12%及以下；\n",
    "    - 线下销售亏本商品比例要高于线上渠道；\n",
    "    - 工作日销售亏本商品比例要高于周末；\n",
    "    - No.782和No.305是亏损率最高的商品，近乎60%。\n",
    "    - 除No.343与No.902外，其余产品都有或多或少的亏本情况，其中No.782亏本最多，近一万八千元。"
   ]
  },
  {
   "cell_type": "markdown",
   "metadata": {},
   "source": [
    "## 销售建议"
   ]
  },
  {
   "cell_type": "markdown",
   "metadata": {},
   "source": [
    "\n",
    "- 选择线下购买的客户较多，可以通过公众号、微博等多做一些线上优惠券的活动，提高线上订单量，减轻线下门店服务压力，降低线下服务成本；\n",
    "- 多针对女性群体做专属活动；\n",
    "- No.005的销量及利润都较高，可以针对No.005和销量较低的产品在一些时间节点适当的做一些捆绑活动；\n",
    "- No.782和No.305亏损率较高，可以减少此类商品的产量；\n",
    "- 工作日有较多购买力强的顾客消费，可以进行针对性的高额免减活动。\n",
    "  "
   ]
  }
 ],
 "metadata": {
  "kernelspec": {
   "display_name": "Python 3",
   "language": "python",
   "name": "python3"
  },
  "language_info": {
   "codemirror_mode": {
    "name": "ipython",
    "version": 3
   },
   "file_extension": ".py",
   "mimetype": "text/x-python",
   "name": "python",
   "nbconvert_exporter": "python",
   "pygments_lexer": "ipython3",
   "version": "3.6.8"
  },
  "notify_time": "5",
  "toc": {
   "base_numbering": 1,
   "nav_menu": {},
   "number_sections": true,
   "sideBar": true,
   "skip_h1_title": false,
   "title_cell": "Table of Contents",
   "title_sidebar": "Contents",
   "toc_cell": false,
   "toc_position": {
    "height": "calc(100% - 180px)",
    "left": "10px",
    "top": "150px",
    "width": "198px"
   },
   "toc_section_display": true,
   "toc_window_display": true
  }
 },
 "nbformat": 4,
 "nbformat_minor": 2
}
