{
 "cells": [
  {
   "cell_type": "markdown",
   "metadata": {
    "id": "D6A2AEC38FD043FF98338AFA9B39E6C9",
    "jupyter": {},
    "slideshow": {
     "slide_type": "slide"
    },
    "tags": []
   },
   "source": [
    "# 了解数据字段\n",
    "\n",
    "数据来源：https://www.kesci.com/home/competition/5c234c6626ba91002bfdfdd3/content/1"
   ]
  },
  {
   "cell_type": "markdown",
   "metadata": {
    "id": "91A5196AD835412280688959EE2BF83B",
    "jupyter": {},
    "slideshow": {
     "slide_type": "slide"
    },
    "tags": []
   },
   "source": [
    "|NO   | 字段名称|  数据类型 |字段描述\n",
    "-------|---------|-----------|----------\n",
    "1 |ID |Int |客户唯一标识\n",
    "2 |age |Int |客户年龄\n",
    "3 |job |String |客户的职业\n",
    "4 |marital |String |婚姻状况\n",
    "5 |education |String |受教育水平\n",
    "6 |default |String |是否有违约记录\n",
    "7 |balance |Int |每年账户的平均余额\n",
    "8 |housing |String |是否有住房贷款\n",
    "9 |loan |String |是否有个人贷款\n",
    "10 |contact |String |与客户联系的沟通方式\n",
    "11 |day |Int |最后一次联系的时间（几号）\n",
    "12 |month |String |最后一次联系的时间（月份）\n",
    "13 |duration |Int |最后一次联系的交流时长\n",
    "14 |campaign |Int |在本次活动中，与该客户交流过的次数\n",
    "15 |pdays |Int |距离上次活动最后一次联系该客户，过去了多久（999表示没有联系过）\n",
    "16 |previous |Int |在本次活动之前，与该客户交流过的次数\n",
    "17 |poutcome |String |上一次活动的结果\n",
    "18 |y |Int |预测客户是否会订购定期存款业务"
   ]
  },
  {
   "cell_type": "markdown",
   "metadata": {
    "id": "31A9CD07DD9445B288BC7B202BA3CE3B",
    "jupyter": {},
    "slideshow": {
     "slide_type": "slide"
    },
    "tags": []
   },
   "source": [
    "# 查看数据"
   ]
  },
  {
   "cell_type": "code",
   "execution_count": 2,
   "metadata": {
    "id": "E3F1F979CB0647318080E9ECD47A7864",
    "jupyter": {},
    "slideshow": {
     "slide_type": "slide"
    },
    "tags": []
   },
   "outputs": [],
   "source": [
    "# 导入包\n",
    "import pandas as pd\n",
    "import numpy as np\n",
    "import matplotlib.pyplot as plt\n",
    "import seaborn as sns\n",
    "\n",
    "# 在notebook中显示可视化的魔法命令\n",
    "%matplotlib inline"
   ]
  },
  {
   "cell_type": "code",
   "execution_count": 4,
   "metadata": {
    "id": "B81CF9C2794B4AB29BF0909B26B91FC9",
    "jupyter": {},
    "slideshow": {
     "slide_type": "slide"
    },
    "tags": []
   },
   "outputs": [],
   "source": [
    "# 读入数据\n",
    "train = pd.read_csv('data/buyornot_train_set.csv')\n",
    "test = pd.read_csv('data/buyornot_test_set.csv')"
   ]
  },
  {
   "cell_type": "code",
   "execution_count": 5,
   "metadata": {
    "id": "7E69FE6E11AD4C8796305BFAD85FD1F7",
    "jupyter": {},
    "slideshow": {
     "slide_type": "slide"
    },
    "tags": []
   },
   "outputs": [
    {
     "data": {
      "text/html": [
       "<div>\n",
       "<style scoped>\n",
       "    .dataframe tbody tr th:only-of-type {\n",
       "        vertical-align: middle;\n",
       "    }\n",
       "\n",
       "    .dataframe tbody tr th {\n",
       "        vertical-align: top;\n",
       "    }\n",
       "\n",
       "    .dataframe thead th {\n",
       "        text-align: right;\n",
       "    }\n",
       "</style>\n",
       "<table border=\"1\" class=\"dataframe\">\n",
       "  <thead>\n",
       "    <tr style=\"text-align: right;\">\n",
       "      <th></th>\n",
       "      <th>ID</th>\n",
       "      <th>age</th>\n",
       "      <th>job</th>\n",
       "      <th>marital</th>\n",
       "      <th>education</th>\n",
       "      <th>default</th>\n",
       "      <th>balance</th>\n",
       "      <th>housing</th>\n",
       "      <th>loan</th>\n",
       "      <th>contact</th>\n",
       "      <th>day</th>\n",
       "      <th>month</th>\n",
       "      <th>duration</th>\n",
       "      <th>campaign</th>\n",
       "      <th>pdays</th>\n",
       "      <th>previous</th>\n",
       "      <th>poutcome</th>\n",
       "      <th>y</th>\n",
       "    </tr>\n",
       "  </thead>\n",
       "  <tbody>\n",
       "    <tr>\n",
       "      <th>0</th>\n",
       "      <td>1</td>\n",
       "      <td>43</td>\n",
       "      <td>management</td>\n",
       "      <td>married</td>\n",
       "      <td>tertiary</td>\n",
       "      <td>no</td>\n",
       "      <td>291</td>\n",
       "      <td>yes</td>\n",
       "      <td>no</td>\n",
       "      <td>unknown</td>\n",
       "      <td>9</td>\n",
       "      <td>may</td>\n",
       "      <td>150</td>\n",
       "      <td>2</td>\n",
       "      <td>-1</td>\n",
       "      <td>0</td>\n",
       "      <td>unknown</td>\n",
       "      <td>0</td>\n",
       "    </tr>\n",
       "    <tr>\n",
       "      <th>1</th>\n",
       "      <td>2</td>\n",
       "      <td>42</td>\n",
       "      <td>technician</td>\n",
       "      <td>divorced</td>\n",
       "      <td>primary</td>\n",
       "      <td>no</td>\n",
       "      <td>5076</td>\n",
       "      <td>yes</td>\n",
       "      <td>no</td>\n",
       "      <td>cellular</td>\n",
       "      <td>7</td>\n",
       "      <td>apr</td>\n",
       "      <td>99</td>\n",
       "      <td>1</td>\n",
       "      <td>251</td>\n",
       "      <td>2</td>\n",
       "      <td>other</td>\n",
       "      <td>0</td>\n",
       "    </tr>\n",
       "    <tr>\n",
       "      <th>2</th>\n",
       "      <td>3</td>\n",
       "      <td>47</td>\n",
       "      <td>admin.</td>\n",
       "      <td>married</td>\n",
       "      <td>secondary</td>\n",
       "      <td>no</td>\n",
       "      <td>104</td>\n",
       "      <td>yes</td>\n",
       "      <td>yes</td>\n",
       "      <td>cellular</td>\n",
       "      <td>14</td>\n",
       "      <td>jul</td>\n",
       "      <td>77</td>\n",
       "      <td>2</td>\n",
       "      <td>-1</td>\n",
       "      <td>0</td>\n",
       "      <td>unknown</td>\n",
       "      <td>0</td>\n",
       "    </tr>\n",
       "    <tr>\n",
       "      <th>3</th>\n",
       "      <td>4</td>\n",
       "      <td>28</td>\n",
       "      <td>management</td>\n",
       "      <td>single</td>\n",
       "      <td>secondary</td>\n",
       "      <td>no</td>\n",
       "      <td>-994</td>\n",
       "      <td>yes</td>\n",
       "      <td>yes</td>\n",
       "      <td>cellular</td>\n",
       "      <td>18</td>\n",
       "      <td>jul</td>\n",
       "      <td>174</td>\n",
       "      <td>2</td>\n",
       "      <td>-1</td>\n",
       "      <td>0</td>\n",
       "      <td>unknown</td>\n",
       "      <td>0</td>\n",
       "    </tr>\n",
       "    <tr>\n",
       "      <th>4</th>\n",
       "      <td>5</td>\n",
       "      <td>42</td>\n",
       "      <td>technician</td>\n",
       "      <td>divorced</td>\n",
       "      <td>secondary</td>\n",
       "      <td>no</td>\n",
       "      <td>2974</td>\n",
       "      <td>yes</td>\n",
       "      <td>no</td>\n",
       "      <td>unknown</td>\n",
       "      <td>21</td>\n",
       "      <td>may</td>\n",
       "      <td>187</td>\n",
       "      <td>5</td>\n",
       "      <td>-1</td>\n",
       "      <td>0</td>\n",
       "      <td>unknown</td>\n",
       "      <td>0</td>\n",
       "    </tr>\n",
       "  </tbody>\n",
       "</table>\n",
       "</div>"
      ],
      "text/plain": [
       "   ID  age         job   marital  education default  balance housing loan  \\\n",
       "0   1   43  management   married   tertiary      no      291     yes   no   \n",
       "1   2   42  technician  divorced    primary      no     5076     yes   no   \n",
       "2   3   47      admin.   married  secondary      no      104     yes  yes   \n",
       "3   4   28  management    single  secondary      no     -994     yes  yes   \n",
       "4   5   42  technician  divorced  secondary      no     2974     yes   no   \n",
       "\n",
       "    contact  day month  duration  campaign  pdays  previous poutcome  y  \n",
       "0   unknown    9   may       150         2     -1         0  unknown  0  \n",
       "1  cellular    7   apr        99         1    251         2    other  0  \n",
       "2  cellular   14   jul        77         2     -1         0  unknown  0  \n",
       "3  cellular   18   jul       174         2     -1         0  unknown  0  \n",
       "4   unknown   21   may       187         5     -1         0  unknown  0  "
      ]
     },
     "execution_count": 5,
     "metadata": {},
     "output_type": "execute_result"
    }
   ],
   "source": [
    "# 查看数据前5行\n",
    "train.head()"
   ]
  },
  {
   "cell_type": "code",
   "execution_count": 6,
   "metadata": {},
   "outputs": [
    {
     "data": {
      "text/html": [
       "<div>\n",
       "<style scoped>\n",
       "    .dataframe tbody tr th:only-of-type {\n",
       "        vertical-align: middle;\n",
       "    }\n",
       "\n",
       "    .dataframe tbody tr th {\n",
       "        vertical-align: top;\n",
       "    }\n",
       "\n",
       "    .dataframe thead th {\n",
       "        text-align: right;\n",
       "    }\n",
       "</style>\n",
       "<table border=\"1\" class=\"dataframe\">\n",
       "  <thead>\n",
       "    <tr style=\"text-align: right;\">\n",
       "      <th></th>\n",
       "      <th>ID</th>\n",
       "      <th>age</th>\n",
       "      <th>job</th>\n",
       "      <th>marital</th>\n",
       "      <th>education</th>\n",
       "      <th>default</th>\n",
       "      <th>balance</th>\n",
       "      <th>housing</th>\n",
       "      <th>loan</th>\n",
       "      <th>contact</th>\n",
       "      <th>day</th>\n",
       "      <th>month</th>\n",
       "      <th>duration</th>\n",
       "      <th>campaign</th>\n",
       "      <th>pdays</th>\n",
       "      <th>previous</th>\n",
       "      <th>poutcome</th>\n",
       "    </tr>\n",
       "  </thead>\n",
       "  <tbody>\n",
       "    <tr>\n",
       "      <th>0</th>\n",
       "      <td>25318</td>\n",
       "      <td>51</td>\n",
       "      <td>housemaid</td>\n",
       "      <td>married</td>\n",
       "      <td>unknown</td>\n",
       "      <td>no</td>\n",
       "      <td>174</td>\n",
       "      <td>no</td>\n",
       "      <td>no</td>\n",
       "      <td>telephone</td>\n",
       "      <td>29</td>\n",
       "      <td>jul</td>\n",
       "      <td>308</td>\n",
       "      <td>3</td>\n",
       "      <td>-1</td>\n",
       "      <td>0</td>\n",
       "      <td>unknown</td>\n",
       "    </tr>\n",
       "    <tr>\n",
       "      <th>1</th>\n",
       "      <td>25319</td>\n",
       "      <td>32</td>\n",
       "      <td>management</td>\n",
       "      <td>married</td>\n",
       "      <td>tertiary</td>\n",
       "      <td>no</td>\n",
       "      <td>6059</td>\n",
       "      <td>yes</td>\n",
       "      <td>no</td>\n",
       "      <td>cellular</td>\n",
       "      <td>20</td>\n",
       "      <td>nov</td>\n",
       "      <td>110</td>\n",
       "      <td>2</td>\n",
       "      <td>-1</td>\n",
       "      <td>0</td>\n",
       "      <td>unknown</td>\n",
       "    </tr>\n",
       "    <tr>\n",
       "      <th>2</th>\n",
       "      <td>25320</td>\n",
       "      <td>60</td>\n",
       "      <td>retired</td>\n",
       "      <td>married</td>\n",
       "      <td>primary</td>\n",
       "      <td>no</td>\n",
       "      <td>0</td>\n",
       "      <td>no</td>\n",
       "      <td>no</td>\n",
       "      <td>telephone</td>\n",
       "      <td>30</td>\n",
       "      <td>jul</td>\n",
       "      <td>130</td>\n",
       "      <td>3</td>\n",
       "      <td>-1</td>\n",
       "      <td>0</td>\n",
       "      <td>unknown</td>\n",
       "    </tr>\n",
       "    <tr>\n",
       "      <th>3</th>\n",
       "      <td>25321</td>\n",
       "      <td>32</td>\n",
       "      <td>student</td>\n",
       "      <td>single</td>\n",
       "      <td>tertiary</td>\n",
       "      <td>no</td>\n",
       "      <td>64</td>\n",
       "      <td>no</td>\n",
       "      <td>no</td>\n",
       "      <td>cellular</td>\n",
       "      <td>30</td>\n",
       "      <td>jun</td>\n",
       "      <td>598</td>\n",
       "      <td>4</td>\n",
       "      <td>105</td>\n",
       "      <td>5</td>\n",
       "      <td>failure</td>\n",
       "    </tr>\n",
       "    <tr>\n",
       "      <th>4</th>\n",
       "      <td>25322</td>\n",
       "      <td>41</td>\n",
       "      <td>housemaid</td>\n",
       "      <td>married</td>\n",
       "      <td>secondary</td>\n",
       "      <td>no</td>\n",
       "      <td>0</td>\n",
       "      <td>yes</td>\n",
       "      <td>yes</td>\n",
       "      <td>cellular</td>\n",
       "      <td>15</td>\n",
       "      <td>jul</td>\n",
       "      <td>368</td>\n",
       "      <td>4</td>\n",
       "      <td>-1</td>\n",
       "      <td>0</td>\n",
       "      <td>unknown</td>\n",
       "    </tr>\n",
       "  </tbody>\n",
       "</table>\n",
       "</div>"
      ],
      "text/plain": [
       "      ID  age         job  marital  education default  balance housing loan  \\\n",
       "0  25318   51   housemaid  married    unknown      no      174      no   no   \n",
       "1  25319   32  management  married   tertiary      no     6059     yes   no   \n",
       "2  25320   60     retired  married    primary      no        0      no   no   \n",
       "3  25321   32     student   single   tertiary      no       64      no   no   \n",
       "4  25322   41   housemaid  married  secondary      no        0     yes  yes   \n",
       "\n",
       "     contact  day month  duration  campaign  pdays  previous poutcome  \n",
       "0  telephone   29   jul       308         3     -1         0  unknown  \n",
       "1   cellular   20   nov       110         2     -1         0  unknown  \n",
       "2  telephone   30   jul       130         3     -1         0  unknown  \n",
       "3   cellular   30   jun       598         4    105         5  failure  \n",
       "4   cellular   15   jul       368         4     -1         0  unknown  "
      ]
     },
     "execution_count": 6,
     "metadata": {},
     "output_type": "execute_result"
    }
   ],
   "source": [
    "test.head()"
   ]
  },
  {
   "cell_type": "code",
   "execution_count": 5,
   "metadata": {
    "id": "189B5CA30E8C480694A984931F7F48EB",
    "jupyter": {},
    "slideshow": {
     "slide_type": "slide"
    },
    "tags": []
   },
   "outputs": [
    {
     "name": "stdout",
     "output_type": "stream",
     "text": [
      "<class 'pandas.core.frame.DataFrame'>\n",
      "RangeIndex: 25317 entries, 0 to 25316\n",
      "Data columns (total 18 columns):\n",
      "ID           25317 non-null int64\n",
      "age          25317 non-null int64\n",
      "job          25317 non-null object\n",
      "marital      25317 non-null object\n",
      "education    25317 non-null object\n",
      "default      25317 non-null object\n",
      "balance      25317 non-null int64\n",
      "housing      25317 non-null object\n",
      "loan         25317 non-null object\n",
      "contact      25317 non-null object\n",
      "day          25317 non-null int64\n",
      "month        25317 non-null object\n",
      "duration     25317 non-null int64\n",
      "campaign     25317 non-null int64\n",
      "pdays        25317 non-null int64\n",
      "previous     25317 non-null int64\n",
      "poutcome     25317 non-null object\n",
      "y            25317 non-null int64\n",
      "dtypes: int64(9), object(9)\n",
      "memory usage: 3.5+ MB\n"
     ]
    }
   ],
   "source": [
    "train.info()"
   ]
  },
  {
   "cell_type": "code",
   "execution_count": 6,
   "metadata": {
    "id": "7D64C566433C4026A8D009F09C05A64F",
    "jupyter": {},
    "slideshow": {
     "slide_type": "slide"
    },
    "tags": []
   },
   "outputs": [],
   "source": [
    "# 查看是否有空值\n",
    "# data.isnull().sum()\n",
    "# 无空值"
   ]
  },
  {
   "cell_type": "code",
   "execution_count": 7,
   "metadata": {
    "id": "98DC5B4BE3644516B36891020A4C322D",
    "jupyter": {},
    "slideshow": {
     "slide_type": "slide"
    },
    "tags": []
   },
   "outputs": [],
   "source": [
    "# data = pd.concat([train.drop(['y'],axis=1),test],axis=0).reset_index(drop=True)"
   ]
  },
  {
   "cell_type": "code",
   "execution_count": 8,
   "metadata": {
    "id": "62D3A4E624844432AC69E16DC7827CF2",
    "jupyter": {},
    "slideshow": {
     "slide_type": "slide"
    },
    "tags": []
   },
   "outputs": [
    {
     "name": "stdout",
     "output_type": "stream",
     "text": [
      "job :   ['management' 'technician' 'admin.' 'services' 'retired' 'student'\n",
      " 'blue-collar' 'unknown' 'entrepreneur' 'housemaid' 'self-employed'\n",
      " 'unemployed']\n",
      "marital :   ['married' 'divorced' 'single']\n",
      "education :   ['tertiary' 'primary' 'secondary' 'unknown']\n",
      "default :   ['no' 'yes']\n",
      "housing :   ['yes' 'no']\n",
      "loan :   ['no' 'yes']\n",
      "contact :   ['unknown' 'cellular' 'telephone']\n",
      "month :   ['may' 'apr' 'jul' 'jun' 'nov' 'aug' 'jan' 'feb' 'dec' 'oct' 'sep' 'mar']\n",
      "poutcome :   ['unknown' 'other' 'failure' 'success']\n"
     ]
    }
   ],
   "source": [
    "# 对object型数据查看unique\n",
    "str_features = []\n",
    "num_features=[]\n",
    "for col in train.columns:\n",
    "    if train[col].dtype=='object':\n",
    "        str_features.append(col)\n",
    "        print(col,':  ',train[col].unique())\n",
    "    if train[col].dtype=='int64' and col not in ['ID','y']:\n",
    "        num_features.append(col)"
   ]
  },
  {
   "cell_type": "markdown",
   "metadata": {
    "id": "6C6C38DDD11949E2BB6AD07AA63CC20B",
    "jupyter": {},
    "slideshow": {
     "slide_type": "slide"
    },
    "tags": []
   },
   "source": [
    "观察发现分类字段有‘unknown’这个类别，此时将该类别也当作缺失值，进一步查看"
   ]
  },
  {
   "cell_type": "code",
   "execution_count": 9,
   "metadata": {
    "id": "D3D5AC55919A4D7792BCFB58550839F4",
    "jupyter": {},
    "slideshow": {
     "slide_type": "slide"
    },
    "tags": []
   },
   "outputs": [
    {
     "data": {
      "text/plain": [
       "ID            0.000000\n",
       "age           0.000000\n",
       "job           0.643836\n",
       "marital       0.000000\n",
       "education     4.206660\n",
       "default       0.000000\n",
       "balance       0.000000\n",
       "housing       0.000000\n",
       "loan          0.000000\n",
       "contact      28.759332\n",
       "day           0.000000\n",
       "month         0.000000\n",
       "duration      0.000000\n",
       "campaign      0.000000\n",
       "pdays         0.000000\n",
       "previous      0.000000\n",
       "poutcome     81.672394\n",
       "y             0.000000\n",
       "dtype: float64"
      ]
     },
     "execution_count": 9,
     "metadata": {},
     "output_type": "execute_result"
    }
   ],
   "source": [
    "train.isin(['unknown']).mean()*100"
   ]
  },
  {
   "cell_type": "markdown",
   "metadata": {
    "id": "9E820A9A0C904342B01588ACB80E2FB6",
    "jupyter": {},
    "slideshow": {
     "slide_type": "slide"
    },
    "tags": []
   },
   "source": [
    "通常对于缺失值的处理，最常用的方法无外乎删除法、替换法和插补法。\n",
    "\n",
    "> - 删除法是指将缺失值所在的观测行删除（前提是缺失行的比例非常低，如5%以内），或者删除缺失值所对应的变量（前提是该变量中包含的缺失值比例非常高，如70%左右）\n",
    "> - 替换法是指直接利用缺失变量的均值、中位数或众数替换该变量中的缺失值，其好处是缺失值的处理速度快，弊端是易产生有偏估计，导致缺失值替换的准确性下降\n",
    ">- 插补法则是利用有监督的机器学习方法（如回归模型、树模型、网络模型等）对缺失值作预测，其优势在于预测的准确性高，缺点是需要大量的计算，导致缺失值的处理速度大打折扣\n",
    "\n",
    "这里观察到contact和poutcome的‘unknow’类别分别达到28.76%和81.67%，在展示数据后考虑进一步处理，job和education的unknown占比较小，考虑不对这两个特征的unknow进行处理"
   ]
  },
  {
   "cell_type": "code",
   "execution_count": 10,
   "metadata": {
    "id": "2BB886E84A7640199511870CA2AD795A",
    "jupyter": {},
    "slideshow": {
     "slide_type": "slide"
    },
    "tags": []
   },
   "outputs": [
    {
     "name": "stdout",
     "output_type": "stream",
     "text": [
      "['job', 'marital', 'education', 'default', 'housing', 'loan', 'contact', 'month', 'poutcome']\n",
      "['age', 'balance', 'day', 'duration', 'campaign', 'pdays', 'previous']\n"
     ]
    }
   ],
   "source": [
    "print(str_features)\n",
    "print(num_features)"
   ]
  },
  {
   "cell_type": "code",
   "execution_count": 4,
   "metadata": {
    "id": "9EBFC7CCB0854ABD8B2D05CE0E91CD2B",
    "jupyter": {},
    "slideshow": {
     "slide_type": "slide"
    },
    "tags": []
   },
   "outputs": [
    {
     "data": {
      "image/png": "[encoded data removed]",
      "text/plain": [
       "<Figure size 432x288 with 1 Axes>"
      ]
     },
     "metadata": {},
     "output_type": "display_data"
    }
   ],
   "source": [
    "# 从训练集查看是否平衡数据集\n",
    "\n",
    "plt.rc('font', family='SimHei', size=13)\n",
    "fig = plt.figure()\n",
    "plt.pie(train['y'].value_counts(),\n",
    "        labels=train['y'].value_counts().index,\n",
    "        autopct='%1.2f%%',counterclock = False)\n",
    "plt.title('购买率')\n",
    "plt.show()"
   ]
  },
  {
   "cell_type": "markdown",
   "metadata": {
    "id": "90272DD831AD45FB960927419B867CD2",
    "jupyter": {},
    "slideshow": {
     "slide_type": "slide"
    },
    "tags": []
   },
   "source": [
    "**数据集是不平衡数据集**"
   ]
  },
  {
   "cell_type": "markdown",
   "metadata": {
    "id": "419CDE6986A847C784E0DFCE8E4AC1E8",
    "jupyter": {},
    "slideshow": {
     "slide_type": "slide"
    },
    "tags": []
   },
   "source": [
    "# 数据分析"
   ]
  },
  {
   "cell_type": "markdown",
   "metadata": {
    "id": "9C1176C57ABC49738712E434A67FE25D",
    "jupyter": {},
    "slideshow": {
     "slide_type": "slide"
    },
    "tags": []
   },
   "source": [
    "## 单变量分析"
   ]
  },
  {
   "cell_type": "markdown",
   "metadata": {
    "id": "BFC5705056F8488994BB1B1C957E8E05",
    "jupyter": {},
    "slideshow": {
     "slide_type": "slide"
    },
    "tags": []
   },
   "source": [
    "### 离散变量 "
   ]
  },
  {
   "cell_type": "code",
   "execution_count": 11,
   "metadata": {
    "id": "1CC8DE3F44024ADABCC974D3FD5D537B",
    "jupyter": {},
    "scrolled": false,
    "slideshow": {
     "slide_type": "slide"
    },
    "tags": []
   },
   "outputs": [
    {
     "data": {
      "image/png": "[encoded data removed]",
      "text/plain": [
       "<Figure size 1080x1080 with 9 Axes>"
      ]
     },
     "metadata": {
      "needs_background": "light"
     },
     "output_type": "display_data"
    }
   ],
   "source": [
    "plt.figure(figsize=(15,15))\n",
    "i=1\n",
    "for col in str_features:\n",
    "    plt.subplot(3,3,i)\n",
    "    # 这里用mean是因为标签是0，1二分类，0*0的行数(即没购买的人数)+1*1的行数(购买的人数)/所有行数=购买率\n",
    "    train.groupby([col])['y'].mean().plot(kind='bar',\n",
    "                                          stacked=True,\n",
    "                                          rot=90,\n",
    "                                          title='Purchase rate of {}'.format(col))\n",
    "    plt.subplots_adjust(wspace=0.2,hspace=0.7)  # 调整子图间距\n",
    "    i=i+1\n",
    "plt.show()"
   ]
  },
  {
   "cell_type": "markdown",
   "metadata": {
    "id": "BF7C178BB05D4D4B82C698DBCA7BBFA4",
    "jupyter": {},
    "slideshow": {
     "slide_type": "slide"
    },
    "tags": []
   },
   "source": [
    "**结论：通过可视图可以初步观察到这些特征是否会影响购买率**"
   ]
  },
  {
   "cell_type": "markdown",
   "metadata": {
    "id": "57C749EB548C46F183842E78DF946979",
    "jupyter": {},
    "slideshow": {
     "slide_type": "slide"
    },
    "tags": []
   },
   "source": [
    "### 连续变量 "
   ]
  },
  {
   "cell_type": "code",
   "execution_count": 12,
   "metadata": {
    "id": "3A3754B41AC04103902E79A772E340AA",
    "jupyter": {},
    "slideshow": {
     "slide_type": "slide"
    },
    "tags": []
   },
   "outputs": [
    {
     "data": {
      "text/plain": [
       "['age', 'balance', 'day', 'duration', 'campaign', 'pdays', 'previous']"
      ]
     },
     "execution_count": 12,
     "metadata": {},
     "output_type": "execute_result"
    }
   ],
   "source": [
    "num_features"
   ]
  },
  {
   "cell_type": "code",
   "execution_count": 13,
   "metadata": {
    "id": "5CDD0D501E6241F5A30ADD331C279C7C",
    "jupyter": {},
    "slideshow": {
     "slide_type": "slide"
    },
    "tags": []
   },
   "outputs": [
    {
     "data": {
      "text/html": [
       "<div>\n",
       "<style scoped>\n",
       "    .dataframe tbody tr th:only-of-type {\n",
       "        vertical-align: middle;\n",
       "    }\n",
       "\n",
       "    .dataframe tbody tr th {\n",
       "        vertical-align: top;\n",
       "    }\n",
       "\n",
       "    .dataframe thead th {\n",
       "        text-align: right;\n",
       "    }\n",
       "</style>\n",
       "<table border=\"1\" class=\"dataframe\">\n",
       "  <thead>\n",
       "    <tr style=\"text-align: right;\">\n",
       "      <th></th>\n",
       "      <th>age</th>\n",
       "      <th>balance</th>\n",
       "      <th>day</th>\n",
       "      <th>duration</th>\n",
       "      <th>campaign</th>\n",
       "      <th>pdays</th>\n",
       "      <th>previous</th>\n",
       "    </tr>\n",
       "  </thead>\n",
       "  <tbody>\n",
       "    <tr>\n",
       "      <td>count</td>\n",
       "      <td>25317.000000</td>\n",
       "      <td>25317.000000</td>\n",
       "      <td>25317.000000</td>\n",
       "      <td>25317.000000</td>\n",
       "      <td>25317.000000</td>\n",
       "      <td>25317.000000</td>\n",
       "      <td>25317.000000</td>\n",
       "    </tr>\n",
       "    <tr>\n",
       "      <td>mean</td>\n",
       "      <td>40.935379</td>\n",
       "      <td>1357.555082</td>\n",
       "      <td>15.835289</td>\n",
       "      <td>257.732393</td>\n",
       "      <td>2.772050</td>\n",
       "      <td>40.248766</td>\n",
       "      <td>0.591737</td>\n",
       "    </tr>\n",
       "    <tr>\n",
       "      <td>std</td>\n",
       "      <td>10.634289</td>\n",
       "      <td>2999.822811</td>\n",
       "      <td>8.319480</td>\n",
       "      <td>256.975151</td>\n",
       "      <td>3.136097</td>\n",
       "      <td>100.213541</td>\n",
       "      <td>2.568313</td>\n",
       "    </tr>\n",
       "    <tr>\n",
       "      <td>min</td>\n",
       "      <td>18.000000</td>\n",
       "      <td>-8019.000000</td>\n",
       "      <td>1.000000</td>\n",
       "      <td>0.000000</td>\n",
       "      <td>1.000000</td>\n",
       "      <td>-1.000000</td>\n",
       "      <td>0.000000</td>\n",
       "    </tr>\n",
       "    <tr>\n",
       "      <td>25%</td>\n",
       "      <td>33.000000</td>\n",
       "      <td>73.000000</td>\n",
       "      <td>8.000000</td>\n",
       "      <td>103.000000</td>\n",
       "      <td>1.000000</td>\n",
       "      <td>-1.000000</td>\n",
       "      <td>0.000000</td>\n",
       "    </tr>\n",
       "    <tr>\n",
       "      <td>50%</td>\n",
       "      <td>39.000000</td>\n",
       "      <td>448.000000</td>\n",
       "      <td>16.000000</td>\n",
       "      <td>181.000000</td>\n",
       "      <td>2.000000</td>\n",
       "      <td>-1.000000</td>\n",
       "      <td>0.000000</td>\n",
       "    </tr>\n",
       "    <tr>\n",
       "      <td>75%</td>\n",
       "      <td>48.000000</td>\n",
       "      <td>1435.000000</td>\n",
       "      <td>21.000000</td>\n",
       "      <td>317.000000</td>\n",
       "      <td>3.000000</td>\n",
       "      <td>-1.000000</td>\n",
       "      <td>0.000000</td>\n",
       "    </tr>\n",
       "    <tr>\n",
       "      <td>max</td>\n",
       "      <td>95.000000</td>\n",
       "      <td>102127.000000</td>\n",
       "      <td>31.000000</td>\n",
       "      <td>3881.000000</td>\n",
       "      <td>55.000000</td>\n",
       "      <td>854.000000</td>\n",
       "      <td>275.000000</td>\n",
       "    </tr>\n",
       "  </tbody>\n",
       "</table>\n",
       "</div>"
      ],
      "text/plain": [
       "                age        balance           day      duration      campaign  \\\n",
       "count  25317.000000   25317.000000  25317.000000  25317.000000  25317.000000   \n",
       "mean      40.935379    1357.555082     15.835289    257.732393      2.772050   \n",
       "std       10.634289    2999.822811      8.319480    256.975151      3.136097   \n",
       "min       18.000000   -8019.000000      1.000000      0.000000      1.000000   \n",
       "25%       33.000000      73.000000      8.000000    103.000000      1.000000   \n",
       "50%       39.000000     448.000000     16.000000    181.000000      2.000000   \n",
       "75%       48.000000    1435.000000     21.000000    317.000000      3.000000   \n",
       "max       95.000000  102127.000000     31.000000   3881.000000     55.000000   \n",
       "\n",
       "              pdays      previous  \n",
       "count  25317.000000  25317.000000  \n",
       "mean      40.248766      0.591737  \n",
       "std      100.213541      2.568313  \n",
       "min       -1.000000      0.000000  \n",
       "25%       -1.000000      0.000000  \n",
       "50%       -1.000000      0.000000  \n",
       "75%       -1.000000      0.000000  \n",
       "max      854.000000    275.000000  "
      ]
     },
     "execution_count": 13,
     "metadata": {},
     "output_type": "execute_result"
    }
   ],
   "source": [
    "train[num_features].describe()"
   ]
  },
  {
   "cell_type": "markdown",
   "metadata": {
    "id": "2AA03A123A6848938B5A03C2AD476AEB",
    "jupyter": {},
    "slideshow": {
     "slide_type": "slide"
    },
    "tags": []
   },
   "source": [
    "#### age 年龄"
   ]
  },
  {
   "cell_type": "code",
   "execution_count": 14,
   "metadata": {
    "id": "3830D6E644184F408C5A773CDA307E36",
    "jupyter": {},
    "slideshow": {
     "slide_type": "slide"
    },
    "tags": []
   },
   "outputs": [
    {
     "data": {
      "image/png": "[encoded data removed]",
      "text/plain": [
       "<Figure size 432x288 with 1 Axes>"
      ]
     },
     "metadata": {
      "needs_background": "light"
     },
     "output_type": "display_data"
    }
   ],
   "source": [
    "plt.figure()\n",
    "sns.boxenplot(x='y', y=u'age', data=train)\n",
    "plt.show()"
   ]
  },
  {
   "cell_type": "code",
   "execution_count": 15,
   "metadata": {
    "id": "38200C3AE7B347DEAF7273CC63C3D370",
    "jupyter": {},
    "slideshow": {
     "slide_type": "slide"
    },
    "tags": []
   },
   "outputs": [
    {
     "data": {
      "image/png": "[encoded data removed]",
      "text/plain": [
       "<Figure size 432x288 with 1 Axes>"
      ]
     },
     "metadata": {
      "needs_background": "light"
     },
     "output_type": "display_data"
    }
   ],
   "source": [
    "train[train['y']==0]['age'].plot(kind='kde',label='0')\n",
    "train[train['y']==1]['age'].plot(kind='kde',label='1')\n",
    "plt.legend()\n",
    "plt.show()"
   ]
  },
  {
   "cell_type": "markdown",
   "metadata": {
    "id": "E1D4E9612E934832B0D260995E7DAF45",
    "jupyter": {},
    "slideshow": {
     "slide_type": "slide"
    },
    "tags": []
   },
   "source": [
    "两类客户的购买年龄分布差异不大；"
   ]
  },
  {
   "cell_type": "markdown",
   "metadata": {
    "id": "6D75F54DA91E46989EE8B00D14C4E6CA",
    "jupyter": {},
    "slideshow": {
     "slide_type": "slide"
    },
    "tags": []
   },
   "source": [
    "#### balance 每年账户的平均余额"
   ]
  },
  {
   "cell_type": "code",
   "execution_count": 16,
   "metadata": {
    "id": "AD55414BAAFD4CA7BC860AA0E40DB0A0",
    "jupyter": {},
    "slideshow": {
     "slide_type": "slide"
    },
    "tags": []
   },
   "outputs": [
    {
     "data": {
      "image/png": "[encoded data removed]",
      "text/plain": [
       "<Figure size 432x288 with 1 Axes>"
      ]
     },
     "metadata": {
      "needs_background": "light"
     },
     "output_type": "display_data"
    }
   ],
   "source": [
    "train['balance'].plot(kind='hist')\n",
    "plt.show()"
   ]
  },
  {
   "cell_type": "markdown",
   "metadata": {
    "id": "ED95FCD8374148EAB4443D9D963B7642",
    "jupyter": {},
    "slideshow": {
     "slide_type": "slide"
    },
    "tags": []
   },
   "source": [
    "#### duration 最后一次联系的交流时长"
   ]
  },
  {
   "cell_type": "code",
   "execution_count": 17,
   "metadata": {
    "id": "BD7ACCF17547461383CFD0D920297A08",
    "jupyter": {},
    "slideshow": {
     "slide_type": "slide"
    },
    "tags": []
   },
   "outputs": [
    {
     "data": {
      "image/png": "[encoded data removed]",
      "text/plain": [
       "<Figure size 432x288 with 1 Axes>"
      ]
     },
     "metadata": {
      "needs_background": "light"
     },
     "output_type": "display_data"
    }
   ],
   "source": [
    "plt.figure()\n",
    "sns.boxplot(y=u'duration', data=train)\n",
    "plt.show()"
   ]
  },
  {
   "cell_type": "markdown",
   "metadata": {
    "id": "1BDE66E5C94248A2B366821BC3521966",
    "jupyter": {},
    "slideshow": {
     "slide_type": "slide"
    },
    "tags": []
   },
   "source": [
    "#### campaign 在本次活动中，与该客户交流过的次数 "
   ]
  },
  {
   "cell_type": "code",
   "execution_count": 18,
   "metadata": {
    "id": "1E9A1AB7F50D484A82861617F2318204",
    "jupyter": {},
    "slideshow": {
     "slide_type": "slide"
    },
    "tags": []
   },
   "outputs": [
    {
     "data": {
      "image/png": "[encoded data removed]",
      "text/plain": [
       "<Figure size 720x360 with 2 Axes>"
      ]
     },
     "metadata": {
      "needs_background": "light"
     },
     "output_type": "display_data"
    }
   ],
   "source": [
    "plt.figure(figsize=(10,5))\n",
    "plt.subplot(1,2,1)\n",
    "sns.boxenplot(x='y', y=u'campaign', data=train)\n",
    "plt.subplot(1,2,2)\n",
    "sns.boxplot(y=u'campaign', data=train)\n",
    "plt.show()"
   ]
  },
  {
   "cell_type": "markdown",
   "metadata": {
    "id": "993A52F8177E442A87B76CD27078635B",
    "jupyter": {},
    "slideshow": {
     "slide_type": "slide"
    },
    "tags": []
   },
   "source": [
    "#### pdays 距离上次活动最后一次联系该客户，过去了多久（999表示没有联系过）"
   ]
  },
  {
   "cell_type": "code",
   "execution_count": 19,
   "metadata": {
    "id": "38399FA1134B4DB1893F3FC27D9D0E51",
    "jupyter": {},
    "slideshow": {
     "slide_type": "slide"
    },
    "tags": []
   },
   "outputs": [
    {
     "data": {
      "image/png": "[encoded data removed]",
      "text/plain": [
       "<Figure size 720x360 with 2 Axes>"
      ]
     },
     "metadata": {
      "needs_background": "light"
     },
     "output_type": "display_data"
    }
   ],
   "source": [
    "plt.figure(figsize=(10,5))\n",
    "plt.subplot(1,2,1)\n",
    "sns.boxenplot(x='y', y=u'pdays', data=train)\n",
    "plt.subplot(1,2,2)\n",
    "sns.boxplot(y=u'pdays', data=train)\n",
    "plt.show()"
   ]
  },
  {
   "cell_type": "markdown",
   "metadata": {
    "id": "C6F993E0B2674E9184F59682B821B91E",
    "jupyter": {},
    "slideshow": {
     "slide_type": "slide"
    },
    "tags": []
   },
   "source": [
    "#### previous 在本次活动之前，与该客户交流过的次数"
   ]
  },
  {
   "cell_type": "code",
   "execution_count": 20,
   "metadata": {
    "id": "9447C6CD5D5F4893B436169991B569B3",
    "jupyter": {},
    "slideshow": {
     "slide_type": "slide"
    },
    "tags": []
   },
   "outputs": [
    {
     "data": {
      "image/png": "[encoded data removed]",
      "text/plain": [
       "<Figure size 720x360 with 2 Axes>"
      ]
     },
     "metadata": {
      "needs_background": "light"
     },
     "output_type": "display_data"
    }
   ],
   "source": [
    "plt.figure(figsize=(10,5))\n",
    "plt.subplot(1,2,1)\n",
    "sns.boxenplot(x='y', y=u'previous', data=train)\n",
    "plt.subplot(1,2,2)\n",
    "sns.boxplot(y=u'previous', data=train)\n",
    "plt.show()"
   ]
  },
  {
   "cell_type": "markdown",
   "metadata": {
    "id": "05D72549D1F14C8CB0A62FF9B9B9A121",
    "jupyter": {},
    "slideshow": {
     "slide_type": "slide"
    },
    "tags": []
   },
   "source": [
    "# 特征工程"
   ]
  },
  {
   "cell_type": "code",
   "execution_count": 21,
   "metadata": {
    "id": "4A96D1168237441FAF9102DB9B7500A1",
    "jupyter": {},
    "slideshow": {
     "slide_type": "slide"
    },
    "tags": []
   },
   "outputs": [],
   "source": [
    "from scipy.stats import chi2_contingency       # 数值型特征检验，检验特征与标签的关系\n",
    "from scipy.stats import f_oneway,ttest_ind     # 分类型特征检验，检验特征与标签的关系"
   ]
  },
  {
   "cell_type": "code",
   "execution_count": 22,
   "metadata": {
    "id": "16DE518E07F34248A61C3CD90618455D",
    "jupyter": {},
    "slideshow": {
     "slide_type": "slide"
    },
    "tags": []
   },
   "outputs": [],
   "source": [
    "#----------数据集处理--------------#\n",
    "from sklearn.model_selection import train_test_split        # 划分训练集和验证集\n",
    "from sklearn.model_selection import KFold,StratifiedKFold   # k折交叉\n",
    "from imblearn.combine import SMOTETomek,SMOTEENN            # 综合采样\n",
    "from imblearn.over_sampling import SMOTE                    # 过采样\n",
    "from imblearn.under_sampling import RandomUnderSampler      # 欠采样\n",
    "\n",
    "#----------数据处理--------------#\n",
    "from sklearn.preprocessing import StandardScaler # 标准化\n",
    "from sklearn.preprocessing import OneHotEncoder  # 热独编码\n",
    "from sklearn.preprocessing import OrdinalEncoder"
   ]
  },
  {
   "cell_type": "markdown",
   "metadata": {
    "id": "A8A71CB1312648EE899339B9F6D8E951",
    "jupyter": {},
    "slideshow": {
     "slide_type": "slide"
    },
    "tags": []
   },
   "source": [
    "## 特征处理"
   ]
  },
  {
   "cell_type": "markdown",
   "metadata": {
    "id": "6BD6708C0F9148CF8E101F9658270893",
    "jupyter": {},
    "slideshow": {
     "slide_type": "slide"
    },
    "tags": []
   },
   "source": [
    "**数据预处理，包括缺失值、空值、异常值、时间数据的处理;** 此处无时间数据，在查看空值与缺失值以及对数据的可视化观测后，保留所有离散变量，并对其做虚拟变量处理，参考 https://zhuanlan.zhihu.com/p/40775756 ，对连续变量检测异常值后，进行处理"
   ]
  },
  {
   "cell_type": "markdown",
   "metadata": {
    "id": "846743E2C592468F948C586A62CB0E9F",
    "jupyter": {},
    "slideshow": {
     "slide_type": "slide"
    },
    "tags": []
   },
   "source": [
    "**连续变量即数值化数据做标准化处理**"
   ]
  },
  {
   "cell_type": "code",
   "execution_count": 23,
   "metadata": {
    "id": "98B745BE44F6474093E0C133622817EF",
    "jupyter": {},
    "slideshow": {
     "slide_type": "slide"
    },
    "tags": []
   },
   "outputs": [],
   "source": [
    "# 异常值处理\n",
    "def outlier_processing(dfx):\n",
    "    df = dfx.copy()\n",
    "    q1 = df.quantile(q=0.25)\n",
    "    q3 = df.quantile(q=0.75)\n",
    "    iqr = q3 - q1\n",
    "    Umin = q1 - 1.5*iqr\n",
    "    Umax = q3 + 1.5*iqr \n",
    "    df[df>Umax] = df[df<=Umax].max()\n",
    "    df[df<Umin] = df[df>=Umin].min()\n",
    "    return df"
   ]
  },
  {
   "cell_type": "code",
   "execution_count": 24,
   "metadata": {
    "id": "4ABCDAA5E4EE471780728C4DD7930076",
    "jupyter": {},
    "slideshow": {
     "slide_type": "slide"
    },
    "tags": []
   },
   "outputs": [],
   "source": [
    "train['age']=outlier_processing(train['age'])\n",
    "train['day']=outlier_processing(train['day'])\n",
    "train['duration']=outlier_processing(train['duration'])\n",
    "train['campaign']=outlier_processing(train['campaign'])\n",
    "\n",
    "\n",
    "test['age']=outlier_processing(test['age'])\n",
    "test['day']=outlier_processing(test['day'])\n",
    "test['duration']=outlier_processing(test['duration'])\n",
    "test['campaign']=outlier_processing(test['campaign'])"
   ]
  },
  {
   "cell_type": "code",
   "execution_count": 25,
   "metadata": {
    "id": "FFCC6D1FAD9749368A69B59EB423BCE8",
    "jupyter": {},
    "slideshow": {
     "slide_type": "slide"
    },
    "tags": []
   },
   "outputs": [
    {
     "data": {
      "text/html": [
       "<div>\n",
       "<style scoped>\n",
       "    .dataframe tbody tr th:only-of-type {\n",
       "        vertical-align: middle;\n",
       "    }\n",
       "\n",
       "    .dataframe tbody tr th {\n",
       "        vertical-align: top;\n",
       "    }\n",
       "\n",
       "    .dataframe thead th {\n",
       "        text-align: right;\n",
       "    }\n",
       "</style>\n",
       "<table border=\"1\" class=\"dataframe\">\n",
       "  <thead>\n",
       "    <tr style=\"text-align: right;\">\n",
       "      <th></th>\n",
       "      <th>age</th>\n",
       "      <th>balance</th>\n",
       "      <th>day</th>\n",
       "      <th>duration</th>\n",
       "      <th>campaign</th>\n",
       "      <th>pdays</th>\n",
       "      <th>previous</th>\n",
       "    </tr>\n",
       "  </thead>\n",
       "  <tbody>\n",
       "    <tr>\n",
       "      <td>count</td>\n",
       "      <td>25317.000000</td>\n",
       "      <td>25317.000000</td>\n",
       "      <td>25317.000000</td>\n",
       "      <td>25317.000000</td>\n",
       "      <td>25317.000000</td>\n",
       "      <td>25317.000000</td>\n",
       "      <td>25317.000000</td>\n",
       "    </tr>\n",
       "    <tr>\n",
       "      <td>mean</td>\n",
       "      <td>40.859502</td>\n",
       "      <td>1357.555082</td>\n",
       "      <td>15.835289</td>\n",
       "      <td>234.235138</td>\n",
       "      <td>2.391437</td>\n",
       "      <td>40.248766</td>\n",
       "      <td>0.591737</td>\n",
       "    </tr>\n",
       "    <tr>\n",
       "      <td>std</td>\n",
       "      <td>10.387365</td>\n",
       "      <td>2999.822811</td>\n",
       "      <td>8.319480</td>\n",
       "      <td>175.395559</td>\n",
       "      <td>1.599851</td>\n",
       "      <td>100.213541</td>\n",
       "      <td>2.568313</td>\n",
       "    </tr>\n",
       "    <tr>\n",
       "      <td>min</td>\n",
       "      <td>18.000000</td>\n",
       "      <td>-8019.000000</td>\n",
       "      <td>1.000000</td>\n",
       "      <td>0.000000</td>\n",
       "      <td>1.000000</td>\n",
       "      <td>-1.000000</td>\n",
       "      <td>0.000000</td>\n",
       "    </tr>\n",
       "    <tr>\n",
       "      <td>25%</td>\n",
       "      <td>33.000000</td>\n",
       "      <td>73.000000</td>\n",
       "      <td>8.000000</td>\n",
       "      <td>103.000000</td>\n",
       "      <td>1.000000</td>\n",
       "      <td>-1.000000</td>\n",
       "      <td>0.000000</td>\n",
       "    </tr>\n",
       "    <tr>\n",
       "      <td>50%</td>\n",
       "      <td>39.000000</td>\n",
       "      <td>448.000000</td>\n",
       "      <td>16.000000</td>\n",
       "      <td>181.000000</td>\n",
       "      <td>2.000000</td>\n",
       "      <td>-1.000000</td>\n",
       "      <td>0.000000</td>\n",
       "    </tr>\n",
       "    <tr>\n",
       "      <td>75%</td>\n",
       "      <td>48.000000</td>\n",
       "      <td>1435.000000</td>\n",
       "      <td>21.000000</td>\n",
       "      <td>317.000000</td>\n",
       "      <td>3.000000</td>\n",
       "      <td>-1.000000</td>\n",
       "      <td>0.000000</td>\n",
       "    </tr>\n",
       "    <tr>\n",
       "      <td>max</td>\n",
       "      <td>70.000000</td>\n",
       "      <td>102127.000000</td>\n",
       "      <td>31.000000</td>\n",
       "      <td>638.000000</td>\n",
       "      <td>6.000000</td>\n",
       "      <td>854.000000</td>\n",
       "      <td>275.000000</td>\n",
       "    </tr>\n",
       "  </tbody>\n",
       "</table>\n",
       "</div>"
      ],
      "text/plain": [
       "                age        balance           day      duration      campaign  \\\n",
       "count  25317.000000   25317.000000  25317.000000  25317.000000  25317.000000   \n",
       "mean      40.859502    1357.555082     15.835289    234.235138      2.391437   \n",
       "std       10.387365    2999.822811      8.319480    175.395559      1.599851   \n",
       "min       18.000000   -8019.000000      1.000000      0.000000      1.000000   \n",
       "25%       33.000000      73.000000      8.000000    103.000000      1.000000   \n",
       "50%       39.000000     448.000000     16.000000    181.000000      2.000000   \n",
       "75%       48.000000    1435.000000     21.000000    317.000000      3.000000   \n",
       "max       70.000000  102127.000000     31.000000    638.000000      6.000000   \n",
       "\n",
       "              pdays      previous  \n",
       "count  25317.000000  25317.000000  \n",
       "mean      40.248766      0.591737  \n",
       "std      100.213541      2.568313  \n",
       "min       -1.000000      0.000000  \n",
       "25%       -1.000000      0.000000  \n",
       "50%       -1.000000      0.000000  \n",
       "75%       -1.000000      0.000000  \n",
       "max      854.000000    275.000000  "
      ]
     },
     "execution_count": 25,
     "metadata": {},
     "output_type": "execute_result"
    }
   ],
   "source": [
    "train[num_features].describe()"
   ]
  },
  {
   "cell_type": "markdown",
   "metadata": {
    "id": "8F273F6FFEC04A049AC8DF1C97E9151A",
    "jupyter": {},
    "slideshow": {
     "slide_type": "slide"
    },
    "tags": []
   },
   "source": [
    "**分类变量做编码处理**"
   ]
  },
  {
   "cell_type": "code",
   "execution_count": 26,
   "metadata": {
    "id": "6DECBC6EBBEF48058713E239B8916053",
    "jupyter": {},
    "slideshow": {
     "slide_type": "slide"
    },
    "tags": []
   },
   "outputs": [],
   "source": [
    "dummy_train=train.join(pd.get_dummies(train[str_features])).drop(str_features,axis=1).drop(['ID','y'],axis=1)\n",
    "dummy_test=test.join(pd.get_dummies(test[str_features])).drop(str_features,axis=1).drop(['ID'],axis=1)"
   ]
  },
  {
   "cell_type": "markdown",
   "metadata": {
    "id": "5ED973B5F04347B09A5A9153BB301E03",
    "jupyter": {},
    "slideshow": {
     "slide_type": "slide"
    },
    "tags": []
   },
   "source": [
    "## 统计检验与特征筛选 \n",
    "\n",
    "\n",
    "**连续变量-连续变量  相关分析**\n",
    "\n",
    "**连续变量-分类变量  T检验/方差分析**\n",
    "\n",
    "**分类变量-分类变量  卡方检验**"
   ]
  },
  {
   "cell_type": "markdown",
   "metadata": {
    "id": "FB836A6670D34F92B9E95ED354085D11",
    "jupyter": {},
    "slideshow": {
     "slide_type": "slide"
    },
    "tags": []
   },
   "source": [
    "**对类别标签（离散变量）用卡方检验分析重要性**\n",
    "\n",
    "卡方检验认为显著水平大于95%是差异性显著的，这里即看p值是否是p>0.05，若p>0.05，则说明特征不会呈现差异性"
   ]
  },
  {
   "cell_type": "code",
   "execution_count": 27,
   "metadata": {
    "id": "6CBA9FF4B68943BE8899E9B4F168CD13",
    "jupyter": {},
    "slideshow": {
     "slide_type": "slide"
    },
    "tags": []
   },
   "outputs": [
    {
     "name": "stdout",
     "output_type": "stream",
     "text": [
      "job 卡方检验p值: 0.0000\n",
      "marital 卡方检验p值: 0.0000\n",
      "education 卡方检验p值: 0.0000\n",
      "default 卡方检验p值: 0.0001\n",
      "housing 卡方检验p值: 0.0000\n",
      "loan 卡方检验p值: 0.0000\n",
      "contact 卡方检验p值: 0.0000\n",
      "month 卡方检验p值: 0.0000\n",
      "poutcome 卡方检验p值: 0.0000\n"
     ]
    }
   ],
   "source": [
    "for col in str_features:\n",
    "    obs=pd.crosstab(train['y'],\n",
    "                    train[col],\n",
    "                    rownames=['y'],\n",
    "                    colnames=[col])\n",
    "    chi2, p, dof, expect = chi2_contingency(obs)\n",
    "    print(\"{} 卡方检验p值: {:.4f}\".format(col,p))"
   ]
  },
  {
   "cell_type": "markdown",
   "metadata": {
    "id": "0A4E3E1BC9D94DD881E43ED579BC260C",
    "jupyter": {},
    "slideshow": {
     "slide_type": "slide"
    },
    "tags": []
   },
   "source": [
    "**对连续变量做方差分析进行特征筛选**\n"
   ]
  },
  {
   "cell_type": "code",
   "execution_count": 28,
   "metadata": {
    "id": "FB0DB349B18B4C80823B5543A0B26EDD",
    "jupyter": {},
    "slideshow": {
     "slide_type": "slide"
    },
    "tags": []
   },
   "outputs": [
    {
     "name": "stdout",
     "output_type": "stream",
     "text": [
      "scores_: [  13.38856992   84.16396612   25.76507245 4405.56959938  193.97418155\n",
      "  296.33099313  199.09942912]\n",
      "pvalues_: [2.53676251e-04 4.89124305e-20 3.88332900e-07 0.00000000e+00\n",
      " 6.26768275e-44 4.93591331e-66 4.86613654e-45]\n",
      "selected index: [0 1 2 3 4 5 6]\n"
     ]
    }
   ],
   "source": [
    "from sklearn.feature_selection import SelectKBest,f_classif\n",
    "\n",
    "f,p=f_classif(train[num_features],train['y'])\n",
    "k = f.shape[0] - (p > 0.05).sum()\n",
    "selector = SelectKBest(f_classif, k=k)\n",
    "selector.fit(train[num_features],train['y'])\n",
    "\n",
    "print('scores_:',selector.scores_)\n",
    "print('pvalues_:',selector.pvalues_)\n",
    "print('selected index:',selector.get_support(True))"
   ]
  },
  {
   "cell_type": "code",
   "execution_count": 29,
   "metadata": {
    "id": "64AC04EF24F14D50B8BDE7ED55E571BB",
    "jupyter": {},
    "slideshow": {
     "slide_type": "slide"
    },
    "tags": []
   },
   "outputs": [],
   "source": [
    "# 标准化，返回值为标准化后的数据\n",
    "standardScaler=StandardScaler()\n",
    "ss=standardScaler.fit(dummy_train.loc[:,num_features])\n",
    "dummy_train.loc[:,num_features]=ss.transform(dummy_train.loc[:,num_features])\n",
    "dummy_test.loc[:,num_features]=ss.transform(dummy_test.loc[:,num_features])"
   ]
  },
  {
   "cell_type": "markdown",
   "metadata": {
    "id": "D089902F1605419A8FE67C8D53E38F99",
    "jupyter": {},
    "slideshow": {
     "slide_type": "slide"
    },
    "tags": []
   },
   "source": [
    "## 不平衡数据集处理 "
   ]
  },
  {
   "cell_type": "code",
   "execution_count": 30,
   "metadata": {
    "id": "604C28A739DD497C914B54B122DF890D",
    "jupyter": {},
    "slideshow": {
     "slide_type": "slide"
    },
    "tags": []
   },
   "outputs": [],
   "source": [
    "X=dummy_train\n",
    "y=train['y']"
   ]
  },
  {
   "cell_type": "markdown",
   "metadata": {
    "id": "53E009E49D0F4E0882CC9EB7453EA648",
    "jupyter": {},
    "slideshow": {
     "slide_type": "slide"
    },
    "tags": []
   },
   "source": [
    "**先拆分数据集为训练集和验证集，对训练集做采样处理，验证集不动**"
   ]
  },
  {
   "cell_type": "code",
   "execution_count": 31,
   "metadata": {
    "id": "48C60FC26D3B488283CAF1AF7C4438A6",
    "jupyter": {},
    "slideshow": {
     "slide_type": "slide"
    },
    "tags": []
   },
   "outputs": [],
   "source": [
    "X_train,X_valid,y_train,y_valid=train_test_split(X,y,test_size=0.2,random_state=2020)"
   ]
  },
  {
   "cell_type": "code",
   "execution_count": 32,
   "metadata": {
    "id": "AFC7941529704ADBB8A4615A5BC7C867",
    "jupyter": {},
    "slideshow": {
     "slide_type": "slide"
    },
    "tags": []
   },
   "outputs": [],
   "source": [
    "smote_tomek = SMOTETomek(random_state=2020)\n",
    "X_resampled, y_resampled = smote_tomek.fit_resample(X_train, y_train)"
   ]
  },
  {
   "cell_type": "markdown",
   "metadata": {
    "id": "5F78DE39299247B09263D3543F803862",
    "jupyter": {},
    "slideshow": {
     "slide_type": "slide"
    },
    "tags": []
   },
   "source": [
    "# 数据建模"
   ]
  },
  {
   "cell_type": "code",
   "execution_count": 33,
   "metadata": {
    "id": "9C62408CF17F41118E78AFDF221F5E5F",
    "jupyter": {},
    "slideshow": {
     "slide_type": "slide"
    },
    "tags": []
   },
   "outputs": [],
   "source": [
    "#----------建模工具--------------#\n",
    "from sklearn.model_selection import GridSearchCV\n",
    "from sklearn.pipeline import Pipeline\n",
    "\n",
    "import lightgbm as lgb\n",
    "from sklearn.linear_model import LogisticRegression\n",
    "from sklearn.tree import DecisionTreeClassifier\n",
    "from sklearn.ensemble import RandomForestClassifier\n",
    "from sklearn.svm import SVC\n",
    "from sklearn.neighbors import KNeighborsClassifier"
   ]
  },
  {
   "cell_type": "code",
   "execution_count": 34,
   "metadata": {
    "id": "9E5B638E9DBB4DDD927E05DF93FF1D41",
    "jupyter": {},
    "slideshow": {
     "slide_type": "slide"
    },
    "tags": []
   },
   "outputs": [],
   "source": [
    "#----------模型评估工具----------#\n",
    "from sklearn.metrics import confusion_matrix # 混淆矩阵\n",
    "from sklearn.metrics import classification_report\n",
    "from sklearn.metrics import recall_score,f1_score\n",
    "from sklearn.metrics import roc_auc_score\n",
    "from sklearn.metrics import roc_curve"
   ]
  },
  {
   "cell_type": "code",
   "execution_count": 35,
   "metadata": {
    "id": "240724EEC607438A9FC34A23D0D11CB8",
    "jupyter": {},
    "slideshow": {
     "slide_type": "slide"
    },
    "tags": []
   },
   "outputs": [
    {
     "name": "stdout",
     "output_type": "stream",
     "text": [
      "Fitting 2 folds for each of 12 candidates, totalling 24 fits\n",
      "[CV] C=0.1, penalty=l1, solver=liblinear .............................\n"
     ]
    },
    {
     "name": "stderr",
     "output_type": "stream",
     "text": [
      "[Parallel(n_jobs=1)]: Using backend SequentialBackend with 1 concurrent workers.\n"
     ]
    },
    {
     "name": "stdout",
     "output_type": "stream",
     "text": [
      "[CV] . C=0.1, penalty=l1, solver=liblinear, score=0.963, total=   1.1s\n",
      "[CV] C=0.1, penalty=l1, solver=liblinear .............................\n"
     ]
    },
    {
     "name": "stderr",
     "output_type": "stream",
     "text": [
      "[Parallel(n_jobs=1)]: Done   1 out of   1 | elapsed:    1.0s remaining:    0.0s\n"
     ]
    },
    {
     "name": "stdout",
     "output_type": "stream",
     "text": [
      "[CV] . C=0.1, penalty=l1, solver=liblinear, score=0.984, total=   1.2s\n",
      "[CV] C=0.1, penalty=l1, solver=saga ..................................\n"
     ]
    },
    {
     "name": "stderr",
     "output_type": "stream",
     "text": [
      "[Parallel(n_jobs=1)]: Done   2 out of   2 | elapsed:    2.2s remaining:    0.0s\n",
      "C:\\Users\\Miss Zhou\\AppData\\Roaming\\Python\\Python37\\site-packages\\sklearn\\linear_model\\_sag.py:330: ConvergenceWarning: The max_iter was reached which means the coef_ did not converge\n",
      "  \"the coef_ did not converge\", ConvergenceWarning)\n",
      "[Parallel(n_jobs=1)]: Done   3 out of   3 | elapsed:    3.5s remaining:    0.0s\n"
     ]
    },
    {
     "name": "stdout",
     "output_type": "stream",
     "text": [
      "[CV] ...... C=0.1, penalty=l1, solver=saga, score=0.961, total=   1.3s\n",
      "[CV] C=0.1, penalty=l1, solver=saga ..................................\n"
     ]
    },
    {
     "name": "stderr",
     "output_type": "stream",
     "text": [
      "C:\\Users\\Miss Zhou\\AppData\\Roaming\\Python\\Python37\\site-packages\\sklearn\\linear_model\\_sag.py:330: ConvergenceWarning: The max_iter was reached which means the coef_ did not converge\n",
      "  \"the coef_ did not converge\", ConvergenceWarning)\n",
      "[Parallel(n_jobs=1)]: Done   4 out of   4 | elapsed:    4.8s remaining:    0.0s\n",
      "[Parallel(n_jobs=1)]: Done   5 out of   5 | elapsed:    4.9s remaining:    0.0s\n",
      "[Parallel(n_jobs=1)]: Done   6 out of   6 | elapsed:    5.0s remaining:    0.0s\n"
     ]
    },
    {
     "name": "stdout",
     "output_type": "stream",
     "text": [
      "[CV] ...... C=0.1, penalty=l1, solver=saga, score=0.953, total=   1.3s\n",
      "[CV] C=0.1, penalty=l2, solver=liblinear .............................\n",
      "[CV] . C=0.1, penalty=l2, solver=liblinear, score=0.959, total=   0.1s\n",
      "[CV] C=0.1, penalty=l2, solver=liblinear .............................\n",
      "[CV] . C=0.1, penalty=l2, solver=liblinear, score=0.975, total=   0.1s\n",
      "[CV] C=0.1, penalty=l2, solver=saga ..................................\n"
     ]
    },
    {
     "name": "stderr",
     "output_type": "stream",
     "text": [
      "C:\\Users\\Miss Zhou\\AppData\\Roaming\\Python\\Python37\\site-packages\\sklearn\\linear_model\\_sag.py:330: ConvergenceWarning: The max_iter was reached which means the coef_ did not converge\n",
      "  \"the coef_ did not converge\", ConvergenceWarning)\n",
      "[Parallel(n_jobs=1)]: Done   7 out of   7 | elapsed:    5.9s remaining:    0.0s\n"
     ]
    },
    {
     "name": "stdout",
     "output_type": "stream",
     "text": [
      "[CV] ...... C=0.1, penalty=l2, solver=saga, score=0.961, total=   1.0s\n",
      "[CV] C=0.1, penalty=l2, solver=saga ..................................\n"
     ]
    },
    {
     "name": "stderr",
     "output_type": "stream",
     "text": [
      "C:\\Users\\Miss Zhou\\AppData\\Roaming\\Python\\Python37\\site-packages\\sklearn\\linear_model\\_sag.py:330: ConvergenceWarning: The max_iter was reached which means the coef_ did not converge\n",
      "  \"the coef_ did not converge\", ConvergenceWarning)\n",
      "[Parallel(n_jobs=1)]: Done   8 out of   8 | elapsed:    7.0s remaining:    0.0s\n"
     ]
    },
    {
     "name": "stdout",
     "output_type": "stream",
     "text": [
      "[CV] ...... C=0.1, penalty=l2, solver=saga, score=0.954, total=   1.0s\n",
      "[CV] C=1, penalty=l1, solver=liblinear ...............................\n",
      "[CV] ... C=1, penalty=l1, solver=liblinear, score=0.957, total=   2.9s\n",
      "[CV] C=1, penalty=l1, solver=liblinear ...............................\n"
     ]
    },
    {
     "name": "stderr",
     "output_type": "stream",
     "text": [
      "[Parallel(n_jobs=1)]: Done   9 out of   9 | elapsed:    9.9s remaining:    0.0s\n"
     ]
    },
    {
     "name": "stdout",
     "output_type": "stream",
     "text": [
      "[CV] ... C=1, penalty=l1, solver=liblinear, score=0.992, total=   4.7s\n",
      "[CV] C=1, penalty=l1, solver=saga ....................................\n"
     ]
    },
    {
     "name": "stderr",
     "output_type": "stream",
     "text": [
      "C:\\Users\\Miss Zhou\\AppData\\Roaming\\Python\\Python37\\site-packages\\sklearn\\linear_model\\_sag.py:330: ConvergenceWarning: The max_iter was reached which means the coef_ did not converge\n",
      "  \"the coef_ did not converge\", ConvergenceWarning)\n"
     ]
    },
    {
     "name": "stdout",
     "output_type": "stream",
     "text": [
      "[CV] ........ C=1, penalty=l1, solver=saga, score=0.960, total=   1.8s\n",
      "[CV] C=1, penalty=l1, solver=saga ....................................\n"
     ]
    },
    {
     "name": "stderr",
     "output_type": "stream",
     "text": [
      "C:\\Users\\Miss Zhou\\AppData\\Roaming\\Python\\Python37\\site-packages\\sklearn\\linear_model\\_sag.py:330: ConvergenceWarning: The max_iter was reached which means the coef_ did not converge\n",
      "  \"the coef_ did not converge\", ConvergenceWarning)\n"
     ]
    },
    {
     "name": "stdout",
     "output_type": "stream",
     "text": [
      "[CV] ........ C=1, penalty=l1, solver=saga, score=0.955, total=   1.8s\n",
      "[CV] C=1, penalty=l2, solver=liblinear ...............................\n",
      "[CV] ... C=1, penalty=l2, solver=liblinear, score=0.961, total=   0.1s\n",
      "[CV] C=1, penalty=l2, solver=liblinear ...............................\n",
      "[CV] ... C=1, penalty=l2, solver=liblinear, score=0.989, total=   0.3s\n",
      "[CV] C=1, penalty=l2, solver=saga ....................................\n"
     ]
    },
    {
     "name": "stderr",
     "output_type": "stream",
     "text": [
      "C:\\Users\\Miss Zhou\\AppData\\Roaming\\Python\\Python37\\site-packages\\sklearn\\linear_model\\_sag.py:330: ConvergenceWarning: The max_iter was reached which means the coef_ did not converge\n",
      "  \"the coef_ did not converge\", ConvergenceWarning)\n"
     ]
    },
    {
     "name": "stdout",
     "output_type": "stream",
     "text": [
      "[CV] ........ C=1, penalty=l2, solver=saga, score=0.960, total=   1.3s\n",
      "[CV] C=1, penalty=l2, solver=saga ....................................\n"
     ]
    },
    {
     "name": "stderr",
     "output_type": "stream",
     "text": [
      "C:\\Users\\Miss Zhou\\AppData\\Roaming\\Python\\Python37\\site-packages\\sklearn\\linear_model\\_sag.py:330: ConvergenceWarning: The max_iter was reached which means the coef_ did not converge\n",
      "  \"the coef_ did not converge\", ConvergenceWarning)\n"
     ]
    },
    {
     "name": "stdout",
     "output_type": "stream",
     "text": [
      "[CV] ........ C=1, penalty=l2, solver=saga, score=0.955, total=   1.3s\n",
      "[CV] C=10, penalty=l1, solver=liblinear ..............................\n",
      "[CV] .. C=10, penalty=l1, solver=liblinear, score=0.953, total=   6.7s\n",
      "[CV] C=10, penalty=l1, solver=liblinear ..............................\n"
     ]
    },
    {
     "name": "stderr",
     "output_type": "stream",
     "text": [
      "C:\\Users\\Miss Zhou\\AppData\\Roaming\\Python\\Python37\\site-packages\\sklearn\\svm\\_base.py:977: ConvergenceWarning: Liblinear failed to converge, increase the number of iterations.\n",
      "  \"the number of iterations.\", ConvergenceWarning)\n"
     ]
    },
    {
     "name": "stdout",
     "output_type": "stream",
     "text": [
      "[CV] .. C=10, penalty=l1, solver=liblinear, score=0.992, total=   4.2s\n",
      "[CV] C=10, penalty=l1, solver=saga ...................................\n"
     ]
    },
    {
     "name": "stderr",
     "output_type": "stream",
     "text": [
      "C:\\Users\\Miss Zhou\\AppData\\Roaming\\Python\\Python37\\site-packages\\sklearn\\linear_model\\_sag.py:330: ConvergenceWarning: The max_iter was reached which means the coef_ did not converge\n",
      "  \"the coef_ did not converge\", ConvergenceWarning)\n"
     ]
    },
    {
     "name": "stdout",
     "output_type": "stream",
     "text": [
      "[CV] ....... C=10, penalty=l1, solver=saga, score=0.960, total=   1.8s\n",
      "[CV] C=10, penalty=l1, solver=saga ...................................\n"
     ]
    },
    {
     "name": "stderr",
     "output_type": "stream",
     "text": [
      "C:\\Users\\Miss Zhou\\AppData\\Roaming\\Python\\Python37\\site-packages\\sklearn\\linear_model\\_sag.py:330: ConvergenceWarning: The max_iter was reached which means the coef_ did not converge\n",
      "  \"the coef_ did not converge\", ConvergenceWarning)\n"
     ]
    },
    {
     "name": "stdout",
     "output_type": "stream",
     "text": [
      "[CV] ....... C=10, penalty=l1, solver=saga, score=0.955, total=   2.0s\n",
      "[CV] C=10, penalty=l2, solver=liblinear ..............................\n",
      "[CV] .. C=10, penalty=l2, solver=liblinear, score=0.957, total=   0.2s\n",
      "[CV] C=10, penalty=l2, solver=liblinear ..............................\n",
      "[CV] .. C=10, penalty=l2, solver=liblinear, score=0.992, total=   0.4s\n",
      "[CV] C=10, penalty=l2, solver=saga ...................................\n"
     ]
    },
    {
     "name": "stderr",
     "output_type": "stream",
     "text": [
      "C:\\Users\\Miss Zhou\\AppData\\Roaming\\Python\\Python37\\site-packages\\sklearn\\linear_model\\_sag.py:330: ConvergenceWarning: The max_iter was reached which means the coef_ did not converge\n",
      "  \"the coef_ did not converge\", ConvergenceWarning)\n"
     ]
    },
    {
     "name": "stdout",
     "output_type": "stream",
     "text": [
      "[CV] ....... C=10, penalty=l2, solver=saga, score=0.960, total=   1.2s\n",
      "[CV] C=10, penalty=l2, solver=saga ...................................\n"
     ]
    },
    {
     "name": "stderr",
     "output_type": "stream",
     "text": [
      "C:\\Users\\Miss Zhou\\AppData\\Roaming\\Python\\Python37\\site-packages\\sklearn\\linear_model\\_sag.py:330: ConvergenceWarning: The max_iter was reached which means the coef_ did not converge\n",
      "  \"the coef_ did not converge\", ConvergenceWarning)\n",
      "[Parallel(n_jobs=1)]: Done  24 out of  24 | elapsed:   38.8s finished\n"
     ]
    },
    {
     "name": "stdout",
     "output_type": "stream",
     "text": [
      "[CV] ....... C=10, penalty=l2, solver=saga, score=0.955, total=   1.2s\n",
      "{'C': 1, 'penalty': 'l2', 'solver': 'liblinear'}\n",
      "              precision    recall  f1-score   support\n",
      "\n",
      "           0       0.94      0.94      0.94      4472\n",
      "           1       0.53      0.54      0.53       592\n",
      "\n",
      "    accuracy                           0.89      5064\n",
      "   macro avg       0.74      0.74      0.74      5064\n",
      "weighted avg       0.89      0.89      0.89      5064\n",
      "\n"
     ]
    }
   ],
   "source": [
    "#逻辑回归\n",
    "param = {\"penalty\": [\"l1\", \"l2\", ], \"C\": [0.1, 1, 10], \"solver\": [\"liblinear\",\"saga\"]}\n",
    "gs = GridSearchCV(estimator=LogisticRegression(), param_grid=param, cv=2, scoring=\"roc_auc\",verbose=10) \n",
    "gs.fit(X_resampled,y_resampled) \n",
    "print(gs.best_params_) \n",
    "y_pred = gs.best_estimator_.predict(X_valid) \n",
    "print(classification_report(y_valid, y_pred))"
   ]
  },
  {
   "cell_type": "code",
   "execution_count": 49,
   "metadata": {
    "id": "B4852EE865F6429F8880B722B0EB7A60",
    "jupyter": {},
    "slideshow": {
     "slide_type": "slide"
    },
    "tags": []
   },
   "outputs": [
    {
     "data": {
      "text/plain": [
       "array([[16111,  1759],\n",
       "       [ 1121, 16749]], dtype=int64)"
      ]
     },
     "execution_count": 49,
     "metadata": {},
     "output_type": "execute_result"
    }
   ],
   "source": [
    "# 训练集\n",
    "confusion_matrix(y_resampled,gs.best_estimator_.predict(X_resampled),labels=[1,0])"
   ]
  },
  {
   "cell_type": "code",
   "execution_count": 52,
   "metadata": {
    "id": "D11944939A7744928B38EA164A3C38EF",
    "jupyter": {},
    "slideshow": {
     "slide_type": "slide"
    },
    "tags": []
   },
   "outputs": [
    {
     "data": {
      "text/plain": [
       "array([[ 318,  274],\n",
       "       [ 280, 4192]], dtype=int64)"
      ]
     },
     "execution_count": 52,
     "metadata": {},
     "output_type": "execute_result"
    }
   ],
   "source": [
    "# 验证集\n",
    "confusion_matrix(y_valid,y_pred,labels=[1,0])"
   ]
  },
  {
   "cell_type": "code",
   "execution_count": 43,
   "metadata": {
    "id": "D06570C9C2A441CF9B773F0B2DEFE22C",
    "jupyter": {},
    "slideshow": {
     "slide_type": "slide"
    },
    "tags": []
   },
   "outputs": [],
   "source": [
    "#画roc-auc曲线\n",
    "def get_rocauc(X,y,clf):\n",
    "    from sklearn.metrics import roc_curve\n",
    "    FPR,recall,thresholds=roc_curve(y,clf.predict_proba(X)[:,1],pos_label=1)\n",
    "    area=roc_auc_score(y,clf.predict_proba(X)[:,1])\n",
    "    \n",
    "    maxindex=(recall-FPR).tolist().index(max(recall-FPR))\n",
    "    threshold=thresholds[maxindex]\n",
    "    \n",
    "    plt.figure()\n",
    "    plt.plot(FPR,recall,color='red',label='ROC curve (area = %0.2f)'%area)\n",
    "    plt.plot([0,1],[0,1],color='black',linestyle='--')\n",
    "    plt.scatter(FPR[maxindex],recall[maxindex],c='black',s=30)\n",
    "    plt.xlim([-0.05,1.05])\n",
    "    plt.ylim([-0.05,1.05])\n",
    "    plt.xlabel('False Positive Rate')\n",
    "    plt.ylabel('Recall')\n",
    "    plt.title('Receiver operating characteristic example')\n",
    "    plt.legend(loc='lower right')\n",
    "    plt.show()\n",
    "    return threshold"
   ]
  },
  {
   "cell_type": "code",
   "execution_count": 44,
   "metadata": {
    "id": "87A76A1AB52348448C75B311605D802D",
    "jupyter": {},
    "slideshow": {
     "slide_type": "slide"
    },
    "tags": []
   },
   "outputs": [
    {
     "data": {
      "image/png": "[encoded data removed]",
      "text/plain": [
       "<Figure size 432x288 with 1 Axes>"
      ]
     },
     "metadata": {
      "needs_background": "light"
     },
     "output_type": "display_data"
    }
   ],
   "source": [
    "threshold=get_rocauc(X_resampled, y_resampled,gs.best_estimator_)"
   ]
  },
  {
   "cell_type": "markdown",
   "metadata": {
    "id": "6125FFE5B364418C88B4CBF44CD8C4A9",
    "jupyter": {},
    "slideshow": {
     "slide_type": "slide"
    },
    "tags": []
   },
   "source": [
    "左上角的点即是Recall和FPR平衡的点，threshold即为平衡点对应的阀值。\n",
    "可以根据阀值重新来构建预测结果："
   ]
  },
  {
   "cell_type": "code",
   "execution_count": 53,
   "metadata": {
    "id": "DC63AB1DFA7E4EFB8433D8BF47BD67D3",
    "jupyter": {},
    "slideshow": {
     "slide_type": "slide"
    },
    "tags": []
   },
   "outputs": [],
   "source": [
    "# 阈值调整\n",
    "def get_ypred(X,clf,threshold):\n",
    "    y_pred=[]\n",
    "    for i in clf.predict_proba(X)[:,1]:\n",
    "        if i > threshold:\n",
    "            y_pred.append(1)\n",
    "        else:\n",
    "            y_pred.append(0)\n",
    "    return y_pred\n",
    "\n",
    "# ytrain_pred=get_ypred(Xtrain,clf,threshold)"
   ]
  },
  {
   "cell_type": "code",
   "execution_count": 58,
   "metadata": {
    "id": "233FF8D90E04462C8114E054ED2D4EA7",
    "jupyter": {},
    "slideshow": {
     "slide_type": "slide"
    },
    "tags": []
   },
   "outputs": [
    {
     "name": "stdout",
     "output_type": "stream",
     "text": [
      "Fitting 2 folds for each of 10 candidates, totalling 20 fits\n"
     ]
    },
    {
     "name": "stderr",
     "output_type": "stream",
     "text": [
      "[Parallel(n_jobs=-1)]: Using backend LokyBackend with 12 concurrent workers.\n",
      "D:\\Anaconda3\\lib\\site-packages\\joblib\\externals\\loky\\process_executor.py:706: UserWarning: A worker stopped while some jobs were given to the executor. This can be caused by a too short worker timeout or by a memory leak.\n",
      "  \"timeout or by a memory leak.\", UserWarning\n",
      "[Parallel(n_jobs=-1)]: Done   3 out of  20 | elapsed:  3.2min remaining: 18.3min\n",
      "[Parallel(n_jobs=-1)]: Done   6 out of  20 | elapsed:  4.0min remaining:  9.2min\n",
      "[Parallel(n_jobs=-1)]: Done   9 out of  20 | elapsed: 11.3min remaining: 13.8min\n",
      "[Parallel(n_jobs=-1)]: Done  12 out of  20 | elapsed: 11.8min remaining:  7.8min\n",
      "[Parallel(n_jobs=-1)]: Done  15 out of  20 | elapsed: 12.6min remaining:  4.2min\n",
      "[Parallel(n_jobs=-1)]: Done  18 out of  20 | elapsed: 13.1min remaining:  1.5min\n",
      "[Parallel(n_jobs=-1)]: Done  20 out of  20 | elapsed: 13.2min finished\n"
     ]
    },
    {
     "name": "stdout",
     "output_type": "stream",
     "text": [
      "{'C': 1.0}\n",
      "              precision    recall  f1-score   support\n",
      "\n",
      "           0       0.95      0.94      0.94      4472\n",
      "           1       0.56      0.61      0.58       592\n",
      "\n",
      "    accuracy                           0.90      5064\n",
      "   macro avg       0.75      0.77      0.76      5064\n",
      "weighted avg       0.90      0.90      0.90      5064\n",
      "\n"
     ]
    }
   ],
   "source": [
    "# 支持向量机\n",
    "param = {\"C\": list(np.linspace(0,1,10))} \n",
    "gs = GridSearchCV(estimator=SVC(probability=True), param_grid=param, cv=2, scoring=\"roc_auc\", n_jobs=-1, verbose=10) \n",
    "gs.fit(X_resampled,y_resampled)\n",
    "print(gs.best_params_) \n",
    "y_pred = gs.best_estimator_.predict(X_valid) \n",
    "print(classification_report(y_valid, y_pred))"
   ]
  },
  {
   "cell_type": "code",
   "execution_count": 64,
   "metadata": {
    "id": "AB7C3D747B60428F8FC375976A0569F7",
    "jupyter": {},
    "slideshow": {
     "slide_type": "slide"
    },
    "tags": []
   },
   "outputs": [
    {
     "name": "stdout",
     "output_type": "stream",
     "text": [
      "Fitting 2 folds for each of 27 candidates, totalling 54 fits\n"
     ]
    },
    {
     "name": "stderr",
     "output_type": "stream",
     "text": [
      "[Parallel(n_jobs=-1)]: Using backend LokyBackend with 12 concurrent workers.\n",
      "[Parallel(n_jobs=-1)]: Done   1 tasks      | elapsed:  2.2min\n",
      "[Parallel(n_jobs=-1)]: Done   8 tasks      | elapsed:  2.3min\n",
      "[Parallel(n_jobs=-1)]: Done  17 tasks      | elapsed:  4.6min\n",
      "[Parallel(n_jobs=-1)]: Done  26 tasks      | elapsed:  6.8min\n",
      "[Parallel(n_jobs=-1)]: Done  37 out of  54 | elapsed:  9.3min remaining:  4.3min\n",
      "[Parallel(n_jobs=-1)]: Done  43 out of  54 | elapsed:  9.7min remaining:  2.5min\n",
      "[Parallel(n_jobs=-1)]: Done  49 out of  54 | elapsed: 11.0min remaining:  1.1min\n",
      "[Parallel(n_jobs=-1)]: Done  54 out of  54 | elapsed: 11.2min finished\n"
     ]
    },
    {
     "name": "stdout",
     "output_type": "stream",
     "text": [
      "{'max_features': 0.74, 'min_samples_leaf': 2, 'n_estimators': 500}\n",
      "              precision    recall  f1-score   support\n",
      "\n",
      "           0       0.96      0.93      0.94      4472\n",
      "           1       0.56      0.68      0.61       592\n",
      "\n",
      "    accuracy                           0.90      5064\n",
      "   macro avg       0.76      0.81      0.78      5064\n",
      "weighted avg       0.91      0.90      0.90      5064\n",
      "\n"
     ]
    }
   ],
   "source": [
    "# 随机森林\n",
    "#param = [{'n_estimators': [3, 10, 30], 'max_features': [2, 4, 6, 8]},\n",
    "#         {'bootstrap': [False], 'n_estimators': [3, 10], 'max_features': [3, 4, 5, 6]}] \n",
    "\n",
    "param = {'n_estimators':[500,520,530],\n",
    "         'max_features':[0.74,0.75,0.77],\n",
    "         'min_samples_leaf':[2,3,4]}\n",
    "gs = GridSearchCV(estimator=RandomForestClassifier(), param_grid=param, cv=2, scoring=\"roc_auc\", n_jobs=-1, verbose=10) \n",
    "gs.fit(X_resampled,y_resampled)\n",
    "print(gs.best_params_) \n",
    "y_pred = gs.best_estimator_.predict(X_valid) \n",
    "print(classification_report(y_valid, y_pred))"
   ]
  },
  {
   "cell_type": "code",
   "execution_count": 67,
   "metadata": {
    "id": "CA85B55C0F6E4A878551D152D103B63E",
    "jupyter": {},
    "slideshow": {
     "slide_type": "slide"
    },
    "tags": []
   },
   "outputs": [
    {
     "name": "stdout",
     "output_type": "stream",
     "text": [
      "Fitting 5 folds for each of 240 candidates, totalling 1200 fits\n"
     ]
    },
    {
     "name": "stderr",
     "output_type": "stream",
     "text": [
      "[Parallel(n_jobs=-1)]: Using backend LokyBackend with 12 concurrent workers.\n",
      "[Parallel(n_jobs=-1)]: Done   1 tasks      | elapsed:   15.2s\n",
      "[Parallel(n_jobs=-1)]: Done   8 tasks      | elapsed:   16.8s\n",
      "[Parallel(n_jobs=-1)]: Done  17 tasks      | elapsed:   40.6s\n",
      "[Parallel(n_jobs=-1)]: Done  26 tasks      | elapsed:   56.0s\n",
      "[Parallel(n_jobs=-1)]: Done  37 tasks      | elapsed:  1.4min\n",
      "[Parallel(n_jobs=-1)]: Done  48 tasks      | elapsed:  1.9min\n",
      "[Parallel(n_jobs=-1)]: Done  61 tasks      | elapsed:  2.5min\n",
      "[Parallel(n_jobs=-1)]: Done  74 tasks      | elapsed:  7.4min\n",
      "[Parallel(n_jobs=-1)]: Done  89 tasks      | elapsed:  8.0min\n",
      "[Parallel(n_jobs=-1)]: Done 104 tasks      | elapsed:  8.9min\n",
      "[Parallel(n_jobs=-1)]: Done 121 tasks      | elapsed: 10.1min\n",
      "[Parallel(n_jobs=-1)]: Done 138 tasks      | elapsed: 10.9min\n",
      "[Parallel(n_jobs=-1)]: Done 157 tasks      | elapsed: 12.3min\n",
      "[Parallel(n_jobs=-1)]: Done 176 tasks      | elapsed: 18.7min\n",
      "[Parallel(n_jobs=-1)]: Done 197 tasks      | elapsed: 19.7min\n",
      "[Parallel(n_jobs=-1)]: Done 218 tasks      | elapsed: 21.3min\n",
      "[Parallel(n_jobs=-1)]: Done 241 tasks      | elapsed: 23.1min\n",
      "[Parallel(n_jobs=-1)]: Done 264 tasks      | elapsed: 24.5min\n",
      "[Parallel(n_jobs=-1)]: Done 289 tasks      | elapsed: 26.7min\n",
      "[Parallel(n_jobs=-1)]: Done 314 tasks      | elapsed: 36.9min\n",
      "[Parallel(n_jobs=-1)]: Done 341 tasks      | elapsed: 37.7min\n",
      "[Parallel(n_jobs=-1)]: Done 368 tasks      | elapsed: 39.0min\n",
      "[Parallel(n_jobs=-1)]: Done 397 tasks      | elapsed: 41.2min\n",
      "[Parallel(n_jobs=-1)]: Done 426 tasks      | elapsed: 42.9min\n",
      "[Parallel(n_jobs=-1)]: Done 457 tasks      | elapsed: 45.3min\n",
      "[Parallel(n_jobs=-1)]: Done 488 tasks      | elapsed: 47.6min\n",
      "[Parallel(n_jobs=-1)]: Done 521 tasks      | elapsed: 50.4min\n",
      "[Parallel(n_jobs=-1)]: Done 554 tasks      | elapsed: 53.2min\n",
      "[Parallel(n_jobs=-1)]: Done 589 tasks      | elapsed: 56.0min\n",
      "[Parallel(n_jobs=-1)]: Done 624 tasks      | elapsed: 58.1min\n",
      "[Parallel(n_jobs=-1)]: Done 661 tasks      | elapsed: 60.0min\n",
      "[Parallel(n_jobs=-1)]: Done 698 tasks      | elapsed: 62.1min\n",
      "[Parallel(n_jobs=-1)]: Done 737 tasks      | elapsed: 64.5min\n",
      "[Parallel(n_jobs=-1)]: Done 776 tasks      | elapsed: 68.1min\n",
      "[Parallel(n_jobs=-1)]: Done 817 tasks      | elapsed: 71.2min\n",
      "[Parallel(n_jobs=-1)]: Done 858 tasks      | elapsed: 74.6min\n",
      "[Parallel(n_jobs=-1)]: Done 901 tasks      | elapsed: 78.3min\n",
      "[Parallel(n_jobs=-1)]: Done 944 tasks      | elapsed: 80.1min\n",
      "[Parallel(n_jobs=-1)]: Done 989 tasks      | elapsed: 81.9min\n",
      "[Parallel(n_jobs=-1)]: Done 1034 tasks      | elapsed: 84.2min\n",
      "[Parallel(n_jobs=-1)]: Done 1081 tasks      | elapsed: 86.9min\n",
      "[Parallel(n_jobs=-1)]: Done 1128 tasks      | elapsed: 89.6min\n",
      "[Parallel(n_jobs=-1)]: Done 1177 tasks      | elapsed: 93.5min\n",
      "[Parallel(n_jobs=-1)]: Done 1200 out of 1200 | elapsed: 94.9min finished\n"
     ]
    },
    {
     "name": "stdout",
     "output_type": "stream",
     "text": [
      "{'learning_rate': 0.01, 'max_depth': 13, 'n_estimators': 2000, 'num_leaves': 120}\n",
      "              precision    recall  f1-score   support\n",
      "\n",
      "           0       0.94      0.95      0.95      4472\n",
      "           1       0.60      0.51      0.55       592\n",
      "\n",
      "    accuracy                           0.90      5064\n",
      "   macro avg       0.77      0.73      0.75      5064\n",
      "weighted avg       0.90      0.90      0.90      5064\n",
      "\n"
     ]
    }
   ],
   "source": [
    "from lightgbm.sklearn import LGBMClassifier\n",
    "\n",
    "param = {'max_depth': [5,7,9,11,13],\n",
    "         'learning_rate': [0.01,0.03,0.05,0.1],\n",
    "         'num_leaves': [30,90,120],\n",
    "         'n_estimators': [1000, 1500, 2000, 2500]}\n",
    "gs = GridSearchCV(estimator=LGBMClassifier(), param_grid=param, cv=5, scoring=\"roc_auc\", n_jobs=-1, verbose=10) \n",
    "gs.fit(X_resampled,y_resampled)\n",
    "print(gs.best_params_) \n",
    "y_pred = gs.best_estimator_.predict(X_valid) \n",
    "print(classification_report(y_valid, y_pred))"
   ]
  },
  {
   "cell_type": "code",
   "execution_count": 68,
   "metadata": {
    "id": "8162757806324A2B8CC43851F19626A0",
    "jupyter": {},
    "slideshow": {
     "slide_type": "slide"
    },
    "tags": []
   },
   "outputs": [],
   "source": [
    "X_test = dummy_test\n",
    "y_test=gs.best_estimator_.predict_proba(X_test)\n",
    "test['pred']=y_test[:,1]"
   ]
  },
  {
   "cell_type": "code",
   "execution_count": 69,
   "metadata": {
    "id": "94386A38DE8146758AF8416C5E89B73B",
    "jupyter": {},
    "slideshow": {
     "slide_type": "slide"
    },
    "tags": []
   },
   "outputs": [],
   "source": [
    "test[['ID','pred']].to_csv('lgb.csv')"
   ]
  },
  {
   "cell_type": "markdown",
   "metadata": {
    "id": "2EA9C7F59D774D5EBD2B0CEFC548DD22",
    "jupyter": {},
    "slideshow": {
     "slide_type": "slide"
    },
    "tags": []
   },
   "source": [
    "本项目提交的结果是要以概率的形式，所以阀值调整分类结果没法对线上评分造成影响。但是在实际应用上，阀值调整对于结果是会有很大的提高的。"
   ]
  },
  {
   "cell_type": "code",
   "execution_count": null,
   "metadata": {
    "id": "76A67F7E7F6D4CDA8A816DCCC850954F",
    "jupyter": {},
    "slideshow": {
     "slide_type": "slide"
    },
    "tags": []
   },
   "outputs": [],
   "source": []
  }
 ],
 "metadata": {
  "kernelspec": {
   "display_name": "Python 3",
   "language": "python",
   "name": "python3"
  },
  "language_info": {
   "codemirror_mode": {
    "name": "ipython",
    "version": 3
   },
   "file_extension": ".py",
   "mimetype": "text/x-python",
   "name": "python",
   "nbconvert_exporter": "python",
   "pygments_lexer": "ipython3",
   "version": "3.7.3"
  },
  "toc": {
   "base_numbering": 1,
   "nav_menu": {},
   "number_sections": true,
   "sideBar": true,
   "skip_h1_title": false,
   "title_cell": "Table of Contents",
   "title_sidebar": "Contents",
   "toc_cell": false,
   "toc_position": {},
   "toc_section_display": true,
   "toc_window_display": false
  }
 },
 "nbformat": 4,
 "nbformat_minor": 2
}
