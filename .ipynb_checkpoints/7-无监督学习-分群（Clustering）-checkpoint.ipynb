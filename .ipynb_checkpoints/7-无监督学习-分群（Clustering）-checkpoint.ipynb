{
 "cells": [
  {
   "cell_type": "code",
   "execution_count": null,
   "metadata": {},
   "outputs": [],
   "source": []
  },
  {
   "cell_type": "markdown",
   "metadata": {},
   "source": [
    "# 非监督学习"
   ]
  },
  {
   "cell_type": "markdown",
   "metadata": {},
   "source": [
    "Hi，欢迎来到非监督学习（Unsupervised Learning）部分，非监督学习主要应用于以下场景：\n",
    "- 数据没有标签列\n",
    "- 相比对数据进行预测，我们更期望对数据进行分组"
   ]
  },
  {
   "cell_type": "markdown",
   "metadata": {},
   "source": [
    "在本章，我们将会涉及到的算法有：\n",
    "- 聚类 Clustering：聚类是非监督学习最常见的一种实践方式。我们先来了解下什么是聚类，然后介绍一下KMeans算法；\n",
    "- 层次与密度聚类 Hierarchical and Density Based Clustering：\n",
    "- 高斯混合模型与聚类验证 Gaussian Mixture Models and Cluster Validation：\n",
    "- 主成分分析 Principal Component Analysis：\n",
    "- 随机映射与独立成分分析 Random Projection and Independent Component Analysis："
   ]
  },
  {
   "cell_type": "markdown",
   "metadata": {},
   "source": [
    "## 两种类型的应用\n",
    "\n",
    "### 聚类"
   ]
  },
  {
   "cell_type": "markdown",
   "metadata": {},
   "source": [
    "如下图所示，就算没有标签（label）存在，我们也可以很轻松的将数据分成三组：\n",
    "\n",
    "<table>\n",
    "    <tr>\n",
    "        <td><img src=\"https://s1.ax1x.com/2020/08/12/axfQBR.md.png\" alt=\"axfQBR.png\" border=\"0\" /></td>\n",
    "        <td><img src=\"https://s1.ax1x.com/2020/08/12/axft3D.md.png\" alt=\"axfQBR.png\" border=\"0\" /></td>\n",
    "    </tr>\n",
    "</table>\n",
    "    \n",
    "当新来一条样本时，我们也可以很轻松的将该样本分到蓝色组：\n",
    "![axf0HI.md.png](https://s1.ax1x.com/2020/08/12/axf0HI.md.png)"
   ]
  },
  {
   "cell_type": "markdown",
   "metadata": {},
   "source": [
    "### 降维"
   ]
  },
  {
   "cell_type": "markdown",
   "metadata": {},
   "source": [
    "如下图所示，我们可以依据散点的分布情况，将二维特征，映射到中间的拟合线上，变成了一维特征。\n",
    "![axf2vQ.th.png](https://s1.ax1x.com/2020/08/12/axf2vQ.th.png)"
   ]
  },
  {
   "cell_type": "markdown",
   "metadata": {},
   "source": [
    "## KMeans算法"
   ]
  },
  {
   "cell_type": "markdown",
   "metadata": {},
   "source": [
    "在KMeans中，K表示的是你想把数据集分为多少个群组，它是一种基于距离的算法，其思想可以简述为：\n",
    "- 在数据中，随机放置K个点（centroids）；\n",
    "- 把数据分配给离它最近的点（centroid），形成K个分组；\n",
    "- 将centroid移动到对应数据组的中心；\n",
    "- 重复第2和3步，直到centroid不再移动。"
   ]
  },
  {
   "cell_type": "markdown",
   "metadata": {},
   "source": [
    "> - 这篇博客，用动态的方式帮你更好地理解KMeans：https://www.naftaliharris.com/blog/visualizing-k-means-clustering/\n",
    "> - 这篇博客，帮你用python实现KMeans算法：https://mubaris.com/posts/kmeans-clustering/"
   ]
  },
  {
   "cell_type": "markdown",
   "metadata": {},
   "source": [
    "### 如何确定K呢？"
   ]
  },
  {
   "cell_type": "markdown",
   "metadata": {},
   "source": [
    "- 基于业务判断，如学生类型：新人、技能提升者、转行者；\n",
    "- 使用肘技巧（Elbow Trick）"
   ]
  },
  {
   "cell_type": "markdown",
   "metadata": {},
   "source": [
    "肘技巧就是通过遍历分群数，计算对应的点与中心点的平均距离，最终绘制曲线，如下图所示，那么「肘」的位置（n=4）便是最佳分群点。\n",
    "![dJ2lO1.md.png](https://s1.ax1x.com/2020/08/20/dJ2lO1.md.png)"
   ]
  },
  {
   "cell_type": "markdown",
   "metadata": {},
   "source": [
    "### 在Sklearn中使用KMeans"
   ]
  },
  {
   "cell_type": "markdown",
   "metadata": {},
   "source": [
    "https://scikit-learn.org/stable/modules/generated/sklearn.cluster.KMeans.html"
   ]
  },
  {
   "cell_type": "markdown",
   "metadata": {},
   "source": [
    "### 需要注意的点"
   ]
  },
  {
   "cell_type": "markdown",
   "metadata": {},
   "source": [
    "了解了Kmeans的算法思想和择优方法，我们还需要考虑两个问题：\n",
    "- KMeans的起始点会影响算法的结果吗？ 答案是：YES\n",
    "- 无论起始点在哪里，最终的结果都会一致吗？ 答案是：NO"
   ]
  },
  {
   "cell_type": "markdown",
   "metadata": {},
   "source": [
    "那这时候，我们就需要让KMeans从不同的随机点出发，如果最终得到的结果是一致的，那么该结果就可以被接受；如果结果不一致，那么我们就择优，选择平均距离最短的那个。"
   ]
  },
  {
   "cell_type": "markdown",
   "metadata": {},
   "source": [
    "由于KMeans是基于距离的算法，所以feature scaling就非常重要了，常用的主要有两种：\n",
    "- Standardizing：z-scores或标准化；在PCA或者ICA中应用较多。\n",
    "- Normalizing：Min-Max scaling或归一化；处理图像颜色时经常使用。"
   ]
  },
  {
   "cell_type": "code",
   "execution_count": null,
   "metadata": {},
   "outputs": [],
   "source": []
  }
 ],
 "metadata": {
  "kernelspec": {
   "display_name": "Python 3",
   "language": "python",
   "name": "python3"
  },
  "language_info": {
   "codemirror_mode": {
    "name": "ipython",
    "version": 3
   },
   "file_extension": ".py",
   "mimetype": "text/x-python",
   "name": "python",
   "nbconvert_exporter": "python",
   "pygments_lexer": "ipython3",
   "version": "3.7.3"
  },
  "toc": {
   "base_numbering": 1,
   "nav_menu": {},
   "number_sections": true,
   "sideBar": true,
   "skip_h1_title": false,
   "title_cell": "Table of Contents",
   "title_sidebar": "Contents",
   "toc_cell": false,
   "toc_position": {
    "height": "calc(100% - 180px)",
    "left": "10px",
    "top": "150px",
    "width": "172px"
   },
   "toc_section_display": true,
   "toc_window_display": true
  }
 },
 "nbformat": 4,
 "nbformat_minor": 2
}
