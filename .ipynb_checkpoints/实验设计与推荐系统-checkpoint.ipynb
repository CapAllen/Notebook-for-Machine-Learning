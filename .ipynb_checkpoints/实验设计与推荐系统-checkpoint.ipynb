{
 "cells": [
  {
   "cell_type": "markdown",
   "metadata": {},
   "source": [
    "# 实验设计"
   ]
  },
  {
   "cell_type": "code",
   "execution_count": null,
   "metadata": {},
   "outputs": [],
   "source": []
  },
  {
   "cell_type": "markdown",
   "metadata": {},
   "source": [
    "# 推荐系统"
   ]
  },
  {
   "cell_type": "markdown",
   "metadata": {},
   "source": [
    "当前推荐系统应用十分广泛，如淘宝推荐猜你喜欢的商品、网易云音乐推荐歌曲、爱奇艺推荐视频等等。\n",
    "\n",
    "在这部分内容中，我们将会学习&了解几种基础的推荐系统：\n",
    "- 基于知识（Knowledge Based）\n",
    "- 基于内容（Content Based）\n",
    "- 基于协同过滤（Collaborative Filtering Based）"
   ]
  },
  {
   "cell_type": "markdown",
   "metadata": {},
   "source": [
    "## 推荐系统示例"
   ]
  },
  {
   "cell_type": "markdown",
   "metadata": {},
   "source": [
    "- 有些推荐基于位置信息，例如交友应用的推荐；\n",
    "- 有些推荐，只是列出了热门内容，如沃尔玛官网；\n",
    "- 有些推荐基于之前的偏好设置，如B站。\n",
    "\n",
    "创建推荐的方式有很多种，需要基于特定的业务场景，来决定使用何种推荐算法。\n"
   ]
  },
  {
   "cell_type": "markdown",
   "metadata": {},
   "source": [
    "一些品牌：\n",
    "- LinkedIn和Facebook的交友推荐；\n",
    "- Airbnb的体验&目的地推荐；\n",
    "- 沃尔玛，亚马逊等零售商的商品推荐。"
   ]
  },
  {
   "cell_type": "markdown",
   "metadata": {},
   "source": [
    "## 基于知识的推荐系统"
   ]
  },
  {
   "cell_type": "markdown",
   "metadata": {},
   "source": [
    "- 基于排名的推荐系统：\n",
    "    - 基于某种指标进行排序，如最喜欢的，购买最多的，评分最高的等等；  \n",
    "    - 按照排名推荐热门电影\n",
    "- 基于知识的推荐系统：\n",
    "    - 需要用户提供对产品的偏好；  \n",
    "    - 在如上推荐系统中，根据用户的喜好选择，添加上一定的筛选条件，如在推荐电影时，用户喜好冒险类的电影，所以，这里就推荐”冒险类”排名靠前的电影，这就是基于知识的推荐系统\n",
    "    - 示例：贝壳app的筛选推荐。"
   ]
  },
  {
   "cell_type": "markdown",
   "metadata": {},
   "source": [
    "## 更个性化的推荐系统"
   ]
  },
  {
   "cell_type": "markdown",
   "metadata": {},
   "source": [
    "现在你已经掌握了一种向用户推荐热门内容的方法，但有时候我们需要在用户没有给出他的喜好时，也给用户推荐更个性化的内容，而不是简单的推荐一些热门内容。\n",
    "\n",
    "虽然《肖申克的救赎》是豆瓣热门电影Top1，但给所有人都推荐这部电影，并不合适。比如说对于一个家庭来说，虽然父亲可能更喜欢看这部电影，但母亲更偏向于爱情类的电影，而孩子可能只对动画片感兴趣。\n",
    "\n",
    "那这时候，我们就可以根据**用户与内容的互动**进行推荐，比如淘宝的猜你喜欢。"
   ]
  },
  {
   "cell_type": "markdown",
   "metadata": {},
   "source": [
    "根据用户与内容互动进行推荐的方式就叫做**协同过滤**。这种方法，我们不需要知道任何用户的背景信息，甚至不需要知道内容的背景信息，依然可以做出推荐，唯一需要获取的数据就是用户与内容的交互行为，比如用户对内容的评分，是否喜欢该内容等等。"
   ]
  },
  {
   "cell_type": "markdown",
   "metadata": {},
   "source": [
    "其主要分为两类：\n",
    "- 基于模型（Model），需要使用机器学习技巧\n",
    "- 基于近邻（Neighborhood），近邻也就是寻找跟当前被推荐用户关系紧密的个人，比如观看相同电影较多的用户群体就算是彼此的近邻。"
   ]
  },
  {
   "cell_type": "markdown",
   "metadata": {},
   "source": [
    "### 基于近邻的协同过滤"
   ]
  },
  {
   "cell_type": "markdown",
   "metadata": {},
   "source": [
    "如何确定近邻呢？\n",
    "- 基于相似度（similarity）\n",
    "    - 皮尔逊相关性（Pearson's Correlation）\n",
    "    - 斯皮尔曼相关性（Spearman's Correlation）\n",
    "    - Kendall's tau\n",
    "    - 如上这些衡量方法都在-1到1之间，越接近1，就说明越相似。所以，在进行推荐时，就需要找出这些系数最大的用户。    \n",
    "    \n",
    "- 基于距离（distance）\n",
    "    - 欧氏距离（Euclidean Distance）\n",
    "    - 曼哈顿距离（Manhattan Distance）\n",
    "    - 如上两个衡量方法在0到无穷大之间，我们需要找的，是那些接近于0的用户。\n",
    "    \n",
    "    \n",
    "对于这些指标，要根据具体业务场景进行选择。\n",
    "    \n"
   ]
  },
  {
   "cell_type": "markdown",
   "metadata": {},
   "source": [
    "实施协同过滤推荐：\n",
    "- 从近邻交互的内容中，筛选出评分较高/点赞/喜欢的内容\n",
    "- 从如上筛选出的内容中，删除掉被推荐用户已经看过/交互过的内容\n",
    "- 将上一步中的结果，推荐给用户"
   ]
  },
  {
   "cell_type": "markdown",
   "metadata": {},
   "source": [
    "那这样会有什么问题吗？比如说，推荐系统刚刚建立起来的时候，可能没有任何用户或者没有很多用户，这就会导致很多用户并不能获得推荐结果。"
   ]
  },
  {
   "cell_type": "markdown",
   "metadata": {},
   "source": [
    "这时候就需要使用**基于内容的推荐**方式"
   ]
  },
  {
   "cell_type": "markdown",
   "metadata": {},
   "source": [
    "## 基于内容的推荐系统"
   ]
  },
  {
   "cell_type": "markdown",
   "metadata": {},
   "source": [
    "比如说，有个用户刚买了一辆自行车，那么我们就可以基于**内容**，推荐自行车相关的东西，比如头盔、车灯等等。"
   ]
  },
  {
   "cell_type": "markdown",
   "metadata": {},
   "source": [
    "## 评估"
   ]
  },
  {
   "cell_type": "markdown",
   "metadata": {},
   "source": [
    "当给用户做出推荐之后，如何知道用户对推荐内容的评分呢？\n",
    "\n",
    "某些情景下，我们只知道用户与内容是否发生了互动，但我们想知道用户是否喜欢推荐的内容，那这种评分标准（rating scale）有很多，如：\n",
    "- 喜欢or不喜欢\n",
    "- 评分范围：非常差、差、中等、好、非常好\n",
    "\n",
    "更多可以参考：[Survey Response Scales: How to Choose the Right One](https://cxl.com/blog/survey-response-scales/)"
   ]
  },
  {
   "cell_type": "markdown",
   "metadata": {},
   "source": [
    "## 目标"
   ]
  },
  {
   "cell_type": "markdown",
   "metadata": {},
   "source": [
    "在通常情况下，推荐系统非常重要，因为它可以给公司带来经济上的收益，那么一个推荐系统的性能需要考虑如下四点：\n",
    "- 相关性（Relevance）：推荐的内容与用户相关；\n",
    "- 新奇性（Novelty）：推荐的内容不应该是用户已经接触过的；\n",
    "- 意外新发现（Serendipity）：这会让用户真正的惊喜，也就是推荐的内容并不是完全与用户历史相似，比如用户经常听经典音乐，然后推荐了一首乡村音乐，用户还意外地发现，自己很喜欢这首歌。这比较难实现，经常需要结合协同过滤与基于内容的推荐；\n",
    "- 多样性（Diversity）：推荐的内容多样性，才能至少有一个是被用户喜欢的。\n",
    "\n",
    " [In this article, Lab41 shows how they worked to quantify these metrics.](https://gab41.lab41.org/recommender-systems-its-not-all-about-the-accuracy-562c7dceeaff)\n",
    "\n"
   ]
  },
  {
   "cell_type": "markdown",
   "metadata": {},
   "source": [
    "## 小结"
   ]
  },
  {
   "cell_type": "markdown",
   "metadata": {},
   "source": [
    "如上我们一共学习&了解了x中推荐方法：\n",
    "- 基于知识的推荐系统：使用内容的相关知识给用户进行契合需求的推荐，经常用在奢侈品等交易量较少的购物网站，比如珠宝、汽车、二手房等等；\n",
    "- 协同过滤：使用用户-内容交互数据进行推荐；\n",
    "- 基于内容的推荐系统：使用内容之间的相似性（内容描述、功能、用途等等）进行推荐"
   ]
  },
  {
   "attachments": {},
   "cell_type": "markdown",
   "metadata": {},
   "source": [
    "此外，还有一些其他的推荐方法，比如：\n",
    "- 基于地理位置信息的推荐：[As our smart phones become more addicting every day, it is easy to see why location based recommendations will be more and more popular](https://link.springer.com/referenceworkentry/10.1007%2F978-3-319-17885-1_1580)\n",
    "![B2wBUe.md.png](https://s1.ax1x.com/2020/11/05/B2wBUe.md.png)\n",
    "\n",
    "- 基于深度学习的推荐"
   ]
  }
 ],
 "metadata": {
  "kernelspec": {
   "display_name": "Python 3",
   "language": "python",
   "name": "python3"
  },
  "language_info": {
   "codemirror_mode": {
    "name": "ipython",
    "version": 3
   },
   "file_extension": ".py",
   "mimetype": "text/x-python",
   "name": "python",
   "nbconvert_exporter": "python",
   "pygments_lexer": "ipython3",
   "version": "3.6.8"
  },
  "toc": {
   "base_numbering": 1,
   "nav_menu": {},
   "number_sections": true,
   "sideBar": true,
   "skip_h1_title": false,
   "title_cell": "Table of Contents",
   "title_sidebar": "Contents",
   "toc_cell": false,
   "toc_position": {
    "height": "calc(100% - 180px)",
    "left": "10px",
    "top": "150px",
    "width": "165px"
   },
   "toc_section_display": true,
   "toc_window_display": true
  }
 },
 "nbformat": 4,
 "nbformat_minor": 2
}
