{
 "cells": [
  {
   "cell_type": "markdown",
   "metadata": {},
   "source": [
    "Hi，👏欢迎来到Python基础部分，在本关卡中，我们会一起来挑战xx个Boss，每个Boss会有若干小关卡，拿起手中的~~剑~~键盘，跟我一起出发吧！\n",
    "![aD0r8I.gif](https://s1.ax1x.com/2020/08/04/aD0r8I.gif)"
   ]
  },
  {
   "cell_type": "markdown",
   "metadata": {},
   "source": [
    "## 练习1：华氏温度转换为摄氏温度。"
   ]
  },
  {
   "cell_type": "markdown",
   "metadata": {},
   "source": [
    "要求：运行程序后，可以输入华氏温度，输出摄氏温度。\n",
    "> 华氏温度到摄氏温度的转换公式为：$C=(F - 32) \\div 1.8$。"
   ]
  },
  {
   "cell_type": "markdown",
   "metadata": {},
   "source": [
    "难度：2/5  \n",
    "\n",
    "知识点：变量；输入输出；数据类型"
   ]
  },
  {
   "cell_type": "code",
   "execution_count": 3,
   "metadata": {
    "scrolled": true
   },
   "outputs": [
    {
     "name": "stdout",
     "output_type": "stream",
     "text": [
      "请输入华氏温度: 70\n",
      "您输入的70.0华氏度，等于21.1摄氏度\n"
     ]
    }
   ],
   "source": [
    "# 参考答案\n",
    "# 获取输入，并转换为float类型\n",
    "Fahrenheit = float(input('请输入华氏温度: '))\n",
    "# 将华氏温度转换为摄氏温度\n",
    "Celsius = (Fahrenheit - 32) / 1.8\n",
    "# 格式化输出\n",
    "print(f'您输入的{Fahrenheit}华氏度，等于{round(Celsius,1)}摄氏度')"
   ]
  },
  {
   "cell_type": "markdown",
   "metadata": {},
   "source": [
    "**解析：**\n",
    "\n",
    "本题虽然看似简单，但考察的知识点还是比较全面的：\n",
    "- 输入：使用`input`函数获取键盘输入，但所有通过`input`获取的都是字符串`str`类型，如果涉及到数值计算，需要先转换成数值类型；\n",
    "- 数值类型转换：这里使用`float`转换为浮点型，是考虑到华氏温度有可能包含小数；\n",
    "- 格式化输出：可以使用`f`或者`format`函数进行格式化输出，此外，还需考虑小数精度问题，这里使用`round`函数将小数点后位数限制为1；\n",
    " > 改写成`format`函数就是`'您输入的{}华氏度，等于{}摄氏度'.format(Fahrenheit,round(Celsius,1))`\n",
    "- 变量赋值：变量名虽然可以随意取，但为了代码的可读性，尽量取得有意义一些。"
   ]
  },
  {
   "cell_type": "markdown",
   "metadata": {},
   "source": [
    "**知识点参考：**\n",
    "\n",
    "- [数据类型和变量](https://www.liaoxuefeng.com/wiki/1016959663602400/1017063826246112)\n",
    "- [字符串和编码](https://www.liaoxuefeng.com/wiki/1016959663602400/1017075323632896)\n",
    "- [输入输出](https://www.liaoxuefeng.com/wiki/1016959663602400/1017032074151456)"
   ]
  },
  {
   "cell_type": "markdown",
   "metadata": {},
   "source": [
    "## 练习2：百分制成绩转换为等级成绩。"
   ]
  },
  {
   "cell_type": "markdown",
   "metadata": {},
   "source": [
    "要求：运行程序后，可以输入成绩，输出成绩等级。\n",
    "\n",
    "对应关系如下：  \n",
    "成绩在90分以上（含90分）输出A；  \n",
    "80分-90分（不含90分）输出B；  \n",
    "70分-80分（不含80分）输出C；  \n",
    "60分-70分（不含70分）输出D；\n",
    "60分以下输出E。  "
   ]
  },
  {
   "cell_type": "markdown",
   "metadata": {},
   "source": [
    "难度：1/5\n",
    "\n",
    "知识点：变量；输入输出；控制流"
   ]
  },
  {
   "cell_type": "code",
   "execution_count": 6,
   "metadata": {},
   "outputs": [
    {
     "name": "stdout",
     "output_type": "stream",
     "text": [
      "请输入您的成绩: 77\n",
      "您的成绩等级为: C\n"
     ]
    }
   ],
   "source": [
    "# 参考答案\n",
    "# 获取输入，并转换为float类型\n",
    "score = float(input('请输入您的成绩: '))\n",
    "# 使用条件判断，将成绩转换为等级\n",
    "if score >= 90:\n",
    "    # 注意代码缩进\n",
    "    grade = 'A'    \n",
    "elif score >= 80:\n",
    "    grade = 'B'\n",
    "elif score >= 70:\n",
    "    grade = 'C'\n",
    "elif score >= 60:\n",
    "    grade = 'D'\n",
    "else:\n",
    "    grade = 'E'\n",
    "print('您的成绩等级为:', grade)"
   ]
  },
  {
   "cell_type": "markdown",
   "metadata": {},
   "source": [
    "**解析：**\n",
    "\n",
    "本题主要考察点在于对条件判断的运用，关键点在于：\n",
    "- 在python中使用**缩进**（约定俗成的是缩进4个空格）组织代码。你可以理解为：缩进的代码隶属于最近一个未缩进的代码，如`grade = 'A'`即隶属于`if score >= 90:`这句代码，表示当score大于等于90分时，将grade赋值为A；\n",
    "- if-elif-else的使用，一定要保证所有条件的合集为全集，也就是你的代码中应该包含所有可能发生的事件。"
   ]
  },
  {
   "cell_type": "markdown",
   "metadata": {},
   "source": [
    "**知识点参考：**\n",
    "\n",
    "- [条件判断](https://www.liaoxuefeng.com/wiki/1016959663602400/1017099478626848)"
   ]
  },
  {
   "cell_type": "markdown",
   "metadata": {},
   "source": [
    "## 练习3：素数检测"
   ]
  },
  {
   "cell_type": "markdown",
   "metadata": {},
   "source": [
    "要求：输入一个正整数判断是不是素数。\n",
    "\n",
    "> 素数指的是只能被1和自身整除的大于1的整数。\n",
    "\n",
    "> 提示：如果用到求平方根的话，可以用如下代码：\n",
    "\n",
    "```python\n",
    ">>> import math\n",
    ">>> num = 4\n",
    ">>> num_sqrt = math.sqrt(num)\n",
    ">>> print(num_sqrt)\n",
    "\n",
    "2.0\n",
    "```\n",
    "\n"
   ]
  },
  {
   "cell_type": "markdown",
   "metadata": {},
   "source": [
    "难度：3.5/5\n",
    "\n",
    "知识点：变量；输入输出；控制流；数学逻辑"
   ]
  },
  {
   "cell_type": "code",
   "execution_count": 11,
   "metadata": {},
   "outputs": [
    {
     "name": "stdout",
     "output_type": "stream",
     "text": [
      "请输入一个正整数: 2\n",
      "2是素数\n"
     ]
    }
   ],
   "source": [
    "# 参考答案\n",
    "# 导入所需第三方module\n",
    "import math\n",
    "\n",
    "# 获取用户输入，并转换为整数int型\n",
    "num = int(input('请输入一个正整数: '))\n",
    "# 取输入值的平方根\n",
    "end = int(math.sqrt(num))\n",
    "# 初始化结果为True\n",
    "is_prime = True\n",
    "# 使用for循环判断，从2到平方根之间的整数\n",
    "for x in range(2, end + 1):\n",
    "    # 如果存在某数可以被num整除的话\n",
    "    if num % x == 0:\n",
    "        # 那么就不是素数\n",
    "        is_prime = False\n",
    "        # 终止循环\n",
    "        break\n",
    "# 进行格式化输出\n",
    "if is_prime and num != 1:\n",
    "    print(f'{num}是素数')\n",
    "else:\n",
    "    print(f'{num}不是素数')"
   ]
  },
  {
   "cell_type": "markdown",
   "metadata": {},
   "source": [
    "**解析：**\n",
    "\n",
    "本题主要是为了考察对循环控制流的运用，而其中又添加了数学&算法上的技巧，所以会稍稍有点难。关键点在于：\n",
    "- 对于素数的判断，我们可以使用反证法，即如果找到任意一值可以被该数整除，那么该数就不是素数。我们知道，一个数`N`若可以进行因数分解，那么分解时得到的两个数一定是一个小于等于$\\sqrt N$，一个大于等于$\\sqrt N$，据此，我们可以从$2$遍历到$\\sqrt N$，寻找是否存在被$N$整除的数即可；\n",
    "- 循环： 如上，我们确定了循环的**范围**，当想要在某范围内执行循环操作时，应该使用`for`循环；\n",
    "- 中断： 当满足某条件（找到被整除的数）时，应该终止循环，以节省时间，终止循环应该使用`break`。"
   ]
  },
  {
   "cell_type": "markdown",
   "metadata": {},
   "source": [
    "**知识点参考：**\n",
    "\n",
    "- [循环](https://www.liaoxuefeng.com/wiki/1016959663602400/1017100774566304)\n",
    "- [math库的使用](https://www.cnblogs.com/renpingsheng/p/7171950.html)\n",
    "- [素数](https://baike.baidu.com/item/%E8%B4%A8%E6%95%B0/263515?fromtitle=%E7%B4%A0%E6%95%B0&fromid=115069)\n"
   ]
  },
  {
   "cell_type": "markdown",
   "metadata": {},
   "source": [
    "## 练习4：猴子吃桃"
   ]
  },
  {
   "cell_type": "markdown",
   "metadata": {},
   "source": [
    "哈哈，做了三道题了是不是觉得有点枯燥？那我们来回顾一到经典的数学题，尝试将其用代码实现，试试看！\n",
    "\n",
    "小猴子第一天摘下了若干个桃，立马就吃掉了一半，还不过瘾，忍不住又多吃了一个； 第二天早上，又将剩下的桃子吃掉了一半，并且又多吃了一个；之后的每天早上都吃掉前一天剩下的一半，并且再多吃一个，等到第七天的时候，发现只剩下一个桃子了，请问第一天小猴子一共摘了多少个桃子呢？\n",
    "\n"
   ]
  },
  {
   "cell_type": "markdown",
   "metadata": {},
   "source": [
    "难度：3/5\n",
    "\n",
    "知识点：变量；输入输出；控制流；数学逻辑"
   ]
  },
  {
   "cell_type": "code",
   "execution_count": 14,
   "metadata": {},
   "outputs": [
    {
     "name": "stdout",
     "output_type": "stream",
     "text": [
      "第一天一共摘了190个桃子\n"
     ]
    }
   ],
   "source": [
    "# 参考答案 A\n",
    "\n",
    "# 先推导出数学公式，然后直接计算得到结果\n",
    "# 初始化今天（第七天）的桃子数量\n",
    "today = 1\n",
    "# 往前数6天，得到的结果即为第一天的桃子数量\n",
    "for day in range(6):\n",
    "    # 公式为f(n) = (f(n+1) + 1) * 2; n表示第n天\n",
    "    today = (today + 1) * 2\n",
    "print(f'第一天一共摘了{today}个桃子')"
   ]
  },
  {
   "cell_type": "code",
   "execution_count": 17,
   "metadata": {},
   "outputs": [
    {
     "name": "stdout",
     "output_type": "stream",
     "text": [
      "第一天一共摘了190个桃子\n"
     ]
    }
   ],
   "source": [
    "# 参考答案 B\n",
    "\n",
    "# 与参考答案A类似，这里改成了while语句实现\n",
    "# 初始化今天（第七天）的桃子数量\n",
    "day_num = 1\n",
    "# 今天是第七天\n",
    "day = 7\n",
    "# 逐级递减day，当day为1时，循环终止，即可得到第一天的桃子数量\n",
    "while day > 1:\n",
    "    # day逐级递减\n",
    "    day -= 1\n",
    "    # 公式为f(n) = (f(n+1) + 1) * 2; n表示第n天\n",
    "    day_num = (day_num + 1) * 2  \n",
    "print(f'第一天一共摘了{day_num}个桃子')"
   ]
  },
  {
   "cell_type": "code",
   "execution_count": 20,
   "metadata": {},
   "outputs": [
    {
     "name": "stdout",
     "output_type": "stream",
     "text": [
      "第一天一共摘了190个桃子\n"
     ]
    }
   ],
   "source": [
    "# 参考答案 C\n",
    "\n",
    "# 模拟小猴子的吃桃逆向过程（递归）\n",
    "def today_num(day):\n",
    "    # 如果是第7天，则返回1\n",
    "    if day == 7:\n",
    "        return 1\n",
    "    # 否则的话，则按公式返回昨天的桃子数量\n",
    "    else:\n",
    "        return (today_num(day+1) + 1) * 2\n",
    "    \n",
    "\n",
    "print(f'第一天一共摘了{today_num(1)}个桃子')"
   ]
  },
  {
   "cell_type": "markdown",
   "metadata": {},
   "source": [
    "**解析：**\n",
    "\n",
    "本题算是一道趣味题，给你解解乏，主要是为了考察对循环控制流的运用，以及逻辑推理能力。关键点在于：\n",
    "- 根据猴子吃桃，抽象出数学模型，也就是：\n",
    "   ```\n",
    "   第7天： N7 = 1\n",
    "   第6天： N6 = (N7 + 1) x 2\n",
    "   ... ： ...\n",
    "   第1天： N1 = (N2 + 1) x 2\n",
    "   ```\n",
    "   所以推导出： $f(N) = (f(N+1) + 1) * 2$;\n",
    "   \n",
    "- 循环： 根据循环次数，使用for循环；根据循环条件，使用while循环；\n",
    "- 递归： 递归是一种程序调用自身的编程技巧，可以将一个较大的问题（7天的桃子），逐级分解为较小的问题（每一天的桃子），这是一种非常酷的技巧，希望你可以再多额外了解一下～"
   ]
  },
  {
   "cell_type": "markdown",
   "metadata": {},
   "source": [
    "**知识点参考：**\n",
    "\n",
    "- [循环](https://www.liaoxuefeng.com/wiki/1016959663602400/1017100774566304)\n",
    "- [递归](https://www.khanacademy.org/computing/computer-science/algorithms/recursive-algorithms/a/recursion)\n",
    "- [Python中的递归](https://www.geeksforgeeks.org/recursion-in-python/)\n"
   ]
  },
  {
   "cell_type": "markdown",
   "metadata": {},
   "source": [
    "## 练习3：统计元音字母的数量"
   ]
  },
  {
   "cell_type": "markdown",
   "metadata": {},
   "source": [
    "要求：统计如下字符串中，元音字母的数量。\n",
    "```\n",
    "\"It will happen tonight... The Dark Lord lies alone and friendless, abandoned by his followers. His servant has been chained these twelve years. Tonight, before midnight... the servant will break free and set out to rejoin his master. The Dark Lord will rise again with his servant's aid, greater and more terrible than ever he was. Tonight... before midnight... the servant... will set out... to rejoin... his master...\"\n",
    "```\n",
    "\n",
    "> 元音指的是：a、e、i、o 和 u。（大小写都需要包括）"
   ]
  },
  {
   "cell_type": "markdown",
   "metadata": {},
   "source": [
    "难度：2/5\n",
    "\n",
    "知识点：字符串；字符串函数；"
   ]
  },
  {
   "cell_type": "code",
   "execution_count": 1,
   "metadata": {},
   "outputs": [
    {
     "name": "stdout",
     "output_type": "stream",
     "text": [
      "元音字母总量为： 116\n"
     ]
    }
   ],
   "source": [
    "# 参考答案\n",
    "# 定义字符串\n",
    "string = \"It will happen tonight... The Dark Lord lies alone and friendless, abandoned by his followers. His servant has been chained these twelve years. Tonight, before midnight... the servant will break free and set out to rejoin his master. The Dark Lord will rise again with his servant's aid, greater and more terrible than ever he was. Tonight... before midnight... the servant... will set out... to rejoin... his master...\"\n",
    "\n",
    "# 将字符串转成小写\n",
    "string_lower = string.lower()\n",
    "\n",
    "# 初始化计数器\n",
    "counts = 0\n",
    "\n",
    "# 使用循环统计元音字母的数量\n",
    "for letter in ['a','e','i','o','u']:\n",
    "    # 当前元音字母的数量\n",
    "    letter_count = string.count(letter)\n",
    "    # 累加到总和中\n",
    "    counts += letter_count\n",
    "\n",
    "print('元音字母总量为：',counts)"
   ]
  },
  {
   "cell_type": "markdown",
   "metadata": {},
   "source": [
    "**解析：**\n",
    "\n",
    "本题主要是为了考察字符串特性及其函数的应用。关键点在于：\n",
    "- 统一格式：使用`lower`或者`upper`函数将字符串转换为全小写或全大写，这样可以简化计数代码；\n",
    "- 计数： 使用`count`函数可以统计字符串中某字符的数量；\n",
    "- 循环： 这里不做硬性要求，如果你没有使用for循环简化代码，也是OK的。"
   ]
  },
  {
   "cell_type": "markdown",
   "metadata": {},
   "source": [
    "**知识点参考：**\n",
    "\n",
    "- [字符串](https://www.liaoxuefeng.com/wiki/1016959663602400/1017075323632896)\n",
    "- [Python String Methods](https://www.tutorialspoint.com/python/python_strings.htm)\n"
   ]
  },
  {
   "cell_type": "markdown",
   "metadata": {},
   "source": [
    "## 练习：求中位数"
   ]
  },
  {
   "cell_type": "markdown",
   "metadata": {},
   "source": [
    "要求：补全如下函数，输入一个数字列表，输出该列表的中位数。\n",
    "\n",
    "\n",
    "\n",
    "```python\n",
    "def get_median(number_lst):\n",
    "    median = ...\n",
    "    return median\n",
    "```\n",
    "\n",
    "如：\n",
    "```\n",
    ">>> get_median([0,1,2])\n",
    "1\n",
    "\n",
    ">>> get_median([2,6,3,0])\n",
    "2.5\n",
    "```\n",
    "> 什么是中位数？中位数指的是按顺序排列的一组数据中居于中间位置的数。如果该数组长度为奇数，那么输出中间位置的数；如果长度为偶数，则计算中间两个数值的均值。"
   ]
  },
  {
   "cell_type": "markdown",
   "metadata": {},
   "source": [
    "难度：3/5\n",
    "\n",
    "知识点：函数定义；数值计算；条件判断；列表"
   ]
  },
  {
   "cell_type": "code",
   "execution_count": 2,
   "metadata": {},
   "outputs": [],
   "source": [
    "# 参考答案\n",
    "def get_median(number_lst):\n",
    "    # 先对列表进行排序\n",
    "    number_lst.sort() \n",
    "    # 判断列表长度是奇数还是偶数\n",
    "    if len(number_lst) % 2:\n",
    "        # 列表长度为奇数时，找到中间位置\n",
    "        middle_index = int(len(number_lst)/2)\n",
    "        # 使用索引返回该数值\n",
    "        return number_lst[middle_index]\n",
    "    else:\n",
    "        # 列表长度为偶数时，找到中间的两个位置\n",
    "        right_of_middle = len(number_lst)//2 \n",
    "        left_of_middle = right_of_middle - 1\n",
    "        # 返回两位置的均值\n",
    "        return (number_lst[right_of_middle] + number_lst[left_of_middle])/2\n"
   ]
  },
  {
   "cell_type": "code",
   "execution_count": 6,
   "metadata": {},
   "outputs": [
    {
     "data": {
      "text/plain": [
       "4"
      ]
     },
     "execution_count": 6,
     "metadata": {},
     "output_type": "execute_result"
    }
   ],
   "source": [
    "int(4.9)"
   ]
  },
  {
   "cell_type": "markdown",
   "metadata": {},
   "source": [
    "**解析：**\n",
    "\n",
    "本题考察的内容较多，关键点在于：\n",
    "- 列表的应用： 使用`sort`或`sorted`对列表排序（默认顺序排序）；使用`len`函数求列表的长度（元素个数）；使用`索引`获取某位置的元素；\n",
    "- 自定义函数： 定义函数注意按照范式，注意代码缩进即可。即\n",
    "```python\n",
    "def func_name(args):\n",
    "    xxxx\n",
    "    return xxxx    \n",
    "```\n",
    "；\n",
    "- 条件判断： 注意在条件判断中，`0`以及`[]`,`''`等空集（空列表、空字符串）等都被判断为`False`。所以代码中的`if len(number_lst) % 2`即为 当列表的长度没能整除2时，会返回`1`，判断为True，进入下面的奇数运算中；\n",
    "- 数值计算： \n",
    "    - 一定要分清楚`%`取余和`//`取整；\n",
    "    - `int`会自动去掉小数点后面的数字，只保留整数部分（注意并不是四舍五入）；\n",
    "    - 注意列表的索引是从0开始计数的，所以当列表长度为偶数时，中间的两位应该是`length/2`与`length/2 - 1`这两位。"
   ]
  },
  {
   "cell_type": "markdown",
   "metadata": {},
   "source": [
    "**知识点参考：**\n",
    "\n",
    "- [函数](https://www.liaoxuefeng.com/wiki/1016959663602400/1017106984190464)\n",
    "- [列表](https://www.liaoxuefeng.com/wiki/1016959663602400/1017092876846880)\n",
    "- [数值计算](https://www.tutorialspoint.com/python/python_basic_operators.htm)\n"
   ]
  },
  {
   "cell_type": "markdown",
   "metadata": {},
   "source": [
    "## 练习：Beatles的乐迷"
   ]
  },
  {
   "cell_type": "markdown",
   "metadata": {},
   "source": [
    "如下是Beatles的部分唱片及发布年份，你可以帮忙找出**发布唱片最多的年份**和**该年份的所有唱片**吗？\n",
    "\n",
    "```python\n",
    "Beatles_Discography = {\"Please Please Me\": 1963, \"With the Beatles\": 1963,\n",
    "                       \"A Hard Day's Night\": 1964, \"Beatles for Sale\": 1964,\n",
    "                       \"Twist and Shout\": 1964, \"Help\": 1965, \"Rubber Soul\": 1965,\n",
    "                       \"Revolver\": 1966, \"Sgt. Pepper's Lonely Hearts Club Band\": 1967,\n",
    "                       \"Magical Mystery Tour\": 1967, \"The Beatles\": 1968,\n",
    "                       \"Yellow Submarine\": 1969, 'Abbey Road': 1969,\n",
    "                       \"Let It Be\": 1970}\n",
    "```\n"
   ]
  },
  {
   "cell_type": "markdown",
   "metadata": {},
   "source": [
    "难度：2/5\n",
    "\n",
    "知识点：字典；条件判断；列表"
   ]
  },
  {
   "cell_type": "code",
   "execution_count": 41,
   "metadata": {},
   "outputs": [
    {
     "name": "stdout",
     "output_type": "stream",
     "text": [
      "发片最多的年份是： 1964\n",
      "发布的唱片包括： A Hard Day's Night, Beatles for Sale, Twist and Shout\n"
     ]
    }
   ],
   "source": [
    "# 参考答案\n",
    "# 定义字典\n",
    "Beatles_Discography = {\"Please Please Me\": 1963, \"With the Beatles\": 1963,\n",
    "                       \"A Hard Day's Night\": 1964, \"Beatles for Sale\": 1964,\n",
    "                       \"Twist and Shout\": 1964, \"Help\": 1965, \"Rubber Soul\": 1965,\n",
    "                       \"Revolver\": 1966, \"Sgt. Pepper's Lonely Hearts Club Band\": 1967,\n",
    "                       \"Magical Mystery Tour\": 1967, \"The Beatles\": 1968,\n",
    "                       \"Yellow Submarine\": 1969, 'Abbey Road': 1969,\n",
    "                       \"Let It Be\": 1970}\n",
    "# 先找出数量最多的年份\n",
    "# 定义年份-数量字典\n",
    "year_count = {}\n",
    "# 使用for循环\n",
    "for year in Beatles_Discography.values():\n",
    "    # 如果该年份存在于year_count中，则计数+1\n",
    "    if year in year_count:\n",
    "        year_count[year] += 1\n",
    "    # 否则的话，则将该年份储存在year_count中，并将value设置为1\n",
    "    else:\n",
    "        year_count[year] = 1\n",
    "\n",
    "# 寻找发片最多的年份\n",
    "max_year = max(year_count, key=year_count.get)\n",
    "\n",
    "# 筛选出该年份的所有唱片\n",
    "discographies = []\n",
    "# 循环获取所有的唱片及年份\n",
    "for disco,year in Beatles_Discography.items():\n",
    "    # 如果是发片最多的年份\n",
    "    if year == max_year:\n",
    "        # 添加到唱片列表中\n",
    "        discographies.append(disco)\n",
    "    # 否则，跳过该数据\n",
    "    else:\n",
    "        continue\n",
    "        \n",
    "print('发片最多的年份是：',max_year)\n",
    "print('发布的唱片包括：',', '.join(discographies))"
   ]
  },
  {
   "cell_type": "markdown",
   "metadata": {},
   "source": [
    "**解析：**\n",
    "\n",
    "本题主要考察对字典`dict`的掌握情况，关键点在于：\n",
    "- 字典： 使用`keys`可以获取字典中的所有key；使用`values`可以获取所有的value；使用`items`可以获取所有的key-value对；\n",
    "- 筛选字典中最大的value： 使用`max`函数获取最大值，并指定使用字典中的`get`方法，也就是对比value；\n",
    "- 列表： 使用`append`向列表中添加元素；使用`join`来将列表转换为字符串，用于格式化输出。\n"
   ]
  },
  {
   "cell_type": "markdown",
   "metadata": {},
   "source": [
    "**知识点参考：**\n",
    "\n",
    "\n",
    "- [列表](https://www.liaoxuefeng.com/wiki/1016959663602400/1017092876846880)\n",
    "- [集合与字典](https://www.liaoxuefeng.com/wiki/1016959663602400/1017104324028448)\n",
    "- [max函数](https://medium.com/analytics-vidhya/how-to-use-key-function-in-max-and-min-in-python-1fdbd661c59c)\n"
   ]
  },
  {
   "cell_type": "markdown",
   "metadata": {},
   "source": [
    "## 练习：课程的相似度问题"
   ]
  },
  {
   "cell_type": "markdown",
   "metadata": {},
   "source": [
    "疫情下，网课如雨后春笋，但我们发现，虽然有些课程名称不同，但其包含的内容却是相似的，课程与视频的组织形式如下，其中带course的即为课程，带V的即为课程包含视频：\n",
    "```python\n",
    "{\n",
    "    'course_a':['V_1', 'V_17', 'V_15', 'V_19', 'V_13', 'V_25'],\n",
    "    'course_b':['V_0', 'V_5', 'V_20', 'V_7', 'V_4', 'V_10'],\n",
    "    'course_c':['V_17', 'V_10', 'V_1', 'V_6', 'V_2'],\n",
    "    'course_d':['V_18', 'V_0', 'V_1', 'V_13', 'V_5', 'V_8'],\n",
    "    'course_e':['V_0', 'V_1', 'V_13', 'V_6', 'V_19'],\n",
    "    'course_f':['V_12', 'V_7', 'V_11', 'V_6', 'V_19'],\n",
    "}\n",
    "\n",
    "```\n",
    "\n",
    "要求：我们定义课程之间的相似度为视频的重合程度，即`两课程的共有视频数量`除以`两课程的非重复视频总量`。如`course_b`与`course_e`的相似度为：\n",
    "```\n",
    "共有视频：['V_0']，1个\n",
    "非重复视频总量：['V_0', 'V_1', 'V_10', 'V_13', 'V_19', 'V_20', 'V_4', 'V_5', 'V_6', 'V_7']，10个\n",
    "所以相似度为：1/10\n",
    "```\n",
    "\n",
    "求所有课程两两之间的相似度。"
   ]
  },
  {
   "cell_type": "markdown",
   "metadata": {},
   "source": [
    "难度：4/5\n",
    "\n",
    "知识点：字典；集合；循环；函数定义"
   ]
  },
  {
   "cell_type": "code",
   "execution_count": 33,
   "metadata": {
    "collapsed": true
   },
   "outputs": [
    {
     "data": {
      "text/plain": [
       "{'course_a': {'course_a': 1.0,\n",
       "  'course_b': 0.0,\n",
       "  'course_c': 0.2222222222222222,\n",
       "  'course_d': 0.2,\n",
       "  'course_e': 0.375,\n",
       "  'course_f': 0.1},\n",
       " 'course_b': {'course_a': 0.0,\n",
       "  'course_b': 1.0,\n",
       "  'course_c': 0.1,\n",
       "  'course_d': 0.2,\n",
       "  'course_e': 0.1,\n",
       "  'course_f': 0.1},\n",
       " 'course_c': {'course_a': 0.2222222222222222,\n",
       "  'course_b': 0.1,\n",
       "  'course_c': 1.0,\n",
       "  'course_d': 0.1,\n",
       "  'course_e': 0.25,\n",
       "  'course_f': 0.1111111111111111},\n",
       " 'course_d': {'course_a': 0.2,\n",
       "  'course_b': 0.2,\n",
       "  'course_c': 0.1,\n",
       "  'course_d': 1.0,\n",
       "  'course_e': 0.375,\n",
       "  'course_f': 0.0},\n",
       " 'course_e': {'course_a': 0.375,\n",
       "  'course_b': 0.1,\n",
       "  'course_c': 0.25,\n",
       "  'course_d': 0.375,\n",
       "  'course_e': 1.0,\n",
       "  'course_f': 0.25},\n",
       " 'course_f': {'course_a': 0.1,\n",
       "  'course_b': 0.1,\n",
       "  'course_c': 0.1111111111111111,\n",
       "  'course_d': 0.0,\n",
       "  'course_e': 0.25,\n",
       "  'course_f': 1.0}}"
      ]
     },
     "execution_count": 33,
     "metadata": {},
     "output_type": "execute_result"
    }
   ],
   "source": [
    "# 参考答案\n",
    "# 定义课程字典\n",
    "course_dict = {\n",
    "    'course_a':['V_1', 'V_17', 'V_15', 'V_19', 'V_13', 'V_25'],\n",
    "    'course_b':['V_0', 'V_5', 'V_20', 'V_7', 'V_4', 'V_10'],\n",
    "    'course_c':['V_17', 'V_10', 'V_1', 'V_6', 'V_2'],\n",
    "    'course_d':['V_18', 'V_0', 'V_1', 'V_13', 'V_5', 'V_8'],\n",
    "    'course_e':['V_0', 'V_1', 'V_13', 'V_6', 'V_19'],\n",
    "    'course_f':['V_12', 'V_7', 'V_11', 'V_6', 'V_19'],\n",
    "}\n",
    "\n",
    "# 定义相似度函数\n",
    "def similarity(lst_a,lst_b):\n",
    "    # 将list转换为set（集合），计算交集\n",
    "    same_v = len(set(lst_a) & set(lst_b))\n",
    "    # 计算并集\n",
    "    all_v = len(set(lst_a) | set(lst_b))\n",
    "    return same_v / all_v\n",
    "\n",
    "# 使用for循环，计算两两相似度\n",
    "# 初始化结果，定义字典\n",
    "result = {}\n",
    "for course in course_dict.keys():\n",
    "    # 将course对应的结果也定义为字典\n",
    "    result[course] = {}\n",
    "    # 循环获取所有课程，计算相似度，并将结果储存\n",
    "    for other_course in course_dict.keys():\n",
    "        result[course][other_course] = similarity(course_dict[course],course_dict[other_course])\n",
    "        \n",
    "result"
   ]
  },
  {
   "cell_type": "markdown",
   "metadata": {},
   "source": [
    "**解析：**\n",
    "\n",
    "本题主要考察对集合`set`与字典`dict`的使用，关键点在于：\n",
    "- 集合： 题目要求中，需要计算两个列表的交集与并集，但使用列表计算比较麻烦，所以先使用`set`转换成集合，再使用`&`求交集，使用`|`求并集；\n",
    "- 字典： \n",
    "    - 使用`keys`可以获取字典中的所有key；使用`values`可以获取所有的value；使用`items`可以获取所有的key-value对；\n",
    "    - 创建字典可以直接使用`变量名 = {}`的方式，当然为了方便进行数据展示与调用，也可以在字典中嵌套字典，如`result[course] = {}`。\n"
   ]
  },
  {
   "cell_type": "markdown",
   "metadata": {},
   "source": [
    "**知识点参考：**\n",
    "\n",
    "- [集合与字典](https://www.liaoxuefeng.com/wiki/1016959663602400/1017104324028448)\n"
   ]
  },
  {
   "cell_type": "markdown",
   "metadata": {},
   "source": [
    "## 练习：计算两数组的差值"
   ]
  },
  {
   "cell_type": "markdown",
   "metadata": {},
   "source": [
    "定义一个函数，可以计算两个列表一一对应的差值，如果两个列表长度不一致，则按照较短的列表计算结果。  \n",
    "\n",
    "如：\n",
    "\n",
    "```python\n",
    "def lst_sub(lst_a,lst_b):\n",
    "    #....\n",
    "    return sub\n",
    "\n",
    "lst_a = [0,1,2,3]\n",
    "lst_b = [1,2,3,4,5]\n",
    "\n",
    ">>> print(lst_sub(lst_a,lst_b))\n",
    "[1,1,1,1]\n",
    "```\n"
   ]
  },
  {
   "cell_type": "markdown",
   "metadata": {},
   "source": [
    "难度：3/5\n",
    "\n",
    "知识点：元组；函数定义；内置函数；列表；列表推导式"
   ]
  },
  {
   "cell_type": "code",
   "execution_count": 8,
   "metadata": {},
   "outputs": [],
   "source": [
    "# 参考答案 A\n",
    "# 定义函数\n",
    "def lst_sub(lst_a,lst_b):\n",
    "    # 使用for循环，按照较短的列表，依次取出数据，做减法，储存在结果列表中\n",
    "    # 定义结果列表\n",
    "    sub = []\n",
    "    # 使用for循环，遍历较短列表长度\n",
    "    for i in range(min(len(lst_a),len(lst_b))):\n",
    "        # 计算差，并添加到结果列表中\n",
    "        sub.append(lst_b[i]-lst_a[i])\n",
    "    return sub"
   ]
  },
  {
   "cell_type": "code",
   "execution_count": 9,
   "metadata": {},
   "outputs": [
    {
     "data": {
      "text/plain": [
       "[1, 1, 1, 1]"
      ]
     },
     "execution_count": 9,
     "metadata": {},
     "output_type": "execute_result"
    }
   ],
   "source": [
    "lst_a = [0,1,2,3]\n",
    "lst_b = [1,2,3,4,5]\n",
    "\n",
    "lst_sub(lst_a,lst_b)"
   ]
  },
  {
   "cell_type": "code",
   "execution_count": 3,
   "metadata": {},
   "outputs": [],
   "source": [
    "# 参考答案 B\n",
    "# 定义函数\n",
    "def lst_sub(lst_a,lst_b):\n",
    "    # 先使用zip将两列表一一对应，合并为tuple\n",
    "    # 使用列表推导式，依次取出数据并求差\n",
    "    sub = [x[1] - x[0] for x in zip(lst_a,lst_b)]\n",
    "    return sub"
   ]
  },
  {
   "cell_type": "code",
   "execution_count": 9,
   "metadata": {},
   "outputs": [
    {
     "data": {
      "text/plain": [
       "[1, 1, 1, 1]"
      ]
     },
     "execution_count": 9,
     "metadata": {},
     "output_type": "execute_result"
    }
   ],
   "source": [
    "lst_a = [0,1,2,3]\n",
    "lst_b = [1,2,3,4,5]\n",
    "\n",
    "lst_sub(lst_a,lst_b)"
   ]
  },
  {
   "cell_type": "markdown",
   "metadata": {},
   "source": [
    "**解析：**\n",
    "\n",
    "本题主要考察对列表的掌握情况，对于方法A来说关键点在于：\n",
    "- 使用`min`函数，比较出较短的列表；\n",
    "- 使用`for`循环和`列表索引`，依次计算两列表的差值；\n",
    "- 使用`append`将结果添加到结果列表中。\n",
    "\n",
    "但这样代码较长，而且for循环效率较低，所以，我们可以使用`zip`及`列表推导式`来简化代码：\n",
    "- `zip`可以将两列表一一对应合并为元组类型，它会自动截取较长的列表；\n",
    "- 使用列表推导式，依次取出元组中的元素，然后计算该元素中两个值的差，也就是两个列表的差。\n",
    "\n"
   ]
  },
  {
   "cell_type": "markdown",
   "metadata": {},
   "source": [
    "**知识点参考：**\n",
    "\n",
    "\n",
    "- [列表](https://www.liaoxuefeng.com/wiki/1016959663602400/1017092876846880)\n",
    "- [元组](https://www.runoob.com/python3/python3-tuple.html)\n",
    "- [列表推导式](https://www.liaoxuefeng.com/wiki/1016959663602400/1017317609699776)\n",
    "- [zip函数](https://www.runoob.com/python3/python3-func-zip.html)\n"
   ]
  },
  {
   "cell_type": "markdown",
   "metadata": {},
   "source": [
    "## 练习：哎呀！错了！"
   ]
  },
  {
   "cell_type": "markdown",
   "metadata": {},
   "source": [
    "我们除了使用程序跟计算机“沟通”外，还需要经常跟“人”（用户）打交道，然而“人”这种生物相比计算机来说，有很大的不确定性，这时候就需要我们去做一些`异常捕获`。\n",
    "\n",
    "要求：\n",
    "- 编写函数，让用户可以输入周几的英文，返回周几的中文；\n",
    "- 兼容大小写及空格；\n",
    "- 如果用户输入错误，则提示重新输入，直到输入正确为止。\n",
    "\n",
    "如：\n",
    "```python\n",
    "def get_ch():\n",
    "    # ...\n",
    "    return weekday_ch\n",
    "\n",
    ">>> get_ch()\n",
    ">>> 请输入英文：Sunday\n",
    "\"周日\"\n",
    ">>> get_ch()\n",
    ">>> 请输入英文：sunday\n",
    "\"周日\"\n",
    ">>> get_ch()\n",
    ">>> 请输入英文： sund ay  \n",
    "\"周日\"\n",
    ">>> get_ch()\n",
    ">>> 请输入英文：xsunda\n",
    "\"请检查拼写，并重新输入：\"\n",
    "```"
   ]
  },
  {
   "cell_type": "markdown",
   "metadata": {},
   "source": [
    "难度：3/5\n",
    "\n",
    "知识点：异常捕获；字典；字符串；函数定义"
   ]
  },
  {
   "cell_type": "code",
   "execution_count": 8,
   "metadata": {},
   "outputs": [],
   "source": [
    "# 参考答案\n",
    "# 定义函数\n",
    "def get_ch():\n",
    "    # 定义中英对照字典\n",
    "    weekday_dict = {'sunday':'周日','monday':'周一','tuesday':'周二','wednesday':'周三',\n",
    "                   'thursday':'周四','friday':'周五','saturday':'周六'}\n",
    "    # 获取用户输入\n",
    "    user_input = input('请输入英文：')\n",
    "    # 转换成小写，去除空格\n",
    "    user_input = user_input.lower().replace(' ','')\n",
    "    # 使用无限循环，直到可以返回结果\n",
    "    while True:\n",
    "        # 尝试返回结果\n",
    "        try:            \n",
    "            return weekday_dict[user_input]\n",
    "        # 如果出现KeyError，也就是字典中找不到该项时\n",
    "        except KeyError:     \n",
    "            # 提示重新输入\n",
    "            user_input = input('请检查拼写，并重新输入：')\n",
    "            user_input = user_input.lower().replace(' ','')\n",
    "    "
   ]
  },
  {
   "cell_type": "code",
   "execution_count": 11,
   "metadata": {},
   "outputs": [
    {
     "name": "stdout",
     "output_type": "stream",
     "text": [
      "请输入英文：ss\n",
      "请检查拼写，并重新输入：af\n",
      "请检查拼写，并重新输入：sunday\n"
     ]
    },
    {
     "data": {
      "text/plain": [
       "'周日'"
      ]
     },
     "execution_count": 11,
     "metadata": {},
     "output_type": "execute_result"
    }
   ],
   "source": [
    "get_ch()"
   ]
  },
  {
   "cell_type": "markdown",
   "metadata": {},
   "source": [
    "**解析：**\n",
    "\n",
    "本题主要考察对异常捕获的使用，关键点在于：\n",
    "- 将有可能报错的代码，放到`try`子句中；\n",
    "- 先测试错误，如我们可以先测试一下`weekday_dict['xx']`，看下代码报错信息，然后将报错名称复制到`except`后面，执行报错后的代码。\n",
    "\n",
    "```python\n",
    "weekday_dict['xx']\n",
    "\n",
    "---------------------------------------------------------------------------\n",
    "KeyError                                  Traceback (most recent call last)\n",
    "<ipython-input-7-dc3a115f4924> in <module>\n",
    "----> 1 weekday_dict['xx']\n",
    "\n",
    "KeyError: 'xx'\n",
    "\n",
    "```"
   ]
  },
  {
   "cell_type": "markdown",
   "metadata": {},
   "source": [
    "**知识点参考：**\n",
    "\n",
    "- [异常捕获](https://www.liaoxuefeng.com/wiki/1016959663602400/1017598873256736)\n"
   ]
  },
  {
   "cell_type": "markdown",
   "metadata": {},
   "source": [
    "## Boss1: 猜拳模拟器"
   ]
  },
  {
   "cell_type": "markdown",
   "metadata": {},
   "source": [
    "Hi，朋友，你已经挑战到了第一个BOSS关卡，在这一关卡中，我们将会分三个小关卡，完成一个`猜拳模拟器`APP的编写，COME ON!"
   ]
  },
  {
   "cell_type": "markdown",
   "metadata": {},
   "source": [
    "### 关卡1：一局定胜负\n",
    "\n",
    "在本关卡中，你需要编写一个猜拳函数，要求：\n",
    "- 用户输入剪刀、石头或布；\n",
    "- 同时，计算机随机“出”剪刀、石头或布；\n",
    "- 判断胜负，并返回结果。\n",
    "\n",
    "\n",
    "\n",
    "难度：2/5\n",
    "\n",
    "知识点：内置函数；列表；条件判断；函数定义"
   ]
  },
  {
   "cell_type": "code",
   "execution_count": 24,
   "metadata": {},
   "outputs": [],
   "source": [
    "# 参考答案\n",
    "# 导入随机拓展包\n",
    "import random\n",
    "def one_match():\n",
    "    # 定义计算机出招\n",
    "    coms = ['石头','剪刀','布']\n",
    "    # 定义用户胜利的组合\n",
    "    win_matches = [('石头','剪刀'),('剪刀','布'),('布','石头')]\n",
    "    # 获取用户输入\n",
    "    user = input('剪刀～石头，布！：')\n",
    "    # 检查用户输入\n",
    "    while user not in coms:\n",
    "        user = input('你出错了，再来，剪刀～石头，布！：')\n",
    "    \n",
    "    # 计算机随机取结果\n",
    "    com = random.choice(coms)\n",
    "    # 判断胜负\n",
    "    # 如果组合在胜利组合中，则返回胜利，反之亦反\n",
    "    print('我出的是：',com)\n",
    "    # 判断是否为平局\n",
    "    if user != com:\n",
    "        if (user,com) in win_matches:      \n",
    "            print('哇！你赢了！')\n",
    "            return 'win'\n",
    "        else:\n",
    "            print('哈哈，你输了！')\n",
    "            return 'lose'\n",
    "    else:\n",
    "        print('平局！')\n",
    "        return 'tie'"
   ]
  },
  {
   "cell_type": "code",
   "execution_count": 26,
   "metadata": {},
   "outputs": [
    {
     "name": "stdout",
     "output_type": "stream",
     "text": [
      "剪刀～石头，布！：b\n",
      "你出错了，再来，剪刀～石头，布！：布\n",
      "我出的是： 布\n",
      "平局！\n"
     ]
    },
    {
     "data": {
      "text/plain": [
       "'tie'"
      ]
     },
     "execution_count": 26,
     "metadata": {},
     "output_type": "execute_result"
    }
   ],
   "source": [
    "one_match()"
   ]
  },
  {
   "cell_type": "markdown",
   "metadata": {},
   "source": [
    "**解析：**\n",
    "\n",
    "本题主要考察了：\n",
    "- 列表的使用：使用`in`来判断，某一元素是否在某列表中；\n",
    "- 内置函数`random`的使用，可以使用`random.choice(list)`来从列表中随机取出某元素；\n",
    "- 用户输入及异常检验，这里使用`while`判断，用户输入是否在规定的范围内，没在的话，就需要不断重新输入；\n",
    "\n",
    "- 如果在`判断胜负`部分，你使用了`if`+多条件也是可以的哦～\n"
   ]
  },
  {
   "cell_type": "markdown",
   "metadata": {},
   "source": [
    "**知识点参考：**\n",
    "\n",
    "- [random](https://www.runoob.com/python3/python3-func-number-random.html)\n",
    "- [list常用操作](https://www.runoob.com/python3/python3-list-operator.html)"
   ]
  },
  {
   "cell_type": "markdown",
   "metadata": {},
   "source": [
    "基础逻辑：\n",
    "- 设置猜拳正确大小\n",
    "- 猜一次函数\n",
    "- 保存结果到列表\n",
    "- 设置三局两胜，判断\n",
    "- 设置积分，保存历史结果，设置排行榜\n",
    "- 异常捕捉\n",
    "\n",
    "\n",
    "\n",
    "涉及知识点：\n",
    "- 基础数据结构：变量赋值、列表、元组使用\n",
    "- 控制流：判断\n",
    "- 函数\n",
    "- IO：历史文件的保存\n",
    "- 交互：input/print\n",
    "- 异常捕捉"
   ]
  },
  {
   "cell_type": "markdown",
   "metadata": {},
   "source": [
    "### 关卡2 : 三局两胜\n",
    "\n",
    "不知道你赢了还是输了，我总觉得一局定胜负有点有失公允，你可以做一个三局两胜的程序吗？当然，如果可以让我自定义总共玩几把，就更好了。\n",
    "> 你可以用上一步中定义的函数"
   ]
  },
  {
   "cell_type": "markdown",
   "metadata": {},
   "source": [
    "难度：3/5\n",
    "\n",
    "知识点：函数调用；数值计算；循环；条件判断"
   ]
  },
  {
   "cell_type": "code",
   "execution_count": 32,
   "metadata": {},
   "outputs": [],
   "source": [
    "def matches(match_num=3):\n",
    "    # 先判断总局数是否为奇数\n",
    "    if match_num % 2 == 0:\n",
    "        print('总局数应该是一个奇数')\n",
    "        return None\n",
    "    \n",
    "    # 计算赢得比赛需要赢几把\n",
    "    win_num = match_num // 2 + 1\n",
    "    \n",
    "    # 定义结果列表\n",
    "    match_results = []\n",
    "    # 开始比赛\n",
    "    # 如果结果中win和lose的总量都小于win_num时，继续比赛\n",
    "    while (match_results.count('win') < win_num) and (match_results.count('lose') < win_num):\n",
    "        match_result = one_match()\n",
    "        # 将每次的比赛结果都储存到结果中\n",
    "        match_results.append(match_result)\n",
    "    \n",
    "    # 返回最后的结果\n",
    "    print(f\"最终结果为：{match_results.count('win')}胜{match_results.count('lose')}负\")\n",
    "    if match_results[-1] == 'win':\n",
    "        print('你赢得了整个比赛！')\n",
    "        return 'win'\n",
    "    else:\n",
    "        print('很遗憾，你输了。')\n",
    "        return 'lose'    "
   ]
  },
  {
   "cell_type": "code",
   "execution_count": 33,
   "metadata": {
    "scrolled": true
   },
   "outputs": [
    {
     "name": "stdout",
     "output_type": "stream",
     "text": [
      "剪刀～石头，布！：bu\n",
      "你出错了，再来，剪刀～石头，布！：布\n",
      "我出的是： 石头\n",
      "哇！你赢了！\n",
      "剪刀～石头，布！：布\n",
      "我出的是： 剪刀\n",
      "哈哈，你输了！\n",
      "剪刀～石头，布！：布\n",
      "我出的是： 石头\n",
      "哇！你赢了！\n",
      "最终结果为：2胜1负\n",
      "你赢得了整个比赛！\n"
     ]
    },
    {
     "data": {
      "text/plain": [
       "'win'"
      ]
     },
     "execution_count": 33,
     "metadata": {},
     "output_type": "execute_result"
    }
   ],
   "source": [
    "matches(3)"
   ]
  },
  {
   "cell_type": "markdown",
   "metadata": {},
   "source": [
    "**解析：**\n",
    "\n",
    "本题主要考察了：\n",
    "- 数值计算：使用`%`可以取余，所以经常以此来判断数值的奇偶性；\n",
    "- 循环：这里又是依据某条件是否成立（是否已经决出胜负）来进行循环，所以使用`while`是恰当的；\n",
    "- 计数：可以使用`count`对列表中的元素进行计数；\n",
    "- 索引：如果最终跳出`while`循环，那么`match_results`的最后一个元素（最后一次结果）便是决定胜负的关键，所以只需判断最后一个（索引`-1`）即可判断输赢。\n"
   ]
  },
  {
   "cell_type": "markdown",
   "metadata": {},
   "source": [
    "**知识点参考：**\n",
    "\n",
    "- [list常用操作](https://www.runoob.com/python3/python3-list-operator.html)"
   ]
  },
  {
   "cell_type": "markdown",
   "metadata": {},
   "source": [
    "### 关卡3: 排行榜！\n",
    "\n",
    "尝试了几次后，你发现输赢无常，所以你决定将这个app做成一个**“欧气鉴定仪”**，为了和小伙伴们一起分享，你需要使用`txt`文档来记录结果，依据胜利的场次进行排序，并在每次程序运行结束后，返回当前玩家的排行。"
   ]
  },
  {
   "cell_type": "markdown",
   "metadata": {},
   "source": [
    "难度：4/5\n",
    "\n",
    "知识点：函数调用；文件读写；循环；异常捕获"
   ]
  },
  {
   "cell_type": "code",
   "execution_count": 41,
   "metadata": {},
   "outputs": [],
   "source": [
    "# 参考答案\n",
    "def ouqi():\n",
    "    # 获取用户名\n",
    "    user_name = input(\"请输入玩家姓名：\")\n",
    "    # 定义比赛结果列表\n",
    "    user_results = []\n",
    "    # 用户可以无限制重复游戏\n",
    "    while True:\n",
    "        # 储存三局两胜的结果\n",
    "        user_results.append(matches())\n",
    "        # 由用户决定是否继续比赛\n",
    "        con = input('输入Y，继续比赛。').lower()\n",
    "        # 只要不是输入的y或Y，则比赛结束\n",
    "        if con != 'y':\n",
    "            break\n",
    "    # 统计结果中win的个数，作为用户得分\n",
    "    user_score = user_results.count('win')\n",
    "    \n",
    "    # 读取历史数据\n",
    "    try:\n",
    "        with open('game_history.txt') as f:\n",
    "            # 将结果转为原本的数据类型dict，方便调用\n",
    "            game_history = eval(f.read())\n",
    "            # 将用户结果储存至历史数据中\n",
    "            game_history[user_name] = user_score\n",
    "    # 如果没找到历史文件game_history.txt\n",
    "    except FileNotFoundError:\n",
    "        print('您是第一个玩家')\n",
    "        # 新建历史数据\n",
    "        game_history = {user_name:user_score}\n",
    "    \n",
    "    # 按照历史数据的得分（value）进行排序\n",
    "    ranks = sorted(game_history,key=game_history.get,reverse=True)\n",
    "    # 取出玩家的index+1作为排名\n",
    "    user_rank = ranks.index(user_name) + 1\n",
    "    print(f'游戏结束，你的得分为{user_score}，排行为{user_rank}.')\n",
    "    \n",
    "    # 储存历史数据\n",
    "    with open('game_history.txt','w') as f:\n",
    "        f.write(str(game_history))"
   ]
  },
  {
   "cell_type": "code",
   "execution_count": 42,
   "metadata": {
    "collapsed": true
   },
   "outputs": [
    {
     "name": "stdout",
     "output_type": "stream",
     "text": [
      "请输入玩家姓名：Allen\n",
      "剪刀～石头，布！：布\n",
      "我出的是： 剪刀\n",
      "哈哈，你输了！\n",
      "剪刀～石头，布！：布\n",
      "我出的是： 剪刀\n",
      "哈哈，你输了！\n",
      "最终结果为：0胜2负\n",
      "很遗憾，你输了。\n",
      "输入Y，继续比赛。u\n",
      "您是第一个玩家\n",
      "游戏结束，你的得分为0，排行为1.\n"
     ]
    }
   ],
   "source": [
    "ouqi()"
   ]
  },
  {
   "cell_type": "code",
   "execution_count": 43,
   "metadata": {
    "collapsed": true
   },
   "outputs": [
    {
     "name": "stdout",
     "output_type": "stream",
     "text": [
      "请输入玩家姓名：Bob\n",
      "剪刀～石头，布！：石头\n",
      "我出的是： 石头\n",
      "平局！\n",
      "剪刀～石头，布！：石头\n",
      "我出的是： 石头\n",
      "平局！\n",
      "剪刀～石头，布！：剪刀\n",
      "我出的是： 石头\n",
      "哈哈，你输了！\n",
      "剪刀～石头，布！：石头\n",
      "我出的是： 石头\n",
      "平局！\n",
      "剪刀～石头，布！：布\n",
      "我出的是： 石头\n",
      "哇！你赢了！\n",
      "剪刀～石头，布！：布\n",
      "我出的是： 石头\n",
      "哇！你赢了！\n",
      "最终结果为：2胜1负\n",
      "你赢得了整个比赛！\n",
      "输入Y，继续比赛。Y\n",
      "剪刀～石头，布！：布\n",
      "我出的是： 石头\n",
      "哇！你赢了！\n",
      "剪刀～石头，布！：布\n",
      "我出的是： 石头\n",
      "哇！你赢了！\n",
      "最终结果为：2胜0负\n",
      "你赢得了整个比赛！\n",
      "输入Y，继续比赛。n\n",
      "游戏结束，你的得分为2，排行为1.\n"
     ]
    }
   ],
   "source": [
    "ouqi()"
   ]
  },
  {
   "cell_type": "markdown",
   "metadata": {},
   "source": [
    "**解析：**\n",
    "\n",
    "本题主要考察了：\n",
    "- 循环与终止：使用`while`创建一个无限循环，当满足某条件（终止比赛）时，使用`break`跳出循环；\n",
    "- 读取文件：使用`with open`读取文件，可以在文件不使用时自动关闭，以防浪费内存；\n",
    "- 异常捕捉：因为当第一个玩家使用`ouqi`时，并没有历史文件`game_history.txt`，所以这里会报错`FileNotFoundError`（文件未找到），这时就需要使用`try...except`来捕捉异常，并对异常时进行处理，即创建新的历史文件；\n",
    "- 保存文件：为了方便排序、调用排名，我们使用字典来储存`用户-得分`数据，所以在保存文件时，需要使用`str`函数将其转变为字符串；同样，在读取文件时，需要使用`eval`来将字符串恢复为原来的数据类型，即`dict`；\n",
    "- 排序：这里使用`sorted`函数进行排序，同样适用`key`参数来制定排序依据（这里在之前的`max`中遇到过，用法是一致的），并使用`reverse`参数来设置倒序。\n"
   ]
  },
  {
   "cell_type": "markdown",
   "metadata": {},
   "source": [
    "**知识点参考：**\n",
    "\n",
    "- [文件读写](https://www.liaoxuefeng.com/wiki/1016959663602400/1017607179232640)\n",
    "- [排序sorted](https://www.runoob.com/python3/python3-func-sorted.html)"
   ]
  },
  {
   "cell_type": "markdown",
   "metadata": {},
   "source": [
    "至此，BOSS1关卡通过！ Bravo !!!"
   ]
  },
  {
   "cell_type": "code",
   "execution_count": null,
   "metadata": {},
   "outputs": [],
   "source": []
  },
  {
   "cell_type": "markdown",
   "metadata": {},
   "source": [
    "还差四题\n",
    "- 标准库一道：密码生成器\n",
    "- 文件读取一道：飞行马戏团演员表\n",
    "- OO 一道\n",
    "    - 定义一个类描述数字时钟\n",
    "    - lambda 一道\n",
    "- 装饰器 一道\n",
    "    - "
   ]
  },
  {
   "cell_type": "markdown",
   "metadata": {},
   "source": [
    "## Boss2：天气助理"
   ]
  },
  {
   "cell_type": "markdown",
   "metadata": {},
   "source": [
    "### 爬虫获取天气"
   ]
  },
  {
   "cell_type": "code",
   "execution_count": 1,
   "metadata": {},
   "outputs": [],
   "source": [
    "import requests\n",
    "from bs4 import BeautifulSoup"
   ]
  },
  {
   "cell_type": "code",
   "execution_count": 5,
   "metadata": {},
   "outputs": [],
   "source": [
    "url = 'http://tianqi.hao123.com/shanghai.html'"
   ]
  },
  {
   "cell_type": "code",
   "execution_count": 67,
   "metadata": {},
   "outputs": [],
   "source": [
    "res = requests.get(weather_url)"
   ]
  },
  {
   "cell_type": "code",
   "execution_count": 68,
   "metadata": {},
   "outputs": [],
   "source": [
    "soup = BeautifulSoup(res.content,'html.parser')"
   ]
  },
  {
   "cell_type": "code",
   "execution_count": 69,
   "metadata": {},
   "outputs": [],
   "source": [
    "today = soup.find('div',class_='real-time-box')"
   ]
  },
  {
   "cell_type": "code",
   "execution_count": 70,
   "metadata": {},
   "outputs": [
    {
     "data": {
      "text/plain": [
       "'18℃'"
      ]
     },
     "execution_count": 70,
     "metadata": {},
     "output_type": "execute_result"
    }
   ],
   "source": [
    "# 当前温度\n",
    "today.find('div',class_='temperature').get_text()"
   ]
  },
  {
   "cell_type": "code",
   "execution_count": 20,
   "metadata": {},
   "outputs": [],
   "source": [
    "others = today.find('div',class_='others').find_all('span')"
   ]
  },
  {
   "cell_type": "code",
   "execution_count": 24,
   "metadata": {},
   "outputs": [
    {
     "data": {
      "text/plain": [
       "'阴'"
      ]
     },
     "execution_count": 24,
     "metadata": {},
     "output_type": "execute_result"
    }
   ],
   "source": [
    "# 天气\n",
    "others[0].get_text()"
   ]
  },
  {
   "cell_type": "code",
   "execution_count": 26,
   "metadata": {},
   "outputs": [
    {
     "data": {
      "text/plain": [
       "'空气质量优'"
      ]
     },
     "execution_count": 26,
     "metadata": {},
     "output_type": "execute_result"
    }
   ],
   "source": [
    "others[1].get_text()"
   ]
  },
  {
   "cell_type": "code",
   "execution_count": 30,
   "metadata": {},
   "outputs": [
    {
     "data": {
      "text/plain": [
       "'30'"
      ]
     },
     "execution_count": 30,
     "metadata": {},
     "output_type": "execute_result"
    }
   ],
   "source": [
    "# pm2.5指数\n",
    "others[2].get_text()[5:]"
   ]
  },
  {
   "cell_type": "code",
   "execution_count": 32,
   "metadata": {},
   "outputs": [
    {
     "data": {
      "text/plain": [
       "'气压1010'"
      ]
     },
     "execution_count": 32,
     "metadata": {},
     "output_type": "execute_result"
    }
   ],
   "source": [
    "others[3].get_text()"
   ]
  },
  {
   "cell_type": "code",
   "execution_count": 33,
   "metadata": {},
   "outputs": [
    {
     "data": {
      "text/plain": [
       "'湿度100'"
      ]
     },
     "execution_count": 33,
     "metadata": {},
     "output_type": "execute_result"
    }
   ],
   "source": [
    "others[4].get_text()"
   ]
  },
  {
   "cell_type": "code",
   "execution_count": 35,
   "metadata": {},
   "outputs": [],
   "source": [
    "city_menu = 'http://tianqi.hao123.com/citymenu'"
   ]
  },
  {
   "cell_type": "code",
   "execution_count": 36,
   "metadata": {},
   "outputs": [],
   "source": [
    "res = requests.get(city_menu)"
   ]
  },
  {
   "cell_type": "code",
   "execution_count": 39,
   "metadata": {},
   "outputs": [],
   "source": [
    "# 获取城市信息\n",
    "pros = res.json()"
   ]
  },
  {
   "cell_type": "code",
   "execution_count": 43,
   "metadata": {},
   "outputs": [],
   "source": [
    "# 转换字典，方便读取\n",
    "pros = {item['name']:item['id'] for item in pros}"
   ]
  },
  {
   "cell_type": "code",
   "execution_count": 44,
   "metadata": {},
   "outputs": [],
   "source": [
    "# 获取市\n",
    "# 构造url\n",
    "pro_id = pros['北京']\n",
    "city_url = f'http://tianqi.hao123.com/citymenu?pid={pro_id}&callback=jQuery182013062938743496588_1600222673671&_=1600222691338'"
   ]
  },
  {
   "cell_type": "code",
   "execution_count": 45,
   "metadata": {},
   "outputs": [],
   "source": [
    "res = requests.get(city_url)"
   ]
  },
  {
   "cell_type": "code",
   "execution_count": 55,
   "metadata": {},
   "outputs": [],
   "source": [
    "# 提取json信息\n",
    "cities = eval(res.text[46:-1])\n",
    "# 转换字典，方便读取\n",
    "cities = {item['name']:item['id'] for item in cities}"
   ]
  },
  {
   "cell_type": "code",
   "execution_count": 56,
   "metadata": {},
   "outputs": [],
   "source": [
    "# 获取区\n",
    "# 构造url\n",
    "city_id = cities['昌平']\n",
    "district_url = f'http://tianqi.hao123.com/citymenu?pid={pro_id}&cid={city_id}&callback=jQuery182013062938743496588_1600222673671&_=1600222691338'"
   ]
  },
  {
   "cell_type": "code",
   "execution_count": 72,
   "metadata": {},
   "outputs": [],
   "source": [
    "res = requests.get(district_url)"
   ]
  },
  {
   "cell_type": "code",
   "execution_count": 73,
   "metadata": {},
   "outputs": [],
   "source": [
    "districts = eval(res.text[46:-1])\n",
    "# 转换字典，方便读取\n",
    "districts = {item['name']:item['name_en'] for item in districts}"
   ]
  },
  {
   "cell_type": "code",
   "execution_count": 66,
   "metadata": {},
   "outputs": [],
   "source": [
    "# 获取url\n",
    "weather_url = 'http://tianqi.hao123.com/' + district_info[0]['name_en'] + '.html'"
   ]
  },
  {
   "cell_type": "code",
   "execution_count": null,
   "metadata": {},
   "outputs": [],
   "source": []
  },
  {
   "cell_type": "markdown",
   "metadata": {},
   "source": [
    "### 使用推送工具，推送到微信"
   ]
  },
  {
   "cell_type": "code",
   "execution_count": null,
   "metadata": {},
   "outputs": [],
   "source": [
    "http://wxpusher.zjiecode.com/demo/"
   ]
  },
  {
   "cell_type": "markdown",
   "metadata": {},
   "source": [
    "### 使用百度aip转换成语音"
   ]
  },
  {
   "cell_type": "code",
   "execution_count": null,
   "metadata": {},
   "outputs": [],
   "source": []
  }
 ],
 "metadata": {
  "kernelspec": {
   "display_name": "Python 3",
   "language": "python",
   "name": "python3"
  },
  "language_info": {
   "codemirror_mode": {
    "name": "ipython",
    "version": 3
   },
   "file_extension": ".py",
   "mimetype": "text/x-python",
   "name": "python",
   "nbconvert_exporter": "python",
   "pygments_lexer": "ipython3",
   "version": "3.6.8"
  },
  "toc": {
   "base_numbering": 1,
   "nav_menu": {},
   "number_sections": true,
   "sideBar": true,
   "skip_h1_title": false,
   "title_cell": "Table of Contents",
   "title_sidebar": "Contents",
   "toc_cell": false,
   "toc_position": {
    "height": "calc(100% - 180px)",
    "left": "10px",
    "top": "150px",
    "width": "195px"
   },
   "toc_section_display": true,
   "toc_window_display": false
  }
 },
 "nbformat": 4,
 "nbformat_minor": 2
}
