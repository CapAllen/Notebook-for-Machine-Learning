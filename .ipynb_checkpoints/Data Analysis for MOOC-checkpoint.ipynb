{
 "cells": [
  {
   "cell_type": "markdown",
   "metadata": {},
   "source": [
    "## Chapter01"
   ]
  },
  {
   "cell_type": "markdown",
   "metadata": {},
   "source": [
    "### 引导"
   ]
  },
  {
   "cell_type": "markdown",
   "metadata": {},
   "source": [
    "引导1："
   ]
  },
  {
   "cell_type": "markdown",
   "metadata": {},
   "source": [
    "抖音的数据分析师为用户提供个性化推荐；今日头条将数据分析应用于新闻的排序算法；滴滴用数据分析来预测不同时段、不同地段的打车需求，以此进行车辆调度；淘宝、B站都会根据你的搜索、浏览等行为给你推送“猜你喜欢”。\n",
    "\n"
   ]
  },
  {
   "cell_type": "markdown",
   "metadata": {},
   "source": [
    "引导2："
   ]
  },
  {
   "cell_type": "markdown",
   "metadata": {},
   "source": [
    "被搭讪，聊了一段时间，感觉挺好，那怎样确定这个人靠不靠得住？能不能进一步发展呢？\n",
    "\n",
    "答案是，借用一下他的手机-。- 因为『最了解当代年轻人的不是他父母，不是他朋友，甚至不是他自己，而是他的手机』\n",
    "\n",
    "那么，你只需要做两件事：\n",
    "- 打开抖音，随便滑几条推荐，结果发现：全部都是小姐姐，那这肯定是个ls boy；全都是谐音梗、沙雕视频，那这是个逗比boy；好多美食探店视频，那这是个吃货boy。\n",
    "- 打开淘宝，直接滑倒最下面的『猜你喜欢』：发现很多衣服、鞋子，那这是个爱穿的boy；很多耳机、红轴键盘，这是个电子发烧boy；如果发现了女士内衣？？那这是个变态，请报警，谢谢。\n",
    "- 什么？没有这两个软件？那太好了，给他装上MOOC大学，让他和你一起学起来，做一个上进的努力boy\n",
    "\n",
    "希望看完这个视频的男生，不要去在小姐姐视频上点『不感兴趣』了，Real一些，\n",
    "哈哈，当然是开玩笑，不要尝试去刺探别人的隐私，但我们可以通过生活中的『数据分析』，去了解他，再去做决定。"
   ]
  },
  {
   "cell_type": "markdown",
   "metadata": {},
   "source": [
    "### Main Content"
   ]
  },
  {
   "cell_type": "markdown",
   "metadata": {},
   "source": [
    "Ok，我们言归正传，一起来探讨下，推荐机制下的数据分析是如何运作的：\n",
    "\n",
    "视频推荐：\n",
    "- 基于排名\n",
    "- 用户-用户协同过滤\n",
    "- 用户-内容协同过滤\n",
    "- 冷启动问题"
   ]
  },
  {
   "cell_type": "markdown",
   "metadata": {},
   "source": [
    "### End point"
   ]
  },
  {
   "cell_type": "markdown",
   "metadata": {},
   "source": [
    "这只是数据分析的一个应用场景，此外，还可以用来进行用户分群，个性化营销；进行网约车的调度；新闻的排序等等。此外，出了互联网行业外，各行各业也都在进行着数据化改造，比如金融行业的欺诈预测；电力行业的电量使用、调配优化；教育行业的志愿填报辅助决策等等。\n",
    "\n",
    "正因为此，数据分析的需求量也在暴增，如果你对数据感兴趣，那么数据分析欢迎你~"
   ]
  },
  {
   "cell_type": "code",
   "execution_count": null,
   "metadata": {},
   "outputs": [],
   "source": []
  },
  {
   "cell_type": "markdown",
   "metadata": {},
   "source": []
  },
  {
   "cell_type": "code",
   "execution_count": null,
   "metadata": {},
   "outputs": [],
   "source": []
  },
  {
   "cell_type": "markdown",
   "metadata": {},
   "source": [
    "## Chapter02"
   ]
  },
  {
   "cell_type": "markdown",
   "metadata": {},
   "source": [
    "### Intro"
   ]
  },
  {
   "cell_type": "markdown",
   "metadata": {},
   "source": [
    "上一章节，我们了解了数据分析在生活中的应用，感觉数据分析师是一个还算cool的职业，那么它在团队中的角色是什么样的呢？需要哪些技能呢？未来的职业发展路径又是如何的呢？"
   ]
  },
  {
   "cell_type": "markdown",
   "metadata": {},
   "source": [
    "### Main Content"
   ]
  },
  {
   "cell_type": "markdown",
   "metadata": {},
   "source": [
    "- 数据分析师的角色：自来也。数据分析就是用数据来回答问题，作为数据分析师，就是要通过对原始数据进行清洗、分析、可视化等，尝试解答业务中的问题。（如上解释中，对应于自来也的片段）\n",
    "\n",
    "- 数据分析师的技能树：根据数据分析师的工作内容，我们可以列出所需的技能树。\n",
    "    - 需要编程\n",
    "    - 不需要编程\n",
    "    \n",
    "- 发展路径：根据不同的技能树，就会获得不同的发展\n",
    "    - 需要编程\n",
    "    - 不需要编程"
   ]
  },
  {
   "cell_type": "markdown",
   "metadata": {},
   "source": [
    "### End Point"
   ]
  },
  {
   "cell_type": "markdown",
   "metadata": {},
   "source": [
    "不要被这些所需技能吓到，数据科学作为一门新学科，新职业，在近些年几乎都是从计算机、电气、机械、土木、环境，甚至英语、工商管理等专业转行过来的，这些前辈们也一样是从小白逐渐成长起来，所以，不要怕，你们现在还在上学，还有很多时间可以投入到学习中，相信自己。。。。"
   ]
  },
  {
   "cell_type": "markdown",
   "metadata": {},
   "source": [
    "## Chapter 03"
   ]
  },
  {
   "cell_type": "markdown",
   "metadata": {},
   "source": [
    "### Intro"
   ]
  },
  {
   "cell_type": "markdown",
   "metadata": {},
   "source": [
    "前面从宏观上，对数据分析师进行了介绍，本章，我们将深入到数据分析师的日常，顺便也可以YY一下，如果是你来到这样的工作场景，你是否会喜欢呢？\n",
    "\n",
    "日漫：男子高中生的日常"
   ]
  },
  {
   "cell_type": "markdown",
   "metadata": {},
   "source": [
    "### Main Content"
   ]
  },
  {
   "cell_type": "markdown",
   "metadata": {},
   "source": [
    "鹿丸VS飞段 片段，说明数据分析师的工作流程\n",
    "\n",
    "https://classroom.udacity.com/courses/ud170/lessons/5430778793/concepts/53961386120923"
   ]
  },
  {
   "cell_type": "markdown",
   "metadata": {},
   "source": [
    "\n",
    "\n",
    "    数据获取：根据部门需求，调取数据\n",
    "\n",
    "    数据分析及建模：跟各种脏数据较劲\n",
    "\n",
    "    传递结论：数据驱动业务"
   ]
  },
  {
   "cell_type": "markdown",
   "metadata": {},
   "source": [
    "### End"
   ]
  },
  {
   "cell_type": "markdown",
   "metadata": {},
   "source": [
    "怎么样，在了解了数据分析师的一日工作流程后，是不是觉得“Emmmm 这还是个蛮有意思的职业！”\n",
    "\n",
    "那么，下节课，我们就来一起用『数据分析师的工作流程与思想』，探索一下『对打工人最友好的新一线城市是哪个呢？』"
   ]
  },
  {
   "cell_type": "code",
   "execution_count": null,
   "metadata": {},
   "outputs": [],
   "source": []
  },
  {
   "cell_type": "markdown",
   "metadata": {},
   "source": [
    "- [interview](https://www.udacity.com/course/data-science-interview-prep--ud944)\n",
    "- [intro data analysis](https://www.udacity.com/course/intro-to-data-analysis--ud170)\n",
    "- [intro data science](https://www.udacity.com/course/intro-to-data-science--ud359)"
   ]
  }
 ],
 "metadata": {
  "kernelspec": {
   "display_name": "Python 3",
   "language": "python",
   "name": "python3"
  },
  "language_info": {
   "codemirror_mode": {
    "name": "ipython",
    "version": 3
   },
   "file_extension": ".py",
   "mimetype": "text/x-python",
   "name": "python",
   "nbconvert_exporter": "python",
   "pygments_lexer": "ipython3",
   "version": "3.6.8"
  },
  "toc": {
   "base_numbering": 1,
   "nav_menu": {},
   "number_sections": true,
   "sideBar": true,
   "skip_h1_title": false,
   "title_cell": "Table of Contents",
   "title_sidebar": "Contents",
   "toc_cell": false,
   "toc_position": {},
   "toc_section_display": true,
   "toc_window_display": false
  }
 },
 "nbformat": 4,
 "nbformat_minor": 2
}
